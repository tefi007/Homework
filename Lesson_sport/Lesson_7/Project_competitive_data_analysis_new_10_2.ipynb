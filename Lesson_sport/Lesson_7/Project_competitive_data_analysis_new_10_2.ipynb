{
 "cells": [
  {
   "cell_type": "code",
   "execution_count": 373,
   "metadata": {},
   "outputs": [],
   "source": [
    "import numpy as np\n",
    "import pandas as pd\n",
    "pd.options.display.max_columns = 100\n",
    "from matplotlib import pyplot as plt\n",
    "%matplotlib inline\n",
    "import seaborn as sns\n",
    "\n",
    "import warnings\n",
    "warnings.simplefilter(\"ignore\")\n",
    "\n",
    "from sklearn.model_selection import train_test_split   # разделение выборки на train и test\n",
    "\n",
    "from sklearn.model_selection import cross_val_score     # кросс-валидация\n",
    "from sklearn.model_selection import cross_val_predict\n",
    "\n",
    "from sklearn.linear_model import LogisticRegression\n",
    "import xgboost as xgb, lightgbm as lgbm, catboost as catb\n",
    "\n",
    "from sklearn.metrics import roc_auc_score\n",
    "\n",
    "from sklearn.preprocessing import StandardScaler    # стандартизация данных\n",
    "from sklearn.preprocessing import PowerTransformer \n",
    "from sklearn.preprocessing import MinMaxScaler      # масштабирование MinMaxScaler\n",
    "from sklearn.preprocessing import Normalizer        # масштабирование Normalizer\n",
    "from sklearn.decomposition import PCA   # метод главных компонент\n",
    "\n",
    "from sklearn.linear_model import LogisticRegression     # модели классификации\n",
    "from sklearn.neighbors import KNeighborsClassifier\n",
    "from sklearn.linear_model import SGDClassifier\n",
    "from sklearn.tree import DecisionTreeClassifier\n",
    "from sklearn.ensemble import RandomForestClassifier\n",
    "from sklearn.ensemble import GradientBoostingClassifier\n",
    "from sklearn.experimental import enable_hist_gradient_boosting\n",
    "from sklearn.ensemble import HistGradientBoostingClassifier\n",
    "from sklearn.ensemble import AdaBoostClassifier\n",
    "from sklearn.experimental import enable_hist_gradient_boosting\n",
    "from sklearn.ensemble import VotingClassifier\n",
    "import xgboost as xgb, lightgbm as lgbm, catboost as catb\n",
    "\n",
    "from sklearn.model_selection import KFold, GridSearchCV, RandomizedSearchCV\n",
    "from bayes_opt import BayesianOptimization"
   ]
  },
  {
   "cell_type": "code",
   "execution_count": 374,
   "metadata": {},
   "outputs": [],
   "source": [
    "# https://www.kaggle.com/c/geekbrains-competitive-data-analysis/overview"
   ]
  },
  {
   "cell_type": "code",
   "execution_count": 375,
   "metadata": {},
   "outputs": [],
   "source": [
    "# пути\n",
    "path_train = '/home/tefi/Tefi/Project_sport/train.csv'\n",
    "path_test = '/home/tefi/Tefi/Project_sport/test.csv'\n",
    "path_applications_history = '/home/tefi/Tefi/Project_sport/applications_history.csv'\n",
    "path_bki = '/home/tefi/Tefi/Project_sport/bki.csv'\n",
    "path_client_profile = '/home/tefi/Tefi/Project_sport/client_profile.csv'\n",
    "path_payments = '/home/tefi/Tefi/Project_sport/payments.csv'\n",
    "path_sample_submit = '/home/tefi/Tefi/Project_sport/sample_submit.csv'\n",
    "\n",
    "# загрузка данных из файлов в соответствующие переменные\n",
    "train_pro = pd.read_csv(path_train)\n",
    "test_pro = pd.read_csv(path_test)\n",
    "applications_history = pd.read_csv(path_applications_history)\n",
    "bki = pd.read_csv(path_bki)\n",
    "client_profile = pd.read_csv(path_client_profile)\n",
    "payments = pd.read_csv(path_payments)\n",
    "sample_submit = pd.read_csv(path_sample_submit)  # образец submit"
   ]
  },
  {
   "cell_type": "markdown",
   "metadata": {},
   "source": [
    "Описание датасета:\n",
    "\n",
    "APPLICATION_NUMBER - номер заявки\n",
    "NAME_CONTRACT_TYPE - тип договора (наличные, карта)\n",
    "TARGET - целевая переменная\n",
    "\n",
    "История предыдущих заявок клиента:\n",
    "PREV_APPLICATION_NUMBER - предыдущий номер заявки\n",
    "AMOUNT_ANNUITY - сумма в год\n",
    "AMT_APPLICATION - сумма заявки\n",
    "AMOUNT_CREDIT - сумма кредита\n",
    "AMOUNT_PAYMENT - сумма выплаты\n",
    "AMOUNT_GOODS_PAYMENT - сумма стоимости товара \n",
    "NAME_CONTRACT_STATUS - статус годовора (одобрено, отклонено)\n",
    "DAYS_DECISION - разрешение на кол-во дней\n",
    "NAME_PAYMENT_TYPE - тип оплаты (наличными через банк и т.п.)\n",
    "CODE_REJECT_REASON - причина отклонения\n",
    "NAME_TYPE_SUITE - поручители\n",
    "NAME_CLIENT_TYPE - тип клиента (новый, повторно)\n",
    "NAME_GOODS_CATEGORY - категория товара\n",
    "NAME_PORTFOLIO - название портфеля (наличные, карта)\n",
    "NAME_PRODUCT_TYPE - тип товара (x-sell, wolk-in)\n",
    "SELLERPLACE_AREA - площадь продажи\n",
    "CNT_PAYMENT - кол-во выплат по кредиту\n",
    "NAME_YIELD_GROUP - доходная группа (средняя, ниже среднего)\n",
    "DAYS_FIRST_DRAWING - \n",
    "DAYS_FIRST_DUE - первый срок\n",
    "DAYS_LAST_DUE_1ST_VERSION - прошло дней с 1 версии\n",
    "DAYS_LAST_DUE - последний день\n",
    "DAYS_TERMINATION - дней до завершения\n",
    "NFLAG_INSURED_ON_APPROVAL - застрахован по принуждению\n",
    "\n",
    "данные БКИ о предыдущих кредитах клиента:\n",
    "BUREAU_ID - номер бюро\n",
    "CREDIT_ACTIVE - активен ли кредит\n",
    "CREDIT_CURRENCY - валюта кредита\n",
    "DAYS_CREDIT - дни кредита\n",
    "CREDIT_DAY_OVERDUE - кол-во дней просрочки\n",
    "DAYS_CREDIT_ENDDATE - дней до конца кредита\n",
    "DAYS_ENDDATE_FACT - фактически дней\n",
    "AMT_CREDIT_MAX_OVERDUE - максимальная сумма просроченного кредита\n",
    "CNT_CREDIT_PROLONG - продление текущего кредита\n",
    "AMT_CREDIT_SUM - сумма кредита\n",
    "AMT_CREDIT_SUM_DEBT - задолженность по кредиту\n",
    "AMT_CREDIT_SUM_LIMIT - сумма предельного кредита\n",
    "AMT_CREDIT_SUM_OVERDUE - сумма просроченного кредита\n",
    "CREDIT_TYPE - тип кредита (потребительский)\n",
    "DAYS_CREDIT_UPDATE - обновление дней кредита\n",
    "AMT_ANNUITY - сумма ежегодной выплаты\n",
    "\n",
    "Клиентский профиль, некоторые знания, которые есть у компании о клиенте:\n",
    "GENDER - пол\n",
    "CHILDRENS - дети\n",
    "TOTAL_SALARY - зарплата\n",
    "AMOUNT_CREDIT - сумма кредита\n",
    "AMOUNT_ANNUITY - сумма ежегодной выплаты\n",
    "EDUCATION_LEVEL - образование\n",
    "FAMILY_STATUS - семейный статус (женат)\n",
    "REGION_POPULATION - население региона\n",
    "AGE - возраст\n",
    "DAYS_ON_LAST_JOB - дней на последней работе \n",
    "OWN_CAR_AGE - возраст собственного автомобиля\n",
    "FLAG_PHONE - наличие телефона\n",
    "FLAG_EMAIL - наличие электронной почты\n",
    "FAMILY_SIZE - размер семьи (2, 3)\n",
    "EXTERNAL_SCORING_RATING_1 - внешний рейтинг 1\n",
    "EXTERNAL_SCORING_RATING_2 - внешний рейтинг 2\n",
    "EXTERNAL_SCORING_RATING_3 - внешний рейтинг 3\n",
    "AMT_REQ_CREDIT_BUREAU_HOUR - сумма запросов на выдачу кредитов\n",
    "AMT_REQ_CREDIT_BUREAU_DAY - сумма запросов на выдачу кредитов\n",
    "AMT_REQ_CREDIT_BUREAU_WEEK - сумма запросов на выдачу кредитов\n",
    "AMT_REQ_CREDIT_BUREAU_MON - сумма запросов на выдачу кредитов\n",
    "AMT_REQ_CREDIT_BUREAU_QRT - сумма запросов на выдачу кредитов\n",
    "AMT_REQ_CREDIT_BUREAU_YEAR - сумма запросов на выдачу кредитов\n",
    "\n",
    "История платежей клиента:\n",
    "NUM_INSTALMENT_VERSION - номер расчетной версии\n",
    "NUM_INSTALMENT_NUMBER - расчетный номер\n",
    "DAYS_INSTALMENT - дни рассрочки\n",
    "DAYS_ENTRY_PAYMENT - оплата по кредиту в день\n",
    "AMT_INSTALMENT - сумма расчета\n",
    "AMT_PAYMENT - сумма выплаты"
   ]
  },
  {
   "cell_type": "code",
   "execution_count": 376,
   "metadata": {},
   "outputs": [
    {
     "data": {
      "text/html": [
       "<div>\n",
       "<style scoped>\n",
       "    .dataframe tbody tr th:only-of-type {\n",
       "        vertical-align: middle;\n",
       "    }\n",
       "\n",
       "    .dataframe tbody tr th {\n",
       "        vertical-align: top;\n",
       "    }\n",
       "\n",
       "    .dataframe thead th {\n",
       "        text-align: right;\n",
       "    }\n",
       "</style>\n",
       "<table border=\"1\" class=\"dataframe\">\n",
       "  <thead>\n",
       "    <tr style=\"text-align: right;\">\n",
       "      <th></th>\n",
       "      <th>APPLICATION_NUMBER</th>\n",
       "      <th>TARGET</th>\n",
       "      <th>NAME_CONTRACT_TYPE</th>\n",
       "    </tr>\n",
       "  </thead>\n",
       "  <tbody>\n",
       "    <tr>\n",
       "      <th>0</th>\n",
       "      <td>123687442</td>\n",
       "      <td>0</td>\n",
       "      <td>Cash</td>\n",
       "    </tr>\n",
       "    <tr>\n",
       "      <th>1</th>\n",
       "      <td>123597908</td>\n",
       "      <td>1</td>\n",
       "      <td>Cash</td>\n",
       "    </tr>\n",
       "    <tr>\n",
       "      <th>2</th>\n",
       "      <td>123526683</td>\n",
       "      <td>0</td>\n",
       "      <td>Cash</td>\n",
       "    </tr>\n",
       "    <tr>\n",
       "      <th>3</th>\n",
       "      <td>123710391</td>\n",
       "      <td>1</td>\n",
       "      <td>Cash</td>\n",
       "    </tr>\n",
       "    <tr>\n",
       "      <th>4</th>\n",
       "      <td>123590329</td>\n",
       "      <td>1</td>\n",
       "      <td>Cash</td>\n",
       "    </tr>\n",
       "  </tbody>\n",
       "</table>\n",
       "</div>"
      ],
      "text/plain": [
       "   APPLICATION_NUMBER  TARGET NAME_CONTRACT_TYPE\n",
       "0           123687442       0               Cash\n",
       "1           123597908       1               Cash\n",
       "2           123526683       0               Cash\n",
       "3           123710391       1               Cash\n",
       "4           123590329       1               Cash"
      ]
     },
     "execution_count": 376,
     "metadata": {},
     "output_type": "execute_result"
    }
   ],
   "source": [
    "train_pro.head(5)"
   ]
  },
  {
   "cell_type": "code",
   "execution_count": 377,
   "metadata": {},
   "outputs": [
    {
     "data": {
      "text/plain": [
       "True"
      ]
     },
     "execution_count": 377,
     "metadata": {},
     "output_type": "execute_result"
    }
   ],
   "source": [
    "train_pro['APPLICATION_NUMBER'].nunique()==train_pro.shape[0]  "
   ]
  },
  {
   "cell_type": "code",
   "execution_count": 378,
   "metadata": {},
   "outputs": [
    {
     "data": {
      "text/plain": [
       "False"
      ]
     },
     "execution_count": 378,
     "metadata": {},
     "output_type": "execute_result"
    }
   ],
   "source": [
    "applications_history['APPLICATION_NUMBER'].nunique()==applications_history.shape[0] "
   ]
  },
  {
   "cell_type": "code",
   "execution_count": 379,
   "metadata": {},
   "outputs": [
    {
     "data": {
      "text/plain": [
       "False"
      ]
     },
     "execution_count": 379,
     "metadata": {},
     "output_type": "execute_result"
    }
   ],
   "source": [
    "bki['APPLICATION_NUMBER'].nunique()==bki.shape[0]"
   ]
  },
  {
   "cell_type": "code",
   "execution_count": 380,
   "metadata": {},
   "outputs": [
    {
     "data": {
      "text/plain": [
       "True"
      ]
     },
     "execution_count": 380,
     "metadata": {},
     "output_type": "execute_result"
    }
   ],
   "source": [
    "client_profile['APPLICATION_NUMBER'].nunique()==client_profile.shape[0]"
   ]
  },
  {
   "cell_type": "code",
   "execution_count": 381,
   "metadata": {},
   "outputs": [
    {
     "data": {
      "text/plain": [
       "False"
      ]
     },
     "execution_count": 381,
     "metadata": {},
     "output_type": "execute_result"
    }
   ],
   "source": [
    "payments['APPLICATION_NUMBER'].nunique()==payments.shape[0]"
   ]
  },
  {
   "cell_type": "code",
   "execution_count": 382,
   "metadata": {},
   "outputs": [
    {
     "data": {
      "text/html": [
       "<div>\n",
       "<style scoped>\n",
       "    .dataframe tbody tr th:only-of-type {\n",
       "        vertical-align: middle;\n",
       "    }\n",
       "\n",
       "    .dataframe tbody tr th {\n",
       "        vertical-align: top;\n",
       "    }\n",
       "\n",
       "    .dataframe thead th {\n",
       "        text-align: right;\n",
       "    }\n",
       "</style>\n",
       "<table border=\"1\" class=\"dataframe\">\n",
       "  <thead>\n",
       "    <tr style=\"text-align: right;\">\n",
       "      <th></th>\n",
       "      <th>APPLICATION_NUMBER</th>\n",
       "      <th>NAME_CONTRACT_TYPE</th>\n",
       "      <th>GENDER</th>\n",
       "      <th>CHILDRENS</th>\n",
       "      <th>TOTAL_SALARY</th>\n",
       "      <th>AMOUNT_CREDIT</th>\n",
       "      <th>AMOUNT_ANNUITY</th>\n",
       "      <th>EDUCATION_LEVEL</th>\n",
       "      <th>FAMILY_STATUS</th>\n",
       "      <th>REGION_POPULATION</th>\n",
       "      <th>AGE</th>\n",
       "      <th>DAYS_ON_LAST_JOB</th>\n",
       "      <th>OWN_CAR_AGE</th>\n",
       "      <th>FLAG_PHONE</th>\n",
       "      <th>FLAG_EMAIL</th>\n",
       "      <th>FAMILY_SIZE</th>\n",
       "      <th>EXTERNAL_SCORING_RATING_1</th>\n",
       "      <th>EXTERNAL_SCORING_RATING_2</th>\n",
       "      <th>EXTERNAL_SCORING_RATING_3</th>\n",
       "      <th>AMT_REQ_CREDIT_BUREAU_HOUR</th>\n",
       "      <th>AMT_REQ_CREDIT_BUREAU_DAY</th>\n",
       "      <th>AMT_REQ_CREDIT_BUREAU_WEEK</th>\n",
       "      <th>AMT_REQ_CREDIT_BUREAU_MON</th>\n",
       "      <th>AMT_REQ_CREDIT_BUREAU_QRT</th>\n",
       "      <th>AMT_REQ_CREDIT_BUREAU_YEAR</th>\n",
       "    </tr>\n",
       "  </thead>\n",
       "  <tbody>\n",
       "    <tr>\n",
       "      <th>0</th>\n",
       "      <td>123687442</td>\n",
       "      <td>Cash</td>\n",
       "      <td>M</td>\n",
       "      <td>1.0</td>\n",
       "      <td>157500.0</td>\n",
       "      <td>855000.0</td>\n",
       "      <td>25128.0</td>\n",
       "      <td>Secondary / secondary special</td>\n",
       "      <td>Married</td>\n",
       "      <td>0.019101</td>\n",
       "      <td>15728.0</td>\n",
       "      <td>1719.0</td>\n",
       "      <td>11.0</td>\n",
       "      <td>0.0</td>\n",
       "      <td>0.0</td>\n",
       "      <td>3.0</td>\n",
       "      <td>0.700784</td>\n",
       "      <td>0.645914</td>\n",
       "      <td>0.71657</td>\n",
       "      <td>0.0</td>\n",
       "      <td>0.0</td>\n",
       "      <td>1.0</td>\n",
       "      <td>0.0</td>\n",
       "      <td>0.0</td>\n",
       "      <td>2.0</td>\n",
       "    </tr>\n",
       "    <tr>\n",
       "      <th>1</th>\n",
       "      <td>123597908</td>\n",
       "      <td>Cash</td>\n",
       "      <td>NaN</td>\n",
       "      <td>NaN</td>\n",
       "      <td>NaN</td>\n",
       "      <td>NaN</td>\n",
       "      <td>NaN</td>\n",
       "      <td>NaN</td>\n",
       "      <td>NaN</td>\n",
       "      <td>NaN</td>\n",
       "      <td>NaN</td>\n",
       "      <td>NaN</td>\n",
       "      <td>NaN</td>\n",
       "      <td>NaN</td>\n",
       "      <td>NaN</td>\n",
       "      <td>NaN</td>\n",
       "      <td>NaN</td>\n",
       "      <td>NaN</td>\n",
       "      <td>NaN</td>\n",
       "      <td>NaN</td>\n",
       "      <td>NaN</td>\n",
       "      <td>NaN</td>\n",
       "      <td>NaN</td>\n",
       "      <td>NaN</td>\n",
       "      <td>NaN</td>\n",
       "    </tr>\n",
       "  </tbody>\n",
       "</table>\n",
       "</div>"
      ],
      "text/plain": [
       "   APPLICATION_NUMBER NAME_CONTRACT_TYPE GENDER  CHILDRENS  TOTAL_SALARY  \\\n",
       "0           123687442               Cash      M        1.0      157500.0   \n",
       "1           123597908               Cash    NaN        NaN           NaN   \n",
       "\n",
       "   AMOUNT_CREDIT  AMOUNT_ANNUITY                EDUCATION_LEVEL FAMILY_STATUS  \\\n",
       "0       855000.0         25128.0  Secondary / secondary special       Married   \n",
       "1            NaN             NaN                            NaN           NaN   \n",
       "\n",
       "   REGION_POPULATION      AGE  DAYS_ON_LAST_JOB  OWN_CAR_AGE  FLAG_PHONE  \\\n",
       "0           0.019101  15728.0            1719.0         11.0         0.0   \n",
       "1                NaN      NaN               NaN          NaN         NaN   \n",
       "\n",
       "   FLAG_EMAIL  FAMILY_SIZE  EXTERNAL_SCORING_RATING_1  \\\n",
       "0         0.0          3.0                   0.700784   \n",
       "1         NaN          NaN                        NaN   \n",
       "\n",
       "   EXTERNAL_SCORING_RATING_2  EXTERNAL_SCORING_RATING_3  \\\n",
       "0                   0.645914                    0.71657   \n",
       "1                        NaN                        NaN   \n",
       "\n",
       "   AMT_REQ_CREDIT_BUREAU_HOUR  AMT_REQ_CREDIT_BUREAU_DAY  \\\n",
       "0                         0.0                        0.0   \n",
       "1                         NaN                        NaN   \n",
       "\n",
       "   AMT_REQ_CREDIT_BUREAU_WEEK  AMT_REQ_CREDIT_BUREAU_MON  \\\n",
       "0                         1.0                        0.0   \n",
       "1                         NaN                        NaN   \n",
       "\n",
       "   AMT_REQ_CREDIT_BUREAU_QRT  AMT_REQ_CREDIT_BUREAU_YEAR  \n",
       "0                        0.0                         2.0  \n",
       "1                        NaN                         NaN  "
      ]
     },
     "execution_count": 382,
     "metadata": {},
     "output_type": "execute_result"
    }
   ],
   "source": [
    "train = pd.merge(train_pro, client_profile, on='APPLICATION_NUMBER', how='left')\n",
    "train_data = train.drop(['TARGET'], axis = 'columns')\n",
    "train_target = train['TARGET']\n",
    "train_data.head(2)"
   ]
  },
  {
   "cell_type": "code",
   "execution_count": 383,
   "metadata": {},
   "outputs": [
    {
     "data": {
      "text/html": [
       "<div>\n",
       "<style scoped>\n",
       "    .dataframe tbody tr th:only-of-type {\n",
       "        vertical-align: middle;\n",
       "    }\n",
       "\n",
       "    .dataframe tbody tr th {\n",
       "        vertical-align: top;\n",
       "    }\n",
       "\n",
       "    .dataframe thead th {\n",
       "        text-align: right;\n",
       "    }\n",
       "</style>\n",
       "<table border=\"1\" class=\"dataframe\">\n",
       "  <thead>\n",
       "    <tr style=\"text-align: right;\">\n",
       "      <th></th>\n",
       "      <th>APPLICATION_NUMBER</th>\n",
       "      <th>NAME_CONTRACT_TYPE</th>\n",
       "      <th>GENDER</th>\n",
       "      <th>CHILDRENS</th>\n",
       "      <th>TOTAL_SALARY</th>\n",
       "      <th>AMOUNT_CREDIT</th>\n",
       "      <th>AMOUNT_ANNUITY</th>\n",
       "      <th>EDUCATION_LEVEL</th>\n",
       "      <th>FAMILY_STATUS</th>\n",
       "      <th>REGION_POPULATION</th>\n",
       "      <th>AGE</th>\n",
       "      <th>DAYS_ON_LAST_JOB</th>\n",
       "      <th>OWN_CAR_AGE</th>\n",
       "      <th>FLAG_PHONE</th>\n",
       "      <th>FLAG_EMAIL</th>\n",
       "      <th>FAMILY_SIZE</th>\n",
       "      <th>EXTERNAL_SCORING_RATING_1</th>\n",
       "      <th>EXTERNAL_SCORING_RATING_2</th>\n",
       "      <th>EXTERNAL_SCORING_RATING_3</th>\n",
       "      <th>AMT_REQ_CREDIT_BUREAU_HOUR</th>\n",
       "      <th>AMT_REQ_CREDIT_BUREAU_DAY</th>\n",
       "      <th>AMT_REQ_CREDIT_BUREAU_WEEK</th>\n",
       "      <th>AMT_REQ_CREDIT_BUREAU_MON</th>\n",
       "      <th>AMT_REQ_CREDIT_BUREAU_QRT</th>\n",
       "      <th>AMT_REQ_CREDIT_BUREAU_YEAR</th>\n",
       "    </tr>\n",
       "  </thead>\n",
       "  <tbody>\n",
       "    <tr>\n",
       "      <th>0</th>\n",
       "      <td>123724268</td>\n",
       "      <td>Cash</td>\n",
       "      <td>M</td>\n",
       "      <td>0.0</td>\n",
       "      <td>117000.0</td>\n",
       "      <td>1125000.0</td>\n",
       "      <td>32895.0</td>\n",
       "      <td>Secondary / secondary special</td>\n",
       "      <td>Married</td>\n",
       "      <td>0.028663</td>\n",
       "      <td>16007.0</td>\n",
       "      <td>2646.0</td>\n",
       "      <td>20.0</td>\n",
       "      <td>0.0</td>\n",
       "      <td>0.0</td>\n",
       "      <td>2.0</td>\n",
       "      <td>NaN</td>\n",
       "      <td>0.628266</td>\n",
       "      <td>NaN</td>\n",
       "      <td>0.0</td>\n",
       "      <td>0.0</td>\n",
       "      <td>0.0</td>\n",
       "      <td>0.0</td>\n",
       "      <td>1.0</td>\n",
       "      <td>4.0</td>\n",
       "    </tr>\n",
       "    <tr>\n",
       "      <th>1</th>\n",
       "      <td>123456549</td>\n",
       "      <td>Cash</td>\n",
       "      <td>F</td>\n",
       "      <td>2.0</td>\n",
       "      <td>81000.0</td>\n",
       "      <td>312768.0</td>\n",
       "      <td>17095.5</td>\n",
       "      <td>Secondary / secondary special</td>\n",
       "      <td>Married</td>\n",
       "      <td>0.019689</td>\n",
       "      <td>10315.0</td>\n",
       "      <td>459.0</td>\n",
       "      <td>NaN</td>\n",
       "      <td>0.0</td>\n",
       "      <td>0.0</td>\n",
       "      <td>4.0</td>\n",
       "      <td>NaN</td>\n",
       "      <td>0.578161</td>\n",
       "      <td>0.18849</td>\n",
       "      <td>0.0</td>\n",
       "      <td>0.0</td>\n",
       "      <td>1.0</td>\n",
       "      <td>0.0</td>\n",
       "      <td>0.0</td>\n",
       "      <td>2.0</td>\n",
       "    </tr>\n",
       "  </tbody>\n",
       "</table>\n",
       "</div>"
      ],
      "text/plain": [
       "   APPLICATION_NUMBER NAME_CONTRACT_TYPE GENDER  CHILDRENS  TOTAL_SALARY  \\\n",
       "0           123724268               Cash      M        0.0      117000.0   \n",
       "1           123456549               Cash      F        2.0       81000.0   \n",
       "\n",
       "   AMOUNT_CREDIT  AMOUNT_ANNUITY                EDUCATION_LEVEL FAMILY_STATUS  \\\n",
       "0      1125000.0         32895.0  Secondary / secondary special       Married   \n",
       "1       312768.0         17095.5  Secondary / secondary special       Married   \n",
       "\n",
       "   REGION_POPULATION      AGE  DAYS_ON_LAST_JOB  OWN_CAR_AGE  FLAG_PHONE  \\\n",
       "0           0.028663  16007.0            2646.0         20.0         0.0   \n",
       "1           0.019689  10315.0             459.0          NaN         0.0   \n",
       "\n",
       "   FLAG_EMAIL  FAMILY_SIZE  EXTERNAL_SCORING_RATING_1  \\\n",
       "0         0.0          2.0                        NaN   \n",
       "1         0.0          4.0                        NaN   \n",
       "\n",
       "   EXTERNAL_SCORING_RATING_2  EXTERNAL_SCORING_RATING_3  \\\n",
       "0                   0.628266                        NaN   \n",
       "1                   0.578161                    0.18849   \n",
       "\n",
       "   AMT_REQ_CREDIT_BUREAU_HOUR  AMT_REQ_CREDIT_BUREAU_DAY  \\\n",
       "0                         0.0                        0.0   \n",
       "1                         0.0                        0.0   \n",
       "\n",
       "   AMT_REQ_CREDIT_BUREAU_WEEK  AMT_REQ_CREDIT_BUREAU_MON  \\\n",
       "0                         0.0                        0.0   \n",
       "1                         1.0                        0.0   \n",
       "\n",
       "   AMT_REQ_CREDIT_BUREAU_QRT  AMT_REQ_CREDIT_BUREAU_YEAR  \n",
       "0                        1.0                         4.0  \n",
       "1                        0.0                         2.0  "
      ]
     },
     "execution_count": 383,
     "metadata": {},
     "output_type": "execute_result"
    }
   ],
   "source": [
    "test_data = pd.merge(test_pro, client_profile, on='APPLICATION_NUMBER', how='left')\n",
    "test_data.head(2)"
   ]
  },
  {
   "cell_type": "code",
   "execution_count": 384,
   "metadata": {},
   "outputs": [
    {
     "name": "stdout",
     "output_type": "stream",
     "text": [
      "<class 'pandas.core.frame.DataFrame'>\n",
      "Int64Index: 110093 entries, 0 to 110092\n",
      "Data columns (total 25 columns):\n",
      " #   Column                      Non-Null Count   Dtype  \n",
      "---  ------                      --------------   -----  \n",
      " 0   APPLICATION_NUMBER          110093 non-null  int64  \n",
      " 1   NAME_CONTRACT_TYPE          110093 non-null  object \n",
      " 2   GENDER                      89539 non-null   object \n",
      " 3   CHILDRENS                   89539 non-null   float64\n",
      " 4   TOTAL_SALARY                89539 non-null   float64\n",
      " 5   AMOUNT_CREDIT               89539 non-null   float64\n",
      " 6   AMOUNT_ANNUITY              89534 non-null   float64\n",
      " 7   EDUCATION_LEVEL             89539 non-null   object \n",
      " 8   FAMILY_STATUS               89539 non-null   object \n",
      " 9   REGION_POPULATION           89539 non-null   float64\n",
      " 10  AGE                         89539 non-null   float64\n",
      " 11  DAYS_ON_LAST_JOB            89539 non-null   float64\n",
      " 12  OWN_CAR_AGE                 30533 non-null   float64\n",
      " 13  FLAG_PHONE                  89539 non-null   float64\n",
      " 14  FLAG_EMAIL                  89539 non-null   float64\n",
      " 15  FAMILY_SIZE                 89538 non-null   float64\n",
      " 16  EXTERNAL_SCORING_RATING_1   39091 non-null   float64\n",
      " 17  EXTERNAL_SCORING_RATING_2   89345 non-null   float64\n",
      " 18  EXTERNAL_SCORING_RATING_3   71808 non-null   float64\n",
      " 19  AMT_REQ_CREDIT_BUREAU_HOUR  77480 non-null   float64\n",
      " 20  AMT_REQ_CREDIT_BUREAU_DAY   77480 non-null   float64\n",
      " 21  AMT_REQ_CREDIT_BUREAU_WEEK  77480 non-null   float64\n",
      " 22  AMT_REQ_CREDIT_BUREAU_MON   77480 non-null   float64\n",
      " 23  AMT_REQ_CREDIT_BUREAU_QRT   77480 non-null   float64\n",
      " 24  AMT_REQ_CREDIT_BUREAU_YEAR  77480 non-null   float64\n",
      "dtypes: float64(20), int64(1), object(4)\n",
      "memory usage: 21.8+ MB\n"
     ]
    }
   ],
   "source": [
    "train_data.info()"
   ]
  },
  {
   "cell_type": "code",
   "execution_count": 385,
   "metadata": {},
   "outputs": [],
   "source": [
    "features_1 = ['GENDER', 'CHILDRENS', 'EDUCATION_LEVEL', 'FAMILY_STATUS', 'REGION_POPULATION', 'OWN_CAR_AGE', \n",
    "             'FLAG_PHONE', 'FLAG_EMAIL', 'FAMILY_SIZE', 'EXTERNAL_SCORING_RATING_1', 'EXTERNAL_SCORING_RATING_2', \n",
    "              'EXTERNAL_SCORING_RATING_3', 'AMT_REQ_CREDIT_BUREAU_HOUR', 'AMT_REQ_CREDIT_BUREAU_DAY', \n",
    "              'AMT_REQ_CREDIT_BUREAU_WEEK', 'AMT_REQ_CREDIT_BUREAU_MON', 'AMT_REQ_CREDIT_BUREAU_QRT', \n",
    "              'AMT_REQ_CREDIT_BUREAU_YEAR']\n",
    "\n",
    "for i in features_1:\n",
    "    train_data.loc[(train_data[i].isnull(), [i])] = train_data[i].mode()[0]\n",
    "    \n",
    "for i in features_1:\n",
    "    test_data.loc[(test_data[i].isnull(), [i])] = train_data[i].mode()[0]"
   ]
  },
  {
   "cell_type": "code",
   "execution_count": 386,
   "metadata": {},
   "outputs": [],
   "source": [
    "features_2 = ['TOTAL_SALARY', 'AMOUNT_CREDIT', 'AMOUNT_ANNUITY', 'AGE', 'DAYS_ON_LAST_JOB']\n",
    "\n",
    "for i in features_2:\n",
    "    train_data.loc[(train_data[i].isnull(), [i])] = train_data[i].median()\n",
    "for i in features_2:\n",
    "    test_data.loc[(test_data[i].isnull(), [i])] = train_data[i].median()"
   ]
  },
  {
   "cell_type": "code",
   "execution_count": 387,
   "metadata": {},
   "outputs": [
    {
     "data": {
      "text/plain": [
       "Index(['CHILDRENS', 'TOTAL_SALARY', 'AMOUNT_CREDIT', 'AMOUNT_ANNUITY',\n",
       "       'REGION_POPULATION', 'AGE', 'DAYS_ON_LAST_JOB', 'OWN_CAR_AGE',\n",
       "       'FLAG_PHONE', 'FLAG_EMAIL', 'FAMILY_SIZE', 'EXTERNAL_SCORING_RATING_1',\n",
       "       'EXTERNAL_SCORING_RATING_2', 'EXTERNAL_SCORING_RATING_3',\n",
       "       'AMT_REQ_CREDIT_BUREAU_HOUR', 'AMT_REQ_CREDIT_BUREAU_DAY',\n",
       "       'AMT_REQ_CREDIT_BUREAU_WEEK', 'AMT_REQ_CREDIT_BUREAU_MON',\n",
       "       'AMT_REQ_CREDIT_BUREAU_QRT', 'AMT_REQ_CREDIT_BUREAU_YEAR'],\n",
       "      dtype='object')"
      ]
     },
     "execution_count": 387,
     "metadata": {},
     "output_type": "execute_result"
    }
   ],
   "source": [
    "train_data.select_dtypes(include = ['float64']).columns"
   ]
  },
  {
   "cell_type": "code",
   "execution_count": 388,
   "metadata": {},
   "outputs": [],
   "source": [
    "features_3 = ['CHILDRENS', 'TOTAL_SALARY', 'AMOUNT_CREDIT', 'AMOUNT_ANNUITY', 'AGE', 'DAYS_ON_LAST_JOB', \n",
    "              'OWN_CAR_AGE', 'FLAG_PHONE', 'FLAG_EMAIL', 'FAMILY_SIZE', 'AMT_REQ_CREDIT_BUREAU_HOUR', \n",
    "              'AMT_REQ_CREDIT_BUREAU_DAY', 'AMT_REQ_CREDIT_BUREAU_WEEK', 'AMT_REQ_CREDIT_BUREAU_MON',\n",
    "              'AMT_REQ_CREDIT_BUREAU_QRT', 'AMT_REQ_CREDIT_BUREAU_YEAR']\n",
    "\n",
    "for i in features_3:\n",
    "    train_data[i] = train_data[i].astype(int)\n",
    "for i in features_3:\n",
    "    test_data[i] = test_data[i].astype(int)"
   ]
  },
  {
   "cell_type": "code",
   "execution_count": 389,
   "metadata": {},
   "outputs": [
    {
     "data": {
      "text/plain": [
       "Index(['NAME_CONTRACT_TYPE', 'GENDER', 'EDUCATION_LEVEL', 'FAMILY_STATUS'], dtype='object')"
      ]
     },
     "execution_count": 389,
     "metadata": {},
     "output_type": "execute_result"
    }
   ],
   "source": [
    "train_data.select_dtypes(include = ['object']).columns"
   ]
  },
  {
   "cell_type": "code",
   "execution_count": 390,
   "metadata": {},
   "outputs": [],
   "source": [
    "features_4 = ['NAME_CONTRACT_TYPE', 'GENDER', 'EDUCATION_LEVEL', 'FAMILY_STATUS']\n",
    "for i in features_4:\n",
    "    train_data = pd.concat([train_data, pd.get_dummies(train_data[i])], axis=1)\n",
    "for i in features_4:\n",
    "    test_data = pd.concat([test_data, pd.get_dummies(test_data[i])], axis=1)\n",
    "\n",
    "train_data = train_data.drop(['NAME_CONTRACT_TYPE', 'GENDER', 'EDUCATION_LEVEL', 'FAMILY_STATUS'], axis = 'columns')\n",
    "test_data = test_data.drop(['NAME_CONTRACT_TYPE', 'GENDER', 'EDUCATION_LEVEL', 'FAMILY_STATUS'], axis = 'columns')\n"
   ]
  },
  {
   "cell_type": "code",
   "execution_count": 391,
   "metadata": {},
   "outputs": [
    {
     "name": "stdout",
     "output_type": "stream",
     "text": [
      "<class 'pandas.core.frame.DataFrame'>\n",
      "Int64Index: 110093 entries, 0 to 110092\n",
      "Data columns (total 37 columns):\n",
      " #   Column                         Non-Null Count   Dtype  \n",
      "---  ------                         --------------   -----  \n",
      " 0   APPLICATION_NUMBER             110093 non-null  int64  \n",
      " 1   CHILDRENS                      110093 non-null  int64  \n",
      " 2   TOTAL_SALARY                   110093 non-null  int64  \n",
      " 3   AMOUNT_CREDIT                  110093 non-null  int64  \n",
      " 4   AMOUNT_ANNUITY                 110093 non-null  int64  \n",
      " 5   REGION_POPULATION              110093 non-null  float64\n",
      " 6   AGE                            110093 non-null  int64  \n",
      " 7   DAYS_ON_LAST_JOB               110093 non-null  int64  \n",
      " 8   OWN_CAR_AGE                    110093 non-null  int64  \n",
      " 9   FLAG_PHONE                     110093 non-null  int64  \n",
      " 10  FLAG_EMAIL                     110093 non-null  int64  \n",
      " 11  FAMILY_SIZE                    110093 non-null  int64  \n",
      " 12  EXTERNAL_SCORING_RATING_1      110093 non-null  float64\n",
      " 13  EXTERNAL_SCORING_RATING_2      110093 non-null  float64\n",
      " 14  EXTERNAL_SCORING_RATING_3      110093 non-null  float64\n",
      " 15  AMT_REQ_CREDIT_BUREAU_HOUR     110093 non-null  int64  \n",
      " 16  AMT_REQ_CREDIT_BUREAU_DAY      110093 non-null  int64  \n",
      " 17  AMT_REQ_CREDIT_BUREAU_WEEK     110093 non-null  int64  \n",
      " 18  AMT_REQ_CREDIT_BUREAU_MON      110093 non-null  int64  \n",
      " 19  AMT_REQ_CREDIT_BUREAU_QRT      110093 non-null  int64  \n",
      " 20  AMT_REQ_CREDIT_BUREAU_YEAR     110093 non-null  int64  \n",
      " 21  Cash                           110093 non-null  uint8  \n",
      " 22  Credit Card                    110093 non-null  uint8  \n",
      " 23  F                              110093 non-null  uint8  \n",
      " 24  M                              110093 non-null  uint8  \n",
      " 25  XNA                            110093 non-null  uint8  \n",
      " 26  Academic degree                110093 non-null  uint8  \n",
      " 27  Higher education               110093 non-null  uint8  \n",
      " 28  Incomplete higher              110093 non-null  uint8  \n",
      " 29  Lower secondary                110093 non-null  uint8  \n",
      " 30  Secondary / secondary special  110093 non-null  uint8  \n",
      " 31  Civil marriage                 110093 non-null  uint8  \n",
      " 32  Married                        110093 non-null  uint8  \n",
      " 33  Separated                      110093 non-null  uint8  \n",
      " 34  Single / not married           110093 non-null  uint8  \n",
      " 35  Unknown                        110093 non-null  uint8  \n",
      " 36  Widow                          110093 non-null  uint8  \n",
      "dtypes: float64(4), int64(17), uint8(16)\n",
      "memory usage: 20.2 MB\n"
     ]
    }
   ],
   "source": [
    "train_data.info()"
   ]
  },
  {
   "cell_type": "code",
   "execution_count": null,
   "metadata": {},
   "outputs": [],
   "source": []
  },
  {
   "cell_type": "code",
   "execution_count": 392,
   "metadata": {},
   "outputs": [
    {
     "data": {
      "text/plain": [
       "0    101196\n",
       "1      8897\n",
       "Name: target, dtype: int64"
      ]
     },
     "execution_count": 392,
     "metadata": {},
     "output_type": "execute_result"
    }
   ],
   "source": [
    "train_data['target'] = train_target\n",
    "train_data['target'].value_counts()"
   ]
  },
  {
   "cell_type": "code",
   "execution_count": 393,
   "metadata": {},
   "outputs": [
    {
     "data": {
      "text/html": [
       "<div>\n",
       "<style scoped>\n",
       "    .dataframe tbody tr th:only-of-type {\n",
       "        vertical-align: middle;\n",
       "    }\n",
       "\n",
       "    .dataframe tbody tr th {\n",
       "        vertical-align: top;\n",
       "    }\n",
       "\n",
       "    .dataframe thead th {\n",
       "        text-align: right;\n",
       "    }\n",
       "</style>\n",
       "<table border=\"1\" class=\"dataframe\">\n",
       "  <thead>\n",
       "    <tr style=\"text-align: right;\">\n",
       "      <th></th>\n",
       "      <th>APPLICATION_NUMBER</th>\n",
       "      <th>CHILDRENS</th>\n",
       "      <th>TOTAL_SALARY</th>\n",
       "      <th>AMOUNT_CREDIT</th>\n",
       "      <th>AMOUNT_ANNUITY</th>\n",
       "      <th>REGION_POPULATION</th>\n",
       "      <th>AGE</th>\n",
       "      <th>DAYS_ON_LAST_JOB</th>\n",
       "      <th>OWN_CAR_AGE</th>\n",
       "      <th>FLAG_PHONE</th>\n",
       "      <th>FLAG_EMAIL</th>\n",
       "      <th>FAMILY_SIZE</th>\n",
       "      <th>EXTERNAL_SCORING_RATING_1</th>\n",
       "      <th>EXTERNAL_SCORING_RATING_2</th>\n",
       "      <th>EXTERNAL_SCORING_RATING_3</th>\n",
       "      <th>AMT_REQ_CREDIT_BUREAU_HOUR</th>\n",
       "      <th>AMT_REQ_CREDIT_BUREAU_DAY</th>\n",
       "      <th>AMT_REQ_CREDIT_BUREAU_WEEK</th>\n",
       "      <th>AMT_REQ_CREDIT_BUREAU_MON</th>\n",
       "      <th>AMT_REQ_CREDIT_BUREAU_QRT</th>\n",
       "      <th>AMT_REQ_CREDIT_BUREAU_YEAR</th>\n",
       "      <th>Cash</th>\n",
       "      <th>Credit Card</th>\n",
       "      <th>F</th>\n",
       "      <th>M</th>\n",
       "      <th>XNA</th>\n",
       "      <th>Academic degree</th>\n",
       "      <th>Higher education</th>\n",
       "      <th>Incomplete higher</th>\n",
       "      <th>Lower secondary</th>\n",
       "      <th>Secondary / secondary special</th>\n",
       "      <th>Civil marriage</th>\n",
       "      <th>Married</th>\n",
       "      <th>Separated</th>\n",
       "      <th>Single / not married</th>\n",
       "      <th>Unknown</th>\n",
       "      <th>Widow</th>\n",
       "      <th>target</th>\n",
       "    </tr>\n",
       "  </thead>\n",
       "  <tbody>\n",
       "    <tr>\n",
       "      <th>0</th>\n",
       "      <td>123687442</td>\n",
       "      <td>1</td>\n",
       "      <td>157500</td>\n",
       "      <td>855000</td>\n",
       "      <td>25128</td>\n",
       "      <td>0.019101</td>\n",
       "      <td>15728</td>\n",
       "      <td>1719</td>\n",
       "      <td>11</td>\n",
       "      <td>0</td>\n",
       "      <td>0</td>\n",
       "      <td>3</td>\n",
       "      <td>0.700784</td>\n",
       "      <td>0.645914</td>\n",
       "      <td>0.71657</td>\n",
       "      <td>0</td>\n",
       "      <td>0</td>\n",
       "      <td>1</td>\n",
       "      <td>0</td>\n",
       "      <td>0</td>\n",
       "      <td>2</td>\n",
       "      <td>1</td>\n",
       "      <td>0</td>\n",
       "      <td>0</td>\n",
       "      <td>1</td>\n",
       "      <td>0</td>\n",
       "      <td>0</td>\n",
       "      <td>0</td>\n",
       "      <td>0</td>\n",
       "      <td>0</td>\n",
       "      <td>1</td>\n",
       "      <td>0</td>\n",
       "      <td>1</td>\n",
       "      <td>0</td>\n",
       "      <td>0</td>\n",
       "      <td>0</td>\n",
       "      <td>0</td>\n",
       "      <td>0</td>\n",
       "    </tr>\n",
       "    <tr>\n",
       "      <th>1</th>\n",
       "      <td>123597908</td>\n",
       "      <td>0</td>\n",
       "      <td>148500</td>\n",
       "      <td>517788</td>\n",
       "      <td>24903</td>\n",
       "      <td>0.035792</td>\n",
       "      <td>15728</td>\n",
       "      <td>2206</td>\n",
       "      <td>7</td>\n",
       "      <td>0</td>\n",
       "      <td>0</td>\n",
       "      <td>2</td>\n",
       "      <td>0.285593</td>\n",
       "      <td>0.285898</td>\n",
       "      <td>0.74630</td>\n",
       "      <td>0</td>\n",
       "      <td>0</td>\n",
       "      <td>0</td>\n",
       "      <td>0</td>\n",
       "      <td>0</td>\n",
       "      <td>0</td>\n",
       "      <td>1</td>\n",
       "      <td>0</td>\n",
       "      <td>1</td>\n",
       "      <td>0</td>\n",
       "      <td>0</td>\n",
       "      <td>0</td>\n",
       "      <td>0</td>\n",
       "      <td>0</td>\n",
       "      <td>0</td>\n",
       "      <td>1</td>\n",
       "      <td>0</td>\n",
       "      <td>1</td>\n",
       "      <td>0</td>\n",
       "      <td>0</td>\n",
       "      <td>0</td>\n",
       "      <td>0</td>\n",
       "      <td>1</td>\n",
       "    </tr>\n",
       "  </tbody>\n",
       "</table>\n",
       "</div>"
      ],
      "text/plain": [
       "   APPLICATION_NUMBER  CHILDRENS  TOTAL_SALARY  AMOUNT_CREDIT  AMOUNT_ANNUITY  \\\n",
       "0           123687442          1        157500         855000           25128   \n",
       "1           123597908          0        148500         517788           24903   \n",
       "\n",
       "   REGION_POPULATION    AGE  DAYS_ON_LAST_JOB  OWN_CAR_AGE  FLAG_PHONE  \\\n",
       "0           0.019101  15728              1719           11           0   \n",
       "1           0.035792  15728              2206            7           0   \n",
       "\n",
       "   FLAG_EMAIL  FAMILY_SIZE  EXTERNAL_SCORING_RATING_1  \\\n",
       "0           0            3                   0.700784   \n",
       "1           0            2                   0.285593   \n",
       "\n",
       "   EXTERNAL_SCORING_RATING_2  EXTERNAL_SCORING_RATING_3  \\\n",
       "0                   0.645914                    0.71657   \n",
       "1                   0.285898                    0.74630   \n",
       "\n",
       "   AMT_REQ_CREDIT_BUREAU_HOUR  AMT_REQ_CREDIT_BUREAU_DAY  \\\n",
       "0                           0                          0   \n",
       "1                           0                          0   \n",
       "\n",
       "   AMT_REQ_CREDIT_BUREAU_WEEK  AMT_REQ_CREDIT_BUREAU_MON  \\\n",
       "0                           1                          0   \n",
       "1                           0                          0   \n",
       "\n",
       "   AMT_REQ_CREDIT_BUREAU_QRT  AMT_REQ_CREDIT_BUREAU_YEAR  Cash  Credit Card  \\\n",
       "0                          0                           2     1            0   \n",
       "1                          0                           0     1            0   \n",
       "\n",
       "   F  M  XNA  Academic degree  Higher education  Incomplete higher  \\\n",
       "0  0  1    0                0                 0                  0   \n",
       "1  1  0    0                0                 0                  0   \n",
       "\n",
       "   Lower secondary  Secondary / secondary special  Civil marriage  Married  \\\n",
       "0                0                              1               0        1   \n",
       "1                0                              1               0        1   \n",
       "\n",
       "   Separated  Single / not married  Unknown  Widow  target  \n",
       "0          0                     0        0      0       0  \n",
       "1          0                     0        0      0       1  "
      ]
     },
     "execution_count": 393,
     "metadata": {},
     "output_type": "execute_result"
    }
   ],
   "source": [
    "train_data_target_1 = train_data.loc[train_data['target'] == 1]\n",
    "train_data_balansing = train_data\n",
    "for i in range (0,5):\n",
    "    train_data_balansing = pd.concat([train_data_balansing, train_data_target_1], axis=0)\n",
    "train_data_balansing.head(2)"
   ]
  },
  {
   "cell_type": "code",
   "execution_count": 394,
   "metadata": {},
   "outputs": [
    {
     "data": {
      "text/plain": [
       "0    101196\n",
       "1     53382\n",
       "Name: target, dtype: int64"
      ]
     },
     "execution_count": 394,
     "metadata": {},
     "output_type": "execute_result"
    }
   ],
   "source": [
    "train_data_balansing['target'].value_counts()"
   ]
  },
  {
   "cell_type": "code",
   "execution_count": 395,
   "metadata": {},
   "outputs": [],
   "source": [
    "train_target = train_data_balansing['target']\n",
    "train_data = train_data_balansing.copy()\n",
    "train_data = train_data.drop(['target'], axis = 'columns')"
   ]
  },
  {
   "cell_type": "code",
   "execution_count": null,
   "metadata": {},
   "outputs": [],
   "source": []
  },
  {
   "cell_type": "code",
   "execution_count": 396,
   "metadata": {},
   "outputs": [],
   "source": [
    "train_data['fraction_salary'] = train_data['TOTAL_SALARY'] / train_data['FAMILY_SIZE']\n",
    "train_data['fraction_salary_1'] = train_data['TOTAL_SALARY'] / (train_data['CHILDRENS'] + 1)\n",
    "train_data['fraction_salary_2'] = train_data['TOTAL_SALARY'] / train_data['AMOUNT_ANNUITY']\n",
    "train_data['fraction_1'] = train_data['AMOUNT_CREDIT'] / train_data['AMOUNT_ANNUITY']\n",
    "\n",
    "test_data['fraction_salary'] = test_data['TOTAL_SALARY'] / test_data['FAMILY_SIZE']\n",
    "test_data['fraction_salary_1'] = test_data['TOTAL_SALARY'] / (test_data['CHILDRENS'] + 1)\n",
    "test_data['fraction_salary_2'] = test_data['TOTAL_SALARY'] / test_data['AMOUNT_ANNUITY']\n",
    "test_data['fraction_1'] = test_data['AMOUNT_CREDIT'] / test_data['AMOUNT_ANNUITY']"
   ]
  },
  {
   "cell_type": "code",
   "execution_count": null,
   "metadata": {},
   "outputs": [],
   "source": []
  },
  {
   "cell_type": "code",
   "execution_count": 397,
   "metadata": {},
   "outputs": [],
   "source": [
    "train_data = train_data.drop(['XNA', 'Unknown', 'Academic degree', 'FLAG_EMAIL', 'AMT_REQ_CREDIT_BUREAU_DAY', \n",
    "                              'AMT_REQ_CREDIT_BUREAU_HOUR', 'Civil marriage', 'Widow', 'Separated', \n",
    "                              'AMT_REQ_CREDIT_BUREAU_WEEK', 'Lower secondary', 'Incomplete higher'], axis = 'columns')\n",
    "\n",
    "test_data = test_data.drop(['XNA', 'Unknown', 'Academic degree', 'FLAG_EMAIL', 'AMT_REQ_CREDIT_BUREAU_DAY', \n",
    "                              'AMT_REQ_CREDIT_BUREAU_HOUR', 'Civil marriage', 'Widow', 'Separated', \n",
    "                              'AMT_REQ_CREDIT_BUREAU_WEEK', 'Lower secondary', 'Incomplete higher'], axis = 'columns')"
   ]
  },
  {
   "cell_type": "code",
   "execution_count": null,
   "metadata": {},
   "outputs": [],
   "source": []
  },
  {
   "cell_type": "code",
   "execution_count": 398,
   "metadata": {},
   "outputs": [],
   "source": [
    "pca = PCA(n_components=1)\n",
    "N_1 = pca.fit_transform(train_data.loc[:,['CHILDRENS', 'FAMILY_SIZE']].values)\n",
    "pca.explained_variance_ratio_[:2].sum()  # 0.9387\n",
    "\n",
    "train_data['N_1'] = N_1\n",
    "#train_data = train_data.drop(['CHILDRENS', 'FAMILY_SIZE'], axis = 'columns')\n",
    "\n",
    "N_1 = pca.transform(test_data.loc[:,['CHILDRENS', 'FAMILY_SIZE']].values)\n",
    "test_data['N_1'] = N_1\n",
    "#test_data = test_data.drop(['CHILDRENS', 'FAMILY_SIZE'], axis = 'columns')\n",
    "\n",
    "pca = PCA(n_components=1)\n",
    "N_2 = pca.fit_transform(train_data.loc[:,['AMOUNT_ANNUITY', 'AMOUNT_CREDIT']].values)\n",
    "pca.explained_variance_ratio_[:2].sum()  # 0.99946\n",
    "\n",
    "train_data['N_2'] = N_2\n",
    "#train_data = train_data.drop(['AMOUNT_ANNUITY', 'AMOUNT_CREDIT'], axis = 'columns')\n",
    "\n",
    "N_2 = pca.transform(test_data.loc[:,['AMOUNT_ANNUITY', 'AMOUNT_CREDIT']].values)\n",
    "test_data['N_2'] = N_2\n",
    "#test_data = test_data.drop(['AMOUNT_ANNUITY', 'AMOUNT_CREDIT'], axis = 'columns')\n",
    "\n",
    "pca = PCA(n_components=1)\n",
    "N_3 = pca.fit_transform(train_data.loc[:,['DAYS_ON_LAST_JOB', 'AGE']].values)\n",
    "pca.explained_variance_ratio_[:2].sum()  # 0.99935\n",
    "\n",
    "train_data['N_3'] = N_3\n",
    "#train_data = train_data.drop(['DAYS_ON_LAST_JOB', 'AGE'], axis = 'columns')\n",
    "\n",
    "N_3 = pca.transform(test_data.loc[:,['DAYS_ON_LAST_JOB', 'AGE']].values)\n",
    "test_data['N_3'] = N_3\n",
    "#test_data = test_data.drop(['DAYS_ON_LAST_JOB', 'AGE'], axis = 'columns')"
   ]
  },
  {
   "cell_type": "code",
   "execution_count": null,
   "metadata": {},
   "outputs": [],
   "source": []
  },
  {
   "cell_type": "code",
   "execution_count": null,
   "metadata": {},
   "outputs": [],
   "source": []
  },
  {
   "cell_type": "code",
   "execution_count": 399,
   "metadata": {},
   "outputs": [
    {
     "name": "stdout",
     "output_type": "stream",
     "text": [
      "0:\ttest: 0.6867483\tbest: 0.6867483 (0)\ttotal: 62.4ms\tremaining: 37.4s\n",
      "10:\ttest: 0.7007098\tbest: 0.7007098 (10)\ttotal: 663ms\tremaining: 35.5s\n",
      "20:\ttest: 0.7057560\tbest: 0.7057560 (20)\ttotal: 1.2s\tremaining: 33s\n",
      "30:\ttest: 0.7110701\tbest: 0.7110701 (30)\ttotal: 1.71s\tremaining: 31.3s\n",
      "40:\ttest: 0.7145047\tbest: 0.7145047 (40)\ttotal: 2.2s\tremaining: 30s\n",
      "50:\ttest: 0.7169011\tbest: 0.7169723 (49)\ttotal: 2.69s\tremaining: 29s\n",
      "60:\ttest: 0.7190280\tbest: 0.7190280 (60)\ttotal: 3.17s\tremaining: 28s\n",
      "70:\ttest: 0.7207842\tbest: 0.7207842 (70)\ttotal: 3.67s\tremaining: 27.3s\n",
      "80:\ttest: 0.7230162\tbest: 0.7230162 (80)\ttotal: 4.14s\tremaining: 26.6s\n",
      "90:\ttest: 0.7244609\tbest: 0.7244609 (90)\ttotal: 4.66s\tremaining: 26.1s\n",
      "100:\ttest: 0.7262989\tbest: 0.7262989 (100)\ttotal: 5.15s\tremaining: 25.5s\n",
      "110:\ttest: 0.7275578\tbest: 0.7275578 (110)\ttotal: 5.73s\tremaining: 25.3s\n",
      "120:\ttest: 0.7285650\tbest: 0.7287178 (119)\ttotal: 6.33s\tremaining: 25s\n",
      "130:\ttest: 0.7302451\tbest: 0.7302451 (130)\ttotal: 6.84s\tremaining: 24.5s\n",
      "140:\ttest: 0.7312482\tbest: 0.7312482 (140)\ttotal: 7.36s\tremaining: 23.9s\n",
      "150:\ttest: 0.7322800\tbest: 0.7322800 (150)\ttotal: 7.86s\tremaining: 23.4s\n",
      "160:\ttest: 0.7331466\tbest: 0.7331466 (160)\ttotal: 8.34s\tremaining: 22.8s\n",
      "170:\ttest: 0.7340789\tbest: 0.7340789 (170)\ttotal: 8.83s\tremaining: 22.2s\n",
      "180:\ttest: 0.7352537\tbest: 0.7352537 (180)\ttotal: 9.58s\tremaining: 22.2s\n",
      "190:\ttest: 0.7364037\tbest: 0.7364037 (190)\ttotal: 10.5s\tremaining: 22.5s\n",
      "200:\ttest: 0.7371706\tbest: 0.7371800 (199)\ttotal: 11.5s\tremaining: 22.9s\n",
      "210:\ttest: 0.7380335\tbest: 0.7380335 (210)\ttotal: 12.4s\tremaining: 22.8s\n",
      "220:\ttest: 0.7388393\tbest: 0.7388393 (220)\ttotal: 13.2s\tremaining: 22.6s\n",
      "230:\ttest: 0.7398185\tbest: 0.7398185 (230)\ttotal: 13.8s\tremaining: 22s\n",
      "240:\ttest: 0.7404078\tbest: 0.7404078 (240)\ttotal: 14.3s\tremaining: 21.2s\n",
      "250:\ttest: 0.7410205\tbest: 0.7410205 (250)\ttotal: 14.8s\tremaining: 20.5s\n",
      "260:\ttest: 0.7420278\tbest: 0.7420278 (260)\ttotal: 15.3s\tremaining: 19.8s\n",
      "270:\ttest: 0.7426353\tbest: 0.7426353 (270)\ttotal: 15.8s\tremaining: 19.2s\n",
      "280:\ttest: 0.7432636\tbest: 0.7432636 (280)\ttotal: 16.3s\tremaining: 18.5s\n",
      "290:\ttest: 0.7438984\tbest: 0.7438984 (290)\ttotal: 16.8s\tremaining: 17.8s\n",
      "300:\ttest: 0.7445209\tbest: 0.7445209 (300)\ttotal: 17.4s\tremaining: 17.3s\n",
      "310:\ttest: 0.7452042\tbest: 0.7452042 (310)\ttotal: 17.9s\tremaining: 16.7s\n",
      "320:\ttest: 0.7461734\tbest: 0.7461734 (320)\ttotal: 18.4s\tremaining: 16s\n",
      "330:\ttest: 0.7471146\tbest: 0.7471146 (330)\ttotal: 18.9s\tremaining: 15.4s\n",
      "340:\ttest: 0.7479858\tbest: 0.7479858 (340)\ttotal: 19.4s\tremaining: 14.8s\n",
      "350:\ttest: 0.7486702\tbest: 0.7486702 (350)\ttotal: 19.9s\tremaining: 14.2s\n",
      "360:\ttest: 0.7494076\tbest: 0.7494076 (360)\ttotal: 20.5s\tremaining: 13.5s\n",
      "370:\ttest: 0.7498940\tbest: 0.7498940 (370)\ttotal: 21s\tremaining: 12.9s\n",
      "380:\ttest: 0.7506454\tbest: 0.7506454 (380)\ttotal: 21.4s\tremaining: 12.3s\n",
      "390:\ttest: 0.7515619\tbest: 0.7515619 (390)\ttotal: 21.9s\tremaining: 11.7s\n",
      "400:\ttest: 0.7525496\tbest: 0.7525496 (400)\ttotal: 22.5s\tremaining: 11.1s\n",
      "410:\ttest: 0.7534102\tbest: 0.7534102 (410)\ttotal: 23.1s\tremaining: 10.6s\n",
      "420:\ttest: 0.7541138\tbest: 0.7541138 (420)\ttotal: 23.7s\tremaining: 10.1s\n",
      "430:\ttest: 0.7550216\tbest: 0.7550216 (430)\ttotal: 24.3s\tremaining: 9.51s\n",
      "440:\ttest: 0.7557204\tbest: 0.7557204 (440)\ttotal: 24.8s\tremaining: 8.93s\n",
      "450:\ttest: 0.7563972\tbest: 0.7563972 (450)\ttotal: 25.3s\tremaining: 8.35s\n",
      "460:\ttest: 0.7571259\tbest: 0.7571259 (460)\ttotal: 25.7s\tremaining: 7.76s\n",
      "470:\ttest: 0.7579557\tbest: 0.7579557 (470)\ttotal: 26.3s\tremaining: 7.19s\n",
      "480:\ttest: 0.7589794\tbest: 0.7589794 (480)\ttotal: 26.8s\tremaining: 6.62s\n",
      "490:\ttest: 0.7598579\tbest: 0.7598579 (490)\ttotal: 27.3s\tremaining: 6.06s\n",
      "500:\ttest: 0.7606848\tbest: 0.7606848 (500)\ttotal: 27.8s\tremaining: 5.49s\n",
      "510:\ttest: 0.7613303\tbest: 0.7613303 (510)\ttotal: 28.3s\tremaining: 4.93s\n",
      "520:\ttest: 0.7620393\tbest: 0.7620393 (520)\ttotal: 28.9s\tremaining: 4.39s\n",
      "530:\ttest: 0.7627808\tbest: 0.7627808 (530)\ttotal: 29.5s\tremaining: 3.83s\n",
      "540:\ttest: 0.7637065\tbest: 0.7637065 (540)\ttotal: 30s\tremaining: 3.27s\n",
      "550:\ttest: 0.7647210\tbest: 0.7647210 (550)\ttotal: 30.5s\tremaining: 2.71s\n",
      "560:\ttest: 0.7651187\tbest: 0.7651187 (560)\ttotal: 30.9s\tremaining: 2.15s\n",
      "570:\ttest: 0.7657288\tbest: 0.7657288 (570)\ttotal: 31.4s\tremaining: 1.6s\n",
      "580:\ttest: 0.7666376\tbest: 0.7666376 (580)\ttotal: 31.9s\tremaining: 1.04s\n",
      "590:\ttest: 0.7670525\tbest: 0.7670525 (590)\ttotal: 32.4s\tremaining: 494ms\n",
      "599:\ttest: 0.7677200\tbest: 0.7677200 (599)\ttotal: 32.9s\tremaining: 0us\n",
      "\n",
      "bestTest = 0.7677199617\n",
      "bestIteration = 599\n",
      "\n"
     ]
    },
    {
     "data": {
      "text/plain": [
       "<catboost.core.CatBoostClassifier at 0x7f0bc7e53220>"
      ]
     },
     "execution_count": 399,
     "metadata": {},
     "output_type": "execute_result"
    }
   ],
   "source": [
    "x_train, x_valid, y_train, y_valid = train_test_split(train_data, train_target, test_size=0.30)\n",
    "\n",
    "cb_params = {\n",
    "    \"n_estimators\": 600,\n",
    "    \"loss_function\": \"Logloss\",\n",
    "    \"eval_metric\": \"AUC\",\n",
    "    \"task_type\": \"CPU\",\n",
    "    \"max_bin\": 20,\n",
    "    \"verbose\": 10,\n",
    "    \"max_depth\": 7,\n",
    "    \"l2_leaf_reg\": 100,\n",
    "    \"early_stopping_rounds\": 50,\n",
    "    \"thread_count\": 6,\n",
    "    \"random_seed\": 42,\n",
    "}\n",
    "\n",
    "model = catb.CatBoostClassifier(**cb_params)\n",
    "model.fit(X = x_train, y = y_train, eval_set=[(x_valid, y_valid)])\n",
    "\n",
    "# 'max_depth': 7  600\n",
    "#(0.8465619471057402, {'n_estimators': 900, 'max_depth': 9})\n"
   ]
  },
  {
   "cell_type": "code",
   "execution_count": 400,
   "metadata": {},
   "outputs": [
    {
     "name": "stdout",
     "output_type": "stream",
     "text": [
      "Train-score: 0.786, Valid-score: 0.768)\n"
     ]
    }
   ],
   "source": [
    "train_score = roc_auc_score(y_train, model.predict(x_train, prediction_type = \"Probability\")[:,1])\n",
    "valid_score = roc_auc_score(y_valid, model.predict(x_valid, prediction_type = \"Probability\")[:,1])\n",
    "\n",
    "print(f\"Train-score: {round(train_score, 3)}, Valid-score: {round(valid_score, 3)})\")\n",
    "\n",
    "#Train-score: 0.787, Valid-score: 0.77)"
   ]
  },
  {
   "cell_type": "code",
   "execution_count": null,
   "metadata": {},
   "outputs": [],
   "source": []
  },
  {
   "cell_type": "code",
   "execution_count": null,
   "metadata": {},
   "outputs": [],
   "source": []
  },
  {
   "cell_type": "code",
   "execution_count": 401,
   "metadata": {},
   "outputs": [
    {
     "data": {
      "text/html": [
       "<div>\n",
       "<style scoped>\n",
       "    .dataframe tbody tr th:only-of-type {\n",
       "        vertical-align: middle;\n",
       "    }\n",
       "\n",
       "    .dataframe tbody tr th {\n",
       "        vertical-align: top;\n",
       "    }\n",
       "\n",
       "    .dataframe thead th {\n",
       "        text-align: right;\n",
       "    }\n",
       "</style>\n",
       "<table border=\"1\" class=\"dataframe\">\n",
       "  <thead>\n",
       "    <tr style=\"text-align: right;\">\n",
       "      <th></th>\n",
       "      <th>APPLICATION_NUMBER</th>\n",
       "      <th>TARGET</th>\n",
       "    </tr>\n",
       "  </thead>\n",
       "  <tbody>\n",
       "    <tr>\n",
       "      <th>0</th>\n",
       "      <td>123724268</td>\n",
       "      <td>0.245410</td>\n",
       "    </tr>\n",
       "    <tr>\n",
       "      <th>1</th>\n",
       "      <td>123456549</td>\n",
       "      <td>0.717962</td>\n",
       "    </tr>\n",
       "    <tr>\n",
       "      <th>2</th>\n",
       "      <td>123428178</td>\n",
       "      <td>0.470882</td>\n",
       "    </tr>\n",
       "    <tr>\n",
       "      <th>3</th>\n",
       "      <td>123619984</td>\n",
       "      <td>0.357410</td>\n",
       "    </tr>\n",
       "    <tr>\n",
       "      <th>4</th>\n",
       "      <td>123671104</td>\n",
       "      <td>0.146377</td>\n",
       "    </tr>\n",
       "  </tbody>\n",
       "</table>\n",
       "</div>"
      ],
      "text/plain": [
       "   APPLICATION_NUMBER    TARGET\n",
       "0           123724268  0.245410\n",
       "1           123456549  0.717962\n",
       "2           123428178  0.470882\n",
       "3           123619984  0.357410\n",
       "4           123671104  0.146377"
      ]
     },
     "execution_count": 401,
     "metadata": {},
     "output_type": "execute_result"
    }
   ],
   "source": [
    "y_pred_test = model.predict(test_data, prediction_type =  \"Probability\")[:,1]\n",
    "result_test = pd.DataFrame({\n",
    "    \"APPLICATION_NUMBER\": test_data['APPLICATION_NUMBER'],\n",
    "    \"TARGET\": y_pred_test.flatten(),})\n",
    "result_test.head()"
   ]
  },
  {
   "cell_type": "code",
   "execution_count": 402,
   "metadata": {},
   "outputs": [],
   "source": [
    "#filename = 'Vodorezova.csv'\n",
    "#result_test.to_csv(filename, index=None)\n",
    "# 0.72019\n",
    "# 0.72099\n",
    "# 0.72511\n",
    "# 0.72618\n",
    "# 0.72121"
   ]
  },
  {
   "cell_type": "code",
   "execution_count": null,
   "metadata": {},
   "outputs": [],
   "source": []
  },
  {
   "cell_type": "code",
   "execution_count": 403,
   "metadata": {},
   "outputs": [
    {
     "data": {
      "text/html": [
       "<div>\n",
       "<style scoped>\n",
       "    .dataframe tbody tr th:only-of-type {\n",
       "        vertical-align: middle;\n",
       "    }\n",
       "\n",
       "    .dataframe tbody tr th {\n",
       "        vertical-align: top;\n",
       "    }\n",
       "\n",
       "    .dataframe thead th {\n",
       "        text-align: right;\n",
       "    }\n",
       "</style>\n",
       "<table border=\"1\" class=\"dataframe\">\n",
       "  <thead>\n",
       "    <tr style=\"text-align: right;\">\n",
       "      <th></th>\n",
       "      <th>APPLICATION_NUMBER</th>\n",
       "      <th>CHILDRENS</th>\n",
       "      <th>TOTAL_SALARY</th>\n",
       "      <th>AMOUNT_CREDIT</th>\n",
       "      <th>AMOUNT_ANNUITY</th>\n",
       "      <th>REGION_POPULATION</th>\n",
       "      <th>AGE</th>\n",
       "      <th>DAYS_ON_LAST_JOB</th>\n",
       "      <th>OWN_CAR_AGE</th>\n",
       "      <th>FLAG_PHONE</th>\n",
       "      <th>FAMILY_SIZE</th>\n",
       "      <th>EXTERNAL_SCORING_RATING_1</th>\n",
       "      <th>EXTERNAL_SCORING_RATING_2</th>\n",
       "      <th>EXTERNAL_SCORING_RATING_3</th>\n",
       "      <th>AMT_REQ_CREDIT_BUREAU_MON</th>\n",
       "      <th>AMT_REQ_CREDIT_BUREAU_QRT</th>\n",
       "      <th>AMT_REQ_CREDIT_BUREAU_YEAR</th>\n",
       "      <th>Cash</th>\n",
       "      <th>Credit Card</th>\n",
       "      <th>F</th>\n",
       "      <th>M</th>\n",
       "      <th>Higher education</th>\n",
       "      <th>Secondary / secondary special</th>\n",
       "      <th>Married</th>\n",
       "      <th>Single / not married</th>\n",
       "      <th>fraction_salary</th>\n",
       "      <th>fraction_salary_1</th>\n",
       "      <th>fraction_salary_2</th>\n",
       "      <th>fraction_1</th>\n",
       "      <th>N_1</th>\n",
       "      <th>N_2</th>\n",
       "      <th>N_3</th>\n",
       "    </tr>\n",
       "  </thead>\n",
       "  <tbody>\n",
       "    <tr>\n",
       "      <th>0</th>\n",
       "      <td>123687442</td>\n",
       "      <td>1</td>\n",
       "      <td>157500</td>\n",
       "      <td>855000</td>\n",
       "      <td>25128</td>\n",
       "      <td>0.019101</td>\n",
       "      <td>15728</td>\n",
       "      <td>1719</td>\n",
       "      <td>11</td>\n",
       "      <td>0</td>\n",
       "      <td>3</td>\n",
       "      <td>0.700784</td>\n",
       "      <td>0.645914</td>\n",
       "      <td>0.71657</td>\n",
       "      <td>0</td>\n",
       "      <td>0</td>\n",
       "      <td>2</td>\n",
       "      <td>1</td>\n",
       "      <td>0</td>\n",
       "      <td>0</td>\n",
       "      <td>1</td>\n",
       "      <td>0</td>\n",
       "      <td>1</td>\n",
       "      <td>1</td>\n",
       "      <td>0</td>\n",
       "      <td>52500.0</td>\n",
       "      <td>78750.0</td>\n",
       "      <td>6.267908</td>\n",
       "      <td>34.025788</td>\n",
       "      <td>1.076108</td>\n",
       "      <td>279859.244154</td>\n",
       "      <td>-47826.195646</td>\n",
       "    </tr>\n",
       "    <tr>\n",
       "      <th>1</th>\n",
       "      <td>123597908</td>\n",
       "      <td>0</td>\n",
       "      <td>148500</td>\n",
       "      <td>517788</td>\n",
       "      <td>24903</td>\n",
       "      <td>0.035792</td>\n",
       "      <td>15728</td>\n",
       "      <td>2206</td>\n",
       "      <td>7</td>\n",
       "      <td>0</td>\n",
       "      <td>2</td>\n",
       "      <td>0.285593</td>\n",
       "      <td>0.285898</td>\n",
       "      <td>0.74630</td>\n",
       "      <td>0</td>\n",
       "      <td>0</td>\n",
       "      <td>0</td>\n",
       "      <td>1</td>\n",
       "      <td>0</td>\n",
       "      <td>1</td>\n",
       "      <td>0</td>\n",
       "      <td>0</td>\n",
       "      <td>1</td>\n",
       "      <td>1</td>\n",
       "      <td>0</td>\n",
       "      <td>74250.0</td>\n",
       "      <td>148500.0</td>\n",
       "      <td>5.963137</td>\n",
       "      <td>20.792194</td>\n",
       "      <td>-0.329126</td>\n",
       "      <td>-57230.937289</td>\n",
       "      <td>-47339.286647</td>\n",
       "    </tr>\n",
       "  </tbody>\n",
       "</table>\n",
       "</div>"
      ],
      "text/plain": [
       "   APPLICATION_NUMBER  CHILDRENS  TOTAL_SALARY  AMOUNT_CREDIT  AMOUNT_ANNUITY  \\\n",
       "0           123687442          1        157500         855000           25128   \n",
       "1           123597908          0        148500         517788           24903   \n",
       "\n",
       "   REGION_POPULATION    AGE  DAYS_ON_LAST_JOB  OWN_CAR_AGE  FLAG_PHONE  \\\n",
       "0           0.019101  15728              1719           11           0   \n",
       "1           0.035792  15728              2206            7           0   \n",
       "\n",
       "   FAMILY_SIZE  EXTERNAL_SCORING_RATING_1  EXTERNAL_SCORING_RATING_2  \\\n",
       "0            3                   0.700784                   0.645914   \n",
       "1            2                   0.285593                   0.285898   \n",
       "\n",
       "   EXTERNAL_SCORING_RATING_3  AMT_REQ_CREDIT_BUREAU_MON  \\\n",
       "0                    0.71657                          0   \n",
       "1                    0.74630                          0   \n",
       "\n",
       "   AMT_REQ_CREDIT_BUREAU_QRT  AMT_REQ_CREDIT_BUREAU_YEAR  Cash  Credit Card  \\\n",
       "0                          0                           2     1            0   \n",
       "1                          0                           0     1            0   \n",
       "\n",
       "   F  M  Higher education  Secondary / secondary special  Married  \\\n",
       "0  0  1                 0                              1        1   \n",
       "1  1  0                 0                              1        1   \n",
       "\n",
       "   Single / not married  fraction_salary  fraction_salary_1  \\\n",
       "0                     0          52500.0            78750.0   \n",
       "1                     0          74250.0           148500.0   \n",
       "\n",
       "   fraction_salary_2  fraction_1       N_1            N_2           N_3  \n",
       "0           6.267908   34.025788  1.076108  279859.244154 -47826.195646  \n",
       "1           5.963137   20.792194 -0.329126  -57230.937289 -47339.286647  "
      ]
     },
     "execution_count": 403,
     "metadata": {},
     "output_type": "execute_result"
    }
   ],
   "source": [
    "train_data.head(2)"
   ]
  },
  {
   "cell_type": "code",
   "execution_count": null,
   "metadata": {},
   "outputs": [],
   "source": []
  },
  {
   "cell_type": "code",
   "execution_count": 404,
   "metadata": {},
   "outputs": [
    {
     "data": {
      "text/plain": [
       "<matplotlib.axes._subplots.AxesSubplot at 0x7f0bcc3da580>"
      ]
     },
     "execution_count": 404,
     "metadata": {},
     "output_type": "execute_result"
    },
    {
     "data": {
      "image/png": "[encoded data removed]",
      "text/plain": [
       "<Figure size 1440x576 with 1 Axes>"
      ]
     },
     "metadata": {
      "needs_background": "light"
     },
     "output_type": "display_data"
    }
   ],
   "source": [
    "rank_feature_importances_ = model.feature_importances_\n",
    "\n",
    "train_feature_importances = pd.DataFrame(rank_feature_importances_, train_data.columns)\n",
    "train_feature_importances.reset_index(inplace=True)\n",
    "train_feature_importances = train_feature_importances.rename(columns={'index': 'name', 0: 'rank'}) \n",
    "train_feature_importances.sort_values(by=\"rank\", inplace=True, ascending = False)\n",
    "\n",
    "plt.figure(figsize = ([20,8]))\n",
    "sns.barplot(train_feature_importances['rank'], train_feature_importances['name'])"
   ]
  },
  {
   "cell_type": "code",
   "execution_count": 405,
   "metadata": {},
   "outputs": [
    {
     "data": {
      "text/plain": [
       "13        EXTERNAL_SCORING_RATING_3\n",
       "12        EXTERNAL_SCORING_RATING_2\n",
       "28                       fraction_1\n",
       "11        EXTERNAL_SCORING_RATING_1\n",
       "6                               AGE\n",
       "5                 REGION_POPULATION\n",
       "8                       OWN_CAR_AGE\n",
       "27                fraction_salary_2\n",
       "31                              N_3\n",
       "7                  DAYS_ON_LAST_JOB\n",
       "16       AMT_REQ_CREDIT_BUREAU_YEAR\n",
       "0                APPLICATION_NUMBER\n",
       "4                    AMOUNT_ANNUITY\n",
       "25                  fraction_salary\n",
       "2                      TOTAL_SALARY\n",
       "30                              N_2\n",
       "21                 Higher education\n",
       "26                fraction_salary_1\n",
       "15        AMT_REQ_CREDIT_BUREAU_QRT\n",
       "22    Secondary / secondary special\n",
       "3                     AMOUNT_CREDIT\n",
       "19                                F\n",
       "23                          Married\n",
       "20                                M\n",
       "17                             Cash\n",
       "18                      Credit Card\n",
       "9                        FLAG_PHONE\n",
       "14        AMT_REQ_CREDIT_BUREAU_MON\n",
       "29                              N_1\n",
       "10                      FAMILY_SIZE\n",
       "24             Single / not married\n",
       "1                         CHILDRENS\n",
       "Name: name, dtype: object"
      ]
     },
     "execution_count": 405,
     "metadata": {},
     "output_type": "execute_result"
    }
   ],
   "source": [
    "train_feature_importances['name']"
   ]
  },
  {
   "cell_type": "code",
   "execution_count": null,
   "metadata": {},
   "outputs": [],
   "source": []
  },
  {
   "cell_type": "code",
   "execution_count": null,
   "metadata": {},
   "outputs": [],
   "source": []
  },
  {
   "cell_type": "code",
   "execution_count": 406,
   "metadata": {},
   "outputs": [],
   "source": [
    "#x_train, x_valid, y_train, y_valid = train_test_split(train_data, train_target, test_size=0.30)"
   ]
  },
  {
   "cell_type": "code",
   "execution_count": 407,
   "metadata": {},
   "outputs": [],
   "source": [
    "params = {\n",
    "    \"booster\": \"gbtree\",\n",
    "    \"objective\": \"binary:logistic\",\n",
    "    \"eval_metric\": \"auc\",\n",
    "    \"learning_rate\": 0.1,\n",
    "    \"n_estimators\": 600,\n",
    "    \"reg_lambda\": 100,\n",
    "    \"max_depth\": 7,\n",
    "    \"gamma\": 10,\n",
    "    \"nthread\": 6,\n",
    "    \"seed\": 27,\n",
    "    'colsample_bytree': 0.555,\n",
    "    'min_child_weights': 369\n",
    "}"
   ]
  },
  {
   "cell_type": "code",
   "execution_count": 408,
   "metadata": {},
   "outputs": [],
   "source": [
    "dtrain = xgb.DMatrix(\n",
    "    data=x_train, label=y_train\n",
    ")\n",
    "dvalid = xgb.DMatrix(\n",
    "    data=x_valid, label=y_valid\n",
    ")"
   ]
  },
  {
   "cell_type": "code",
   "execution_count": 409,
   "metadata": {},
   "outputs": [
    {
     "name": "stdout",
     "output_type": "stream",
     "text": [
      "[11:26:56] WARNING: ../src/learner.cc:516: \n",
      "Parameters: { min_child_weights, n_estimators } might not be used.\n",
      "\n",
      "  This may not be accurate due to some parameters are only used in language bindings but\n",
      "  passed down to XGBoost core.  Or some parameters are not used but slip through this\n",
      "  verification. Please open an issue if you find above cases.\n",
      "\n",
      "\n",
      "[0]\ttrain-auc:0.68604\tvalid-auc:0.68588\n",
      "Multiple eval metrics have been passed: 'valid-auc' will be used for early stopping.\n",
      "\n",
      "Will train until valid-auc hasn't improved in 50 rounds.\n",
      "[10]\ttrain-auc:0.72391\tvalid-auc:0.71940\n",
      "[20]\ttrain-auc:0.73856\tvalid-auc:0.73247\n",
      "[30]\ttrain-auc:0.74772\tvalid-auc:0.74036\n",
      "[40]\ttrain-auc:0.75557\tvalid-auc:0.74717\n",
      "[50]\ttrain-auc:0.76142\tvalid-auc:0.75228\n",
      "[60]\ttrain-auc:0.76460\tvalid-auc:0.75456\n",
      "[70]\ttrain-auc:0.76761\tvalid-auc:0.75708\n",
      "[80]\ttrain-auc:0.77046\tvalid-auc:0.75921\n",
      "[90]\ttrain-auc:0.77325\tvalid-auc:0.76063\n",
      "[100]\ttrain-auc:0.77531\tvalid-auc:0.76255\n",
      "[110]\ttrain-auc:0.77773\tvalid-auc:0.76459\n",
      "[120]\ttrain-auc:0.78005\tvalid-auc:0.76621\n",
      "[130]\ttrain-auc:0.78290\tvalid-auc:0.76847\n",
      "[140]\ttrain-auc:0.78528\tvalid-auc:0.77017\n",
      "[150]\ttrain-auc:0.78742\tvalid-auc:0.77149\n",
      "[160]\ttrain-auc:0.78919\tvalid-auc:0.77283\n",
      "[170]\ttrain-auc:0.79038\tvalid-auc:0.77384\n",
      "[180]\ttrain-auc:0.79174\tvalid-auc:0.77470\n",
      "[190]\ttrain-auc:0.79360\tvalid-auc:0.77576\n",
      "[200]\ttrain-auc:0.79526\tvalid-auc:0.77721\n",
      "[210]\ttrain-auc:0.79622\tvalid-auc:0.77797\n",
      "[220]\ttrain-auc:0.79728\tvalid-auc:0.77879\n",
      "[230]\ttrain-auc:0.79817\tvalid-auc:0.77945\n",
      "[240]\ttrain-auc:0.79890\tvalid-auc:0.77995\n",
      "[250]\ttrain-auc:0.79977\tvalid-auc:0.78054\n",
      "[260]\ttrain-auc:0.80107\tvalid-auc:0.78147\n",
      "[270]\ttrain-auc:0.80215\tvalid-auc:0.78223\n",
      "[280]\ttrain-auc:0.80273\tvalid-auc:0.78268\n",
      "[290]\ttrain-auc:0.80274\tvalid-auc:0.78267\n",
      "[300]\ttrain-auc:0.80319\tvalid-auc:0.78298\n",
      "[310]\ttrain-auc:0.80319\tvalid-auc:0.78298\n",
      "[320]\ttrain-auc:0.80319\tvalid-auc:0.78298\n",
      "[330]\ttrain-auc:0.80398\tvalid-auc:0.78360\n",
      "[340]\ttrain-auc:0.80427\tvalid-auc:0.78378\n",
      "[350]\ttrain-auc:0.80447\tvalid-auc:0.78393\n",
      "[360]\ttrain-auc:0.80453\tvalid-auc:0.78400\n",
      "[370]\ttrain-auc:0.80453\tvalid-auc:0.78400\n",
      "[380]\ttrain-auc:0.80453\tvalid-auc:0.78400\n",
      "[390]\ttrain-auc:0.80468\tvalid-auc:0.78411\n",
      "[400]\ttrain-auc:0.80521\tvalid-auc:0.78451\n",
      "[410]\ttrain-auc:0.80521\tvalid-auc:0.78451\n",
      "[420]\ttrain-auc:0.80521\tvalid-auc:0.78451\n",
      "[430]\ttrain-auc:0.80521\tvalid-auc:0.78451\n",
      "[440]\ttrain-auc:0.80521\tvalid-auc:0.78451\n",
      "Stopping. Best iteration:\n",
      "[395]\ttrain-auc:0.80521\tvalid-auc:0.78451\n",
      "\n"
     ]
    }
   ],
   "source": [
    "model_xgb = xgb.train(\n",
    "    params=params,\n",
    "    dtrain=dtrain,\n",
    "    num_boost_round=600,\n",
    "    evals=[(dtrain, \"train\"), (dvalid, \"valid\")],\n",
    "    early_stopping_rounds=50,\n",
    "    verbose_eval=10,\n",
    ")"
   ]
  },
  {
   "cell_type": "code",
   "execution_count": 410,
   "metadata": {},
   "outputs": [
    {
     "name": "stdout",
     "output_type": "stream",
     "text": [
      "Train-score: 0.805, Valid-score: 0.785)\n"
     ]
    }
   ],
   "source": [
    "train_score = roc_auc_score(y_train, model_xgb.predict(dtrain))\n",
    "valid_score = roc_auc_score(y_valid, model_xgb.predict(dvalid))\n",
    "\n",
    "print(f\"Train-score: {round(train_score, 3)}, Valid-score: {round(valid_score, 3)})\")\n",
    "#Train-score: 0.808, Valid-score: 0.787)"
   ]
  },
  {
   "cell_type": "code",
   "execution_count": null,
   "metadata": {},
   "outputs": [],
   "source": []
  },
  {
   "cell_type": "code",
   "execution_count": 411,
   "metadata": {},
   "outputs": [
    {
     "data": {
      "text/html": [
       "<div>\n",
       "<style scoped>\n",
       "    .dataframe tbody tr th:only-of-type {\n",
       "        vertical-align: middle;\n",
       "    }\n",
       "\n",
       "    .dataframe tbody tr th {\n",
       "        vertical-align: top;\n",
       "    }\n",
       "\n",
       "    .dataframe thead th {\n",
       "        text-align: right;\n",
       "    }\n",
       "</style>\n",
       "<table border=\"1\" class=\"dataframe\">\n",
       "  <thead>\n",
       "    <tr style=\"text-align: right;\">\n",
       "      <th></th>\n",
       "      <th>APPLICATION_NUMBER</th>\n",
       "      <th>TARGET</th>\n",
       "    </tr>\n",
       "  </thead>\n",
       "  <tbody>\n",
       "    <tr>\n",
       "      <th>0</th>\n",
       "      <td>123724268</td>\n",
       "      <td>0.225149</td>\n",
       "    </tr>\n",
       "    <tr>\n",
       "      <th>1</th>\n",
       "      <td>123456549</td>\n",
       "      <td>0.745187</td>\n",
       "    </tr>\n",
       "    <tr>\n",
       "      <th>2</th>\n",
       "      <td>123428178</td>\n",
       "      <td>0.506346</td>\n",
       "    </tr>\n",
       "    <tr>\n",
       "      <th>3</th>\n",
       "      <td>123619984</td>\n",
       "      <td>0.358853</td>\n",
       "    </tr>\n",
       "    <tr>\n",
       "      <th>4</th>\n",
       "      <td>123671104</td>\n",
       "      <td>0.077620</td>\n",
       "    </tr>\n",
       "  </tbody>\n",
       "</table>\n",
       "</div>"
      ],
      "text/plain": [
       "   APPLICATION_NUMBER    TARGET\n",
       "0           123724268  0.225149\n",
       "1           123456549  0.745187\n",
       "2           123428178  0.506346\n",
       "3           123619984  0.358853\n",
       "4           123671104  0.077620"
      ]
     },
     "execution_count": 411,
     "metadata": {},
     "output_type": "execute_result"
    }
   ],
   "source": [
    "y_pred_test_x = model_xgb.predict(xgb.DMatrix(data=test_data))\n",
    "result_test_x = pd.DataFrame({\n",
    "    \"APPLICATION_NUMBER\": test_data['APPLICATION_NUMBER'],\n",
    "    \"TARGET\": y_pred_test_x.flatten(),})\n",
    "result_test_x.head()"
   ]
  },
  {
   "cell_type": "code",
   "execution_count": 412,
   "metadata": {},
   "outputs": [],
   "source": [
    "#filename = 'Vodorezova.csv'\n",
    "#result_test_x.to_csv(filename, index=None)"
   ]
  },
  {
   "cell_type": "code",
   "execution_count": null,
   "metadata": {},
   "outputs": [],
   "source": []
  },
  {
   "cell_type": "code",
   "execution_count": null,
   "metadata": {},
   "outputs": [],
   "source": []
  },
  {
   "cell_type": "code",
   "execution_count": 413,
   "metadata": {},
   "outputs": [],
   "source": [
    "params = {\n",
    "    \"boosting_type\": \"gbdt\",\n",
    "    \"objective\": \"binary\",\n",
    "    \"metric\": \"auc\",\n",
    "    \"learning_rate\": 0.01,\n",
    "    \"n_estimators\": 600,\n",
    "    \"n_jobs\": 6,\n",
    "    \"seed\": 27,\n",
    "}"
   ]
  },
  {
   "cell_type": "code",
   "execution_count": 414,
   "metadata": {},
   "outputs": [
    {
     "name": "stdout",
     "output_type": "stream",
     "text": [
      "[LightGBM] [Warning] Find whitespaces in feature_names, replace with underlines\n",
      "[LightGBM] [Info] Number of positive: 37399, number of negative: 70805\n",
      "[LightGBM] [Warning] Auto-choosing row-wise multi-threading, the overhead of testing was 0.014437 seconds.\n",
      "You can set `force_row_wise=true` to remove the overhead.\n",
      "And if memory is not enough, you can set `force_col_wise=true`.\n",
      "[LightGBM] [Info] Total Bins 3862\n",
      "[LightGBM] [Info] Number of data points in the train set: 108204, number of used features: 32\n",
      "[LightGBM] [Warning] Find whitespaces in feature_names, replace with underlines\n",
      "[LightGBM] [Info] [binary:BoostFromScore]: pavg=0.345634 -> initscore=-0.638286\n",
      "[LightGBM] [Info] Start training from score -0.638286\n",
      "Training until validation scores don't improve for 50 rounds\n",
      "[10]\ttraining's auc: 0.706264\tvalid_1's auc: 0.701721\n",
      "[20]\ttraining's auc: 0.710511\tvalid_1's auc: 0.705907\n",
      "[30]\ttraining's auc: 0.712784\tvalid_1's auc: 0.707963\n",
      "[40]\ttraining's auc: 0.715542\tvalid_1's auc: 0.71032\n",
      "[50]\ttraining's auc: 0.717161\tvalid_1's auc: 0.71195\n",
      "[60]\ttraining's auc: 0.719683\tvalid_1's auc: 0.714396\n",
      "[70]\ttraining's auc: 0.721594\tvalid_1's auc: 0.716451\n",
      "[80]\ttraining's auc: 0.722784\tvalid_1's auc: 0.717594\n",
      "[90]\ttraining's auc: 0.724326\tvalid_1's auc: 0.718831\n",
      "[100]\ttraining's auc: 0.726131\tvalid_1's auc: 0.720389\n",
      "[110]\ttraining's auc: 0.727729\tvalid_1's auc: 0.721967\n",
      "[120]\ttraining's auc: 0.729571\tvalid_1's auc: 0.723266\n",
      "[130]\ttraining's auc: 0.731138\tvalid_1's auc: 0.724815\n",
      "[140]\ttraining's auc: 0.732921\tvalid_1's auc: 0.726356\n",
      "[150]\ttraining's auc: 0.734451\tvalid_1's auc: 0.727854\n",
      "[160]\ttraining's auc: 0.736024\tvalid_1's auc: 0.729706\n",
      "[170]\ttraining's auc: 0.737388\tvalid_1's auc: 0.730853\n",
      "[180]\ttraining's auc: 0.738849\tvalid_1's auc: 0.732343\n",
      "[190]\ttraining's auc: 0.740125\tvalid_1's auc: 0.733406\n",
      "[200]\ttraining's auc: 0.741638\tvalid_1's auc: 0.734617\n",
      "[210]\ttraining's auc: 0.743124\tvalid_1's auc: 0.735942\n",
      "[220]\ttraining's auc: 0.744448\tvalid_1's auc: 0.737078\n",
      "[230]\ttraining's auc: 0.74577\tvalid_1's auc: 0.73809\n",
      "[240]\ttraining's auc: 0.747102\tvalid_1's auc: 0.73925\n",
      "[250]\ttraining's auc: 0.748341\tvalid_1's auc: 0.740267\n",
      "[260]\ttraining's auc: 0.749551\tvalid_1's auc: 0.741096\n",
      "[270]\ttraining's auc: 0.750671\tvalid_1's auc: 0.741901\n",
      "[280]\ttraining's auc: 0.751769\tvalid_1's auc: 0.7429\n",
      "[290]\ttraining's auc: 0.752834\tvalid_1's auc: 0.743887\n",
      "[300]\ttraining's auc: 0.753871\tvalid_1's auc: 0.744665\n",
      "[310]\ttraining's auc: 0.754885\tvalid_1's auc: 0.745576\n",
      "[320]\ttraining's auc: 0.755891\tvalid_1's auc: 0.746221\n",
      "[330]\ttraining's auc: 0.756868\tvalid_1's auc: 0.747141\n",
      "[340]\ttraining's auc: 0.757686\tvalid_1's auc: 0.747775\n",
      "[350]\ttraining's auc: 0.758539\tvalid_1's auc: 0.748461\n",
      "[360]\ttraining's auc: 0.759517\tvalid_1's auc: 0.749275\n",
      "[370]\ttraining's auc: 0.760384\tvalid_1's auc: 0.749855\n",
      "[380]\ttraining's auc: 0.761309\tvalid_1's auc: 0.750591\n",
      "[390]\ttraining's auc: 0.762181\tvalid_1's auc: 0.751171\n",
      "[400]\ttraining's auc: 0.762937\tvalid_1's auc: 0.751712\n",
      "[410]\ttraining's auc: 0.763907\tvalid_1's auc: 0.752533\n",
      "[420]\ttraining's auc: 0.764715\tvalid_1's auc: 0.753116\n",
      "[430]\ttraining's auc: 0.765733\tvalid_1's auc: 0.753889\n",
      "[440]\ttraining's auc: 0.766635\tvalid_1's auc: 0.754649\n",
      "[450]\ttraining's auc: 0.767493\tvalid_1's auc: 0.755369\n",
      "[460]\ttraining's auc: 0.768356\tvalid_1's auc: 0.756028\n",
      "[470]\ttraining's auc: 0.769212\tvalid_1's auc: 0.756684\n",
      "[480]\ttraining's auc: 0.77001\tvalid_1's auc: 0.757279\n",
      "[490]\ttraining's auc: 0.770751\tvalid_1's auc: 0.757873\n",
      "[500]\ttraining's auc: 0.771535\tvalid_1's auc: 0.758433\n",
      "[510]\ttraining's auc: 0.772306\tvalid_1's auc: 0.758964\n",
      "[520]\ttraining's auc: 0.773261\tvalid_1's auc: 0.759625\n",
      "[530]\ttraining's auc: 0.77396\tvalid_1's auc: 0.760217\n",
      "[540]\ttraining's auc: 0.774836\tvalid_1's auc: 0.760803\n",
      "[550]\ttraining's auc: 0.775477\tvalid_1's auc: 0.761354\n",
      "[560]\ttraining's auc: 0.776255\tvalid_1's auc: 0.762021\n",
      "[570]\ttraining's auc: 0.776848\tvalid_1's auc: 0.762465\n",
      "[580]\ttraining's auc: 0.77751\tvalid_1's auc: 0.763027\n",
      "[590]\ttraining's auc: 0.778239\tvalid_1's auc: 0.76351\n",
      "[600]\ttraining's auc: 0.779032\tvalid_1's auc: 0.764054\n",
      "Did not meet early stopping. Best iteration is:\n",
      "[600]\ttraining's auc: 0.779032\tvalid_1's auc: 0.764054\n"
     ]
    }
   ],
   "source": [
    "dtrain = lgbm.Dataset(\n",
    "    data=x_train, label=y_train\n",
    ")\n",
    "dvalid = lgbm.Dataset(\n",
    "    data=x_valid, label=y_valid\n",
    ")\n",
    "\n",
    "model_lgbm = lgbm.train(\n",
    "    params=params,\n",
    "    train_set=dtrain,\n",
    "    num_boost_round=600,\n",
    "    valid_sets=[dtrain, dvalid],\n",
    "    categorical_feature=\"auto\",\n",
    "    early_stopping_rounds=50,\n",
    "    verbose_eval=10\n",
    ")"
   ]
  },
  {
   "cell_type": "code",
   "execution_count": 415,
   "metadata": {},
   "outputs": [
    {
     "name": "stdout",
     "output_type": "stream",
     "text": [
      "Train-score: 0.779, Valid-score: 0.764)\n"
     ]
    }
   ],
   "source": [
    "train_score = roc_auc_score(y_train, model_lgbm.predict(x_train))\n",
    "valid_score = roc_auc_score(y_valid, model_lgbm.predict(x_valid))\n",
    "\n",
    "print(f\"Train-score: {round(train_score, 3)}, Valid-score: {round(valid_score, 3)})\")\n",
    "\n",
    "#Train-score: 0.78, Valid-score: 0.768)"
   ]
  },
  {
   "cell_type": "code",
   "execution_count": null,
   "metadata": {},
   "outputs": [],
   "source": []
  },
  {
   "cell_type": "code",
   "execution_count": 416,
   "metadata": {},
   "outputs": [
    {
     "data": {
      "text/html": [
       "<div>\n",
       "<style scoped>\n",
       "    .dataframe tbody tr th:only-of-type {\n",
       "        vertical-align: middle;\n",
       "    }\n",
       "\n",
       "    .dataframe tbody tr th {\n",
       "        vertical-align: top;\n",
       "    }\n",
       "\n",
       "    .dataframe thead th {\n",
       "        text-align: right;\n",
       "    }\n",
       "</style>\n",
       "<table border=\"1\" class=\"dataframe\">\n",
       "  <thead>\n",
       "    <tr style=\"text-align: right;\">\n",
       "      <th></th>\n",
       "      <th>APPLICATION_NUMBER</th>\n",
       "      <th>TARGET</th>\n",
       "    </tr>\n",
       "  </thead>\n",
       "  <tbody>\n",
       "    <tr>\n",
       "      <th>0</th>\n",
       "      <td>123724268</td>\n",
       "      <td>0.203586</td>\n",
       "    </tr>\n",
       "    <tr>\n",
       "      <th>1</th>\n",
       "      <td>123456549</td>\n",
       "      <td>0.668963</td>\n",
       "    </tr>\n",
       "    <tr>\n",
       "      <th>2</th>\n",
       "      <td>123428178</td>\n",
       "      <td>0.539995</td>\n",
       "    </tr>\n",
       "    <tr>\n",
       "      <th>3</th>\n",
       "      <td>123619984</td>\n",
       "      <td>0.357380</td>\n",
       "    </tr>\n",
       "    <tr>\n",
       "      <th>4</th>\n",
       "      <td>123671104</td>\n",
       "      <td>0.082771</td>\n",
       "    </tr>\n",
       "  </tbody>\n",
       "</table>\n",
       "</div>"
      ],
      "text/plain": [
       "   APPLICATION_NUMBER    TARGET\n",
       "0           123724268  0.203586\n",
       "1           123456549  0.668963\n",
       "2           123428178  0.539995\n",
       "3           123619984  0.357380\n",
       "4           123671104  0.082771"
      ]
     },
     "execution_count": 416,
     "metadata": {},
     "output_type": "execute_result"
    }
   ],
   "source": [
    "y_pred_test_l = model_lgbm.predict(test_data)\n",
    "result_test_l = pd.DataFrame({\n",
    "    \"APPLICATION_NUMBER\": test_data['APPLICATION_NUMBER'],\n",
    "    \"TARGET\": y_pred_test_l.flatten(),})\n",
    "result_test_l.head()"
   ]
  },
  {
   "cell_type": "code",
   "execution_count": 417,
   "metadata": {},
   "outputs": [],
   "source": [
    "#filename = 'Vodorezova.csv'\n",
    "#result_test_l.to_csv(filename, index=None)"
   ]
  },
  {
   "cell_type": "code",
   "execution_count": null,
   "metadata": {},
   "outputs": [],
   "source": []
  },
  {
   "cell_type": "code",
   "execution_count": null,
   "metadata": {},
   "outputs": [],
   "source": []
  },
  {
   "cell_type": "code",
   "execution_count": 418,
   "metadata": {},
   "outputs": [
    {
     "data": {
      "text/html": [
       "<div>\n",
       "<style scoped>\n",
       "    .dataframe tbody tr th:only-of-type {\n",
       "        vertical-align: middle;\n",
       "    }\n",
       "\n",
       "    .dataframe tbody tr th {\n",
       "        vertical-align: top;\n",
       "    }\n",
       "\n",
       "    .dataframe thead th {\n",
       "        text-align: right;\n",
       "    }\n",
       "</style>\n",
       "<table border=\"1\" class=\"dataframe\">\n",
       "  <thead>\n",
       "    <tr style=\"text-align: right;\">\n",
       "      <th></th>\n",
       "      <th>APPLICATION_NUMBER</th>\n",
       "      <th>TARGET</th>\n",
       "    </tr>\n",
       "  </thead>\n",
       "  <tbody>\n",
       "    <tr>\n",
       "      <th>0</th>\n",
       "      <td>123724268</td>\n",
       "      <td>0.245410</td>\n",
       "    </tr>\n",
       "    <tr>\n",
       "      <th>1</th>\n",
       "      <td>123456549</td>\n",
       "      <td>0.717962</td>\n",
       "    </tr>\n",
       "  </tbody>\n",
       "</table>\n",
       "</div>"
      ],
      "text/plain": [
       "   APPLICATION_NUMBER    TARGET\n",
       "0           123724268  0.245410\n",
       "1           123456549  0.717962"
      ]
     },
     "execution_count": 418,
     "metadata": {},
     "output_type": "execute_result"
    }
   ],
   "source": [
    "result_test.head(2)"
   ]
  },
  {
   "cell_type": "code",
   "execution_count": 419,
   "metadata": {},
   "outputs": [
    {
     "data": {
      "text/html": [
       "<div>\n",
       "<style scoped>\n",
       "    .dataframe tbody tr th:only-of-type {\n",
       "        vertical-align: middle;\n",
       "    }\n",
       "\n",
       "    .dataframe tbody tr th {\n",
       "        vertical-align: top;\n",
       "    }\n",
       "\n",
       "    .dataframe thead th {\n",
       "        text-align: right;\n",
       "    }\n",
       "</style>\n",
       "<table border=\"1\" class=\"dataframe\">\n",
       "  <thead>\n",
       "    <tr style=\"text-align: right;\">\n",
       "      <th></th>\n",
       "      <th>APPLICATION_NUMBER</th>\n",
       "      <th>TARGET</th>\n",
       "    </tr>\n",
       "  </thead>\n",
       "  <tbody>\n",
       "    <tr>\n",
       "      <th>0</th>\n",
       "      <td>123724268</td>\n",
       "      <td>0.225149</td>\n",
       "    </tr>\n",
       "    <tr>\n",
       "      <th>1</th>\n",
       "      <td>123456549</td>\n",
       "      <td>0.745187</td>\n",
       "    </tr>\n",
       "  </tbody>\n",
       "</table>\n",
       "</div>"
      ],
      "text/plain": [
       "   APPLICATION_NUMBER    TARGET\n",
       "0           123724268  0.225149\n",
       "1           123456549  0.745187"
      ]
     },
     "execution_count": 419,
     "metadata": {},
     "output_type": "execute_result"
    }
   ],
   "source": [
    "result_test_x.head(2)"
   ]
  },
  {
   "cell_type": "code",
   "execution_count": 420,
   "metadata": {},
   "outputs": [
    {
     "data": {
      "text/html": [
       "<div>\n",
       "<style scoped>\n",
       "    .dataframe tbody tr th:only-of-type {\n",
       "        vertical-align: middle;\n",
       "    }\n",
       "\n",
       "    .dataframe tbody tr th {\n",
       "        vertical-align: top;\n",
       "    }\n",
       "\n",
       "    .dataframe thead th {\n",
       "        text-align: right;\n",
       "    }\n",
       "</style>\n",
       "<table border=\"1\" class=\"dataframe\">\n",
       "  <thead>\n",
       "    <tr style=\"text-align: right;\">\n",
       "      <th></th>\n",
       "      <th>APPLICATION_NUMBER</th>\n",
       "      <th>TARGET</th>\n",
       "    </tr>\n",
       "  </thead>\n",
       "  <tbody>\n",
       "    <tr>\n",
       "      <th>0</th>\n",
       "      <td>123724268</td>\n",
       "      <td>0.203586</td>\n",
       "    </tr>\n",
       "    <tr>\n",
       "      <th>1</th>\n",
       "      <td>123456549</td>\n",
       "      <td>0.668963</td>\n",
       "    </tr>\n",
       "  </tbody>\n",
       "</table>\n",
       "</div>"
      ],
      "text/plain": [
       "   APPLICATION_NUMBER    TARGET\n",
       "0           123724268  0.203586\n",
       "1           123456549  0.668963"
      ]
     },
     "execution_count": 420,
     "metadata": {},
     "output_type": "execute_result"
    }
   ],
   "source": [
    "result_test_l.head(2)"
   ]
  },
  {
   "cell_type": "code",
   "execution_count": 421,
   "metadata": {},
   "outputs": [
    {
     "data": {
      "text/html": [
       "<div>\n",
       "<style scoped>\n",
       "    .dataframe tbody tr th:only-of-type {\n",
       "        vertical-align: middle;\n",
       "    }\n",
       "\n",
       "    .dataframe tbody tr th {\n",
       "        vertical-align: top;\n",
       "    }\n",
       "\n",
       "    .dataframe thead th {\n",
       "        text-align: right;\n",
       "    }\n",
       "</style>\n",
       "<table border=\"1\" class=\"dataframe\">\n",
       "  <thead>\n",
       "    <tr style=\"text-align: right;\">\n",
       "      <th></th>\n",
       "      <th>APPLICATION_NUMBER</th>\n",
       "      <th>TARGET</th>\n",
       "    </tr>\n",
       "  </thead>\n",
       "  <tbody>\n",
       "    <tr>\n",
       "      <th>0</th>\n",
       "      <td>123724268</td>\n",
       "      <td>0.224715</td>\n",
       "    </tr>\n",
       "    <tr>\n",
       "      <th>1</th>\n",
       "      <td>123456549</td>\n",
       "      <td>0.710704</td>\n",
       "    </tr>\n",
       "  </tbody>\n",
       "</table>\n",
       "</div>"
      ],
      "text/plain": [
       "   APPLICATION_NUMBER    TARGET\n",
       "0           123724268  0.224715\n",
       "1           123456549  0.710704"
      ]
     },
     "execution_count": 421,
     "metadata": {},
     "output_type": "execute_result"
    }
   ],
   "source": [
    "res = result_test.copy()\n",
    "res['TARGET'] = (result_test['TARGET'] + result_test_x['TARGET'] + result_test_l['TARGET']) / 3\n",
    "res.head(2)"
   ]
  },
  {
   "cell_type": "code",
   "execution_count": null,
   "metadata": {},
   "outputs": [],
   "source": []
  },
  {
   "cell_type": "code",
   "execution_count": 422,
   "metadata": {},
   "outputs": [],
   "source": [
    "filename = 'Vodorezova.csv'\n",
    "res.to_csv(filename, index=None)\n",
    "# 0.73179"
   ]
  },
  {
   "cell_type": "code",
   "execution_count": null,
   "metadata": {},
   "outputs": [],
   "source": []
  },
  {
   "cell_type": "code",
   "execution_count": null,
   "metadata": {},
   "outputs": [],
   "source": []
  },
  {
   "cell_type": "code",
   "execution_count": null,
   "metadata": {},
   "outputs": [],
   "source": []
  },
  {
   "cell_type": "code",
   "execution_count": 423,
   "metadata": {},
   "outputs": [],
   "source": [
    "rfc = RandomForestClassifier(n_estimators=600, max_depth = 9) "
   ]
  },
  {
   "cell_type": "code",
   "execution_count": 424,
   "metadata": {},
   "outputs": [
    {
     "data": {
      "text/plain": [
       "RandomForestClassifier(max_depth=9, n_estimators=600)"
      ]
     },
     "execution_count": 424,
     "metadata": {},
     "output_type": "execute_result"
    }
   ],
   "source": [
    "rfc.fit(x_train, y_train)  "
   ]
  },
  {
   "cell_type": "code",
   "execution_count": 425,
   "metadata": {},
   "outputs": [
    {
     "name": "stdout",
     "output_type": "stream",
     "text": [
      "Train-score: 0.791, Valid-score: 0.77)\n"
     ]
    }
   ],
   "source": [
    "train_score = roc_auc_score(y_train, rfc.predict_proba(x_train)[:,1])\n",
    "valid_score = roc_auc_score(y_valid, rfc.predict_proba(x_valid)[:,1])\n",
    "\n",
    "print(f\"Train-score: {round(train_score, 3)}, Valid-score: {round(valid_score, 3)})\")\n",
    "\n",
    "#Train-score: 0.745, Valid-score: 0.733)   500 7\n",
    "#Train-score: 0.789, Valid-score: 0.768)   600 9"
   ]
  },
  {
   "cell_type": "code",
   "execution_count": 426,
   "metadata": {},
   "outputs": [
    {
     "data": {
      "text/html": [
       "<div>\n",
       "<style scoped>\n",
       "    .dataframe tbody tr th:only-of-type {\n",
       "        vertical-align: middle;\n",
       "    }\n",
       "\n",
       "    .dataframe tbody tr th {\n",
       "        vertical-align: top;\n",
       "    }\n",
       "\n",
       "    .dataframe thead th {\n",
       "        text-align: right;\n",
       "    }\n",
       "</style>\n",
       "<table border=\"1\" class=\"dataframe\">\n",
       "  <thead>\n",
       "    <tr style=\"text-align: right;\">\n",
       "      <th></th>\n",
       "      <th>APPLICATION_NUMBER</th>\n",
       "      <th>TARGET</th>\n",
       "    </tr>\n",
       "  </thead>\n",
       "  <tbody>\n",
       "    <tr>\n",
       "      <th>0</th>\n",
       "      <td>123724268</td>\n",
       "      <td>0.255162</td>\n",
       "    </tr>\n",
       "    <tr>\n",
       "      <th>1</th>\n",
       "      <td>123456549</td>\n",
       "      <td>0.588602</td>\n",
       "    </tr>\n",
       "    <tr>\n",
       "      <th>2</th>\n",
       "      <td>123428178</td>\n",
       "      <td>0.527014</td>\n",
       "    </tr>\n",
       "    <tr>\n",
       "      <th>3</th>\n",
       "      <td>123619984</td>\n",
       "      <td>0.354290</td>\n",
       "    </tr>\n",
       "    <tr>\n",
       "      <th>4</th>\n",
       "      <td>123671104</td>\n",
       "      <td>0.119095</td>\n",
       "    </tr>\n",
       "  </tbody>\n",
       "</table>\n",
       "</div>"
      ],
      "text/plain": [
       "   APPLICATION_NUMBER    TARGET\n",
       "0           123724268  0.255162\n",
       "1           123456549  0.588602\n",
       "2           123428178  0.527014\n",
       "3           123619984  0.354290\n",
       "4           123671104  0.119095"
      ]
     },
     "execution_count": 426,
     "metadata": {},
     "output_type": "execute_result"
    }
   ],
   "source": [
    "y_pred_test_r = rfc.predict_proba(test_data)[:,1]\n",
    "result_test_r = pd.DataFrame({\n",
    "    \"APPLICATION_NUMBER\": test_data['APPLICATION_NUMBER'],\n",
    "    \"TARGET\": y_pred_test_r.flatten(),})\n",
    "result_test_r.head()"
   ]
  },
  {
   "cell_type": "code",
   "execution_count": 427,
   "metadata": {},
   "outputs": [],
   "source": [
    "#filename = 'Vodorezova.csv'\n",
    "#result_test_r.to_csv(filename, index=None)\n",
    "# 71327"
   ]
  },
  {
   "cell_type": "code",
   "execution_count": null,
   "metadata": {},
   "outputs": [],
   "source": []
  },
  {
   "cell_type": "code",
   "execution_count": 428,
   "metadata": {},
   "outputs": [],
   "source": [
    "gbc = GradientBoostingClassifier()"
   ]
  },
  {
   "cell_type": "code",
   "execution_count": 429,
   "metadata": {},
   "outputs": [
    {
     "data": {
      "text/plain": [
       "GradientBoostingClassifier()"
      ]
     },
     "execution_count": 429,
     "metadata": {},
     "output_type": "execute_result"
    }
   ],
   "source": [
    "gbc.fit(x_train, y_train)"
   ]
  },
  {
   "cell_type": "code",
   "execution_count": 430,
   "metadata": {},
   "outputs": [
    {
     "name": "stdout",
     "output_type": "stream",
     "text": [
      "Train-score: 0.743, Valid-score: 0.738)\n"
     ]
    }
   ],
   "source": [
    "train_score = roc_auc_score(y_train, gbc.predict_proba(x_train)[:,1])\n",
    "valid_score = roc_auc_score(y_valid, gbc.predict_proba(x_valid)[:,1])\n",
    "\n",
    "print(f\"Train-score: {round(train_score, 3)}, Valid-score: {round(valid_score, 3)})\")\n",
    "\n",
    "#Train-score: 0.743, Valid-score: 0.738)"
   ]
  },
  {
   "cell_type": "code",
   "execution_count": 431,
   "metadata": {},
   "outputs": [
    {
     "data": {
      "text/html": [
       "<div>\n",
       "<style scoped>\n",
       "    .dataframe tbody tr th:only-of-type {\n",
       "        vertical-align: middle;\n",
       "    }\n",
       "\n",
       "    .dataframe tbody tr th {\n",
       "        vertical-align: top;\n",
       "    }\n",
       "\n",
       "    .dataframe thead th {\n",
       "        text-align: right;\n",
       "    }\n",
       "</style>\n",
       "<table border=\"1\" class=\"dataframe\">\n",
       "  <thead>\n",
       "    <tr style=\"text-align: right;\">\n",
       "      <th></th>\n",
       "      <th>APPLICATION_NUMBER</th>\n",
       "      <th>TARGET</th>\n",
       "    </tr>\n",
       "  </thead>\n",
       "  <tbody>\n",
       "    <tr>\n",
       "      <th>0</th>\n",
       "      <td>123724268</td>\n",
       "      <td>0.254278</td>\n",
       "    </tr>\n",
       "    <tr>\n",
       "      <th>1</th>\n",
       "      <td>123456549</td>\n",
       "      <td>0.641464</td>\n",
       "    </tr>\n",
       "    <tr>\n",
       "      <th>2</th>\n",
       "      <td>123428178</td>\n",
       "      <td>0.493874</td>\n",
       "    </tr>\n",
       "    <tr>\n",
       "      <th>3</th>\n",
       "      <td>123619984</td>\n",
       "      <td>0.357421</td>\n",
       "    </tr>\n",
       "    <tr>\n",
       "      <th>4</th>\n",
       "      <td>123671104</td>\n",
       "      <td>0.089625</td>\n",
       "    </tr>\n",
       "  </tbody>\n",
       "</table>\n",
       "</div>"
      ],
      "text/plain": [
       "   APPLICATION_NUMBER    TARGET\n",
       "0           123724268  0.254278\n",
       "1           123456549  0.641464\n",
       "2           123428178  0.493874\n",
       "3           123619984  0.357421\n",
       "4           123671104  0.089625"
      ]
     },
     "execution_count": 431,
     "metadata": {},
     "output_type": "execute_result"
    }
   ],
   "source": [
    "y_pred_test_g = gbc.predict_proba(test_data)[:,1]\n",
    "result_test_g = pd.DataFrame({\n",
    "    \"APPLICATION_NUMBER\": test_data['APPLICATION_NUMBER'],\n",
    "    \"TARGET\": y_pred_test_g.flatten(),})\n",
    "result_test_g.head()"
   ]
  },
  {
   "cell_type": "code",
   "execution_count": 432,
   "metadata": {},
   "outputs": [],
   "source": [
    "#filename = 'Vodorezova.csv'\n",
    "#result_test_k.to_csv(filename, index=None)\n",
    "# 71327"
   ]
  },
  {
   "cell_type": "code",
   "execution_count": null,
   "metadata": {},
   "outputs": [],
   "source": []
  },
  {
   "cell_type": "code",
   "execution_count": 433,
   "metadata": {},
   "outputs": [
    {
     "data": {
      "text/html": [
       "<div>\n",
       "<style scoped>\n",
       "    .dataframe tbody tr th:only-of-type {\n",
       "        vertical-align: middle;\n",
       "    }\n",
       "\n",
       "    .dataframe tbody tr th {\n",
       "        vertical-align: top;\n",
       "    }\n",
       "\n",
       "    .dataframe thead th {\n",
       "        text-align: right;\n",
       "    }\n",
       "</style>\n",
       "<table border=\"1\" class=\"dataframe\">\n",
       "  <thead>\n",
       "    <tr style=\"text-align: right;\">\n",
       "      <th></th>\n",
       "      <th>APPLICATION_NUMBER</th>\n",
       "      <th>TARGET</th>\n",
       "    </tr>\n",
       "  </thead>\n",
       "  <tbody>\n",
       "    <tr>\n",
       "      <th>0</th>\n",
       "      <td>123724268</td>\n",
       "      <td>0.236717</td>\n",
       "    </tr>\n",
       "    <tr>\n",
       "      <th>1</th>\n",
       "      <td>123456549</td>\n",
       "      <td>0.672435</td>\n",
       "    </tr>\n",
       "  </tbody>\n",
       "</table>\n",
       "</div>"
      ],
      "text/plain": [
       "   APPLICATION_NUMBER    TARGET\n",
       "0           123724268  0.236717\n",
       "1           123456549  0.672435"
      ]
     },
     "execution_count": 433,
     "metadata": {},
     "output_type": "execute_result"
    }
   ],
   "source": [
    "res = result_test.copy()\n",
    "res['TARGET'] = (result_test['TARGET'] + result_test_x['TARGET'] + result_test_l['TARGET'] + result_test_r['TARGET'] + result_test_g['TARGET'] ) / 5\n",
    "res.head(2)"
   ]
  },
  {
   "cell_type": "code",
   "execution_count": 434,
   "metadata": {},
   "outputs": [],
   "source": [
    "filename = 'Vodorezova.csv'\n",
    "res.to_csv(filename, index=None)\n",
    "# 0.72942"
   ]
  },
  {
   "cell_type": "code",
   "execution_count": null,
   "metadata": {},
   "outputs": [],
   "source": []
  },
  {
   "cell_type": "code",
   "execution_count": 437,
   "metadata": {},
   "outputs": [
    {
     "data": {
      "text/html": [
       "<div>\n",
       "<style scoped>\n",
       "    .dataframe tbody tr th:only-of-type {\n",
       "        vertical-align: middle;\n",
       "    }\n",
       "\n",
       "    .dataframe tbody tr th {\n",
       "        vertical-align: top;\n",
       "    }\n",
       "\n",
       "    .dataframe thead th {\n",
       "        text-align: right;\n",
       "    }\n",
       "</style>\n",
       "<table border=\"1\" class=\"dataframe\">\n",
       "  <thead>\n",
       "    <tr style=\"text-align: right;\">\n",
       "      <th></th>\n",
       "      <th>APPLICATION_NUMBER</th>\n",
       "      <th>TARGET</th>\n",
       "    </tr>\n",
       "  </thead>\n",
       "  <tbody>\n",
       "    <tr>\n",
       "      <th>0</th>\n",
       "      <td>123724268</td>\n",
       "      <td>0.230803</td>\n",
       "    </tr>\n",
       "    <tr>\n",
       "      <th>1</th>\n",
       "      <td>123456549</td>\n",
       "      <td>0.698466</td>\n",
       "    </tr>\n",
       "  </tbody>\n",
       "</table>\n",
       "</div>"
      ],
      "text/plain": [
       "   APPLICATION_NUMBER    TARGET\n",
       "0           123724268  0.230803\n",
       "1           123456549  0.698466"
      ]
     },
     "execution_count": 437,
     "metadata": {},
     "output_type": "execute_result"
    }
   ],
   "source": [
    "res = result_test.copy()\n",
    "res['TARGET'] = 0.2 * result_test['TARGET'] + 0.4 * result_test_x['TARGET'] + 0.2 * result_test_l['TARGET'] + 0.1 * result_test_r['TARGET'] + 0.1 * result_test_g['TARGET']\n",
    "res.head(2)"
   ]
  },
  {
   "cell_type": "code",
   "execution_count": 438,
   "metadata": {},
   "outputs": [],
   "source": [
    "filename = 'Vodorezova.csv'\n",
    "res.to_csv(filename, index=None)\n",
    "# 0.73133"
   ]
  },
  {
   "cell_type": "code",
   "execution_count": null,
   "metadata": {},
   "outputs": [],
   "source": []
  },
  {
   "cell_type": "code",
   "execution_count": 439,
   "metadata": {},
   "outputs": [
    {
     "data": {
      "text/html": [
       "<div>\n",
       "<style scoped>\n",
       "    .dataframe tbody tr th:only-of-type {\n",
       "        vertical-align: middle;\n",
       "    }\n",
       "\n",
       "    .dataframe tbody tr th {\n",
       "        vertical-align: top;\n",
       "    }\n",
       "\n",
       "    .dataframe thead th {\n",
       "        text-align: right;\n",
       "    }\n",
       "</style>\n",
       "<table border=\"1\" class=\"dataframe\">\n",
       "  <thead>\n",
       "    <tr style=\"text-align: right;\">\n",
       "      <th></th>\n",
       "      <th>APPLICATION_NUMBER</th>\n",
       "      <th>TARGET</th>\n",
       "    </tr>\n",
       "  </thead>\n",
       "  <tbody>\n",
       "    <tr>\n",
       "      <th>0</th>\n",
       "      <td>123724268</td>\n",
       "      <td>0.226914</td>\n",
       "    </tr>\n",
       "    <tr>\n",
       "      <th>1</th>\n",
       "      <td>123456549</td>\n",
       "      <td>0.721775</td>\n",
       "    </tr>\n",
       "  </tbody>\n",
       "</table>\n",
       "</div>"
      ],
      "text/plain": [
       "   APPLICATION_NUMBER    TARGET\n",
       "0           123724268  0.226914\n",
       "1           123456549  0.721775"
      ]
     },
     "execution_count": 439,
     "metadata": {},
     "output_type": "execute_result"
    }
   ],
   "source": [
    "res = result_test.copy()\n",
    "res['TARGET'] = 0.3 * result_test['TARGET'] + 0.5 * result_test_x['TARGET'] + 0.2 * result_test_l['TARGET']\n",
    "res.head(2)"
   ]
  },
  {
   "cell_type": "code",
   "execution_count": 440,
   "metadata": {},
   "outputs": [],
   "source": [
    "filename = 'Vodorezova.csv'\n",
    "res.to_csv(filename, index=None)\n",
    "# 0.73175"
   ]
  },
  {
   "cell_type": "code",
   "execution_count": null,
   "metadata": {},
   "outputs": [],
   "source": []
  },
  {
   "cell_type": "code",
   "execution_count": 443,
   "metadata": {},
   "outputs": [
    {
     "data": {
      "text/html": [
       "<div>\n",
       "<style scoped>\n",
       "    .dataframe tbody tr th:only-of-type {\n",
       "        vertical-align: middle;\n",
       "    }\n",
       "\n",
       "    .dataframe tbody tr th {\n",
       "        vertical-align: top;\n",
       "    }\n",
       "\n",
       "    .dataframe thead th {\n",
       "        text-align: right;\n",
       "    }\n",
       "</style>\n",
       "<table border=\"1\" class=\"dataframe\">\n",
       "  <thead>\n",
       "    <tr style=\"text-align: right;\">\n",
       "      <th></th>\n",
       "      <th>APPLICATION_NUMBER</th>\n",
       "      <th>TARGET</th>\n",
       "    </tr>\n",
       "  </thead>\n",
       "  <tbody>\n",
       "    <tr>\n",
       "      <th>0</th>\n",
       "      <td>123724268</td>\n",
       "      <td>0.233253</td>\n",
       "    </tr>\n",
       "    <tr>\n",
       "      <th>1</th>\n",
       "      <td>123456549</td>\n",
       "      <td>0.734297</td>\n",
       "    </tr>\n",
       "  </tbody>\n",
       "</table>\n",
       "</div>"
      ],
      "text/plain": [
       "   APPLICATION_NUMBER    TARGET\n",
       "0           123724268  0.233253\n",
       "1           123456549  0.734297"
      ]
     },
     "execution_count": 443,
     "metadata": {},
     "output_type": "execute_result"
    }
   ],
   "source": [
    "res = result_test.copy()\n",
    "res['TARGET'] = 0.3 * result_test['TARGET'] + 0.7 * result_test_x['TARGET']\n",
    "res.head(2)"
   ]
  },
  {
   "cell_type": "code",
   "execution_count": 444,
   "metadata": {},
   "outputs": [],
   "source": [
    "filename = 'Vodorezova.csv'\n",
    "res.to_csv(filename, index=None)\n",
    "# 0.73174"
   ]
  },
  {
   "cell_type": "code",
   "execution_count": null,
   "metadata": {},
   "outputs": [],
   "source": []
  },
  {
   "cell_type": "code",
   "execution_count": null,
   "metadata": {},
   "outputs": [],
   "source": []
  },
  {
   "cell_type": "code",
   "execution_count": null,
   "metadata": {},
   "outputs": [],
   "source": []
  },
  {
   "cell_type": "code",
   "execution_count": 435,
   "metadata": {},
   "outputs": [
    {
     "ename": "NameError",
     "evalue": "name 'stop' is not defined",
     "output_type": "error",
     "traceback": [
      "\u001b[0;31m---------------------------------------------------------------------------\u001b[0m",
      "\u001b[0;31mNameError\u001b[0m                                 Traceback (most recent call last)",
      "\u001b[0;32m<ipython-input-435-4f76a9dad686>\u001b[0m in \u001b[0;36m<module>\u001b[0;34m\u001b[0m\n\u001b[0;32m----> 1\u001b[0;31m \u001b[0mstop\u001b[0m\u001b[0;34m\u001b[0m\u001b[0;34m\u001b[0m\u001b[0m\n\u001b[0m",
      "\u001b[0;31mNameError\u001b[0m: name 'stop' is not defined"
     ]
    }
   ],
   "source": [
    "stop"
   ]
  },
  {
   "cell_type": "code",
   "execution_count": null,
   "metadata": {},
   "outputs": [],
   "source": [
    "test_data_res = result_test.copy()\n",
    "test_data_res['cat'] = test_data_res['TARGET']\n",
    "test_data_res['xgb'] = result_test_x['TARGET']\n",
    "test_data_res['lgbm'] = result_test_l['TARGET']\n",
    "test_data_res.head(2)"
   ]
  },
  {
   "cell_type": "code",
   "execution_count": null,
   "metadata": {},
   "outputs": [],
   "source": [
    "test_data_res = test_data_res.drop(['TARGET'], axis = 'columns')\n",
    "test_data_res"
   ]
  },
  {
   "cell_type": "code",
   "execution_count": null,
   "metadata": {},
   "outputs": [],
   "source": [
    "train_data_cat = model.predict(train_data, prediction_type =  \"Probability\")[:,1]\n",
    "result_train_cat = pd.DataFrame({\n",
    "    \"APPLICATION_NUMBER\": train_data['APPLICATION_NUMBER'],\n",
    "    \"TARGET\": train_data_cat.flatten(),})\n",
    "result_train_cat.head()"
   ]
  },
  {
   "cell_type": "code",
   "execution_count": null,
   "metadata": {},
   "outputs": [],
   "source": [
    "train_data_xgb = model_xgb.predict(xgb.DMatrix(data=train_data))\n",
    "result_train_xgb = pd.DataFrame({\n",
    "    \"APPLICATION_NUMBER\": train_data['APPLICATION_NUMBER'],\n",
    "    \"TARGET\": train_data_xgb.flatten(),})\n",
    "result_train_xgb.head()"
   ]
  },
  {
   "cell_type": "code",
   "execution_count": null,
   "metadata": {},
   "outputs": [],
   "source": [
    "train_data_lgbm = model_lgbm.predict(train_data)\n",
    "result_train_lgbm = pd.DataFrame({\n",
    "    \"APPLICATION_NUMBER\": train_data['APPLICATION_NUMBER'],\n",
    "    \"TARGET\": train_data_lgbm.flatten(),})\n",
    "result_train_lgbm.head()"
   ]
  },
  {
   "cell_type": "code",
   "execution_count": null,
   "metadata": {},
   "outputs": [],
   "source": [
    "train_data_res = result_train_cat.copy()\n",
    "train_data_res['cat'] = train_data_res['TARGET']\n",
    "train_data_res['xgb'] = result_train_xgb['TARGET']\n",
    "train_data_res['lgbm'] = result_train_lgbm['TARGET']\n",
    "train_data_res.head(2)"
   ]
  },
  {
   "cell_type": "code",
   "execution_count": null,
   "metadata": {},
   "outputs": [],
   "source": [
    "train_data_res = train_data_res.drop(['TARGET'], axis = 'columns')\n",
    "train_data_res"
   ]
  },
  {
   "cell_type": "code",
   "execution_count": null,
   "metadata": {},
   "outputs": [],
   "source": [
    "x_train, x_valid, y_train, y_valid = train_test_split(train_data_res, train_target, test_size=0.30)"
   ]
  },
  {
   "cell_type": "code",
   "execution_count": null,
   "metadata": {},
   "outputs": [],
   "source": [
    "params = {\n",
    "    \"booster\": \"gbtree\",\n",
    "    \"objective\": \"binary:logistic\",\n",
    "    \"eval_metric\": \"auc\",\n",
    "    \"learning_rate\": 0.1,\n",
    "    \"n_estimators\": 600,\n",
    "    \"reg_lambda\": 100,\n",
    "    \"max_depth\": 4,\n",
    "    \"gamma\": 10,\n",
    "    \"nthread\": 6,\n",
    "    \"seed\": 27\n",
    "}\n",
    "\n",
    "dtrain = xgb.DMatrix(\n",
    "    data=x_train, label=y_train\n",
    ")\n",
    "dvalid = xgb.DMatrix(\n",
    "    data=x_valid, label=y_valid\n",
    ")\n",
    "\n",
    "model_xgb = xgb.train(\n",
    "    params=params,\n",
    "    dtrain=dtrain,\n",
    "    num_boost_round=600,\n",
    "    evals=[(dtrain, \"train\"), (dvalid, \"valid\")],\n",
    "    early_stopping_rounds=50,\n",
    "    verbose_eval=10,\n",
    ")"
   ]
  },
  {
   "cell_type": "code",
   "execution_count": null,
   "metadata": {},
   "outputs": [],
   "source": [
    "train_score = roc_auc_score(y_train, model_xgb.predict(dtrain))\n",
    "valid_score = roc_auc_score(y_valid, model_xgb.predict(dvalid))\n",
    "\n",
    "print(f\"Train-score: {round(train_score, 3)}, Valid-score: {round(valid_score, 3)})\")\n",
    "#Train-score: 0.815, Valid-score: 0.816)"
   ]
  },
  {
   "cell_type": "code",
   "execution_count": null,
   "metadata": {},
   "outputs": [],
   "source": [
    "y_pred_test_x = model_xgb.predict(xgb.DMatrix(data=test_data_res))\n",
    "result_test_x = pd.DataFrame({\n",
    "    \"APPLICATION_NUMBER\": test_data['APPLICATION_NUMBER'],\n",
    "    \"TARGET\": y_pred_test_x.flatten(),})\n",
    "result_test_x.head()"
   ]
  },
  {
   "cell_type": "code",
   "execution_count": null,
   "metadata": {},
   "outputs": [],
   "source": [
    "filename = 'Vodorezova.csv'\n",
    "result_test_x.to_csv(filename, index=None)\n",
    "# 72276"
   ]
  },
  {
   "cell_type": "code",
   "execution_count": null,
   "metadata": {},
   "outputs": [],
   "source": []
  }
 ],
 "metadata": {
  "kernelspec": {
   "display_name": "Python 3",
   "language": "python",
   "name": "python3"
  },
  "language_info": {
   "codemirror_mode": {
    "name": "ipython",
    "version": 3
   },
   "file_extension": ".py",
   "mimetype": "text/x-python",
   "name": "python",
   "nbconvert_exporter": "python",
   "pygments_lexer": "ipython3",
   "version": "3.8.5"
  }
 },
 "nbformat": 4,
 "nbformat_minor": 4
}
