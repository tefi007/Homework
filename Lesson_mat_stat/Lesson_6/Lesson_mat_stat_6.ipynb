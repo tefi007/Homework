{
 "cells": [
  {
   "cell_type": "code",
   "execution_count": 39,
   "metadata": {},
   "outputs": [],
   "source": [
    "import numpy as np\n",
    "import math\n",
    "from scipy import stats"
   ]
  },
  {
   "cell_type": "markdown",
   "metadata": {},
   "source": [
    "Задача 1\n",
    "\n",
    "Даны значения величины заработной платы заемщиков банка (salary) и значения их поведенческого кредитного скоринга (scoring):\n",
    "\n",
    "salary = [35, 45, 190, 200, 40, 70, 54, 150, 120, 110]\n",
    "scoring = [401, 574, 874, 919, 459, 739, 653, 902, 746, 832]\n",
    "\n",
    "Используя только встроенные питоновские функции и структуры данных (т.е. без библиотек numpy, pandas и др.) найдите:\n",
    "1. ковариацию (смещённую и несмещённую) этих двух величин,\n",
    "2. коэффициент корреляции Пирсона.\n",
    "\n",
    "Можно затем посчитать те же значения с использованием библиотек, чтобы проверить себя.\n"
   ]
  },
  {
   "cell_type": "code",
   "execution_count": 33,
   "metadata": {},
   "outputs": [
    {
     "data": {
      "text/plain": [
       "(9157.84, 10175.377777777778)"
      ]
     },
     "execution_count": 33,
     "metadata": {},
     "output_type": "execute_result"
    }
   ],
   "source": [
    "salary = [35, 45, 190, 200, 40, 70, 54, 150, 120, 110]\n",
    "scoring = [401, 574, 874, 919, 459, 739, 653, 902, 746, 832]\n",
    "\n",
    "salary_mean = sum(salary) / len(salary)\n",
    "scoring_mean = sum(scoring) / len(scoring)\n",
    "salary_mean, scoring_mean\n",
    "\n",
    "cov_s = 0\n",
    "cov_ns = 0\n",
    "for i in range(0, len(salary)):\n",
    "    cov_s = cov_s + ((salary[i] - salary_mean) * (scoring[i] - scoring_mean))\n",
    "    cov_ns = cov_ns + ((salary[i] - salary_mean) * (scoring[i] - scoring_mean))\n",
    "\n",
    "cov_s = cov_s / len(salary)\n",
    "cov_ns = cov_ns / (len(salary)-1)\n",
    "cov_s, cov_ns"
   ]
  },
  {
   "cell_type": "code",
   "execution_count": 32,
   "metadata": {},
   "outputs": [
    {
     "data": {
      "text/plain": [
       "(array([[ 3494.64,  9157.84],\n",
       "        [ 9157.84, 30468.89]]),\n",
       " array([[ 3882.93333333, 10175.37777778],\n",
       "        [10175.37777778, 33854.32222222]]))"
      ]
     },
     "execution_count": 32,
     "metadata": {},
     "output_type": "execute_result"
    }
   ],
   "source": [
    "salary = np.array([35, 45, 190, 200, 40, 70, 54, 150, 120, 110])\n",
    "scoring = np.array([401, 574, 874, 919, 459, 739, 653, 902, 746, 832])\n",
    "\n",
    "np.cov(salary, scoring, ddof=0), np.cov(salary, scoring, ddof=1)"
   ]
  },
  {
   "cell_type": "code",
   "execution_count": 31,
   "metadata": {},
   "outputs": [
    {
     "data": {
      "text/plain": [
       "0.8874900920739162"
      ]
     },
     "execution_count": 31,
     "metadata": {},
     "output_type": "execute_result"
    }
   ],
   "source": [
    "salary = [35, 45, 190, 200, 40, 70, 54, 150, 120, 110]\n",
    "scoring = [401, 574, 874, 919, 459, 739, 653, 902, 746, 832]\n",
    "\n",
    "salary_mean = sum(salary) / len(salary)\n",
    "scoring_mean = sum(scoring) / len(scoring)\n",
    "\n",
    "salary_1 = 0\n",
    "scoring_1 = 0\n",
    "for i in range(0,len(salary)):\n",
    "    salary_1 = salary_1 + (salary[i]-salary_mean)**2\n",
    "    scoring_1 = scoring_1 + (scoring[i]-scoring_mean)**2\n",
    "salary_1 = salary_1 / len(salary)\n",
    "salary_std = math.sqrt(salary_1)\n",
    "scoring_1 = scoring_1 / len(scoring)\n",
    "scoring_std = math.sqrt(scoring_1)\n",
    "\n",
    "salary_std, scoring_std\n",
    "\n",
    "corr = cov_s / (salary_std * scoring_std)\n",
    "corr"
   ]
  },
  {
   "cell_type": "code",
   "execution_count": 30,
   "metadata": {},
   "outputs": [
    {
     "data": {
      "text/plain": [
       "array([[1.        , 0.88749009],\n",
       "       [0.88749009, 1.        ]])"
      ]
     },
     "execution_count": 30,
     "metadata": {},
     "output_type": "execute_result"
    }
   ],
   "source": [
    "salary = np.array([35, 45, 190, 200, 40, 70, 54, 150, 120, 110])\n",
    "scoring = np.array([401, 574, 874, 919, 459, 739, 653, 902, 746, 832])\n",
    "\n",
    "np.corrcoef(salary, scoring)"
   ]
  },
  {
   "cell_type": "markdown",
   "metadata": {},
   "source": [
    "Задача 2\n",
    "\n",
    "Проведите тест на значимость коэффициента корреляции Пирсона, найденного в предыдущей задаче. Что для этого нужно знать:\n",
    "* Нулевая гипотеза: реальный коэффициент корреляции равен 0. Альтернативная гипотеза двухсторонняя.\n",
    "* Статистика: t = r * sqrt(n - 2) / sqrt(1 - r ** 2), где r - коэффициент корреляции Пирсона, посчитанный по выборке.\n",
    "* В предположении верности нулевой гипотезы эта статистика имеет распределение Стьюдента с параметром df = n - 2.\n"
   ]
  },
  {
   "cell_type": "code",
   "execution_count": 56,
   "metadata": {},
   "outputs": [
    {
     "data": {
      "text/plain": [
       "0.0006107546587257318"
      ]
     },
     "execution_count": 56,
     "metadata": {},
     "output_type": "execute_result"
    }
   ],
   "source": [
    "t = corr * math.sqrt(len(salary) - 2) / math.sqrt(1 - corr ** 2)\n",
    "t          # 5.447168150485575\n",
    "\n",
    "n = len(salary)\n",
    "t1 = stats.t.ppf(0.05 / 2, df=n - 1)\n",
    "t2 = stats.t.ppf(1 - 0.05 / 2, df=n - 1)\n",
    "t1, t2     # -2.262157162740992, 2.2621571627409915\n",
    "\n",
    "# Значение статистики попало в критическую область, значит, гипотеза не подтвердилась.\n",
    "\n",
    "p_left = stats.t.cdf(t, df=n - 2)\n",
    "p_right = 1 - stats.t.cdf(t, df=n - 2)\n",
    "\n",
    "pvalue = 2 * min(p_left, p_right)\n",
    "\n",
    "pvalue          # P-значение для данного теста 0.0006107546587257318\n"
   ]
  },
  {
   "cell_type": "markdown",
   "metadata": {},
   "source": [
    "Задача 3\n",
    "\n",
    "Измерены значения IQ выборки студентов, обучающихся в местных технических вузах:\n",
    "\n",
    "131, 125, 115, 122, 131, 115, 107, 99, 125, 111\n",
    "\n",
    "Известно, что в генеральной совокупности IQ распределен нормально. Найдите доверительный интервал для математического ожидания с надежностью 0.95."
   ]
  },
  {
   "cell_type": "code",
   "execution_count": 59,
   "metadata": {},
   "outputs": [
    {
     "data": {
      "text/plain": [
       "(111.89926122656924, 124.30073877343075)"
      ]
     },
     "execution_count": 59,
     "metadata": {},
     "output_type": "execute_result"
    }
   ],
   "source": [
    "iq = np.array([131, 125, 115, 122, 131, 115, 107, 99, 125, 111])\n",
    "n = iq.size\n",
    "std = iq.std()\n",
    "D = std**2\n",
    "mean = iq.mean()\n",
    "p = 0.95\n",
    "alpha = 1-p\n",
    "\n",
    "# Квантили:\n",
    "t1 = stats.norm.ppf(alpha/2)\n",
    "t2 = stats.norm.ppf(1 - alpha/2)\n",
    "t1, t2            # -1.959963984540054, 1.959963984540054\n",
    "\n",
    "# Доверительный интервал:\n",
    "x1 = (mean + t1 * std / np.sqrt(n))\n",
    "x2 = (mean + t2 * std / np.sqrt(n))\n",
    "x1, x2            # (111.89926122656924, 124.30073877343075)"
   ]
  },
  {
   "cell_type": "markdown",
   "metadata": {},
   "source": [
    "Задача 4\n",
    "\n",
    "Выберите тему для проектной работы по курсу Теории вероятностей и математической статистики и напишите ее \n",
    "в комментарии к Практическому заданию."
   ]
  },
  {
   "cell_type": "code",
   "execution_count": null,
   "metadata": {},
   "outputs": [],
   "source": [
    "Тема и датасет предполагаемого проекта в файле:\n",
    "Math_stat_project.ipynb"
   ]
  }
 ],
 "metadata": {
  "kernelspec": {
   "display_name": "Python 3",
   "language": "python",
   "name": "python3"
  },
  "language_info": {
   "codemirror_mode": {
    "name": "ipython",
    "version": 3
   },
   "file_extension": ".py",
   "mimetype": "text/x-python",
   "name": "python",
   "nbconvert_exporter": "python",
   "pygments_lexer": "ipython3",
   "version": "3.8.2"
  }
 },
 "nbformat": 4,
 "nbformat_minor": 4
}
