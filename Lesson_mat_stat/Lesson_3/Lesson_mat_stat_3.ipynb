{
 "cells": [
  {
   "cell_type": "code",
   "execution_count": 116,
   "metadata": {},
   "outputs": [],
   "source": [
    "import numpy as np\n",
    "import pandas as pd\n",
    "import math\n",
    "import matplotlib.pyplot as plt\n",
    "import seaborn as sns"
   ]
  },
  {
   "cell_type": "markdown",
   "metadata": {},
   "source": [
    "Задача 1\n",
    "\n",
    "Даны значения зарплат из выборки выпускников:\n",
    "\n",
    "100, 80, 75, 77, 89, 33, 45, 25, 65, 17, 30, 230, 24, 57, 55, 70, 75, 65, 84, 90, 150\n",
    "\n",
    "Используя только встроенные питоновские функции и структуры данных (т.е. без библиотек numpy, pandas и др.) посчитать среднее арифметическое, смещённую и несмещённую оценки дисперсии, среднее квадратичное отклонение для данной выборки.\n",
    "\n",
    "Можно затем посчитать те же значения с использованием библиотек, чтобы проверить себя."
   ]
  },
  {
   "cell_type": "code",
   "execution_count": 40,
   "metadata": {},
   "outputs": [
    {
     "data": {
      "text/plain": [
       "(73.14285714285714, 46.20686994302874, 2135.074829931973, 2241.8285714285716)"
      ]
     },
     "execution_count": 40,
     "metadata": {},
     "output_type": "execute_result"
    }
   ],
   "source": [
    "salary = [100, 80, 75, 77, 89, 33, 45, 25, 65, 17, 30, 230, 24, 57, 55, 70, 75, 65, 84, 90, 150] \n",
    "\n",
    "# среднее арифметическое\n",
    "salary_mean = sum(salary) / len(salary)\n",
    "\n",
    "# среднее квадратичное отклонение\n",
    "salary_1 = 0\n",
    "for i in range(0,len(salary)):\n",
    "    salary_1 = salary_1 + (salary[i]-salary_mean)**2\n",
    "salary_1 = salary_1 / len(salary)\n",
    "salary_std = math.sqrt(salary_1)\n",
    "\n",
    "# смещенная оценка дисперсии\n",
    "salary_dis_s = 0\n",
    "for i in range(0,len(salary)):\n",
    "    salary_dis_s = salary_dis_s + (salary[i]-salary_mean)**2\n",
    "salary_dis_s = salary_dis_s / len(salary)\n",
    "\n",
    "# несмещенная оценка дисперсии\n",
    "salary_dis_ns = 0\n",
    "for i in range(0,len(salary)):\n",
    "    salary_dis_ns = salary_dis_ns + (salary[i]-salary_mean)**2\n",
    "salary_dis_ns = salary_dis_ns / (len(salary)-1)\n",
    "\n",
    "salary_mean, salary_std, salary_dis_s, salary_dis_ns"
   ]
  },
  {
   "cell_type": "code",
   "execution_count": 41,
   "metadata": {},
   "outputs": [
    {
     "data": {
      "text/plain": [
       "(73.14285714285714, 46.206869943028735, 2135.0748299319725, 2241.828571428571)"
      ]
     },
     "execution_count": 41,
     "metadata": {},
     "output_type": "execute_result"
    }
   ],
   "source": [
    "sal = np.array(salary)\n",
    "sal.mean(), sal.std(), sal.var(ddof=0), sal.var(ddof=1)"
   ]
  },
  {
   "cell_type": "code",
   "execution_count": null,
   "metadata": {},
   "outputs": [],
   "source": [
    "Задача 2\n",
    "\n",
    "Для выборки из задачи 1 найти (также без использования библиотек):\n",
    "1. медиану, первый и третий квартили, интерквартильное расстояние,\n",
    "2. выборсы в выборке (используя для этого метод как при построении \"усов\" из boxplot).\n",
    "\n",
    "Возможные неоднозначности в вычислении квантилей можно разрешать любым способом."
   ]
  },
  {
   "cell_type": "code",
   "execution_count": 123,
   "metadata": {},
   "outputs": [
    {
     "data": {
      "text/plain": [
       "(70, 33, 89, 56, 84.0, [230])"
      ]
     },
     "execution_count": 123,
     "metadata": {},
     "output_type": "execute_result"
    }
   ],
   "source": [
    "salary = [100, 80, 75, 77, 89, 33, 45, 25, 65, 17, 30, 230, 24, 57, 55, 70, 75, 65, 84, 90, 150] \n",
    "salary = sorted(salary)\n",
    "\n",
    "if len(salary) % 2 != 0:\n",
    "    salary_median = salary[len(salary) // 2]\n",
    "elif len(salary) % 2 == 0:\n",
    "    salary_median = ((salary[len(salary) // 2] - 1) + (salary[len(salary) // 2]))/2\n",
    "\n",
    "if len(salary) % 4 <= 1:\n",
    "    salary_25 = salary[len(salary) // 4 - 1]\n",
    "    salary_75 = salary[len(salary) - (len(salary) // 4)]\n",
    "    salary_inter = (salary[len(salary) - (len(salary) // 4)]) - (salary[len(salary) // 4 - 1])  \n",
    "    salary_inter_u = ((salary[len(salary) - (len(salary) // 4)]) - (salary[len(salary) // 4 - 1])) * 1.5\n",
    "if len(salary) % 4 > 1:\n",
    "    salary_25 = salary[len(salary) // 4]\n",
    "    salary_75 = salary[len(salary) - (len(salary) // 4 + 1)]\n",
    "    salary_inter = (salary[len(salary) - (len(salary) // 4 +1)]) - (salary[len(salary) // 4])\n",
    "    salary_inter_u = ((salary[len(salary) - (len(salary) // 4 +1)]) - (salary[len(salary) // 4])) * 1.5\n",
    "\n",
    "trash = []\n",
    "for y in salary:\n",
    "    if y < salary_25 - salary_inter_u:\n",
    "        trash.append(y)\n",
    "    if y > salary_75 + salary_inter_u:\n",
    "        trash.append(y)\n",
    "        \n",
    "salary_median, salary_25, salary_75, salary_inter, salary_inter_u, trash"
   ]
  },
  {
   "cell_type": "code",
   "execution_count": 71,
   "metadata": {},
   "outputs": [
    {
     "data": {
      "text/plain": [
       "70.0"
      ]
     },
     "execution_count": 71,
     "metadata": {},
     "output_type": "execute_result"
    }
   ],
   "source": [
    "sal = pd.DataFrame(salary)    \n",
    "sal.median()\n",
    "sal[0].median()"
   ]
  },
  {
   "cell_type": "code",
   "execution_count": 121,
   "metadata": {},
   "outputs": [
    {
     "data": {
      "image/png": "[encoded data removed]",
      "text/plain": [
       "<Figure size 432x288 with 1 Axes>"
      ]
     },
     "metadata": {
      "needs_background": "light"
     },
     "output_type": "display_data"
    },
    {
     "data": {
      "text/plain": [
       "0      17\n",
       "1      24\n",
       "2      25\n",
       "3      30\n",
       "4      33\n",
       "5      45\n",
       "6      55\n",
       "7      57\n",
       "8      65\n",
       "9      65\n",
       "10     70\n",
       "11     75\n",
       "12     75\n",
       "13     77\n",
       "14     80\n",
       "15     84\n",
       "16     89\n",
       "17     90\n",
       "18    100\n",
       "19    150\n",
       "20    230\n",
       "Name: 0, dtype: int64"
      ]
     },
     "execution_count": 121,
     "metadata": {},
     "output_type": "execute_result"
    }
   ],
   "source": [
    "sns.boxplot(sal[0], orient='v')\n",
    "plt.show()\n",
    "sal[0]"
   ]
  },
  {
   "cell_type": "code",
   "execution_count": null,
   "metadata": {},
   "outputs": [],
   "source": [
    "Задача 3\n",
    "\n",
    "В университет на факультеты A и B поступило равное количество студентов, а на факультет C студентов поступило \n",
    "столько же, сколько на A и B вместе. Вероятность того, что студент факультета A сдаст первую сессию, равна 0.8. \n",
    "Для студента факультета B эта вероятность равна 0.7, а для студента факультета C - 0.9. Студент сдал первую \n",
    "сессию. Какова вероятность, что он учится: a) на факультете A? б) на факультете B? в) на факультете C?"
   ]
  },
  {
   "cell_type": "code",
   "execution_count": 4,
   "metadata": {},
   "outputs": [
    {
     "data": {
      "text/plain": [
       "(0.24242424242424246, 0.21212121212121213, 0.5454545454545455)"
      ]
     },
     "execution_count": 4,
     "metadata": {},
     "output_type": "execute_result"
    }
   ],
   "source": [
    "# Вероятность обучения на факультетах А, В, С\n",
    "P_A_1 = 0.25\n",
    "P_A_2 = 0.25\n",
    "P_A_3 = 0.5\n",
    "\n",
    "# Вероятность сдать сессию \n",
    "P_B = 0.8 * 0.25 + 0.7 * 0.25 + 0.9 * 0.5\n",
    "\n",
    "# Вероятность сдать сессию при условии обучения на определенном факультете указана в условии P(B|A)  \n",
    "P_BA_1 = 0.8\n",
    "P_BA_2 = 0.7\n",
    "P_BA_3 = 0.9\n",
    "\n",
    "# A\n",
    "P_AB_1 = (P_BA_1 * P_A_1) / P_B \n",
    "\n",
    "# B\n",
    "P_AB_2 = (P_BA_2 * P_A_2) / P_B \n",
    "\n",
    "# C\n",
    "P_AB_3 = (P_BA_3 * P_A_3) / P_B \n",
    "\n",
    "P_AB_1, P_AB_2, P_AB_3\n"
   ]
  }
 ],
 "metadata": {
  "kernelspec": {
   "display_name": "Python 3",
   "language": "python",
   "name": "python3"
  },
  "language_info": {
   "codemirror_mode": {
    "name": "ipython",
    "version": 3
   },
   "file_extension": ".py",
   "mimetype": "text/x-python",
   "name": "python",
   "nbconvert_exporter": "python",
   "pygments_lexer": "ipython3",
   "version": "3.8.2"
  }
 },
 "nbformat": 4,
 "nbformat_minor": 4
}
