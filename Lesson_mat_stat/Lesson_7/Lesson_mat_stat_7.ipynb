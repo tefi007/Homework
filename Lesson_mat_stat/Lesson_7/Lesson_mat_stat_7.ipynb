{
 "cells": [
  {
   "cell_type": "code",
   "execution_count": 9,
   "metadata": {},
   "outputs": [],
   "source": [
    "import pandas as pd\n",
    "import matplotlib.pyplot as plt\n",
    "import numpy as np\n",
    "from scipy import stats"
   ]
  },
  {
   "cell_type": "markdown",
   "metadata": {},
   "source": [
    "Задача 1\n",
    "\n",
    "Дана матрица объект-признак\n",
    "\n",
    "X = [[ 1.22401313, 2.30868478, 3.03636353, 2.69287214],\n",
    "[-0.18757272, 1.30337355, 5.12093014, 3.46363202],\n",
    "[-0.81094525, 1.82463398, 5.79686488, 1.86159445],\n",
    "[ 0.75129018, 2.67392052, 3.65529809, 1.66746094],\n",
    "[ 0.00972362, 1.97367255, 2.50594319, 1.69755173],\n",
    "[-0.62972637, 0.77750764, 2.84124027, 4.54410559],\n",
    "[ 2.29536229, 1.81206697, 1.95026215, 1.51874636],\n",
    "[ 0.0920418 , 2.26971361, 7.47708735, 2.61081203],\n",
    "[ 2.39252799, 3.17563985, 3.61420599, 5.10773362],\n",
    "[ 0.54983815, 2.87988651, 1.65752765, 1.59635987]]\n",
    "\n",
    "и значения целевой переменной\n",
    "\n",
    "y = [ 9.26193358, 9.700363 , 8.67214805, 8.74796974, 6.18689108,\n",
    "7.53312713, 7.57643777, 12.44965478, 14.29010746, 6.68361218]\n",
    "\n",
    "Подберите два признака (из четырёх) так, чтобы уровень линейной зависимости целевой переменной от значений этих признаков был максимальным. Другими словами, модель линейной регрессии на этих признаках должна давать наилучший результат.\n",
    "Является ли значимым получившееся уравнение регрессии?"
   ]
  },
  {
   "cell_type": "code",
   "execution_count": 10,
   "metadata": {},
   "outputs": [
    {
     "data": {
      "text/html": [
       "<div>\n",
       "<style scoped>\n",
       "    .dataframe tbody tr th:only-of-type {\n",
       "        vertical-align: middle;\n",
       "    }\n",
       "\n",
       "    .dataframe tbody tr th {\n",
       "        vertical-align: top;\n",
       "    }\n",
       "\n",
       "    .dataframe thead th {\n",
       "        text-align: right;\n",
       "    }\n",
       "</style>\n",
       "<table border=\"1\" class=\"dataframe\">\n",
       "  <thead>\n",
       "    <tr style=\"text-align: right;\">\n",
       "      <th></th>\n",
       "      <th>0</th>\n",
       "      <th>1</th>\n",
       "      <th>2</th>\n",
       "      <th>3</th>\n",
       "    </tr>\n",
       "  </thead>\n",
       "  <tbody>\n",
       "    <tr>\n",
       "      <th>0</th>\n",
       "      <td>1.224013</td>\n",
       "      <td>2.308685</td>\n",
       "      <td>3.036364</td>\n",
       "      <td>2.692872</td>\n",
       "    </tr>\n",
       "    <tr>\n",
       "      <th>1</th>\n",
       "      <td>-0.187573</td>\n",
       "      <td>1.303374</td>\n",
       "      <td>5.120930</td>\n",
       "      <td>3.463632</td>\n",
       "    </tr>\n",
       "    <tr>\n",
       "      <th>2</th>\n",
       "      <td>-0.810945</td>\n",
       "      <td>1.824634</td>\n",
       "      <td>5.796865</td>\n",
       "      <td>1.861594</td>\n",
       "    </tr>\n",
       "    <tr>\n",
       "      <th>3</th>\n",
       "      <td>0.751290</td>\n",
       "      <td>2.673921</td>\n",
       "      <td>3.655298</td>\n",
       "      <td>1.667461</td>\n",
       "    </tr>\n",
       "    <tr>\n",
       "      <th>4</th>\n",
       "      <td>0.009724</td>\n",
       "      <td>1.973673</td>\n",
       "      <td>2.505943</td>\n",
       "      <td>1.697552</td>\n",
       "    </tr>\n",
       "    <tr>\n",
       "      <th>5</th>\n",
       "      <td>-0.629726</td>\n",
       "      <td>0.777508</td>\n",
       "      <td>2.841240</td>\n",
       "      <td>4.544106</td>\n",
       "    </tr>\n",
       "    <tr>\n",
       "      <th>6</th>\n",
       "      <td>2.295362</td>\n",
       "      <td>1.812067</td>\n",
       "      <td>1.950262</td>\n",
       "      <td>1.518746</td>\n",
       "    </tr>\n",
       "    <tr>\n",
       "      <th>7</th>\n",
       "      <td>0.092042</td>\n",
       "      <td>2.269714</td>\n",
       "      <td>7.477087</td>\n",
       "      <td>2.610812</td>\n",
       "    </tr>\n",
       "    <tr>\n",
       "      <th>8</th>\n",
       "      <td>2.392528</td>\n",
       "      <td>3.175640</td>\n",
       "      <td>3.614206</td>\n",
       "      <td>5.107734</td>\n",
       "    </tr>\n",
       "    <tr>\n",
       "      <th>9</th>\n",
       "      <td>0.549838</td>\n",
       "      <td>2.879887</td>\n",
       "      <td>1.657528</td>\n",
       "      <td>1.596360</td>\n",
       "    </tr>\n",
       "  </tbody>\n",
       "</table>\n",
       "</div>"
      ],
      "text/plain": [
       "          0         1         2         3\n",
       "0  1.224013  2.308685  3.036364  2.692872\n",
       "1 -0.187573  1.303374  5.120930  3.463632\n",
       "2 -0.810945  1.824634  5.796865  1.861594\n",
       "3  0.751290  2.673921  3.655298  1.667461\n",
       "4  0.009724  1.973673  2.505943  1.697552\n",
       "5 -0.629726  0.777508  2.841240  4.544106\n",
       "6  2.295362  1.812067  1.950262  1.518746\n",
       "7  0.092042  2.269714  7.477087  2.610812\n",
       "8  2.392528  3.175640  3.614206  5.107734\n",
       "9  0.549838  2.879887  1.657528  1.596360"
      ]
     },
     "execution_count": 10,
     "metadata": {},
     "output_type": "execute_result"
    }
   ],
   "source": [
    "# Сначала подробный разбор на 1 сочетании, затем в функции просмотр всех сочетаний \n",
    "\n",
    "a = [[ 1.22401313, 2.30868478, 3.03636353, 2.69287214], [-0.18757272, 1.30337355, 5.12093014, 3.46363202], [-0.81094525, 1.82463398, 5.79686488, 1.86159445], [ 0.75129018, 2.67392052, 3.65529809, 1.66746094], [ 0.00972362, 1.97367255, 2.50594319, 1.69755173], [-0.62972637, 0.77750764, 2.84124027, 4.54410559], [ 2.29536229, 1.81206697, 1.95026215, 1.51874636], [ 0.0920418 , 2.26971361, 7.47708735, 2.61081203], [ 2.39252799, 3.17563985, 3.61420599, 5.10773362], [ 0.54983815, 2.87988651, 1.65752765, 1.59635987]]\n",
    "b = [ 9.26193358, 9.700363 , 8.67214805, 8.74796974, 6.18689108, 7.53312713, 7.57643777, 12.44965478, 14.29010746, 6.68361218]\n",
    "\n",
    "X = pd.DataFrame(a)\n",
    "Y = pd.DataFrame(b)\n",
    "\n",
    "X"
   ]
  },
  {
   "cell_type": "code",
   "execution_count": 11,
   "metadata": {},
   "outputs": [
    {
     "data": {
      "text/html": [
       "<div>\n",
       "<style scoped>\n",
       "    .dataframe tbody tr th:only-of-type {\n",
       "        vertical-align: middle;\n",
       "    }\n",
       "\n",
       "    .dataframe tbody tr th {\n",
       "        vertical-align: top;\n",
       "    }\n",
       "\n",
       "    .dataframe thead th {\n",
       "        text-align: right;\n",
       "    }\n",
       "</style>\n",
       "<table border=\"1\" class=\"dataframe\">\n",
       "  <thead>\n",
       "    <tr style=\"text-align: right;\">\n",
       "      <th></th>\n",
       "      <th>0</th>\n",
       "      <th>1</th>\n",
       "      <th>2</th>\n",
       "    </tr>\n",
       "  </thead>\n",
       "  <tbody>\n",
       "    <tr>\n",
       "      <th>0</th>\n",
       "      <td>1.0</td>\n",
       "      <td>1.224013</td>\n",
       "      <td>2.308685</td>\n",
       "    </tr>\n",
       "    <tr>\n",
       "      <th>1</th>\n",
       "      <td>1.0</td>\n",
       "      <td>-0.187573</td>\n",
       "      <td>1.303374</td>\n",
       "    </tr>\n",
       "    <tr>\n",
       "      <th>2</th>\n",
       "      <td>1.0</td>\n",
       "      <td>-0.810945</td>\n",
       "      <td>1.824634</td>\n",
       "    </tr>\n",
       "    <tr>\n",
       "      <th>3</th>\n",
       "      <td>1.0</td>\n",
       "      <td>0.751290</td>\n",
       "      <td>2.673921</td>\n",
       "    </tr>\n",
       "    <tr>\n",
       "      <th>4</th>\n",
       "      <td>1.0</td>\n",
       "      <td>0.009724</td>\n",
       "      <td>1.973673</td>\n",
       "    </tr>\n",
       "    <tr>\n",
       "      <th>5</th>\n",
       "      <td>1.0</td>\n",
       "      <td>-0.629726</td>\n",
       "      <td>0.777508</td>\n",
       "    </tr>\n",
       "    <tr>\n",
       "      <th>6</th>\n",
       "      <td>1.0</td>\n",
       "      <td>2.295362</td>\n",
       "      <td>1.812067</td>\n",
       "    </tr>\n",
       "    <tr>\n",
       "      <th>7</th>\n",
       "      <td>1.0</td>\n",
       "      <td>0.092042</td>\n",
       "      <td>2.269714</td>\n",
       "    </tr>\n",
       "    <tr>\n",
       "      <th>8</th>\n",
       "      <td>1.0</td>\n",
       "      <td>2.392528</td>\n",
       "      <td>3.175640</td>\n",
       "    </tr>\n",
       "    <tr>\n",
       "      <th>9</th>\n",
       "      <td>1.0</td>\n",
       "      <td>0.549838</td>\n",
       "      <td>2.879887</td>\n",
       "    </tr>\n",
       "  </tbody>\n",
       "</table>\n",
       "</div>"
      ],
      "text/plain": [
       "     0         1         2\n",
       "0  1.0  1.224013  2.308685\n",
       "1  1.0 -0.187573  1.303374\n",
       "2  1.0 -0.810945  1.824634\n",
       "3  1.0  0.751290  2.673921\n",
       "4  1.0  0.009724  1.973673\n",
       "5  1.0 -0.629726  0.777508\n",
       "6  1.0  2.295362  1.812067\n",
       "7  1.0  0.092042  2.269714\n",
       "8  1.0  2.392528  3.175640\n",
       "9  1.0  0.549838  2.879887"
      ]
     },
     "execution_count": 11,
     "metadata": {},
     "output_type": "execute_result"
    }
   ],
   "source": [
    "ones = np.ones((X.shape[0], 1))\n",
    "ones\n",
    "X12 = pd.DataFrame(ones)\n",
    "X12[1] = X[0]\n",
    "X12[2] = X[1]\n",
    "X12"
   ]
  },
  {
   "cell_type": "code",
   "execution_count": 12,
   "metadata": {},
   "outputs": [
    {
     "data": {
      "text/plain": [
       "349.7782033818847"
      ]
     },
     "execution_count": 12,
     "metadata": {},
     "output_type": "execute_result"
    }
   ],
   "source": [
    "X12_T = X12.T.dot(X12)\n",
    "X12_T\n",
    "np.linalg.det(X12_T)   # определитель не равен 0"
   ]
  },
  {
   "cell_type": "code",
   "execution_count": 13,
   "metadata": {},
   "outputs": [
    {
     "name": "stdout",
     "output_type": "stream",
     "text": [
      "[[6.70781579]\n",
      " [0.40786841]\n",
      " [1.03360247]]\n"
     ]
    }
   ],
   "source": [
    "X12_inv = np.linalg.inv(X12_T)\n",
    "\n",
    "b = X12_inv.dot(X12.T).dot(Y)\n",
    "\n",
    "print(b)  # модель регрессии имеет вид  y=6.70781579 + 0.40786841]x1 + 1.03360247x2"
   ]
  },
  {
   "cell_type": "code",
   "execution_count": 14,
   "metadata": {},
   "outputs": [
    {
     "data": {
      "text/plain": [
       "0    2.042810e-15\n",
       "dtype: float64"
      ]
     },
     "execution_count": 14,
     "metadata": {},
     "output_type": "execute_result"
    }
   ],
   "source": [
    "Z12 = X12.dot(b)\n",
    "e2 = Y - Z12\n",
    "\n",
    "e2.mean()    # средняя ошибка модели равна  0"
   ]
  },
  {
   "cell_type": "code",
   "execution_count": 15,
   "metadata": {},
   "outputs": [
    {
     "data": {
      "text/plain": [
       "0.18113594742585215"
      ]
     },
     "execution_count": 15,
     "metadata": {},
     "output_type": "execute_result"
    }
   ],
   "source": [
    "R2 = 1 - (((e2-e2.mean())**2).sum()/((Y-Y.mean())**2).sum())\n",
    "R2[0]   # Коэффициент детерминации 0.181136 , т.е. 18% дисперсии переменной Y учитывается или объясняется моделью. "
   ]
  },
  {
   "cell_type": "code",
   "execution_count": 16,
   "metadata": {},
   "outputs": [
    {
     "data": {
      "text/plain": [
       "0.7742137586789185"
      ]
     },
     "execution_count": 16,
     "metadata": {},
     "output_type": "execute_result"
    }
   ],
   "source": [
    "n = X12.shape[0]\n",
    "m = 2\n",
    "\n",
    "k1 = m\n",
    "k2 = n - m - 1\n",
    "\n",
    "alpha = 0.05    # уровень значимости\n",
    "\n",
    "t = stats.f.ppf(1 - alpha, k1, k2)\n",
    "t    # критическая область: Ω𝛼 = (4.74,∞)\n",
    "\n",
    "F = (R2[0] / k1) / ((1 - R2[0]) / k2)\n",
    "F    # 0.77 Статистика не попала в критическую область, уравнение регрессии признаётся незначимым."
   ]
  },
  {
   "cell_type": "code",
   "execution_count": 17,
   "metadata": {},
   "outputs": [
    {
     "name": "stdout",
     "output_type": "stream",
     "text": [
      "Вариант: 12\n",
      "определитель:  349.7782033818847\n",
      "коэффициенты модели регресии: y=[6.70781579] + [0.40786841]x1 + [1.03360247]x2\n",
      "средняя ошибка модели равна  0    2.042810e-15\n",
      "dtype: float64\n",
      "коэффициент детерминации: 0.18113594742585215\n",
      "критическая область от 4.73741412777588 до ∞\n",
      "F-статистика = 0.7742137586789185, не попала в критическую область, уравнение регрессии признаётся незначимым\n",
      "\n",
      "Вариант: 13\n",
      "определитель:  2835.3600226240965\n",
      "коэффициенты модели регресии: y=[3.62455695] + [1.62531203]x1 + [1.21134979]x2\n",
      "средняя ошибка модели равна  0   -2.575717e-15\n",
      "dtype: float64\n",
      "коэффициент детерминации: 0.7634246238793152\n",
      "критическая область от 4.73741412777588 до ∞\n",
      "F-статистика = 11.29443912292265, попала в критическую область, уравнение регрессии признаётся значимым\n",
      "\n",
      "Вариант: 14\n",
      "определитель:  1689.2124743606082\n",
      "коэффициенты модели регресии: y=[5.70686123] + [0.68359949]x1 + [1.12650707]x2\n",
      "средняя ошибка модели равна  0    8.082424e-15\n",
      "dtype: float64\n",
      "коэффициент детерминации: 0.4532966783144077\n",
      "критическая область от 4.73741412777588 до ∞\n",
      "F-статистика = 2.9020097577033583, не попала в критическую область, уравнение регрессии признаётся незначимым\n",
      "\n",
      "Вариант: 23\n",
      "определитель:  1427.8125776081495\n",
      "коэффициенты модели регресии: y=[2.48896193] + [1.60611956]x1 + [0.86269915]x2\n",
      "средняя ошибка модели равна  0   -2.229328e-14\n",
      "dtype: float64\n",
      "коэффициент детерминации: 0.547948273403901\n",
      "критическая область от 4.73741412777588 до ∞\n",
      "F-статистика = 4.242476787677871, не попала в критическую область, уравнение регрессии признаётся незначимым\n",
      "\n",
      "Вариант: 24\n",
      "определитель:  701.732736445317\n",
      "коэффициенты модели регресии: y=[1.91685221] + [1.74373667]x1 + [1.31971882]x2\n",
      "средняя ошибка модели равна  0    2.158274e-14\n",
      "dtype: float64\n",
      "коэффициент детерминации: 0.6062055761129932\n",
      "критическая область от 4.73741412777588 до ∞\n",
      "F-статистика = 5.387886134731737, попала в критическую область, уравнение регрессии признаётся значимым\n",
      "\n",
      "Вариант: 34\n",
      "определитель:  4547.328074863321\n",
      "коэффициенты модели регресии: y=[3.64001086] + [0.70753914]x1 + [1.04851745]x2\n",
      "средняя ошибка модели равна  0   -1.314504e-14\n",
      "dtype: float64\n",
      "коэффициент детерминации: 0.622441987650532\n",
      "критическая область от 4.73741412777588 до ∞\n",
      "F-статистика = 5.770098595498478, попала в критическую область, уравнение регрессии признаётся значимым\n"
     ]
    }
   ],
   "source": [
    "def regress (X, Y):\n",
    "    X_T = X.T.dot(X)\n",
    "    print('определитель: ', np.linalg.det(X_T))   # определитель не равен 0\n",
    "    X_inv = np.linalg.inv(X_T)\n",
    "    b = X_inv.dot(X.T).dot(Y)\n",
    "    print(f\"коэффициенты модели регресии: y={b[0]} + {b[1]}x1 + {b[2]}x2\")  # модель регрессии имеет вид  y=6.70781579 + 0.40786841]x1 + 1.03360247x2\n",
    "    Z = X.dot(b)\n",
    "    e2 = Y - Z\n",
    "    print('средняя ошибка модели равна ', e2.mean())    # средняя ошибка модели равна  0\n",
    "    R2 = 1 - (((e2-e2.mean())**2).sum()/((Y-Y.mean())**2).sum())\n",
    "    print(f'коэффициент детерминации: {R2[0]}') \n",
    "    n = X.shape[0]\n",
    "    m = 2\n",
    "    k1 = m\n",
    "    k2 = n - m - 1\n",
    "    alpha = 0.05    # уровень значимости\n",
    "    t = stats.f.ppf(1 - alpha, k1, k2)\n",
    "    print(f'критическая область от {t} до ∞')    # критическая область: Ω𝛼 = (4.74,∞)\n",
    "    F = (R2[0] / k1) / ((1 - R2[0]) / k2)\n",
    "    if F > t:\n",
    "        print(f'F-статистика = {F}, попала в критическую область, уравнение регрессии признаётся значимым')\n",
    "    else:\n",
    "        print(f'F-статистика = {F}, не попала в критическую область, уравнение регрессии признаётся незначимым')\n",
    "\n",
    "\n",
    "        \n",
    "        \n",
    "ones = np.ones((X.shape[0], 1))\n",
    "ones\n",
    "X12 = pd.DataFrame(ones)\n",
    "X12[1] = X[0]\n",
    "X12[2] = X[1]\n",
    "X13 = pd.DataFrame(ones)\n",
    "X13[1] = X[0]\n",
    "X13[2] = X[2]\n",
    "X14 = pd.DataFrame(ones)\n",
    "X14[1] = X[0]\n",
    "X14[2] = X[3]\n",
    "X23 = pd.DataFrame(ones)\n",
    "X23[1] = X[1]\n",
    "X23[2] = X[2]\n",
    "X24 = pd.DataFrame(ones)\n",
    "X24[1] = X[1]\n",
    "X24[2] = X[3]\n",
    "X34 = pd.DataFrame(ones)\n",
    "X34[1] = X[2]\n",
    "X34[2] = X[3]\n",
    "\n",
    "\n",
    "print('Вариант: 12')\n",
    "regress(X12, Y)\n",
    "print()\n",
    "print('Вариант: 13')\n",
    "regress(X13, Y)\n",
    "print()\n",
    "print('Вариант: 14')\n",
    "regress(X14, Y)\n",
    "print()\n",
    "print('Вариант: 23')\n",
    "regress(X23, Y)\n",
    "print()\n",
    "print('Вариант: 24')\n",
    "regress(X24, Y)\n",
    "print()\n",
    "print('Вариант: 34')\n",
    "regress(X34, Y)"
   ]
  },
  {
   "cell_type": "code",
   "execution_count": 18,
   "metadata": {},
   "outputs": [
    {
     "name": "stdout",
     "output_type": "stream",
     "text": [
      "уровень линейной зависимости целевой переменной от значений 1 и 3 признаков максимальный, уравнение регрессии признано значимым\n"
     ]
    }
   ],
   "source": [
    "print('уровень линейной зависимости целевой переменной от значений 1 и 3 признаков максимальный, уравнение регрессии признано значимым')"
   ]
  },
  {
   "cell_type": "markdown",
   "metadata": {},
   "source": [
    "Задача 2\n",
    "\n",
    "Для проведения A/B-тестирования сайта интернет-магазина были получены следующие данные: страница A была \n",
    "посещена 2509 раз, из них 77 закончились совершением покупки, страница B была посещена 1465 раз, 60 из них \n",
    "закончились совершением покупки. Является ли значимым отличие конверсии на страницах A и B?"
   ]
  },
  {
   "cell_type": "code",
   "execution_count": 20,
   "metadata": {},
   "outputs": [
    {
     "data": {
      "text/plain": [
       "1.1233177994627417"
      ]
     },
     "execution_count": 20,
     "metadata": {},
     "output_type": "execute_result"
    }
   ],
   "source": [
    "p = 0.95\n",
    "alpha = 1-p\n",
    "\n",
    "# Конверсия\n",
    "con_A = 77 / 2509\n",
    "con_B = 60 / 1465\n",
    "con_AB = (77 + 60) / (2509 + 1465)\n",
    "con_A, con_B, con_AB    # (0.03068951773614986, 0.040955631399317405, 0.03447408152994464)\n",
    "\n",
    "\n",
    "F = con_AB / con_A    # 1.1233177994627417\n",
    "F\n",
    "\n",
    "t1 = stats.norm.ppf(alpha/2)\n",
    "t2 = stats.norm.ppf(1 - alpha/2)\n",
    "t1, t2            # -1.959963984540054, 1.959963984540054\n",
    "\n",
    "# F pначение статистики не попало в критическую область, значит, гипотеза подтвердилась"
   ]
  },
  {
   "cell_type": "markdown",
   "metadata": {},
   "source": [
    "Задача 3\n",
    "\n",
    "Квартет Энскомба — популярный в области анализа данных пример наборов данных, у которых практически совпадают все статистические свойства (средние, дисперсии, коэффициенты корреляции, регрессионные линии), однако, существенно отличаются графики. Данный пример призван показать, насколько важна визуализация данных. Датасет представляет собой 4 пары выборок:\n",
    "\n",
    "{\n",
    "    \"x1\": [10.0, 8.0, 13.0, 9.0, 11.0, 14.0, 6.0, 4.0, 12.0, 7.0, 5.0],\n",
    "    \"y1\": [8.04, 6.95, 7.58, 8.81, 8.33, 9.96, 7.24, 4.26, 10.84, 4.82, 5.68],\n",
    "    \"x2\": [10.0, 8.0, 13.0, 9.0, 11.0, 14.0, 6.0, 4.0, 12.0, 7.0, 5.0],\n",
    "    \"y2\": [9.14, 8.14, 8.74, 8.77, 9.26, 8.1, 6.13, 3.1, 9.13, 7.26, 4.74],\n",
    "    \"x3\": [10.0, 8.0, 13.0, 9.0, 11.0, 14.0, 6.0, 4.0, 12.0, 7.0, 5.0],\n",
    "    \"y3\": [7.46, 6.77, 12.74, 7.11, 7.81, 8.84, 6.08, 5.39, 8.15, 6.42, 5.73],\n",
    "    \"x4\": [8.0, 8.0, 8.0, 8.0, 8.0, 8.0, 8.0, 19.0, 8.0, 8.0, 8.0],\n",
    "    \"y4\": [6.58, 5.76, 7.71, 8.84, 8.47, 7.04, 5.25, 12.5, 5.56, 7.91, 6.89]\n",
    "}\n",
    "По каждой паре выборок посчитайте:\n",
    "\n",
    "выборочное среднее и дисперсию каждой выборки,\n",
    "коэффициент корреляции Пирсона и прямую линейной регрессии.\n",
    "Убедившись в том, что они не практически не отличаются, постройте scatter plot по каждой паре выборок."
   ]
  },
  {
   "cell_type": "code",
   "execution_count": 54,
   "metadata": {},
   "outputs": [
    {
     "name": "stdout",
     "output_type": "stream",
     "text": [
      "Выборочное среднее:\n",
      "9.0 7.500909090909093 9.0 7.50090909090909 9.0 7.5 9.0 7.500909090909091\n",
      "\n",
      "Дисперсия:\n",
      "10.0 3.7520628099173554 10.0 3.752390082644628 10.0 3.747836363636364 10.0 3.7484082644628103\n",
      "\n",
      "Коэффициент корреляции Пирсона:\n",
      "[0.81642052 1.        ] [0.81623651 1.        ] [0.81628674 1.        ] [0.81652144 1.        ]\n",
      "\n",
      "Уравнения линейной регрессии:\n",
      "y = 3.0000909090909094 + 0.5000909090909093x\n",
      "y = 3.000909090909089 + 0.5000000000000001x\n",
      "y = 3.002454545454544 + 0.49972727272727285x\n",
      "y = 3.0017272727272735 + 0.49990909090909086x\n",
      "\n"
     ]
    },
    {
     "data": {
      "image/png": "[encoded data removed]",
      "text/plain": [
       "<Figure size 432x288 with 1 Axes>"
      ]
     },
     "metadata": {
      "needs_background": "light"
     },
     "output_type": "display_data"
    },
    {
     "data": {
      "image/png": "[encoded data removed]",
      "text/plain": [
       "<Figure size 432x288 with 1 Axes>"
      ]
     },
     "metadata": {
      "needs_background": "light"
     },
     "output_type": "display_data"
    },
    {
     "data": {
      "image/png": "[encoded data removed]",
      "text/plain": [
       "<Figure size 432x288 with 1 Axes>"
      ]
     },
     "metadata": {
      "needs_background": "light"
     },
     "output_type": "display_data"
    },
    {
     "data": {
      "image/png": "[encoded data removed]",
      "text/plain": [
       "<Figure size 432x288 with 1 Axes>"
      ]
     },
     "metadata": {
      "needs_background": "light"
     },
     "output_type": "display_data"
    }
   ],
   "source": [
    "x1 = np.array([10.0, 8.0, 13.0, 9.0, 11.0, 14.0, 6.0, 4.0, 12.0, 7.0, 5.0])\n",
    "y1 = np.array([8.04, 6.95, 7.58, 8.81, 8.33, 9.96, 7.24, 4.26, 10.84, 4.82, 5.68])\n",
    "x2 = np.array([10.0, 8.0, 13.0, 9.0, 11.0, 14.0, 6.0, 4.0, 12.0, 7.0, 5.0])\n",
    "y2 = np.array([9.14, 8.14, 8.74, 8.77, 9.26, 8.1, 6.13, 3.1, 9.13, 7.26, 4.74])\n",
    "x3 = np.array([10.0, 8.0, 13.0, 9.0, 11.0, 14.0, 6.0, 4.0, 12.0, 7.0, 5.0])\n",
    "y3 = np.array([7.46, 6.77, 12.74, 7.11, 7.81, 8.84, 6.08, 5.39, 8.15, 6.42, 5.73])\n",
    "x4 = np.array([8.0, 8.0, 8.0, 8.0, 8.0, 8.0, 8.0, 19.0, 8.0, 8.0, 8.0])\n",
    "y4 = np.array([6.58, 5.76, 7.71, 8.84, 8.47, 7.04, 5.25, 12.5, 5.56, 7.91, 6.89]) \n",
    "\n",
    "print('Выборочное среднее:')\n",
    "print(x1.mean(), y1.mean(), x2.mean(), y2.mean(), x3.mean(), y3.mean(), x4.mean(), y4.mean())\n",
    "print()\n",
    "\n",
    "print('Дисперсия:')\n",
    "print(x1.var(), y1.var(), x2.var(), y2.var(), x3.var(), y3.var(), x4.var(), y4.var())\n",
    "print()\n",
    "\n",
    "print('Коэффициент корреляции Пирсона:')\n",
    "print(np.corrcoef(x1, y1)[1], np.corrcoef(x2, y2)[1], np.corrcoef(x3, y3)[1], np.corrcoef(x4, y4)[1])\n",
    "print()\n",
    "\n",
    "print('Уравнения линейной регрессии:')\n",
    "b11 = np.cov(x1, y1, ddof=1)[0, 1] / np.var(x1, ddof=1)\n",
    "b01 = y1.mean() - b11 * x1.mean()\n",
    "print(f'y = {b01} + {b11}x')\n",
    "b12 = np.cov(x2, y2, ddof=1)[0, 1] / np.var(x2, ddof=1)\n",
    "b02 = y2.mean() - b12 * x2.mean()\n",
    "print(f'y = {b02} + {b12}x')\n",
    "b13 = np.cov(x3, y3, ddof=1)[0, 1] / np.var(x3, ddof=1)\n",
    "b03 = y3.mean() - b13 * x3.mean()\n",
    "print(f'y = {b03} + {b13}x')\n",
    "b14 = np.cov(x4, y4, ddof=1)[0, 1] / np.var(x4, ddof=1)\n",
    "b04 = y4.mean() - b14 * x4.mean()\n",
    "print(f'y = {b04} + {b14}x')\n",
    "print()\n",
    "\n",
    "plt.scatter(x1, y1)\n",
    "plt.show()\n",
    "plt.scatter(x2, y2)\n",
    "plt.show()\n",
    "plt.scatter(x3, y3)\n",
    "plt.show()\n",
    "plt.scatter(x4, y4)\n",
    "plt.show()"
   ]
  }
 ],
 "metadata": {
  "kernelspec": {
   "display_name": "Python 3",
   "language": "python",
   "name": "python3"
  },
  "language_info": {
   "codemirror_mode": {
    "name": "ipython",
    "version": 3
   },
   "file_extension": ".py",
   "mimetype": "text/x-python",
   "name": "python",
   "nbconvert_exporter": "python",
   "pygments_lexer": "ipython3",
   "version": "3.8.2"
  }
 },
 "nbformat": 4,
 "nbformat_minor": 4
}
