{
 "cells": [
  {
   "cell_type": "code",
   "execution_count": 180,
   "metadata": {},
   "outputs": [],
   "source": [
    "import pandas as pd\n",
    "import matplotlib.pyplot as plt\n",
    "pd.options.display.max_columns = 100\n",
    "%matplotlib inline \n",
    "from sklearn.linear_model import LogisticRegression\n",
    "import numpy as np\n",
    "from scipy.spatial.distance import euclidean\n",
    "from tqdm.notebook import trange"
   ]
  },
  {
   "cell_type": "markdown",
   "metadata": {},
   "source": [
    "Прогноз сердечной недостаточности"
   ]
  },
  {
   "cell_type": "code",
   "execution_count": 181,
   "metadata": {},
   "outputs": [
    {
     "data": {
      "text/html": [
       "<div>\n",
       "<style scoped>\n",
       "    .dataframe tbody tr th:only-of-type {\n",
       "        vertical-align: middle;\n",
       "    }\n",
       "\n",
       "    .dataframe tbody tr th {\n",
       "        vertical-align: top;\n",
       "    }\n",
       "\n",
       "    .dataframe thead th {\n",
       "        text-align: right;\n",
       "    }\n",
       "</style>\n",
       "<table border=\"1\" class=\"dataframe\">\n",
       "  <thead>\n",
       "    <tr style=\"text-align: right;\">\n",
       "      <th></th>\n",
       "      <th>age</th>\n",
       "      <th>anaemia</th>\n",
       "      <th>creatinine_phosphokinase</th>\n",
       "      <th>diabetes</th>\n",
       "      <th>ejection_fraction</th>\n",
       "      <th>high_blood_pressure</th>\n",
       "      <th>platelets</th>\n",
       "      <th>serum_creatinine</th>\n",
       "      <th>serum_sodium</th>\n",
       "      <th>sex</th>\n",
       "      <th>smoking</th>\n",
       "      <th>time</th>\n",
       "      <th>DEATH_EVENT</th>\n",
       "    </tr>\n",
       "  </thead>\n",
       "  <tbody>\n",
       "    <tr>\n",
       "      <th>0</th>\n",
       "      <td>75.0</td>\n",
       "      <td>0</td>\n",
       "      <td>582</td>\n",
       "      <td>0</td>\n",
       "      <td>20</td>\n",
       "      <td>1</td>\n",
       "      <td>265000.00</td>\n",
       "      <td>1.9</td>\n",
       "      <td>130</td>\n",
       "      <td>1</td>\n",
       "      <td>0</td>\n",
       "      <td>4</td>\n",
       "      <td>1</td>\n",
       "    </tr>\n",
       "    <tr>\n",
       "      <th>1</th>\n",
       "      <td>55.0</td>\n",
       "      <td>0</td>\n",
       "      <td>7861</td>\n",
       "      <td>0</td>\n",
       "      <td>38</td>\n",
       "      <td>0</td>\n",
       "      <td>263358.03</td>\n",
       "      <td>1.1</td>\n",
       "      <td>136</td>\n",
       "      <td>1</td>\n",
       "      <td>0</td>\n",
       "      <td>6</td>\n",
       "      <td>1</td>\n",
       "    </tr>\n",
       "    <tr>\n",
       "      <th>2</th>\n",
       "      <td>65.0</td>\n",
       "      <td>0</td>\n",
       "      <td>146</td>\n",
       "      <td>0</td>\n",
       "      <td>20</td>\n",
       "      <td>0</td>\n",
       "      <td>162000.00</td>\n",
       "      <td>1.3</td>\n",
       "      <td>129</td>\n",
       "      <td>1</td>\n",
       "      <td>1</td>\n",
       "      <td>7</td>\n",
       "      <td>1</td>\n",
       "    </tr>\n",
       "    <tr>\n",
       "      <th>3</th>\n",
       "      <td>50.0</td>\n",
       "      <td>1</td>\n",
       "      <td>111</td>\n",
       "      <td>0</td>\n",
       "      <td>20</td>\n",
       "      <td>0</td>\n",
       "      <td>210000.00</td>\n",
       "      <td>1.9</td>\n",
       "      <td>137</td>\n",
       "      <td>1</td>\n",
       "      <td>0</td>\n",
       "      <td>7</td>\n",
       "      <td>1</td>\n",
       "    </tr>\n",
       "    <tr>\n",
       "      <th>4</th>\n",
       "      <td>65.0</td>\n",
       "      <td>1</td>\n",
       "      <td>160</td>\n",
       "      <td>1</td>\n",
       "      <td>20</td>\n",
       "      <td>0</td>\n",
       "      <td>327000.00</td>\n",
       "      <td>2.7</td>\n",
       "      <td>116</td>\n",
       "      <td>0</td>\n",
       "      <td>0</td>\n",
       "      <td>8</td>\n",
       "      <td>1</td>\n",
       "    </tr>\n",
       "  </tbody>\n",
       "</table>\n",
       "</div>"
      ],
      "text/plain": [
       "    age  anaemia  creatinine_phosphokinase  diabetes  ejection_fraction  \\\n",
       "0  75.0        0                       582         0                 20   \n",
       "1  55.0        0                      7861         0                 38   \n",
       "2  65.0        0                       146         0                 20   \n",
       "3  50.0        1                       111         0                 20   \n",
       "4  65.0        1                       160         1                 20   \n",
       "\n",
       "   high_blood_pressure  platelets  serum_creatinine  serum_sodium  sex  \\\n",
       "0                    1  265000.00               1.9           130    1   \n",
       "1                    0  263358.03               1.1           136    1   \n",
       "2                    0  162000.00               1.3           129    1   \n",
       "3                    0  210000.00               1.9           137    1   \n",
       "4                    0  327000.00               2.7           116    0   \n",
       "\n",
       "   smoking  time  DEATH_EVENT  \n",
       "0        0     4            1  \n",
       "1        0     6            1  \n",
       "2        1     7            1  \n",
       "3        0     7            1  \n",
       "4        0     8            1  "
      ]
     },
     "execution_count": 181,
     "metadata": {},
     "output_type": "execute_result"
    }
   ],
   "source": [
    "data_1 = pd.read_csv(\"datasets_727551_1263738_heart_failure_clinical_records_dataset.csv\", sep=\",\")\n",
    "data_1.shape\n",
    "data_1.head()"
   ]
  },
  {
   "cell_type": "markdown",
   "metadata": {},
   "source": [
    "1. age - возраст\n",
    "2. anaemia - анемия\n",
    "3. creatinine_phosphokinase - Уровень фермента СРК (креатинкиназа) в крови (мкг / л)\n",
    "4. diabetes - сахарный диабет\n",
    "5. ejection_fraction - фракция выброса в %\n",
    "6. high_blood_pressure - повышенное артериальное давление\n",
    "7. platelets - тромбоциты\n",
    "8. serum_creatinine - уровень сывороточного креатинина в крови (мг / дл)\n",
    "9. serum_sodium - Уровень сывороточного натрия в крови (мг-экв / л)\n",
    "10. sex - пол (0 - женщины, 1 - мужчины)\n",
    "11. smoking - курение\n",
    "12. time - период наблюдения (дни)\n",
    "13. DEATH_EVENT - факт смерти в период наблюдения (в среднем 130 дней)"
   ]
  },
  {
   "cell_type": "code",
   "execution_count": 182,
   "metadata": {},
   "outputs": [
    {
     "name": "stdout",
     "output_type": "stream",
     "text": [
      "Выборочное среднее:\n",
      "60.83389297658862 0.431438127090301 581.8394648829432 0.4180602006688963 38.08361204013378 0.3511705685618729 263358.02926421404 1.3938795986622072 136.62541806020067 0.6488294314381271 0.3210702341137124 130.2608695652174 0.3210702341137124\n",
      "\n",
      "Дисперсия:\n",
      "141.48648290797067 0.24612242149446703 941458.5714574308 0.24410226482009384 140.0634553657606 0.22861439698323271 9565668749.448881 1.070211072703194 19.469955781015017 0.22861439698323271 0.21871562927880403 6023.965275751386 0.21871562927880403\n",
      "\n",
      "Среднее квадратическое отклонение:\n",
      "11.89480907404447 0.4961072681330793 970.2878807124362 0.49406706510360904 11.834840741039171 0.47813637906274475 97804.2368685983 1.0345100640898541 4.412477283909235 0.47813637906274475 0.46767042805677167 77.61420795029339 0.46767042805677167\n",
      "\n"
     ]
    }
   ],
   "source": [
    "print('Выборочное среднее:')\n",
    "print(data_1['age'].mean(), data_1['anaemia'].mean(), data_1['creatinine_phosphokinase'].mean(), data_1['diabetes'].mean(), data_1['ejection_fraction'].mean(), data_1['high_blood_pressure'].mean(), data_1['platelets'].mean(), data_1['serum_creatinine'].mean(), data_1['serum_sodium'].mean(), data_1['sex'].mean(), data_1['smoking'].mean(), data_1['time'].mean(), data_1['DEATH_EVENT'].mean())\n",
    "print()\n",
    "\n",
    "print('Дисперсия:')\n",
    "print(data_1['age'].var(), data_1['anaemia'].var(), data_1['creatinine_phosphokinase'].var(), data_1['diabetes'].var(), data_1['ejection_fraction'].var(), data_1['high_blood_pressure'].var(), data_1['platelets'].var(), data_1['serum_creatinine'].var(), data_1['serum_sodium'].var(), data_1['sex'].var(), data_1['smoking'].var(), data_1['time'].var(), data_1['DEATH_EVENT'].var())\n",
    "print()\n",
    "\n",
    "print('Среднее квадратическое отклонение:')\n",
    "print(data_1['age'].std(), data_1['anaemia'].std(), data_1['creatinine_phosphokinase'].std(), data_1['diabetes'].std(), data_1['ejection_fraction'].std(), data_1['high_blood_pressure'].std(), data_1['platelets'].std(), data_1['serum_creatinine'].std(), data_1['serum_sodium'].std(), data_1['sex'].std(), data_1['smoking'].std(), data_1['time'].std(), data_1['DEATH_EVENT'].std())\n",
    "print()"
   ]
  },
  {
   "cell_type": "code",
   "execution_count": 183,
   "metadata": {},
   "outputs": [
    {
     "data": {
      "text/plain": [
       "(array([ 5., 18., 70., 49., 77., 20., 21.,  3., 33.,  1.,  1.,  1.]),\n",
       " array([14. , 19.5, 25. , 30.5, 36. , 41.5, 47. , 52.5, 58. , 63.5, 69. ,\n",
       "        74.5, 80. ]),\n",
       " <a list of 12 Patch objects>)"
      ]
     },
     "execution_count": 183,
     "metadata": {},
     "output_type": "execute_result"
    },
    {
     "data": {
      "image/png": "[encoded data removed]",
      "text/plain": [
       "<Figure size 432x288 with 1 Axes>"
      ]
     },
     "metadata": {
      "needs_background": "light"
     },
     "output_type": "display_data"
    }
   ],
   "source": [
    "plt.hist(data_1['ejection_fraction'], bins=12) "
   ]
  },
  {
   "cell_type": "code",
   "execution_count": 184,
   "metadata": {},
   "outputs": [
    {
     "data": {
      "text/plain": [
       "(array([198.,  66.,  18.,   5.,   5.,   1.,   1.,   2.,   1.,   0.,   0.,\n",
       "          2.]),\n",
       " array([0.5       , 1.24166667, 1.98333333, 2.725     , 3.46666667,\n",
       "        4.20833333, 4.95      , 5.69166667, 6.43333333, 7.175     ,\n",
       "        7.91666667, 8.65833333, 9.4       ]),\n",
       " <a list of 12 Patch objects>)"
      ]
     },
     "execution_count": 184,
     "metadata": {},
     "output_type": "execute_result"
    },
    {
     "data": {
      "image/png": "[encoded data removed]",
      "text/plain": [
       "<Figure size 432x288 with 1 Axes>"
      ]
     },
     "metadata": {
      "needs_background": "light"
     },
     "output_type": "display_data"
    }
   ],
   "source": [
    "plt.hist(data_1['serum_creatinine'], bins=12) "
   ]
  },
  {
   "cell_type": "code",
   "execution_count": 185,
   "metadata": {},
   "outputs": [
    {
     "data": {
      "text/plain": [
       "(array([18., 29., 46., 32., 48., 41., 40., 15., 13.,  9.,  5.,  3.]),\n",
       " array([40.        , 44.58333333, 49.16666667, 53.75      , 58.33333333,\n",
       "        62.91666667, 67.5       , 72.08333333, 76.66666667, 81.25      ,\n",
       "        85.83333333, 90.41666667, 95.        ]),\n",
       " <a list of 12 Patch objects>)"
      ]
     },
     "execution_count": 185,
     "metadata": {},
     "output_type": "execute_result"
    },
    {
     "data": {
      "image/png": "[encoded data removed]",
      "text/plain": [
       "<Figure size 432x288 with 1 Axes>"
      ]
     },
     "metadata": {
      "needs_background": "light"
     },
     "output_type": "display_data"
    }
   ],
   "source": [
    "plt.hist(data_1['age'], bins=12) "
   ]
  },
  {
   "cell_type": "code",
   "execution_count": 186,
   "metadata": {},
   "outputs": [
    {
     "data": {
      "text/html": [
       "<div>\n",
       "<style scoped>\n",
       "    .dataframe tbody tr th:only-of-type {\n",
       "        vertical-align: middle;\n",
       "    }\n",
       "\n",
       "    .dataframe tbody tr th {\n",
       "        vertical-align: top;\n",
       "    }\n",
       "\n",
       "    .dataframe thead th {\n",
       "        text-align: right;\n",
       "    }\n",
       "</style>\n",
       "<table border=\"1\" class=\"dataframe\">\n",
       "  <thead>\n",
       "    <tr style=\"text-align: right;\">\n",
       "      <th></th>\n",
       "      <th>age</th>\n",
       "      <th>anaemia</th>\n",
       "      <th>creatinine_phosphokinase</th>\n",
       "      <th>diabetes</th>\n",
       "      <th>ejection_fraction</th>\n",
       "      <th>high_blood_pressure</th>\n",
       "      <th>platelets</th>\n",
       "      <th>serum_creatinine</th>\n",
       "      <th>serum_sodium</th>\n",
       "      <th>sex</th>\n",
       "      <th>smoking</th>\n",
       "      <th>time</th>\n",
       "      <th>DEATH_EVENT</th>\n",
       "    </tr>\n",
       "  </thead>\n",
       "  <tbody>\n",
       "    <tr>\n",
       "      <th>age</th>\n",
       "      <td>1.000000</td>\n",
       "      <td>0.088006</td>\n",
       "      <td>-0.081584</td>\n",
       "      <td>-0.101012</td>\n",
       "      <td>0.060098</td>\n",
       "      <td>0.093289</td>\n",
       "      <td>-0.052354</td>\n",
       "      <td>0.159187</td>\n",
       "      <td>-0.045966</td>\n",
       "      <td>0.065430</td>\n",
       "      <td>0.018668</td>\n",
       "      <td>-0.224068</td>\n",
       "      <td>0.253729</td>\n",
       "    </tr>\n",
       "    <tr>\n",
       "      <th>anaemia</th>\n",
       "      <td>0.088006</td>\n",
       "      <td>1.000000</td>\n",
       "      <td>-0.190741</td>\n",
       "      <td>-0.012729</td>\n",
       "      <td>0.031557</td>\n",
       "      <td>0.038182</td>\n",
       "      <td>-0.043786</td>\n",
       "      <td>0.052174</td>\n",
       "      <td>0.041882</td>\n",
       "      <td>-0.094769</td>\n",
       "      <td>-0.107290</td>\n",
       "      <td>-0.141414</td>\n",
       "      <td>0.066270</td>\n",
       "    </tr>\n",
       "    <tr>\n",
       "      <th>creatinine_phosphokinase</th>\n",
       "      <td>-0.081584</td>\n",
       "      <td>-0.190741</td>\n",
       "      <td>1.000000</td>\n",
       "      <td>-0.009639</td>\n",
       "      <td>-0.044080</td>\n",
       "      <td>-0.070590</td>\n",
       "      <td>0.024463</td>\n",
       "      <td>-0.016408</td>\n",
       "      <td>0.059550</td>\n",
       "      <td>0.079791</td>\n",
       "      <td>0.002421</td>\n",
       "      <td>-0.009346</td>\n",
       "      <td>0.062728</td>\n",
       "    </tr>\n",
       "    <tr>\n",
       "      <th>diabetes</th>\n",
       "      <td>-0.101012</td>\n",
       "      <td>-0.012729</td>\n",
       "      <td>-0.009639</td>\n",
       "      <td>1.000000</td>\n",
       "      <td>-0.004850</td>\n",
       "      <td>-0.012732</td>\n",
       "      <td>0.092193</td>\n",
       "      <td>-0.046975</td>\n",
       "      <td>-0.089551</td>\n",
       "      <td>-0.157730</td>\n",
       "      <td>-0.147173</td>\n",
       "      <td>0.033726</td>\n",
       "      <td>-0.001943</td>\n",
       "    </tr>\n",
       "    <tr>\n",
       "      <th>ejection_fraction</th>\n",
       "      <td>0.060098</td>\n",
       "      <td>0.031557</td>\n",
       "      <td>-0.044080</td>\n",
       "      <td>-0.004850</td>\n",
       "      <td>1.000000</td>\n",
       "      <td>0.024445</td>\n",
       "      <td>0.072177</td>\n",
       "      <td>-0.011302</td>\n",
       "      <td>0.175902</td>\n",
       "      <td>-0.148386</td>\n",
       "      <td>-0.067315</td>\n",
       "      <td>0.041729</td>\n",
       "      <td>-0.268603</td>\n",
       "    </tr>\n",
       "    <tr>\n",
       "      <th>high_blood_pressure</th>\n",
       "      <td>0.093289</td>\n",
       "      <td>0.038182</td>\n",
       "      <td>-0.070590</td>\n",
       "      <td>-0.012732</td>\n",
       "      <td>0.024445</td>\n",
       "      <td>1.000000</td>\n",
       "      <td>0.049963</td>\n",
       "      <td>-0.004935</td>\n",
       "      <td>0.037109</td>\n",
       "      <td>-0.104615</td>\n",
       "      <td>-0.055711</td>\n",
       "      <td>-0.196439</td>\n",
       "      <td>0.079351</td>\n",
       "    </tr>\n",
       "    <tr>\n",
       "      <th>platelets</th>\n",
       "      <td>-0.052354</td>\n",
       "      <td>-0.043786</td>\n",
       "      <td>0.024463</td>\n",
       "      <td>0.092193</td>\n",
       "      <td>0.072177</td>\n",
       "      <td>0.049963</td>\n",
       "      <td>1.000000</td>\n",
       "      <td>-0.041198</td>\n",
       "      <td>0.062125</td>\n",
       "      <td>-0.125120</td>\n",
       "      <td>0.028234</td>\n",
       "      <td>0.010514</td>\n",
       "      <td>-0.049139</td>\n",
       "    </tr>\n",
       "    <tr>\n",
       "      <th>serum_creatinine</th>\n",
       "      <td>0.159187</td>\n",
       "      <td>0.052174</td>\n",
       "      <td>-0.016408</td>\n",
       "      <td>-0.046975</td>\n",
       "      <td>-0.011302</td>\n",
       "      <td>-0.004935</td>\n",
       "      <td>-0.041198</td>\n",
       "      <td>1.000000</td>\n",
       "      <td>-0.189095</td>\n",
       "      <td>0.006970</td>\n",
       "      <td>-0.027414</td>\n",
       "      <td>-0.149315</td>\n",
       "      <td>0.294278</td>\n",
       "    </tr>\n",
       "    <tr>\n",
       "      <th>serum_sodium</th>\n",
       "      <td>-0.045966</td>\n",
       "      <td>0.041882</td>\n",
       "      <td>0.059550</td>\n",
       "      <td>-0.089551</td>\n",
       "      <td>0.175902</td>\n",
       "      <td>0.037109</td>\n",
       "      <td>0.062125</td>\n",
       "      <td>-0.189095</td>\n",
       "      <td>1.000000</td>\n",
       "      <td>-0.027566</td>\n",
       "      <td>0.004813</td>\n",
       "      <td>0.087640</td>\n",
       "      <td>-0.195204</td>\n",
       "    </tr>\n",
       "    <tr>\n",
       "      <th>sex</th>\n",
       "      <td>0.065430</td>\n",
       "      <td>-0.094769</td>\n",
       "      <td>0.079791</td>\n",
       "      <td>-0.157730</td>\n",
       "      <td>-0.148386</td>\n",
       "      <td>-0.104615</td>\n",
       "      <td>-0.125120</td>\n",
       "      <td>0.006970</td>\n",
       "      <td>-0.027566</td>\n",
       "      <td>1.000000</td>\n",
       "      <td>0.445892</td>\n",
       "      <td>-0.015608</td>\n",
       "      <td>-0.004316</td>\n",
       "    </tr>\n",
       "    <tr>\n",
       "      <th>smoking</th>\n",
       "      <td>0.018668</td>\n",
       "      <td>-0.107290</td>\n",
       "      <td>0.002421</td>\n",
       "      <td>-0.147173</td>\n",
       "      <td>-0.067315</td>\n",
       "      <td>-0.055711</td>\n",
       "      <td>0.028234</td>\n",
       "      <td>-0.027414</td>\n",
       "      <td>0.004813</td>\n",
       "      <td>0.445892</td>\n",
       "      <td>1.000000</td>\n",
       "      <td>-0.022839</td>\n",
       "      <td>-0.012623</td>\n",
       "    </tr>\n",
       "    <tr>\n",
       "      <th>time</th>\n",
       "      <td>-0.224068</td>\n",
       "      <td>-0.141414</td>\n",
       "      <td>-0.009346</td>\n",
       "      <td>0.033726</td>\n",
       "      <td>0.041729</td>\n",
       "      <td>-0.196439</td>\n",
       "      <td>0.010514</td>\n",
       "      <td>-0.149315</td>\n",
       "      <td>0.087640</td>\n",
       "      <td>-0.015608</td>\n",
       "      <td>-0.022839</td>\n",
       "      <td>1.000000</td>\n",
       "      <td>-0.526964</td>\n",
       "    </tr>\n",
       "    <tr>\n",
       "      <th>DEATH_EVENT</th>\n",
       "      <td>0.253729</td>\n",
       "      <td>0.066270</td>\n",
       "      <td>0.062728</td>\n",
       "      <td>-0.001943</td>\n",
       "      <td>-0.268603</td>\n",
       "      <td>0.079351</td>\n",
       "      <td>-0.049139</td>\n",
       "      <td>0.294278</td>\n",
       "      <td>-0.195204</td>\n",
       "      <td>-0.004316</td>\n",
       "      <td>-0.012623</td>\n",
       "      <td>-0.526964</td>\n",
       "      <td>1.000000</td>\n",
       "    </tr>\n",
       "  </tbody>\n",
       "</table>\n",
       "</div>"
      ],
      "text/plain": [
       "                               age   anaemia  creatinine_phosphokinase  \\\n",
       "age                       1.000000  0.088006                 -0.081584   \n",
       "anaemia                   0.088006  1.000000                 -0.190741   \n",
       "creatinine_phosphokinase -0.081584 -0.190741                  1.000000   \n",
       "diabetes                 -0.101012 -0.012729                 -0.009639   \n",
       "ejection_fraction         0.060098  0.031557                 -0.044080   \n",
       "high_blood_pressure       0.093289  0.038182                 -0.070590   \n",
       "platelets                -0.052354 -0.043786                  0.024463   \n",
       "serum_creatinine          0.159187  0.052174                 -0.016408   \n",
       "serum_sodium             -0.045966  0.041882                  0.059550   \n",
       "sex                       0.065430 -0.094769                  0.079791   \n",
       "smoking                   0.018668 -0.107290                  0.002421   \n",
       "time                     -0.224068 -0.141414                 -0.009346   \n",
       "DEATH_EVENT               0.253729  0.066270                  0.062728   \n",
       "\n",
       "                          diabetes  ejection_fraction  high_blood_pressure  \\\n",
       "age                      -0.101012           0.060098             0.093289   \n",
       "anaemia                  -0.012729           0.031557             0.038182   \n",
       "creatinine_phosphokinase -0.009639          -0.044080            -0.070590   \n",
       "diabetes                  1.000000          -0.004850            -0.012732   \n",
       "ejection_fraction        -0.004850           1.000000             0.024445   \n",
       "high_blood_pressure      -0.012732           0.024445             1.000000   \n",
       "platelets                 0.092193           0.072177             0.049963   \n",
       "serum_creatinine         -0.046975          -0.011302            -0.004935   \n",
       "serum_sodium             -0.089551           0.175902             0.037109   \n",
       "sex                      -0.157730          -0.148386            -0.104615   \n",
       "smoking                  -0.147173          -0.067315            -0.055711   \n",
       "time                      0.033726           0.041729            -0.196439   \n",
       "DEATH_EVENT              -0.001943          -0.268603             0.079351   \n",
       "\n",
       "                          platelets  serum_creatinine  serum_sodium       sex  \\\n",
       "age                       -0.052354          0.159187     -0.045966  0.065430   \n",
       "anaemia                   -0.043786          0.052174      0.041882 -0.094769   \n",
       "creatinine_phosphokinase   0.024463         -0.016408      0.059550  0.079791   \n",
       "diabetes                   0.092193         -0.046975     -0.089551 -0.157730   \n",
       "ejection_fraction          0.072177         -0.011302      0.175902 -0.148386   \n",
       "high_blood_pressure        0.049963         -0.004935      0.037109 -0.104615   \n",
       "platelets                  1.000000         -0.041198      0.062125 -0.125120   \n",
       "serum_creatinine          -0.041198          1.000000     -0.189095  0.006970   \n",
       "serum_sodium               0.062125         -0.189095      1.000000 -0.027566   \n",
       "sex                       -0.125120          0.006970     -0.027566  1.000000   \n",
       "smoking                    0.028234         -0.027414      0.004813  0.445892   \n",
       "time                       0.010514         -0.149315      0.087640 -0.015608   \n",
       "DEATH_EVENT               -0.049139          0.294278     -0.195204 -0.004316   \n",
       "\n",
       "                           smoking      time  DEATH_EVENT  \n",
       "age                       0.018668 -0.224068     0.253729  \n",
       "anaemia                  -0.107290 -0.141414     0.066270  \n",
       "creatinine_phosphokinase  0.002421 -0.009346     0.062728  \n",
       "diabetes                 -0.147173  0.033726    -0.001943  \n",
       "ejection_fraction        -0.067315  0.041729    -0.268603  \n",
       "high_blood_pressure      -0.055711 -0.196439     0.079351  \n",
       "platelets                 0.028234  0.010514    -0.049139  \n",
       "serum_creatinine         -0.027414 -0.149315     0.294278  \n",
       "serum_sodium              0.004813  0.087640    -0.195204  \n",
       "sex                       0.445892 -0.015608    -0.004316  \n",
       "smoking                   1.000000 -0.022839    -0.012623  \n",
       "time                     -0.022839  1.000000    -0.526964  \n",
       "DEATH_EVENT              -0.012623 -0.526964     1.000000  "
      ]
     },
     "execution_count": 186,
     "metadata": {},
     "output_type": "execute_result"
    }
   ],
   "source": [
    "data_1_corr = data_1[['age', 'anaemia', 'creatinine_phosphokinase', 'diabetes', 'ejection_fraction', 'high_blood_pressure', 'platelets', 'serum_creatinine', 'serum_sodium', 'sex', 'smoking', 'time', 'DEATH_EVENT']].corr()\n",
    "data_1_corr"
   ]
  },
  {
   "cell_type": "code",
   "execution_count": 187,
   "metadata": {},
   "outputs": [
    {
     "data": {
      "text/html": [
       "<div>\n",
       "<style scoped>\n",
       "    .dataframe tbody tr th:only-of-type {\n",
       "        vertical-align: middle;\n",
       "    }\n",
       "\n",
       "    .dataframe tbody tr th {\n",
       "        vertical-align: top;\n",
       "    }\n",
       "\n",
       "    .dataframe thead th {\n",
       "        text-align: right;\n",
       "    }\n",
       "</style>\n",
       "<table border=\"1\" class=\"dataframe\">\n",
       "  <thead>\n",
       "    <tr style=\"text-align: right;\">\n",
       "      <th></th>\n",
       "      <th>age</th>\n",
       "      <th>anaemia</th>\n",
       "      <th>creatinine_phosphokinase</th>\n",
       "      <th>diabetes</th>\n",
       "      <th>ejection_fraction</th>\n",
       "      <th>high_blood_pressure</th>\n",
       "      <th>platelets</th>\n",
       "      <th>serum_creatinine</th>\n",
       "      <th>serum_sodium</th>\n",
       "      <th>sex</th>\n",
       "      <th>smoking</th>\n",
       "      <th>time</th>\n",
       "      <th>DEATH_EVENT</th>\n",
       "    </tr>\n",
       "  </thead>\n",
       "  <tbody>\n",
       "    <tr>\n",
       "      <th>0</th>\n",
       "      <td>75.0</td>\n",
       "      <td>0</td>\n",
       "      <td>582</td>\n",
       "      <td>0</td>\n",
       "      <td>20</td>\n",
       "      <td>1</td>\n",
       "      <td>265000.00</td>\n",
       "      <td>1.9</td>\n",
       "      <td>130</td>\n",
       "      <td>1</td>\n",
       "      <td>0</td>\n",
       "      <td>4</td>\n",
       "      <td>1</td>\n",
       "    </tr>\n",
       "    <tr>\n",
       "      <th>1</th>\n",
       "      <td>55.0</td>\n",
       "      <td>0</td>\n",
       "      <td>7861</td>\n",
       "      <td>0</td>\n",
       "      <td>38</td>\n",
       "      <td>0</td>\n",
       "      <td>263358.03</td>\n",
       "      <td>1.1</td>\n",
       "      <td>136</td>\n",
       "      <td>1</td>\n",
       "      <td>0</td>\n",
       "      <td>6</td>\n",
       "      <td>1</td>\n",
       "    </tr>\n",
       "    <tr>\n",
       "      <th>2</th>\n",
       "      <td>65.0</td>\n",
       "      <td>0</td>\n",
       "      <td>146</td>\n",
       "      <td>0</td>\n",
       "      <td>20</td>\n",
       "      <td>0</td>\n",
       "      <td>162000.00</td>\n",
       "      <td>1.3</td>\n",
       "      <td>129</td>\n",
       "      <td>1</td>\n",
       "      <td>1</td>\n",
       "      <td>7</td>\n",
       "      <td>1</td>\n",
       "    </tr>\n",
       "    <tr>\n",
       "      <th>3</th>\n",
       "      <td>50.0</td>\n",
       "      <td>1</td>\n",
       "      <td>111</td>\n",
       "      <td>0</td>\n",
       "      <td>20</td>\n",
       "      <td>0</td>\n",
       "      <td>210000.00</td>\n",
       "      <td>1.9</td>\n",
       "      <td>137</td>\n",
       "      <td>1</td>\n",
       "      <td>0</td>\n",
       "      <td>7</td>\n",
       "      <td>1</td>\n",
       "    </tr>\n",
       "    <tr>\n",
       "      <th>4</th>\n",
       "      <td>65.0</td>\n",
       "      <td>1</td>\n",
       "      <td>160</td>\n",
       "      <td>1</td>\n",
       "      <td>20</td>\n",
       "      <td>0</td>\n",
       "      <td>327000.00</td>\n",
       "      <td>2.7</td>\n",
       "      <td>116</td>\n",
       "      <td>0</td>\n",
       "      <td>0</td>\n",
       "      <td>8</td>\n",
       "      <td>1</td>\n",
       "    </tr>\n",
       "    <tr>\n",
       "      <th>...</th>\n",
       "      <td>...</td>\n",
       "      <td>...</td>\n",
       "      <td>...</td>\n",
       "      <td>...</td>\n",
       "      <td>...</td>\n",
       "      <td>...</td>\n",
       "      <td>...</td>\n",
       "      <td>...</td>\n",
       "      <td>...</td>\n",
       "      <td>...</td>\n",
       "      <td>...</td>\n",
       "      <td>...</td>\n",
       "      <td>...</td>\n",
       "    </tr>\n",
       "    <tr>\n",
       "      <th>294</th>\n",
       "      <td>62.0</td>\n",
       "      <td>0</td>\n",
       "      <td>61</td>\n",
       "      <td>1</td>\n",
       "      <td>38</td>\n",
       "      <td>1</td>\n",
       "      <td>155000.00</td>\n",
       "      <td>1.1</td>\n",
       "      <td>143</td>\n",
       "      <td>1</td>\n",
       "      <td>1</td>\n",
       "      <td>270</td>\n",
       "      <td>0</td>\n",
       "    </tr>\n",
       "    <tr>\n",
       "      <th>295</th>\n",
       "      <td>55.0</td>\n",
       "      <td>0</td>\n",
       "      <td>1820</td>\n",
       "      <td>0</td>\n",
       "      <td>38</td>\n",
       "      <td>0</td>\n",
       "      <td>270000.00</td>\n",
       "      <td>1.2</td>\n",
       "      <td>139</td>\n",
       "      <td>0</td>\n",
       "      <td>0</td>\n",
       "      <td>271</td>\n",
       "      <td>0</td>\n",
       "    </tr>\n",
       "    <tr>\n",
       "      <th>296</th>\n",
       "      <td>45.0</td>\n",
       "      <td>0</td>\n",
       "      <td>2060</td>\n",
       "      <td>1</td>\n",
       "      <td>60</td>\n",
       "      <td>0</td>\n",
       "      <td>742000.00</td>\n",
       "      <td>0.8</td>\n",
       "      <td>138</td>\n",
       "      <td>0</td>\n",
       "      <td>0</td>\n",
       "      <td>278</td>\n",
       "      <td>0</td>\n",
       "    </tr>\n",
       "    <tr>\n",
       "      <th>297</th>\n",
       "      <td>45.0</td>\n",
       "      <td>0</td>\n",
       "      <td>2413</td>\n",
       "      <td>0</td>\n",
       "      <td>38</td>\n",
       "      <td>0</td>\n",
       "      <td>140000.00</td>\n",
       "      <td>1.4</td>\n",
       "      <td>140</td>\n",
       "      <td>1</td>\n",
       "      <td>1</td>\n",
       "      <td>280</td>\n",
       "      <td>0</td>\n",
       "    </tr>\n",
       "    <tr>\n",
       "      <th>298</th>\n",
       "      <td>50.0</td>\n",
       "      <td>0</td>\n",
       "      <td>196</td>\n",
       "      <td>0</td>\n",
       "      <td>45</td>\n",
       "      <td>0</td>\n",
       "      <td>395000.00</td>\n",
       "      <td>1.6</td>\n",
       "      <td>136</td>\n",
       "      <td>1</td>\n",
       "      <td>1</td>\n",
       "      <td>285</td>\n",
       "      <td>0</td>\n",
       "    </tr>\n",
       "  </tbody>\n",
       "</table>\n",
       "<p>299 rows × 13 columns</p>\n",
       "</div>"
      ],
      "text/plain": [
       "      age  anaemia  creatinine_phosphokinase  diabetes  ejection_fraction  \\\n",
       "0    75.0        0                       582         0                 20   \n",
       "1    55.0        0                      7861         0                 38   \n",
       "2    65.0        0                       146         0                 20   \n",
       "3    50.0        1                       111         0                 20   \n",
       "4    65.0        1                       160         1                 20   \n",
       "..    ...      ...                       ...       ...                ...   \n",
       "294  62.0        0                        61         1                 38   \n",
       "295  55.0        0                      1820         0                 38   \n",
       "296  45.0        0                      2060         1                 60   \n",
       "297  45.0        0                      2413         0                 38   \n",
       "298  50.0        0                       196         0                 45   \n",
       "\n",
       "     high_blood_pressure  platelets  serum_creatinine  serum_sodium  sex  \\\n",
       "0                      1  265000.00               1.9           130    1   \n",
       "1                      0  263358.03               1.1           136    1   \n",
       "2                      0  162000.00               1.3           129    1   \n",
       "3                      0  210000.00               1.9           137    1   \n",
       "4                      0  327000.00               2.7           116    0   \n",
       "..                   ...        ...               ...           ...  ...   \n",
       "294                    1  155000.00               1.1           143    1   \n",
       "295                    0  270000.00               1.2           139    0   \n",
       "296                    0  742000.00               0.8           138    0   \n",
       "297                    0  140000.00               1.4           140    1   \n",
       "298                    0  395000.00               1.6           136    1   \n",
       "\n",
       "     smoking  time  DEATH_EVENT  \n",
       "0          0     4            1  \n",
       "1          0     6            1  \n",
       "2          1     7            1  \n",
       "3          0     7            1  \n",
       "4          0     8            1  \n",
       "..       ...   ...          ...  \n",
       "294        1   270            0  \n",
       "295        0   271            0  \n",
       "296        0   278            0  \n",
       "297        1   280            0  \n",
       "298        1   285            0  \n",
       "\n",
       "[299 rows x 13 columns]"
      ]
     },
     "execution_count": 187,
     "metadata": {},
     "output_type": "execute_result"
    }
   ],
   "source": [
    "data_1"
   ]
  },
  {
   "cell_type": "code",
   "execution_count": 188,
   "metadata": {},
   "outputs": [
    {
     "data": {
      "image/png": "[encoded data removed]",
      "text/plain": [
       "<Figure size 432x288 with 1 Axes>"
      ]
     },
     "metadata": {
      "needs_background": "light"
     },
     "output_type": "display_data"
    }
   ],
   "source": [
    "plt.scatter(data_1['ejection_fraction'], data_1['serum_creatinine'])\n",
    "plt.show()"
   ]
  },
  {
   "cell_type": "code",
   "execution_count": 189,
   "metadata": {},
   "outputs": [
    {
     "data": {
      "image/png": "[encoded data removed]",
      "text/plain": [
       "<Figure size 432x288 with 1 Axes>"
      ]
     },
     "metadata": {
      "needs_background": "light"
     },
     "output_type": "display_data"
    }
   ],
   "source": [
    "plt.scatter(data_1['serum_sodium'], data_1['serum_creatinine'])\n",
    "plt.show()"
   ]
  },
  {
   "cell_type": "code",
   "execution_count": null,
   "metadata": {},
   "outputs": [],
   "source": []
  },
  {
   "cell_type": "code",
   "execution_count": 190,
   "metadata": {},
   "outputs": [
    {
     "data": {
      "text/html": [
       "<div>\n",
       "<style scoped>\n",
       "    .dataframe tbody tr th:only-of-type {\n",
       "        vertical-align: middle;\n",
       "    }\n",
       "\n",
       "    .dataframe tbody tr th {\n",
       "        vertical-align: top;\n",
       "    }\n",
       "\n",
       "    .dataframe thead th {\n",
       "        text-align: right;\n",
       "    }\n",
       "</style>\n",
       "<table border=\"1\" class=\"dataframe\">\n",
       "  <thead>\n",
       "    <tr style=\"text-align: right;\">\n",
       "      <th></th>\n",
       "      <th>age</th>\n",
       "      <th>anaemia</th>\n",
       "      <th>creatinine_phosphokinase</th>\n",
       "      <th>diabetes</th>\n",
       "      <th>ejection_fraction</th>\n",
       "      <th>high_blood_pressure</th>\n",
       "      <th>platelets</th>\n",
       "      <th>serum_creatinine</th>\n",
       "      <th>serum_sodium</th>\n",
       "      <th>sex</th>\n",
       "      <th>smoking</th>\n",
       "      <th>time</th>\n",
       "      <th>DEATH_EVENT</th>\n",
       "    </tr>\n",
       "  </thead>\n",
       "  <tbody>\n",
       "    <tr>\n",
       "      <th>0</th>\n",
       "      <td>75.0</td>\n",
       "      <td>0</td>\n",
       "      <td>582</td>\n",
       "      <td>0</td>\n",
       "      <td>20</td>\n",
       "      <td>1</td>\n",
       "      <td>265000.00</td>\n",
       "      <td>1.9</td>\n",
       "      <td>130</td>\n",
       "      <td>1</td>\n",
       "      <td>0</td>\n",
       "      <td>4</td>\n",
       "      <td>1</td>\n",
       "    </tr>\n",
       "    <tr>\n",
       "      <th>1</th>\n",
       "      <td>55.0</td>\n",
       "      <td>0</td>\n",
       "      <td>7861</td>\n",
       "      <td>0</td>\n",
       "      <td>38</td>\n",
       "      <td>0</td>\n",
       "      <td>263358.03</td>\n",
       "      <td>1.1</td>\n",
       "      <td>136</td>\n",
       "      <td>1</td>\n",
       "      <td>0</td>\n",
       "      <td>6</td>\n",
       "      <td>1</td>\n",
       "    </tr>\n",
       "  </tbody>\n",
       "</table>\n",
       "</div>"
      ],
      "text/plain": [
       "    age  anaemia  creatinine_phosphokinase  diabetes  ejection_fraction  \\\n",
       "0  75.0        0                       582         0                 20   \n",
       "1  55.0        0                      7861         0                 38   \n",
       "\n",
       "   high_blood_pressure  platelets  serum_creatinine  serum_sodium  sex  \\\n",
       "0                    1  265000.00               1.9           130    1   \n",
       "1                    0  263358.03               1.1           136    1   \n",
       "\n",
       "   smoking  time  DEATH_EVENT  \n",
       "0        0     4            1  \n",
       "1        0     6            1  "
      ]
     },
     "execution_count": 190,
     "metadata": {},
     "output_type": "execute_result"
    }
   ],
   "source": [
    "data_1.head(2)"
   ]
  },
  {
   "cell_type": "code",
   "execution_count": 191,
   "metadata": {},
   "outputs": [
    {
     "data": {
      "text/html": [
       "<div>\n",
       "<style scoped>\n",
       "    .dataframe tbody tr th:only-of-type {\n",
       "        vertical-align: middle;\n",
       "    }\n",
       "\n",
       "    .dataframe tbody tr th {\n",
       "        vertical-align: top;\n",
       "    }\n",
       "\n",
       "    .dataframe thead th {\n",
       "        text-align: right;\n",
       "    }\n",
       "</style>\n",
       "<table border=\"1\" class=\"dataframe\">\n",
       "  <thead>\n",
       "    <tr style=\"text-align: right;\">\n",
       "      <th></th>\n",
       "      <th>age</th>\n",
       "      <th>anaemia</th>\n",
       "      <th>creatinine_phosphokinase</th>\n",
       "      <th>diabetes</th>\n",
       "      <th>ejection_fraction</th>\n",
       "      <th>high_blood_pressure</th>\n",
       "      <th>platelets</th>\n",
       "      <th>serum_creatinine</th>\n",
       "      <th>serum_sodium</th>\n",
       "      <th>sex</th>\n",
       "      <th>smoking</th>\n",
       "      <th>time</th>\n",
       "      <th>DEATH_EVENT</th>\n",
       "    </tr>\n",
       "  </thead>\n",
       "  <tbody>\n",
       "    <tr>\n",
       "      <th>0</th>\n",
       "      <td>1.190949</td>\n",
       "      <td>0</td>\n",
       "      <td>0.000165</td>\n",
       "      <td>0</td>\n",
       "      <td>-1.527998</td>\n",
       "      <td>1</td>\n",
       "      <td>1.678834e-02</td>\n",
       "      <td>0.489237</td>\n",
       "      <td>-1.501519</td>\n",
       "      <td>1</td>\n",
       "      <td>0</td>\n",
       "      <td>4</td>\n",
       "      <td>1</td>\n",
       "    </tr>\n",
       "    <tr>\n",
       "      <th>1</th>\n",
       "      <td>-0.490457</td>\n",
       "      <td>0</td>\n",
       "      <td>7.502063</td>\n",
       "      <td>0</td>\n",
       "      <td>-0.007065</td>\n",
       "      <td>0</td>\n",
       "      <td>7.523048e-09</td>\n",
       "      <td>-0.284076</td>\n",
       "      <td>-0.141739</td>\n",
       "      <td>1</td>\n",
       "      <td>0</td>\n",
       "      <td>6</td>\n",
       "      <td>1</td>\n",
       "    </tr>\n",
       "    <tr>\n",
       "      <th>2</th>\n",
       "      <td>0.350246</td>\n",
       "      <td>0</td>\n",
       "      <td>-0.449186</td>\n",
       "      <td>0</td>\n",
       "      <td>-1.527998</td>\n",
       "      <td>0</td>\n",
       "      <td>-1.036336e+00</td>\n",
       "      <td>-0.090748</td>\n",
       "      <td>-1.728149</td>\n",
       "      <td>1</td>\n",
       "      <td>1</td>\n",
       "      <td>7</td>\n",
       "      <td>1</td>\n",
       "    </tr>\n",
       "    <tr>\n",
       "      <th>3</th>\n",
       "      <td>-0.910808</td>\n",
       "      <td>1</td>\n",
       "      <td>-0.485257</td>\n",
       "      <td>0</td>\n",
       "      <td>-1.527998</td>\n",
       "      <td>0</td>\n",
       "      <td>-5.455595e-01</td>\n",
       "      <td>0.489237</td>\n",
       "      <td>0.084892</td>\n",
       "      <td>1</td>\n",
       "      <td>0</td>\n",
       "      <td>7</td>\n",
       "      <td>1</td>\n",
       "    </tr>\n",
       "    <tr>\n",
       "      <th>4</th>\n",
       "      <td>0.350246</td>\n",
       "      <td>1</td>\n",
       "      <td>-0.434757</td>\n",
       "      <td>1</td>\n",
       "      <td>-1.527998</td>\n",
       "      <td>0</td>\n",
       "      <td>6.507077e-01</td>\n",
       "      <td>1.262550</td>\n",
       "      <td>-4.674340</td>\n",
       "      <td>0</td>\n",
       "      <td>0</td>\n",
       "      <td>8</td>\n",
       "      <td>1</td>\n",
       "    </tr>\n",
       "    <tr>\n",
       "      <th>...</th>\n",
       "      <td>...</td>\n",
       "      <td>...</td>\n",
       "      <td>...</td>\n",
       "      <td>...</td>\n",
       "      <td>...</td>\n",
       "      <td>...</td>\n",
       "      <td>...</td>\n",
       "      <td>...</td>\n",
       "      <td>...</td>\n",
       "      <td>...</td>\n",
       "      <td>...</td>\n",
       "      <td>...</td>\n",
       "      <td>...</td>\n",
       "    </tr>\n",
       "    <tr>\n",
       "      <th>294</th>\n",
       "      <td>0.098035</td>\n",
       "      <td>0</td>\n",
       "      <td>-0.536789</td>\n",
       "      <td>1</td>\n",
       "      <td>-0.007065</td>\n",
       "      <td>1</td>\n",
       "      <td>-1.107907e+00</td>\n",
       "      <td>-0.284076</td>\n",
       "      <td>1.444672</td>\n",
       "      <td>1</td>\n",
       "      <td>1</td>\n",
       "      <td>270</td>\n",
       "      <td>0</td>\n",
       "    </tr>\n",
       "    <tr>\n",
       "      <th>295</th>\n",
       "      <td>-0.490457</td>\n",
       "      <td>0</td>\n",
       "      <td>1.276075</td>\n",
       "      <td>0</td>\n",
       "      <td>-0.007065</td>\n",
       "      <td>0</td>\n",
       "      <td>6.791087e-02</td>\n",
       "      <td>-0.187412</td>\n",
       "      <td>0.538152</td>\n",
       "      <td>0</td>\n",
       "      <td>0</td>\n",
       "      <td>271</td>\n",
       "      <td>0</td>\n",
       "    </tr>\n",
       "    <tr>\n",
       "      <th>296</th>\n",
       "      <td>-1.331160</td>\n",
       "      <td>0</td>\n",
       "      <td>1.523425</td>\n",
       "      <td>1</td>\n",
       "      <td>1.851853</td>\n",
       "      <td>0</td>\n",
       "      <td>4.893878e+00</td>\n",
       "      <td>-0.574068</td>\n",
       "      <td>0.311522</td>\n",
       "      <td>0</td>\n",
       "      <td>0</td>\n",
       "      <td>278</td>\n",
       "      <td>0</td>\n",
       "    </tr>\n",
       "    <tr>\n",
       "      <th>297</th>\n",
       "      <td>-1.331160</td>\n",
       "      <td>0</td>\n",
       "      <td>1.887234</td>\n",
       "      <td>0</td>\n",
       "      <td>-0.007065</td>\n",
       "      <td>0</td>\n",
       "      <td>-1.261275e+00</td>\n",
       "      <td>0.005916</td>\n",
       "      <td>0.764782</td>\n",
       "      <td>1</td>\n",
       "      <td>1</td>\n",
       "      <td>280</td>\n",
       "      <td>0</td>\n",
       "    </tr>\n",
       "    <tr>\n",
       "      <th>298</th>\n",
       "      <td>-0.910808</td>\n",
       "      <td>0</td>\n",
       "      <td>-0.397655</td>\n",
       "      <td>0</td>\n",
       "      <td>0.584409</td>\n",
       "      <td>0</td>\n",
       "      <td>1.345974e+00</td>\n",
       "      <td>0.199244</td>\n",
       "      <td>-0.141739</td>\n",
       "      <td>1</td>\n",
       "      <td>1</td>\n",
       "      <td>285</td>\n",
       "      <td>0</td>\n",
       "    </tr>\n",
       "  </tbody>\n",
       "</table>\n",
       "<p>299 rows × 13 columns</p>\n",
       "</div>"
      ],
      "text/plain": [
       "          age  anaemia  creatinine_phosphokinase  diabetes  ejection_fraction  \\\n",
       "0    1.190949        0                  0.000165         0          -1.527998   \n",
       "1   -0.490457        0                  7.502063         0          -0.007065   \n",
       "2    0.350246        0                 -0.449186         0          -1.527998   \n",
       "3   -0.910808        1                 -0.485257         0          -1.527998   \n",
       "4    0.350246        1                 -0.434757         1          -1.527998   \n",
       "..        ...      ...                       ...       ...                ...   \n",
       "294  0.098035        0                 -0.536789         1          -0.007065   \n",
       "295 -0.490457        0                  1.276075         0          -0.007065   \n",
       "296 -1.331160        0                  1.523425         1           1.851853   \n",
       "297 -1.331160        0                  1.887234         0          -0.007065   \n",
       "298 -0.910808        0                 -0.397655         0           0.584409   \n",
       "\n",
       "     high_blood_pressure     platelets  serum_creatinine  serum_sodium  sex  \\\n",
       "0                      1  1.678834e-02          0.489237     -1.501519    1   \n",
       "1                      0  7.523048e-09         -0.284076     -0.141739    1   \n",
       "2                      0 -1.036336e+00         -0.090748     -1.728149    1   \n",
       "3                      0 -5.455595e-01          0.489237      0.084892    1   \n",
       "4                      0  6.507077e-01          1.262550     -4.674340    0   \n",
       "..                   ...           ...               ...           ...  ...   \n",
       "294                    1 -1.107907e+00         -0.284076      1.444672    1   \n",
       "295                    0  6.791087e-02         -0.187412      0.538152    0   \n",
       "296                    0  4.893878e+00         -0.574068      0.311522    0   \n",
       "297                    0 -1.261275e+00          0.005916      0.764782    1   \n",
       "298                    0  1.345974e+00          0.199244     -0.141739    1   \n",
       "\n",
       "     smoking  time  DEATH_EVENT  \n",
       "0          0     4            1  \n",
       "1          0     6            1  \n",
       "2          1     7            1  \n",
       "3          0     7            1  \n",
       "4          0     8            1  \n",
       "..       ...   ...          ...  \n",
       "294        1   270            0  \n",
       "295        0   271            0  \n",
       "296        0   278            0  \n",
       "297        1   280            0  \n",
       "298        1   285            0  \n",
       "\n",
       "[299 rows x 13 columns]"
      ]
     },
     "execution_count": 191,
     "metadata": {},
     "output_type": "execute_result"
    }
   ],
   "source": [
    "# нормализация данных\n",
    "data_1_n = data_1.copy()\n",
    "data_1_n['age'] = (data_1['age']-data_1['age'].mean()) / data_1['age'].std()\n",
    "data_1_n['creatinine_phosphokinase'] = (data_1['creatinine_phosphokinase']-data_1['creatinine_phosphokinase'].mean()) / data_1['creatinine_phosphokinase'].std()\n",
    "data_1_n['ejection_fraction'] = (data_1['ejection_fraction']-data_1['ejection_fraction'].mean()) / data_1['ejection_fraction'].std()\n",
    "data_1_n['platelets'] = (data_1['platelets']-data_1['platelets'].mean()) / data_1['platelets'].std()\n",
    "data_1_n['serum_creatinine'] = (data_1['serum_creatinine']-data_1['serum_creatinine'].mean()) / data_1['serum_creatinine'].std()\n",
    "data_1_n['serum_sodium'] = (data_1['serum_sodium']-data_1['serum_sodium'].mean()) / data_1['serum_sodium'].std()\n",
    "data_1_n"
   ]
  },
  {
   "cell_type": "code",
   "execution_count": 192,
   "metadata": {},
   "outputs": [
    {
     "name": "stdout",
     "output_type": "stream",
     "text": [
      "Коэффициенты: [-0.81105773 -0.64687398]\n",
      "Число итераций: [4]\n"
     ]
    }
   ],
   "source": [
    "model = LogisticRegression(solver='liblinear', fit_intercept=False)\n",
    "ones = np.ones((data_1_n.shape[0], 1))\n",
    "x = pd.DataFrame(ones)\n",
    "x[1] = data_1_n['ejection_fraction']\n",
    "\n",
    "y = data_1_n['DEATH_EVENT']\n",
    "\n",
    "model.fit(x, y)\n",
    "b_sklearn = model.coef_.flatten()\n",
    "\n",
    "print(f'Коэффициенты: {b_sklearn}')\n",
    "print(f'Число итераций: {model.n_iter_}')"
   ]
  },
  {
   "cell_type": "code",
   "execution_count": 218,
   "metadata": {},
   "outputs": [
    {
     "name": "stdout",
     "output_type": "stream",
     "text": [
      "Коэффициенты: [-0.73232207  0.82073651]\n",
      "Число итераций: [4]\n"
     ]
    }
   ],
   "source": [
    "model = LogisticRegression(solver='liblinear', fit_intercept=False)\n",
    "ones = np.ones((data_1_n.shape[0], 1))\n",
    "x = pd.DataFrame(ones)\n",
    "x[1] = data_1_n['serum_creatinine']\n",
    "\n",
    "y = data_1_n['DEATH_EVENT']\n",
    "\n",
    "model.fit(x, y)\n",
    "b_sklearn = model.coef_.flatten()\n",
    "\n",
    "print(f'Коэффициенты: {b_sklearn}')\n",
    "print(f'Число итераций: {model.n_iter_}')"
   ]
  },
  {
   "cell_type": "code",
   "execution_count": 219,
   "metadata": {},
   "outputs": [
    {
     "name": "stdout",
     "output_type": "stream",
     "text": [
      "Коэффициенты: [-0.73966054  0.12384363]\n",
      "Число итераций: [3]\n"
     ]
    }
   ],
   "source": [
    "model = LogisticRegression(solver='liblinear', fit_intercept=False)\n",
    "ones = np.ones((data_1_n.shape[0], 1))\n",
    "x = pd.DataFrame(ones)\n",
    "x[1] = data_1_n['creatinine_phosphokinase']\n",
    "\n",
    "y = data_1_n['DEATH_EVENT']\n",
    "\n",
    "model.fit(x, y)\n",
    "b_sklearn = model.coef_.flatten()\n",
    "\n",
    "print(f'Коэффициенты: {b_sklearn}')\n",
    "print(f'Число итераций: {model.n_iter_}')"
   ]
  },
  {
   "cell_type": "code",
   "execution_count": 193,
   "metadata": {},
   "outputs": [
    {
     "name": "stdout",
     "output_type": "stream",
     "text": [
      "Коэффициенты: [-0.83620773 -0.68524142  0.75047455]\n",
      "Число итераций: [4]\n"
     ]
    }
   ],
   "source": [
    "model = LogisticRegression(solver='liblinear', fit_intercept=False)\n",
    "ones = np.ones((data_1_n.shape[0], 1))\n",
    "x = pd.DataFrame(ones)\n",
    "x[1] = data_1_n['ejection_fraction']\n",
    "x[2] = data_1_n['serum_creatinine']\n",
    "\n",
    "y = data_1_n['DEATH_EVENT']\n",
    "\n",
    "model.fit(x, y)\n",
    "b_sklearn = model.coef_.flatten()\n",
    "\n",
    "print(f'Коэффициенты: {b_sklearn}')\n",
    "print(f'Число итераций: {model.n_iter_}')"
   ]
  },
  {
   "cell_type": "code",
   "execution_count": 220,
   "metadata": {},
   "outputs": [
    {
     "name": "stdout",
     "output_type": "stream",
     "text": [
      "Коэффициенты: [-0.83999404 -0.68226838  0.76035093  0.13054162]\n",
      "Число итераций: [4]\n"
     ]
    }
   ],
   "source": [
    "model = LogisticRegression(solver='liblinear', fit_intercept=False)\n",
    "ones = np.ones((data_1_n.shape[0], 1))\n",
    "x = pd.DataFrame(ones)\n",
    "x[1] = data_1_n['ejection_fraction']\n",
    "x[2] = data_1_n['serum_creatinine']\n",
    "x[3] = data_1_n['creatinine_phosphokinase']\n",
    "\n",
    "y = data_1_n['DEATH_EVENT']\n",
    "\n",
    "model.fit(x, y)\n",
    "b_sklearn = model.coef_.flatten()\n",
    "\n",
    "print(f'Коэффициенты: {b_sklearn}')\n",
    "print(f'Число итераций: {model.n_iter_}')"
   ]
  },
  {
   "cell_type": "code",
   "execution_count": null,
   "metadata": {},
   "outputs": [],
   "source": []
  },
  {
   "cell_type": "code",
   "execution_count": null,
   "metadata": {},
   "outputs": [],
   "source": []
  },
  {
   "cell_type": "code",
   "execution_count": null,
   "metadata": {},
   "outputs": [],
   "source": []
  },
  {
   "cell_type": "markdown",
   "metadata": {},
   "source": [
    "Набор данных: Вероятность сердечного приступа"
   ]
  },
  {
   "cell_type": "code",
   "execution_count": 194,
   "metadata": {},
   "outputs": [
    {
     "data": {
      "text/html": [
       "<div>\n",
       "<style scoped>\n",
       "    .dataframe tbody tr th:only-of-type {\n",
       "        vertical-align: middle;\n",
       "    }\n",
       "\n",
       "    .dataframe tbody tr th {\n",
       "        vertical-align: top;\n",
       "    }\n",
       "\n",
       "    .dataframe thead th {\n",
       "        text-align: right;\n",
       "    }\n",
       "</style>\n",
       "<table border=\"1\" class=\"dataframe\">\n",
       "  <thead>\n",
       "    <tr style=\"text-align: right;\">\n",
       "      <th></th>\n",
       "      <th>age</th>\n",
       "      <th>sex</th>\n",
       "      <th>cp</th>\n",
       "      <th>trestbps</th>\n",
       "      <th>chol</th>\n",
       "      <th>fbs</th>\n",
       "      <th>restecg</th>\n",
       "      <th>thalach</th>\n",
       "      <th>exang</th>\n",
       "      <th>oldpeak</th>\n",
       "      <th>slope</th>\n",
       "      <th>ca</th>\n",
       "      <th>thal</th>\n",
       "      <th>target</th>\n",
       "    </tr>\n",
       "  </thead>\n",
       "  <tbody>\n",
       "    <tr>\n",
       "      <th>0</th>\n",
       "      <td>63</td>\n",
       "      <td>1</td>\n",
       "      <td>3</td>\n",
       "      <td>145</td>\n",
       "      <td>233</td>\n",
       "      <td>1</td>\n",
       "      <td>0</td>\n",
       "      <td>150</td>\n",
       "      <td>0</td>\n",
       "      <td>2.3</td>\n",
       "      <td>0</td>\n",
       "      <td>0</td>\n",
       "      <td>1</td>\n",
       "      <td>1</td>\n",
       "    </tr>\n",
       "    <tr>\n",
       "      <th>1</th>\n",
       "      <td>37</td>\n",
       "      <td>1</td>\n",
       "      <td>2</td>\n",
       "      <td>130</td>\n",
       "      <td>250</td>\n",
       "      <td>0</td>\n",
       "      <td>1</td>\n",
       "      <td>187</td>\n",
       "      <td>0</td>\n",
       "      <td>3.5</td>\n",
       "      <td>0</td>\n",
       "      <td>0</td>\n",
       "      <td>2</td>\n",
       "      <td>1</td>\n",
       "    </tr>\n",
       "    <tr>\n",
       "      <th>2</th>\n",
       "      <td>41</td>\n",
       "      <td>0</td>\n",
       "      <td>1</td>\n",
       "      <td>130</td>\n",
       "      <td>204</td>\n",
       "      <td>0</td>\n",
       "      <td>0</td>\n",
       "      <td>172</td>\n",
       "      <td>0</td>\n",
       "      <td>1.4</td>\n",
       "      <td>2</td>\n",
       "      <td>0</td>\n",
       "      <td>2</td>\n",
       "      <td>1</td>\n",
       "    </tr>\n",
       "    <tr>\n",
       "      <th>3</th>\n",
       "      <td>56</td>\n",
       "      <td>1</td>\n",
       "      <td>1</td>\n",
       "      <td>120</td>\n",
       "      <td>236</td>\n",
       "      <td>0</td>\n",
       "      <td>1</td>\n",
       "      <td>178</td>\n",
       "      <td>0</td>\n",
       "      <td>0.8</td>\n",
       "      <td>2</td>\n",
       "      <td>0</td>\n",
       "      <td>2</td>\n",
       "      <td>1</td>\n",
       "    </tr>\n",
       "    <tr>\n",
       "      <th>4</th>\n",
       "      <td>57</td>\n",
       "      <td>0</td>\n",
       "      <td>0</td>\n",
       "      <td>120</td>\n",
       "      <td>354</td>\n",
       "      <td>0</td>\n",
       "      <td>1</td>\n",
       "      <td>163</td>\n",
       "      <td>1</td>\n",
       "      <td>0.6</td>\n",
       "      <td>2</td>\n",
       "      <td>0</td>\n",
       "      <td>2</td>\n",
       "      <td>1</td>\n",
       "    </tr>\n",
       "  </tbody>\n",
       "</table>\n",
       "</div>"
      ],
      "text/plain": [
       "   age  sex  cp  trestbps  chol  fbs  restecg  thalach  exang  oldpeak  slope  \\\n",
       "0   63    1   3       145   233    1        0      150      0      2.3      0   \n",
       "1   37    1   2       130   250    0        1      187      0      3.5      0   \n",
       "2   41    0   1       130   204    0        0      172      0      1.4      2   \n",
       "3   56    1   1       120   236    0        1      178      0      0.8      2   \n",
       "4   57    0   0       120   354    0        1      163      1      0.6      2   \n",
       "\n",
       "   ca  thal  target  \n",
       "0   0     1       1  \n",
       "1   0     2       1  \n",
       "2   0     2       1  \n",
       "3   0     2       1  \n",
       "4   0     2       1  "
      ]
     },
     "execution_count": 194,
     "metadata": {},
     "output_type": "execute_result"
    }
   ],
   "source": [
    "data = pd.read_csv(\"datasets_737503_1278636_heart.csv\", sep=\",\")\n",
    "data.shape\n",
    "data.head()"
   ]
  },
  {
   "cell_type": "markdown",
   "metadata": {},
   "source": [
    "https://www.kaggle.com/nareshbhat/health-care-data-set-on-heart-attack-possibility/data\n",
    "\n",
    "1. age: возраст в годах\n",
    "2. sex: пол (1 = мужчина; 0 = женщина)\n",
    "3. cp: тип боли в груди\n",
    "    - Значение 0: типичная стенокардия\n",
    "    - Значение 1: атипичная стенокардия\n",
    "    - Значение 2: неангинальная боль\n",
    "    - Значение 3: бессимптомное\n",
    "4. trestbps: верхнее артериальное давление в состоянии покоя (в мм рт. ст. при поступлении в больницу)\n",
    "5. холестерин: в сыворотке холестерин в мг/дл\n",
    "6. fbs: (уровень глюкозы в крови натощак > 120 мг/дл) (1 = истина; 0 = ложь)\n",
    "7. restecg: результаты электрокардиографии в состоянии покоя\n",
    "    - Значение 0: нормальное\n",
    "    - Значение 1: аномалия волны ST-T (инверсия зубца T и / или повышение или депрессия ST> 0,05 мВ)\n",
    "    - Значение 2: показ вероятной или определенной гипертрофии левого желудочка по критериям Эстеса\n",
    "8. thalach: максимальная частота сердечных сокращений во время пробы \n",
    "9. exang: стенокардия, вызванная физической нагрузкой (1 = да; 0 = нет)\n",
    "10. oldpeak = депрессия ST, вызванная физическими упражнениями относительно отдыха\n",
    "11. slope: наклон ST-сегмента\n",
    "    - значение 0: наклон вверх\n",
    "    - значение 1: ровно\n",
    "    - значение 2: наклон вниз\n",
    "12. ca: количество крупных сосудов (0-3), окрашенных с помощью флуороскопии\n",
    "13. thal: 0 = нормальный; 1 = исправленный дефект; 2 = обратимый дефект\n",
    "14. target: 0 = маленькая вероятность сердечного приступа, 1 = большая вероятность того, что это сердечный приступ"
   ]
  },
  {
   "cell_type": "code",
   "execution_count": 195,
   "metadata": {},
   "outputs": [
    {
     "data": {
      "text/plain": [
       "(303, 14)"
      ]
     },
     "execution_count": 195,
     "metadata": {},
     "output_type": "execute_result"
    }
   ],
   "source": [
    "data.shape"
   ]
  },
  {
   "cell_type": "code",
   "execution_count": 196,
   "metadata": {},
   "outputs": [
    {
     "data": {
      "text/plain": [
       "age         303\n",
       "sex         303\n",
       "cp          303\n",
       "trestbps    303\n",
       "chol        303\n",
       "fbs         303\n",
       "restecg     303\n",
       "thalach     303\n",
       "exang       303\n",
       "oldpeak     303\n",
       "slope       303\n",
       "ca          303\n",
       "thal        303\n",
       "target      303\n",
       "dtype: int64"
      ]
     },
     "execution_count": 196,
     "metadata": {},
     "output_type": "execute_result"
    }
   ],
   "source": [
    "data.count()"
   ]
  },
  {
   "cell_type": "code",
   "execution_count": 197,
   "metadata": {},
   "outputs": [
    {
     "data": {
      "text/plain": [
       "age           int64\n",
       "sex           int64\n",
       "cp            int64\n",
       "trestbps      int64\n",
       "chol          int64\n",
       "fbs           int64\n",
       "restecg       int64\n",
       "thalach       int64\n",
       "exang         int64\n",
       "oldpeak     float64\n",
       "slope         int64\n",
       "ca            int64\n",
       "thal          int64\n",
       "target        int64\n",
       "dtype: object"
      ]
     },
     "execution_count": 197,
     "metadata": {},
     "output_type": "execute_result"
    }
   ],
   "source": [
    "data.dtypes"
   ]
  },
  {
   "cell_type": "code",
   "execution_count": 198,
   "metadata": {},
   "outputs": [],
   "source": [
    "data.loc[(data['ca']>3)] = 3"
   ]
  },
  {
   "cell_type": "code",
   "execution_count": 199,
   "metadata": {},
   "outputs": [
    {
     "name": "stdout",
     "output_type": "stream",
     "text": [
      "Выборочное среднее:\n",
      "53.66006600660066 0.7161716171617162 0.9933993399339934 129.45874587458746 242.88118811881188 0.19471947194719472 0.5643564356435643 147.04950495049505 0.37293729372937295 1.0874587458745872 1.4224422442244224 0.7128712871287128 2.3234323432343236 0.5808580858085809\n",
      "\n",
      "Дисперсия:\n",
      "123.40392979695322 0.303280659191747 1.1191615850326753 576.2424977597097 3616.992459510852 0.2566607654142897 0.37250016392367713 868.8220444561013 0.3339671715515923 1.394411732563985 0.416978121653225 0.9537079535768147 0.3784888422617096 0.3436058837671846\n",
      "\n",
      "Среднее квадратическое отклонение:\n",
      "11.108732141741164 0.5507092328913208 1.0579043364277676 24.005051505041802 60.14143712542004 0.5066169809770392 0.6103279150781792 29.475787427244438 0.5778989284914727 1.1808521213784497 0.6457384312964694 0.97657972207947 0.6152144685081046 0.5861790543572711\n",
      "\n"
     ]
    }
   ],
   "source": [
    "print('Выборочное среднее:')\n",
    "print(data['age'].mean(), data['sex'].mean(), data['cp'].mean(), data['trestbps'].mean(), data['chol'].mean(), data['fbs'].mean(), data['restecg'].mean(), data['thalach'].mean(), data['exang'].mean(), data['oldpeak'].mean(), data['slope'].mean(), data['ca'].mean(), data['thal'].mean(), data['target'].mean())\n",
    "print()\n",
    "\n",
    "print('Дисперсия:')\n",
    "print(data['age'].var(), data['sex'].var(), data['cp'].var(), data['trestbps'].var(), data['chol'].var(), data['fbs'].var(), data['restecg'].var(), data['thalach'].var(), data['exang'].var(), data['oldpeak'].var(), data['slope'].var(), data['ca'].var(), data['thal'].var(), data['target'].var())\n",
    "print()\n",
    "\n",
    "print('Среднее квадратическое отклонение:')\n",
    "print(data['age'].std(), data['sex'].std(), data['cp'].std(), data['trestbps'].std(), data['chol'].std(), data['fbs'].std(), data['restecg'].std(), data['thalach'].std(), data['exang'].std(), data['oldpeak'].std(), data['slope'].std(), data['ca'].std(), data['thal'].std(), data['target'].std())\n",
    "print()"
   ]
  },
  {
   "cell_type": "code",
   "execution_count": 200,
   "metadata": {},
   "outputs": [
    {
     "data": {
      "text/plain": [
       "(array([  5.,   0.,   0.,   0.,   7.,  90., 136.,  50.,  13.,   2.]),\n",
       " array([  3. ,  22.7,  42.4,  62.1,  81.8, 101.5, 121.2, 140.9, 160.6,\n",
       "        180.3, 200. ]),\n",
       " <a list of 10 Patch objects>)"
      ]
     },
     "execution_count": 200,
     "metadata": {},
     "output_type": "execute_result"
    },
    {
     "data": {
      "image/png": "[encoded data removed]",
      "text/plain": [
       "<Figure size 432x288 with 1 Axes>"
      ]
     },
     "metadata": {
      "needs_background": "light"
     },
     "output_type": "display_data"
    }
   ],
   "source": [
    "# давление\n",
    "plt.hist(data['trestbps'], bins=10)"
   ]
  },
  {
   "cell_type": "code",
   "execution_count": 201,
   "metadata": {},
   "outputs": [
    {
     "data": {
      "text/plain": [
       "(array([142.,   0.,   0.,  49.,   0.,   0.,  84.,   0.,   0.,  28.]),\n",
       " array([0. , 0.3, 0.6, 0.9, 1.2, 1.5, 1.8, 2.1, 2.4, 2.7, 3. ]),\n",
       " <a list of 10 Patch objects>)"
      ]
     },
     "execution_count": 201,
     "metadata": {},
     "output_type": "execute_result"
    },
    {
     "data": {
      "image/png": "[encoded data removed]",
      "text/plain": [
       "<Figure size 432x288 with 1 Axes>"
      ]
     },
     "metadata": {
      "needs_background": "light"
     },
     "output_type": "display_data"
    }
   ],
   "source": [
    "# холестерин\n",
    "plt.hist(data['cp'], bins=10)"
   ]
  },
  {
   "cell_type": "code",
   "execution_count": 202,
   "metadata": {},
   "outputs": [
    {
     "data": {
      "text/plain": [
       "(array([142.,   0.,  49.,   0.,   0.,  84.,   0.,  28.]),\n",
       " array([0.   , 0.375, 0.75 , 1.125, 1.5  , 1.875, 2.25 , 2.625, 3.   ]),\n",
       " <a list of 8 Patch objects>)"
      ]
     },
     "execution_count": 202,
     "metadata": {},
     "output_type": "execute_result"
    },
    {
     "data": {
      "image/png": "[encoded data removed]",
      "text/plain": [
       "<Figure size 432x288 with 1 Axes>"
      ]
     },
     "metadata": {
      "needs_background": "light"
     },
     "output_type": "display_data"
    }
   ],
   "source": [
    "# тип боли\n",
    "plt.hist(data['cp'], bins=8) "
   ]
  },
  {
   "cell_type": "code",
   "execution_count": 203,
   "metadata": {},
   "outputs": [
    {
     "data": {
      "text/plain": [
       "(array([ 96., 202.,   0.,   5.]),\n",
       " array([0.  , 0.75, 1.5 , 2.25, 3.  ]),\n",
       " <a list of 4 Patch objects>)"
      ]
     },
     "execution_count": 203,
     "metadata": {},
     "output_type": "execute_result"
    },
    {
     "data": {
      "image/png": "[encoded data removed]",
      "text/plain": [
       "<Figure size 432x288 with 1 Axes>"
      ]
     },
     "metadata": {
      "needs_background": "light"
     },
     "output_type": "display_data"
    }
   ],
   "source": [
    "plt.hist(data['sex'], bins=4) "
   ]
  },
  {
   "cell_type": "code",
   "execution_count": 204,
   "metadata": {},
   "outputs": [
    {
     "data": {
      "text/plain": [
       "(array([254.,  44.,   0.,   5.]),\n",
       " array([0.  , 0.75, 1.5 , 2.25, 3.  ]),\n",
       " <a list of 4 Patch objects>)"
      ]
     },
     "execution_count": 204,
     "metadata": {},
     "output_type": "execute_result"
    },
    {
     "data": {
      "image/png": "[encoded data removed]",
      "text/plain": [
       "<Figure size 432x288 with 1 Axes>"
      ]
     },
     "metadata": {
      "needs_background": "light"
     },
     "output_type": "display_data"
    }
   ],
   "source": [
    "# глюкоза\n",
    "plt.hist(data['fbs'], bins=4) "
   ]
  },
  {
   "cell_type": "code",
   "execution_count": 205,
   "metadata": {},
   "outputs": [
    {
     "data": {
      "text/plain": [
       "(array([146.,   0., 148.,   0.,   4.,   5.]),\n",
       " array([0. , 0.5, 1. , 1.5, 2. , 2.5, 3. ]),\n",
       " <a list of 6 Patch objects>)"
      ]
     },
     "execution_count": 205,
     "metadata": {},
     "output_type": "execute_result"
    },
    {
     "data": {
      "image/png": "[encoded data removed]",
      "text/plain": [
       "<Figure size 432x288 with 1 Axes>"
      ]
     },
     "metadata": {
      "needs_background": "light"
     },
     "output_type": "display_data"
    }
   ],
   "source": [
    "# ЭКГ данные\n",
    "plt.hist(data['restecg'], bins=6) "
   ]
  },
  {
   "cell_type": "code",
   "execution_count": 206,
   "metadata": {},
   "outputs": [
    {
     "data": {
      "text/plain": [
       "(array([  5.,   0.,   0.,   1.,   7.,  34.,  58., 107.,  80.,  11.]),\n",
       " array([  3. ,  22.9,  42.8,  62.7,  82.6, 102.5, 122.4, 142.3, 162.2,\n",
       "        182.1, 202. ]),\n",
       " <a list of 10 Patch objects>)"
      ]
     },
     "execution_count": 206,
     "metadata": {},
     "output_type": "execute_result"
    },
    {
     "data": {
      "image/png": "[encoded data removed]",
      "text/plain": [
       "<Figure size 432x288 with 1 Axes>"
      ]
     },
     "metadata": {
      "needs_background": "light"
     },
     "output_type": "display_data"
    }
   ],
   "source": [
    "# ЧСС\n",
    "plt.hist(data['thalach'], bins=10) "
   ]
  },
  {
   "cell_type": "code",
   "execution_count": 207,
   "metadata": {},
   "outputs": [
    {
     "data": {
      "text/plain": [
       "(array([ 21.,   0., 138.,   0., 139.,   5.]),\n",
       " array([0. , 0.5, 1. , 1.5, 2. , 2.5, 3. ]),\n",
       " <a list of 6 Patch objects>)"
      ]
     },
     "execution_count": 207,
     "metadata": {},
     "output_type": "execute_result"
    },
    {
     "data": {
      "image/png": "[encoded data removed]",
      "text/plain": [
       "<Figure size 432x288 with 1 Axes>"
      ]
     },
     "metadata": {
      "needs_background": "light"
     },
     "output_type": "display_data"
    }
   ],
   "source": [
    "# наклон ST\n",
    "plt.hist(data['slope'], bins=6)"
   ]
  },
  {
   "cell_type": "code",
   "execution_count": 208,
   "metadata": {},
   "outputs": [
    {
     "data": {
      "text/plain": [
       "(array([175.,   0.,  65.,   0.,   0.,  38.,   0.,  25.]),\n",
       " array([0.   , 0.375, 0.75 , 1.125, 1.5  , 1.875, 2.25 , 2.625, 3.   ]),\n",
       " <a list of 8 Patch objects>)"
      ]
     },
     "execution_count": 208,
     "metadata": {},
     "output_type": "execute_result"
    },
    {
     "data": {
      "image/png": "[encoded data removed]",
      "text/plain": [
       "<Figure size 432x288 with 1 Axes>"
      ]
     },
     "metadata": {
      "needs_background": "light"
     },
     "output_type": "display_data"
    }
   ],
   "source": [
    "# количество крупных сосудов (0-3), окрашенных с помощью флуороскопии\n",
    "plt.hist(data['ca'], bins=8) "
   ]
  },
  {
   "cell_type": "code",
   "execution_count": 209,
   "metadata": {},
   "outputs": [
    {
     "data": {
      "text/plain": [
       "(array([137., 161.,   0.,   5.]),\n",
       " array([0.  , 0.75, 1.5 , 2.25, 3.  ]),\n",
       " <a list of 4 Patch objects>)"
      ]
     },
     "execution_count": 209,
     "metadata": {},
     "output_type": "execute_result"
    },
    {
     "data": {
      "image/png": "[encoded data removed]",
      "text/plain": [
       "<Figure size 432x288 with 1 Axes>"
      ]
     },
     "metadata": {
      "needs_background": "light"
     },
     "output_type": "display_data"
    }
   ],
   "source": [
    "plt.hist(data['target'], bins=4) "
   ]
  },
  {
   "cell_type": "code",
   "execution_count": 210,
   "metadata": {},
   "outputs": [
    {
     "data": {
      "text/html": [
       "<div>\n",
       "<style scoped>\n",
       "    .dataframe tbody tr th:only-of-type {\n",
       "        vertical-align: middle;\n",
       "    }\n",
       "\n",
       "    .dataframe tbody tr th {\n",
       "        vertical-align: top;\n",
       "    }\n",
       "\n",
       "    .dataframe thead th {\n",
       "        text-align: right;\n",
       "    }\n",
       "</style>\n",
       "<table border=\"1\" class=\"dataframe\">\n",
       "  <thead>\n",
       "    <tr style=\"text-align: right;\">\n",
       "      <th></th>\n",
       "      <th>trestbps</th>\n",
       "      <th>chol</th>\n",
       "      <th>target</th>\n",
       "    </tr>\n",
       "  </thead>\n",
       "  <tbody>\n",
       "    <tr>\n",
       "      <th>trestbps</th>\n",
       "      <td>1.000000</td>\n",
       "      <td>0.433318</td>\n",
       "      <td>-0.457402</td>\n",
       "    </tr>\n",
       "    <tr>\n",
       "      <th>chol</th>\n",
       "      <td>0.433318</td>\n",
       "      <td>1.000000</td>\n",
       "      <td>-0.331288</td>\n",
       "    </tr>\n",
       "    <tr>\n",
       "      <th>target</th>\n",
       "      <td>-0.457402</td>\n",
       "      <td>-0.331288</td>\n",
       "      <td>1.000000</td>\n",
       "    </tr>\n",
       "  </tbody>\n",
       "</table>\n",
       "</div>"
      ],
      "text/plain": [
       "          trestbps      chol    target\n",
       "trestbps  1.000000  0.433318 -0.457402\n",
       "chol      0.433318  1.000000 -0.331288\n",
       "target   -0.457402 -0.331288  1.000000"
      ]
     },
     "execution_count": 210,
     "metadata": {},
     "output_type": "execute_result"
    }
   ],
   "source": [
    "data[['trestbps', 'chol', 'target']].corr()"
   ]
  },
  {
   "cell_type": "code",
   "execution_count": 211,
   "metadata": {},
   "outputs": [
    {
     "data": {
      "text/html": [
       "<div>\n",
       "<style scoped>\n",
       "    .dataframe tbody tr th:only-of-type {\n",
       "        vertical-align: middle;\n",
       "    }\n",
       "\n",
       "    .dataframe tbody tr th {\n",
       "        vertical-align: top;\n",
       "    }\n",
       "\n",
       "    .dataframe thead th {\n",
       "        text-align: right;\n",
       "    }\n",
       "</style>\n",
       "<table border=\"1\" class=\"dataframe\">\n",
       "  <thead>\n",
       "    <tr style=\"text-align: right;\">\n",
       "      <th></th>\n",
       "      <th>age</th>\n",
       "      <th>sex</th>\n",
       "      <th>cp</th>\n",
       "      <th>trestbps</th>\n",
       "      <th>chol</th>\n",
       "      <th>fbs</th>\n",
       "      <th>restecg</th>\n",
       "      <th>thalach</th>\n",
       "      <th>exang</th>\n",
       "      <th>oldpeak</th>\n",
       "      <th>ca</th>\n",
       "      <th>thal</th>\n",
       "      <th>target</th>\n",
       "    </tr>\n",
       "  </thead>\n",
       "  <tbody>\n",
       "    <tr>\n",
       "      <th>age</th>\n",
       "      <td>1.000000</td>\n",
       "      <td>-0.379009</td>\n",
       "      <td>-0.193198</td>\n",
       "      <td>0.574438</td>\n",
       "      <td>0.445305</td>\n",
       "      <td>-0.352399</td>\n",
       "      <td>-0.383810</td>\n",
       "      <td>0.129705</td>\n",
       "      <td>-0.286053</td>\n",
       "      <td>0.032994</td>\n",
       "      <td>0.100244</td>\n",
       "      <td>-0.031826</td>\n",
       "      <td>-0.469441</td>\n",
       "    </tr>\n",
       "    <tr>\n",
       "      <th>sex</th>\n",
       "      <td>-0.379009</td>\n",
       "      <td>1.000000</td>\n",
       "      <td>0.087711</td>\n",
       "      <td>-0.403906</td>\n",
       "      <td>-0.416623</td>\n",
       "      <td>0.412377</td>\n",
       "      <td>0.231854</td>\n",
       "      <td>-0.373654</td>\n",
       "      <td>0.416933</td>\n",
       "      <td>0.200728</td>\n",
       "      <td>0.235852</td>\n",
       "      <td>0.252301</td>\n",
       "      <td>0.081586</td>\n",
       "    </tr>\n",
       "    <tr>\n",
       "      <th>cp</th>\n",
       "      <td>-0.193198</td>\n",
       "      <td>0.087711</td>\n",
       "      <td>1.000000</td>\n",
       "      <td>-0.136790</td>\n",
       "      <td>-0.182948</td>\n",
       "      <td>0.249537</td>\n",
       "      <td>0.154513</td>\n",
       "      <td>0.060220</td>\n",
       "      <td>-0.158446</td>\n",
       "      <td>-0.085152</td>\n",
       "      <td>-0.133249</td>\n",
       "      <td>-0.113726</td>\n",
       "      <td>0.481436</td>\n",
       "    </tr>\n",
       "    <tr>\n",
       "      <th>trestbps</th>\n",
       "      <td>0.574438</td>\n",
       "      <td>-0.403906</td>\n",
       "      <td>-0.136790</td>\n",
       "      <td>1.000000</td>\n",
       "      <td>0.433318</td>\n",
       "      <td>-0.399448</td>\n",
       "      <td>-0.427033</td>\n",
       "      <td>0.404736</td>\n",
       "      <td>-0.362058</td>\n",
       "      <td>-0.002939</td>\n",
       "      <td>-0.136176</td>\n",
       "      <td>-0.049990</td>\n",
       "      <td>-0.457402</td>\n",
       "    </tr>\n",
       "    <tr>\n",
       "      <th>chol</th>\n",
       "      <td>0.445305</td>\n",
       "      <td>-0.416623</td>\n",
       "      <td>-0.182948</td>\n",
       "      <td>0.433318</td>\n",
       "      <td>1.000000</td>\n",
       "      <td>-0.366894</td>\n",
       "      <td>-0.371818</td>\n",
       "      <td>0.328337</td>\n",
       "      <td>-0.264341</td>\n",
       "      <td>-0.071960</td>\n",
       "      <td>-0.057750</td>\n",
       "      <td>0.007844</td>\n",
       "      <td>-0.331288</td>\n",
       "    </tr>\n",
       "    <tr>\n",
       "      <th>fbs</th>\n",
       "      <td>-0.352399</td>\n",
       "      <td>0.412377</td>\n",
       "      <td>0.249537</td>\n",
       "      <td>-0.399448</td>\n",
       "      <td>-0.366894</td>\n",
       "      <td>1.000000</td>\n",
       "      <td>0.328799</td>\n",
       "      <td>-0.456993</td>\n",
       "      <td>0.429742</td>\n",
       "      <td>0.156308</td>\n",
       "      <td>0.314162</td>\n",
       "      <td>0.073491</td>\n",
       "      <td>0.376090</td>\n",
       "    </tr>\n",
       "    <tr>\n",
       "      <th>restecg</th>\n",
       "      <td>-0.383810</td>\n",
       "      <td>0.231854</td>\n",
       "      <td>0.154513</td>\n",
       "      <td>-0.427033</td>\n",
       "      <td>-0.371818</td>\n",
       "      <td>0.328799</td>\n",
       "      <td>1.000000</td>\n",
       "      <td>-0.304708</td>\n",
       "      <td>0.265005</td>\n",
       "      <td>0.064987</td>\n",
       "      <td>0.067216</td>\n",
       "      <td>0.067843</td>\n",
       "      <td>0.367196</td>\n",
       "    </tr>\n",
       "    <tr>\n",
       "      <th>thalach</th>\n",
       "      <td>0.129705</td>\n",
       "      <td>-0.373654</td>\n",
       "      <td>0.060220</td>\n",
       "      <td>0.404736</td>\n",
       "      <td>0.328337</td>\n",
       "      <td>-0.456993</td>\n",
       "      <td>-0.304708</td>\n",
       "      <td>1.000000</td>\n",
       "      <td>-0.608559</td>\n",
       "      <td>-0.390551</td>\n",
       "      <td>-0.386703</td>\n",
       "      <td>-0.159748</td>\n",
       "      <td>-0.066637</td>\n",
       "    </tr>\n",
       "    <tr>\n",
       "      <th>exang</th>\n",
       "      <td>-0.286053</td>\n",
       "      <td>0.416933</td>\n",
       "      <td>-0.158446</td>\n",
       "      <td>-0.362058</td>\n",
       "      <td>-0.264341</td>\n",
       "      <td>0.429742</td>\n",
       "      <td>0.265005</td>\n",
       "      <td>-0.608559</td>\n",
       "      <td>1.000000</td>\n",
       "      <td>0.351388</td>\n",
       "      <td>0.290109</td>\n",
       "      <td>0.246363</td>\n",
       "      <td>0.023098</td>\n",
       "    </tr>\n",
       "    <tr>\n",
       "      <th>oldpeak</th>\n",
       "      <td>0.032994</td>\n",
       "      <td>0.200728</td>\n",
       "      <td>-0.085152</td>\n",
       "      <td>-0.002939</td>\n",
       "      <td>-0.071960</td>\n",
       "      <td>0.156308</td>\n",
       "      <td>0.064987</td>\n",
       "      <td>-0.390551</td>\n",
       "      <td>0.351388</td>\n",
       "      <td>1.000000</td>\n",
       "      <td>0.337986</td>\n",
       "      <td>0.236235</td>\n",
       "      <td>-0.242022</td>\n",
       "    </tr>\n",
       "    <tr>\n",
       "      <th>ca</th>\n",
       "      <td>0.100244</td>\n",
       "      <td>0.235852</td>\n",
       "      <td>-0.133249</td>\n",
       "      <td>-0.136176</td>\n",
       "      <td>-0.057750</td>\n",
       "      <td>0.314162</td>\n",
       "      <td>0.067216</td>\n",
       "      <td>-0.386703</td>\n",
       "      <td>0.290109</td>\n",
       "      <td>0.337986</td>\n",
       "      <td>1.000000</td>\n",
       "      <td>0.193662</td>\n",
       "      <td>-0.210929</td>\n",
       "    </tr>\n",
       "    <tr>\n",
       "      <th>thal</th>\n",
       "      <td>-0.031826</td>\n",
       "      <td>0.252301</td>\n",
       "      <td>-0.113726</td>\n",
       "      <td>-0.049990</td>\n",
       "      <td>0.007844</td>\n",
       "      <td>0.073491</td>\n",
       "      <td>0.067843</td>\n",
       "      <td>-0.159748</td>\n",
       "      <td>0.246363</td>\n",
       "      <td>0.236235</td>\n",
       "      <td>0.193662</td>\n",
       "      <td>1.000000</td>\n",
       "      <td>-0.210488</td>\n",
       "    </tr>\n",
       "    <tr>\n",
       "      <th>target</th>\n",
       "      <td>-0.469441</td>\n",
       "      <td>0.081586</td>\n",
       "      <td>0.481436</td>\n",
       "      <td>-0.457402</td>\n",
       "      <td>-0.331288</td>\n",
       "      <td>0.376090</td>\n",
       "      <td>0.367196</td>\n",
       "      <td>-0.066637</td>\n",
       "      <td>0.023098</td>\n",
       "      <td>-0.242022</td>\n",
       "      <td>-0.210929</td>\n",
       "      <td>-0.210488</td>\n",
       "      <td>1.000000</td>\n",
       "    </tr>\n",
       "  </tbody>\n",
       "</table>\n",
       "</div>"
      ],
      "text/plain": [
       "               age       sex        cp  trestbps      chol       fbs  \\\n",
       "age       1.000000 -0.379009 -0.193198  0.574438  0.445305 -0.352399   \n",
       "sex      -0.379009  1.000000  0.087711 -0.403906 -0.416623  0.412377   \n",
       "cp       -0.193198  0.087711  1.000000 -0.136790 -0.182948  0.249537   \n",
       "trestbps  0.574438 -0.403906 -0.136790  1.000000  0.433318 -0.399448   \n",
       "chol      0.445305 -0.416623 -0.182948  0.433318  1.000000 -0.366894   \n",
       "fbs      -0.352399  0.412377  0.249537 -0.399448 -0.366894  1.000000   \n",
       "restecg  -0.383810  0.231854  0.154513 -0.427033 -0.371818  0.328799   \n",
       "thalach   0.129705 -0.373654  0.060220  0.404736  0.328337 -0.456993   \n",
       "exang    -0.286053  0.416933 -0.158446 -0.362058 -0.264341  0.429742   \n",
       "oldpeak   0.032994  0.200728 -0.085152 -0.002939 -0.071960  0.156308   \n",
       "ca        0.100244  0.235852 -0.133249 -0.136176 -0.057750  0.314162   \n",
       "thal     -0.031826  0.252301 -0.113726 -0.049990  0.007844  0.073491   \n",
       "target   -0.469441  0.081586  0.481436 -0.457402 -0.331288  0.376090   \n",
       "\n",
       "           restecg   thalach     exang   oldpeak        ca      thal    target  \n",
       "age      -0.383810  0.129705 -0.286053  0.032994  0.100244 -0.031826 -0.469441  \n",
       "sex       0.231854 -0.373654  0.416933  0.200728  0.235852  0.252301  0.081586  \n",
       "cp        0.154513  0.060220 -0.158446 -0.085152 -0.133249 -0.113726  0.481436  \n",
       "trestbps -0.427033  0.404736 -0.362058 -0.002939 -0.136176 -0.049990 -0.457402  \n",
       "chol     -0.371818  0.328337 -0.264341 -0.071960 -0.057750  0.007844 -0.331288  \n",
       "fbs       0.328799 -0.456993  0.429742  0.156308  0.314162  0.073491  0.376090  \n",
       "restecg   1.000000 -0.304708  0.265005  0.064987  0.067216  0.067843  0.367196  \n",
       "thalach  -0.304708  1.000000 -0.608559 -0.390551 -0.386703 -0.159748 -0.066637  \n",
       "exang     0.265005 -0.608559  1.000000  0.351388  0.290109  0.246363  0.023098  \n",
       "oldpeak   0.064987 -0.390551  0.351388  1.000000  0.337986  0.236235 -0.242022  \n",
       "ca        0.067216 -0.386703  0.290109  0.337986  1.000000  0.193662 -0.210929  \n",
       "thal      0.067843 -0.159748  0.246363  0.236235  0.193662  1.000000 -0.210488  \n",
       "target    0.367196 -0.066637  0.023098 -0.242022 -0.210929 -0.210488  1.000000  "
      ]
     },
     "execution_count": 211,
     "metadata": {},
     "output_type": "execute_result"
    }
   ],
   "source": [
    "data_corr = data[['age', 'sex', 'cp', 'trestbps', 'chol', 'fbs', 'restecg', 'thalach', 'exang', 'oldpeak', 'ca', 'thal', 'target']].corr()\n",
    "data_corr"
   ]
  },
  {
   "cell_type": "code",
   "execution_count": 212,
   "metadata": {},
   "outputs": [
    {
     "data": {
      "image/png": "[encoded data removed]",
      "text/plain": [
       "<Figure size 432x288 with 1 Axes>"
      ]
     },
     "metadata": {
      "needs_background": "light"
     },
     "output_type": "display_data"
    }
   ],
   "source": [
    "plt.scatter(data['trestbps'], data['chol'])\n",
    "plt.show()"
   ]
  },
  {
   "cell_type": "code",
   "execution_count": 213,
   "metadata": {},
   "outputs": [
    {
     "data": {
      "image/png": "[encoded data removed]",
      "text/plain": [
       "<Figure size 432x288 with 1 Axes>"
      ]
     },
     "metadata": {
      "needs_background": "light"
     },
     "output_type": "display_data"
    }
   ],
   "source": [
    "plt.scatter(data['trestbps'], data['thalach'])\n",
    "plt.show()"
   ]
  },
  {
   "cell_type": "code",
   "execution_count": 214,
   "metadata": {},
   "outputs": [
    {
     "data": {
      "image/png": "[encoded data removed]",
      "text/plain": [
       "<Figure size 432x288 with 1 Axes>"
      ]
     },
     "metadata": {
      "needs_background": "light"
     },
     "output_type": "display_data"
    }
   ],
   "source": [
    "plt.scatter(data['chol'], data['thalach'])\n",
    "plt.show()"
   ]
  },
  {
   "cell_type": "code",
   "execution_count": 215,
   "metadata": {},
   "outputs": [
    {
     "data": {
      "text/html": [
       "<div>\n",
       "<style scoped>\n",
       "    .dataframe tbody tr th:only-of-type {\n",
       "        vertical-align: middle;\n",
       "    }\n",
       "\n",
       "    .dataframe tbody tr th {\n",
       "        vertical-align: top;\n",
       "    }\n",
       "\n",
       "    .dataframe thead th {\n",
       "        text-align: right;\n",
       "    }\n",
       "</style>\n",
       "<table border=\"1\" class=\"dataframe\">\n",
       "  <thead>\n",
       "    <tr style=\"text-align: right;\">\n",
       "      <th></th>\n",
       "      <th>age</th>\n",
       "      <th>sex</th>\n",
       "      <th>cp</th>\n",
       "      <th>trestbps</th>\n",
       "      <th>chol</th>\n",
       "      <th>fbs</th>\n",
       "      <th>restecg</th>\n",
       "      <th>thalach</th>\n",
       "      <th>exang</th>\n",
       "      <th>oldpeak</th>\n",
       "      <th>slope</th>\n",
       "      <th>ca</th>\n",
       "      <th>thal</th>\n",
       "      <th>target</th>\n",
       "    </tr>\n",
       "  </thead>\n",
       "  <tbody>\n",
       "    <tr>\n",
       "      <th>0</th>\n",
       "      <td>0.840774</td>\n",
       "      <td>1</td>\n",
       "      <td>3</td>\n",
       "      <td>0.647416</td>\n",
       "      <td>-0.164299</td>\n",
       "      <td>1</td>\n",
       "      <td>0</td>\n",
       "      <td>0.100099</td>\n",
       "      <td>0</td>\n",
       "      <td>1.026836</td>\n",
       "      <td>0</td>\n",
       "      <td>0</td>\n",
       "      <td>1</td>\n",
       "      <td>1</td>\n",
       "    </tr>\n",
       "    <tr>\n",
       "      <th>1</th>\n",
       "      <td>-1.499727</td>\n",
       "      <td>1</td>\n",
       "      <td>2</td>\n",
       "      <td>0.022548</td>\n",
       "      <td>0.118368</td>\n",
       "      <td>0</td>\n",
       "      <td>1</td>\n",
       "      <td>1.355367</td>\n",
       "      <td>0</td>\n",
       "      <td>2.043051</td>\n",
       "      <td>0</td>\n",
       "      <td>0</td>\n",
       "      <td>2</td>\n",
       "      <td>1</td>\n",
       "    </tr>\n",
       "    <tr>\n",
       "      <th>2</th>\n",
       "      <td>-1.139650</td>\n",
       "      <td>0</td>\n",
       "      <td>1</td>\n",
       "      <td>0.022548</td>\n",
       "      <td>-0.646496</td>\n",
       "      <td>0</td>\n",
       "      <td>0</td>\n",
       "      <td>0.846474</td>\n",
       "      <td>0</td>\n",
       "      <td>0.264674</td>\n",
       "      <td>2</td>\n",
       "      <td>0</td>\n",
       "      <td>2</td>\n",
       "      <td>1</td>\n",
       "    </tr>\n",
       "    <tr>\n",
       "      <th>3</th>\n",
       "      <td>0.210639</td>\n",
       "      <td>1</td>\n",
       "      <td>1</td>\n",
       "      <td>-0.394031</td>\n",
       "      <td>-0.114417</td>\n",
       "      <td>0</td>\n",
       "      <td>1</td>\n",
       "      <td>1.050031</td>\n",
       "      <td>0</td>\n",
       "      <td>-0.243433</td>\n",
       "      <td>2</td>\n",
       "      <td>0</td>\n",
       "      <td>2</td>\n",
       "      <td>1</td>\n",
       "    </tr>\n",
       "    <tr>\n",
       "      <th>4</th>\n",
       "      <td>0.300658</td>\n",
       "      <td>0</td>\n",
       "      <td>0</td>\n",
       "      <td>-0.394031</td>\n",
       "      <td>1.847625</td>\n",
       "      <td>0</td>\n",
       "      <td>1</td>\n",
       "      <td>0.541139</td>\n",
       "      <td>1</td>\n",
       "      <td>-0.412803</td>\n",
       "      <td>2</td>\n",
       "      <td>0</td>\n",
       "      <td>2</td>\n",
       "      <td>1</td>\n",
       "    </tr>\n",
       "    <tr>\n",
       "      <th>...</th>\n",
       "      <td>...</td>\n",
       "      <td>...</td>\n",
       "      <td>...</td>\n",
       "      <td>...</td>\n",
       "      <td>...</td>\n",
       "      <td>...</td>\n",
       "      <td>...</td>\n",
       "      <td>...</td>\n",
       "      <td>...</td>\n",
       "      <td>...</td>\n",
       "      <td>...</td>\n",
       "      <td>...</td>\n",
       "      <td>...</td>\n",
       "      <td>...</td>\n",
       "    </tr>\n",
       "    <tr>\n",
       "      <th>298</th>\n",
       "      <td>0.300658</td>\n",
       "      <td>0</td>\n",
       "      <td>0</td>\n",
       "      <td>0.439126</td>\n",
       "      <td>-0.031279</td>\n",
       "      <td>0</td>\n",
       "      <td>1</td>\n",
       "      <td>-0.815907</td>\n",
       "      <td>1</td>\n",
       "      <td>-0.751541</td>\n",
       "      <td>1</td>\n",
       "      <td>0</td>\n",
       "      <td>3</td>\n",
       "      <td>0</td>\n",
       "    </tr>\n",
       "    <tr>\n",
       "      <th>299</th>\n",
       "      <td>-0.779573</td>\n",
       "      <td>1</td>\n",
       "      <td>3</td>\n",
       "      <td>-0.810610</td>\n",
       "      <td>0.351152</td>\n",
       "      <td>0</td>\n",
       "      <td>1</td>\n",
       "      <td>-0.510572</td>\n",
       "      <td>0</td>\n",
       "      <td>0.095305</td>\n",
       "      <td>1</td>\n",
       "      <td>0</td>\n",
       "      <td>3</td>\n",
       "      <td>0</td>\n",
       "    </tr>\n",
       "    <tr>\n",
       "      <th>300</th>\n",
       "      <td>1.290870</td>\n",
       "      <td>1</td>\n",
       "      <td>0</td>\n",
       "      <td>0.605758</td>\n",
       "      <td>-0.829398</td>\n",
       "      <td>1</td>\n",
       "      <td>1</td>\n",
       "      <td>-0.205236</td>\n",
       "      <td>0</td>\n",
       "      <td>1.958367</td>\n",
       "      <td>1</td>\n",
       "      <td>2</td>\n",
       "      <td>3</td>\n",
       "      <td>0</td>\n",
       "    </tr>\n",
       "    <tr>\n",
       "      <th>301</th>\n",
       "      <td>0.300658</td>\n",
       "      <td>1</td>\n",
       "      <td>0</td>\n",
       "      <td>0.022548</td>\n",
       "      <td>-1.860301</td>\n",
       "      <td>0</td>\n",
       "      <td>1</td>\n",
       "      <td>-1.087316</td>\n",
       "      <td>1</td>\n",
       "      <td>0.095305</td>\n",
       "      <td>1</td>\n",
       "      <td>1</td>\n",
       "      <td>3</td>\n",
       "      <td>0</td>\n",
       "    </tr>\n",
       "    <tr>\n",
       "      <th>302</th>\n",
       "      <td>0.300658</td>\n",
       "      <td>0</td>\n",
       "      <td>1</td>\n",
       "      <td>0.022548</td>\n",
       "      <td>-0.114417</td>\n",
       "      <td>0</td>\n",
       "      <td>0</td>\n",
       "      <td>0.914327</td>\n",
       "      <td>0</td>\n",
       "      <td>-0.920910</td>\n",
       "      <td>1</td>\n",
       "      <td>1</td>\n",
       "      <td>2</td>\n",
       "      <td>0</td>\n",
       "    </tr>\n",
       "  </tbody>\n",
       "</table>\n",
       "<p>303 rows × 14 columns</p>\n",
       "</div>"
      ],
      "text/plain": [
       "          age  sex  cp  trestbps      chol  fbs  restecg   thalach  exang  \\\n",
       "0    0.840774    1   3  0.647416 -0.164299    1        0  0.100099      0   \n",
       "1   -1.499727    1   2  0.022548  0.118368    0        1  1.355367      0   \n",
       "2   -1.139650    0   1  0.022548 -0.646496    0        0  0.846474      0   \n",
       "3    0.210639    1   1 -0.394031 -0.114417    0        1  1.050031      0   \n",
       "4    0.300658    0   0 -0.394031  1.847625    0        1  0.541139      1   \n",
       "..        ...  ...  ..       ...       ...  ...      ...       ...    ...   \n",
       "298  0.300658    0   0  0.439126 -0.031279    0        1 -0.815907      1   \n",
       "299 -0.779573    1   3 -0.810610  0.351152    0        1 -0.510572      0   \n",
       "300  1.290870    1   0  0.605758 -0.829398    1        1 -0.205236      0   \n",
       "301  0.300658    1   0  0.022548 -1.860301    0        1 -1.087316      1   \n",
       "302  0.300658    0   1  0.022548 -0.114417    0        0  0.914327      0   \n",
       "\n",
       "      oldpeak  slope  ca  thal  target  \n",
       "0    1.026836      0   0     1       1  \n",
       "1    2.043051      0   0     2       1  \n",
       "2    0.264674      2   0     2       1  \n",
       "3   -0.243433      2   0     2       1  \n",
       "4   -0.412803      2   0     2       1  \n",
       "..        ...    ...  ..   ...     ...  \n",
       "298 -0.751541      1   0     3       0  \n",
       "299  0.095305      1   0     3       0  \n",
       "300  1.958367      1   2     3       0  \n",
       "301  0.095305      1   1     3       0  \n",
       "302 -0.920910      1   1     2       0  \n",
       "\n",
       "[303 rows x 14 columns]"
      ]
     },
     "execution_count": 215,
     "metadata": {},
     "output_type": "execute_result"
    }
   ],
   "source": [
    "# нормализация данных\n",
    "data_n = data.copy()\n",
    "data_n['age'] = (data['age']-data['age'].mean()) / data['age'].std()\n",
    "data_n['trestbps'] = (data['trestbps']-data['trestbps'].mean()) / data['trestbps'].std()\n",
    "data_n['chol'] = (data['chol']-data['chol'].mean()) / data['chol'].std()\n",
    "data_n['thalach'] = (data['thalach']-data['thalach'].mean()) / data['thalach'].std()\n",
    "data_n['oldpeak'] = (data['oldpeak']-data['oldpeak'].mean()) / data['oldpeak'].std()\n",
    "data_n"
   ]
  },
  {
   "cell_type": "code",
   "execution_count": 216,
   "metadata": {},
   "outputs": [
    {
     "name": "stdout",
     "output_type": "stream",
     "text": [
      "Коэффициенты: [ 0.66480257 -0.95442377 -0.59378977  0.77314296 -4.1337788   0.51871288]\n",
      "Число итераций: [6]\n"
     ]
    }
   ],
   "source": [
    "model = LogisticRegression(solver='liblinear', fit_intercept=False)\n",
    "ones = np.ones((data_n.shape[0], 1))\n",
    "x = pd.DataFrame(ones)\n",
    "x[1] = data_n['cp']\n",
    "\n",
    "y = data_n['target']\n",
    "\n",
    "model.fit(x, y)\n",
    "b_sklearn = model.coef_.flatten()\n",
    "\n",
    "print(f'Коэффициенты: {b_sklearn}')\n",
    "print(f'Число итераций: {model.n_iter_}')"
   ]
  },
  {
   "cell_type": "code",
   "execution_count": 221,
   "metadata": {},
   "outputs": [
    {
     "name": "stdout",
     "output_type": "stream",
     "text": [
      "Коэффициенты: [ 1.35891174 -1.11555528 -1.03513764  0.82996071 -4.13846493  0.44330874]\n",
      "Число итераций: [6]\n"
     ]
    }
   ],
   "source": [
    "model = LogisticRegression(solver='liblinear', fit_intercept=False)\n",
    "ones = np.ones((data_n.shape[0], 1))\n",
    "x = pd.DataFrame(ones)\n",
    "x[1] = data_n['slope']\n",
    "\n",
    "y = data_n['target']\n",
    "\n",
    "model.fit(x, y)\n",
    "b_sklearn = model.coef_.flatten()\n",
    "\n",
    "print(f'Коэффициенты: {b_sklearn}')\n",
    "print(f'Число итераций: {model.n_iter_}')"
   ]
  },
  {
   "cell_type": "code",
   "execution_count": 217,
   "metadata": {},
   "outputs": [
    {
     "name": "stdout",
     "output_type": "stream",
     "text": [
      "Коэффициенты: [ 2.05017059 -0.90066377 -1.03540463 -1.53137712  0.71701151  0.71026748\n",
      " -4.37768669  0.46536223  0.23228525]\n",
      "Число итераций: [6]\n"
     ]
    }
   ],
   "source": [
    "model = LogisticRegression(solver='liblinear', fit_intercept=False)\n",
    "ones = np.ones((data_n.shape[0], 1))\n",
    "x = pd.DataFrame(ones)\n",
    "x[1] = data_n['cp']\n",
    "x[2] = data_n['slope']\n",
    "y = data_n['target']\n",
    "\n",
    "model.fit(x, y)\n",
    "b_sklearn = model.coef_.flatten()\n",
    "\n",
    "print(f'Коэффициенты: {b_sklearn}')\n",
    "print(f'Число итераций: {model.n_iter_}')"
   ]
  },
  {
   "cell_type": "code",
   "execution_count": null,
   "metadata": {},
   "outputs": [],
   "source": []
  },
  {
   "cell_type": "code",
   "execution_count": null,
   "metadata": {},
   "outputs": [],
   "source": []
  },
  {
   "cell_type": "code",
   "execution_count": null,
   "metadata": {},
   "outputs": [],
   "source": []
  }
 ],
 "metadata": {
  "kernelspec": {
   "display_name": "Python 3",
   "language": "python",
   "name": "python3"
  },
  "language_info": {
   "codemirror_mode": {
    "name": "ipython",
    "version": 3
   },
   "file_extension": ".py",
   "mimetype": "text/x-python",
   "name": "python",
   "nbconvert_exporter": "python",
   "pygments_lexer": "ipython3",
   "version": "3.8.2"
  }
 },
 "nbformat": 4,
 "nbformat_minor": 4
}
