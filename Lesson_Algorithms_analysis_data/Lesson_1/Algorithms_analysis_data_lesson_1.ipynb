{
 "cells": [
  {
   "cell_type": "code",
   "execution_count": 256,
   "metadata": {},
   "outputs": [],
   "source": [
    "import numpy as np"
   ]
  },
  {
   "cell_type": "code",
   "execution_count": 257,
   "metadata": {},
   "outputs": [],
   "source": [
    "X = np.array([[1, 1, 1, 1, 1, 1, 1, 1, 1, 1],\n",
    "              [1, 1, 2, 1, 3, 0, 5, 10, 1, 2]])"
   ]
  },
  {
   "cell_type": "code",
   "execution_count": 258,
   "metadata": {},
   "outputs": [],
   "source": [
    "y = [45, 55, 50, 59, 65, 35, 75, 80, 50, 60]"
   ]
  },
  {
   "cell_type": "code",
   "execution_count": 259,
   "metadata": {},
   "outputs": [],
   "source": [
    "def calc_mse(y, y_pred):\n",
    "    err = np.mean((y - y_pred)**2)\n",
    "    return err"
   ]
  },
  {
   "cell_type": "code",
   "execution_count": 260,
   "metadata": {},
   "outputs": [
    {
     "data": {
      "text/plain": [
       "(array([1. , 0.5]), 0.0001)"
      ]
     },
     "execution_count": 260,
     "metadata": {},
     "output_type": "execute_result"
    }
   ],
   "source": [
    "n = X.shape[1]\n",
    "alpha = 1e-4\n",
    "W = np.array([1, 0.5])\n",
    "W, alpha"
   ]
  },
  {
   "cell_type": "code",
   "execution_count": 261,
   "metadata": {},
   "outputs": [
    {
     "name": "stdout",
     "output_type": "stream",
     "text": [
      "0 [1.01102 0.5    ] 3173.15\n",
      "0 [1.01102 0.534  ] 3173.15\n",
      "100 [2.02168794 3.42791095] 2207.6942101483005\n",
      "100 [2.02168794 3.452835  ] 2207.6942101483005\n",
      "200 [2.88306663 5.57141207] 1670.7027004086372\n",
      "200 [2.88306663 5.58962851] 1670.7027004086372\n",
      "300 [3.63289519 7.1352209 ] 1368.0832412796256\n",
      "300 [3.63289519 7.14848061] 1368.0832412796256\n",
      "400 [4.29908617 8.27068189] 1193.7493344933293\n",
      "400 [4.29908617 8.28027926] 1193.7493344933293\n",
      "500 [4.90228732 9.08968104] 1089.714750358689\n",
      "500 [4.90228732 9.09657298] 1089.714750358689\n",
      "600 [5.45777535 9.6749329 ] 1024.2828984889416\n",
      "600 [5.45777535 9.67982684] 1024.2828984889416\n",
      "700 [ 5.97685612 10.08758579] 980.1260644155933\n",
      "700 [ 5.97685612 10.0910047 ] 980.1260644155933\n",
      "800 [ 6.46789973 10.37284419] 947.770026039189\n",
      "800 [ 6.46789973 10.37517467] 947.770026039189\n",
      "900 [ 6.93710574 10.56412541] 922.0330206910178\n",
      "900 [ 6.93710574 10.56565326] 922.0330206910178\n"
     ]
    }
   ],
   "source": [
    "for i in range(1000):\n",
    "    y_pred = np.dot(W, X)\n",
    "    err = calc_mse(y, y_pred)\n",
    "    for ii in range(W.shape[0]):\n",
    "        W[ii] -= alpha * (1/n * 2 * np.sum(X[ii] * (y_pred - y)))\n",
    "        if i % 100 == 0:\n",
    "            print(i, W, err)"
   ]
  },
  {
   "cell_type": "code",
   "execution_count": 262,
   "metadata": {},
   "outputs": [
    {
     "data": {
      "text/plain": [
       "(array([1. , 0.5]), 0.06)"
      ]
     },
     "execution_count": 262,
     "metadata": {},
     "output_type": "execute_result"
    }
   ],
   "source": [
    "n = X.shape[1]\n",
    "alpha = 0.06\n",
    "W = np.array([1, 0.5])\n",
    "W, alpha"
   ]
  },
  {
   "cell_type": "code",
   "execution_count": 263,
   "metadata": {},
   "outputs": [
    {
     "name": "stdout",
     "output_type": "stream",
     "text": [
      "0 [7.612 0.5  ] 3173.15\n",
      "0 [ 7.612 20.9  ] 3173.15\n",
      "10 [25.72983979  6.78864705] 364.6834436471202\n",
      "10 [25.72983979  9.05170097] 364.6834436471202\n",
      "20 [35.85695572  5.9868213 ] 125.86627725452956\n",
      "20 [35.85695572  6.15284752] 125.86627725452956\n",
      "30 [41.24888118  5.06921967] 67.85926616474049\n",
      "30 [41.24888118  5.03270471] 67.85926616474049\n",
      "40 [44.0891315   4.52730918] 51.98014546835954\n",
      "40 [44.0891315   4.49316871] 51.98014546835954\n",
      "50 [45.5816168  4.2354853] 47.603575735386116\n",
      "50 [45.5816168   4.21574742] 47.603575735386116\n",
      "60 [46.3654434   4.08137069] 46.39687623882493\n",
      "60 [46.3654434   4.07078732] 46.39687623882493\n",
      "70 [46.77704197  4.00033959] 46.064160921425916\n",
      "70 [46.77704197  3.99475582] 46.064160921425916\n",
      "80 [46.99317184  3.95777777] 45.972423420722386\n",
      "80 [46.99317184  3.95484256] 45.972423420722386\n",
      "90 [47.10666058  3.93542725] 45.94712921557662\n",
      "90 [47.10666058  3.9338856 ] 45.94712921557662\n"
     ]
    }
   ],
   "source": [
    "for i in range(100):\n",
    "    y_pred = np.dot(W, X)\n",
    "    err = calc_mse(y, y_pred)\n",
    "    for ii in range(W.shape[0]):\n",
    "        W[ii] -= alpha * (1/n * 2 * np.sum(X[ii] * (y_pred - y)))\n",
    "        if i % 10 == 0:\n",
    "            print(i, W, err)"
   ]
  },
  {
   "cell_type": "code",
   "execution_count": null,
   "metadata": {},
   "outputs": [],
   "source": []
  },
  {
   "cell_type": "code",
   "execution_count": null,
   "metadata": {},
   "outputs": [],
   "source": []
  },
  {
   "cell_type": "code",
   "execution_count": null,
   "metadata": {},
   "outputs": [],
   "source": []
  },
  {
   "cell_type": "code",
   "execution_count": 264,
   "metadata": {},
   "outputs": [
    {
     "data": {
      "text/plain": [
       "(array([1. , 0.5]), 0.04)"
      ]
     },
     "execution_count": 264,
     "metadata": {},
     "output_type": "execute_result"
    }
   ],
   "source": [
    "n = X.shape[1]\n",
    "alpha = 0.04\n",
    "W = np.array([1, 0.5])\n",
    "W, alpha"
   ]
  },
  {
   "cell_type": "code",
   "execution_count": 265,
   "metadata": {},
   "outputs": [
    {
     "name": "stdout",
     "output_type": "stream",
     "text": [
      "0 [19.008 18.508] 3173.15\n",
      "10 [11.94183382 11.44183382] 737.7679865603568\n",
      "20 [11.82410992 11.32410992] 737.0920145999804\n",
      "30 [11.82214861 11.32214861] 737.0918269751692\n",
      "40 [11.82211594 11.32211594] 737.0918269230915\n",
      "50 [11.82211539 11.32211539] 737.091826923077\n",
      "60 [11.82211538 11.32211538] 737.0918269230768\n",
      "70 [11.82211538 11.32211538] 737.0918269230771\n",
      "80 [11.82211538 11.32211538] 737.0918269230768\n",
      "90 [11.82211538 11.32211538] 737.0918269230771\n",
      "100 [11.82211538 11.32211538] 737.091826923077\n",
      "110 [11.82211538 11.32211538] 737.091826923077\n",
      "120 [11.82211538 11.32211538] 737.091826923077\n",
      "130 [11.82211538 11.32211538] 737.091826923077\n",
      "140 [11.82211538 11.32211538] 737.091826923077\n"
     ]
    }
   ],
   "source": [
    "for i in range(150):\n",
    "    y_pred = np.dot(W, X)\n",
    "    err = calc_mse(y, y_pred)\n",
    "    '''for ii in range(W.shape[0]):\n",
    "    W[ii] -= alpha * (1/n * 2 * np.sum(X[ii] * (y_pred - y)))'''\n",
    "    W -= (alpha * (1/n * 2 * np.sum(X * (y_pred - y))))\n",
    "    if i % 10 == 0:\n",
    "        print(i, W, err)"
   ]
  },
  {
   "cell_type": "code",
   "execution_count": 266,
   "metadata": {},
   "outputs": [
    {
     "data": {
      "text/plain": [
       "(array([1. , 0.5]), 0.04)"
      ]
     },
     "execution_count": 266,
     "metadata": {},
     "output_type": "execute_result"
    }
   ],
   "source": [
    "n = X.shape[1]\n",
    "alpha = 0.04\n",
    "W = np.array([1, 0.5])\n",
    "W, alpha"
   ]
  },
  {
   "cell_type": "code",
   "execution_count": 267,
   "metadata": {},
   "outputs": [
    {
     "name": "stdout",
     "output_type": "stream",
     "text": [
      "0 [ 5.408 14.1  ] 3173.15\n",
      "10 [19.5955942   9.01401475] 492.9703921289371\n",
      "20 [29.16074722  7.24773573] 237.07911581787238\n",
      "30 [35.41535114  6.09277527] 127.66552928096993\n",
      "40 [39.50520414  5.33755263] 80.88264128475076\n",
      "50 [42.17953777  4.84371647] 60.87928814973005\n",
      "60 [43.92827064  4.52079956] 52.32628610597692\n",
      "70 [45.07175798  4.30964588] 48.66920704194871\n",
      "80 [45.81947841  4.17157358] 47.10551896937056\n",
      "90 [46.30840891  4.08128882] 46.436919700524044\n",
      "100 [46.62811803  4.02225209] 46.15104108435921\n",
      "110 [46.83717416  3.98364828] 46.02880555855419\n",
      "120 [46.97387488  3.95840544] 45.976540286078475\n",
      "130 [47.06326277  3.94189929] 45.95419278367301\n",
      "140 [47.12171304  3.931106  ] 45.944637473997865\n"
     ]
    }
   ],
   "source": [
    "for i in range(150):\n",
    "    y_pred = np.dot(W, X)\n",
    "    err = calc_mse(y, y_pred)\n",
    "    '''for ii in range(W.shape[0]):\n",
    "    W[ii] -= alpha * (1/n * 2 * np.sum(X[ii] * (y_pred - y)))'''\n",
    "    W[0] -= (alpha * (1/n * 2 * np.sum(X[0] * (y_pred - y))))\n",
    "    W[1] -= (alpha * (1/n * 2 * np.sum(X[1] * (y_pred - y))))\n",
    "    if i % 10 == 0:\n",
    "        print(i, W, err)"
   ]
  },
  {
   "cell_type": "code",
   "execution_count": null,
   "metadata": {},
   "outputs": [],
   "source": []
  }
 ],
 "metadata": {
  "kernelspec": {
   "display_name": "Python 3",
   "language": "python",
   "name": "python3"
  },
  "language_info": {
   "codemirror_mode": {
    "name": "ipython",
    "version": 3
   },
   "file_extension": ".py",
   "mimetype": "text/x-python",
   "name": "python",
   "nbconvert_exporter": "python",
   "pygments_lexer": "ipython3",
   "version": "3.8.2"
  }
 },
 "nbformat": 4,
 "nbformat_minor": 4
}
