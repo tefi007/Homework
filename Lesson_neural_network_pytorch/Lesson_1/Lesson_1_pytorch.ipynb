{
 "cells": [
  {
   "cell_type": "code",
   "execution_count": 44,
   "metadata": {},
   "outputs": [],
   "source": [
    "import torch\n",
    "import torchvision\n",
    "import numpy as np\n",
    "from torch import nn \n",
    "from torch import optim\n",
    "import torchvision.transforms as transforms\n",
    "import matplotlib.pyplot as plt ### воспользуемся для отображения изображения\n",
    "\n",
    "import torchvision.transforms as tfs\n",
    "from torch.utils.data import DataLoader"
   ]
  },
  {
   "cell_type": "code",
   "execution_count": 45,
   "metadata": {},
   "outputs": [
    {
     "name": "stdout",
     "output_type": "stream",
     "text": [
      "Name: torch\n",
      "Version: 1.7.1\n",
      "Summary: Tensors and Dynamic neural networks in Python with strong GPU acceleration\n",
      "Home-page: https://pytorch.org/\n",
      "Author: PyTorch Team\n",
      "Author-email: packages@pytorch.org\n",
      "License: BSD-3\n",
      "Location: /home/tefi/.local/lib/python3.8/site-packages\n",
      "Requires: numpy, typing-extensions\n",
      "Required-by: torchvision\n",
      "Note: you may need to restart the kernel to use updated packages.\n"
     ]
    }
   ],
   "source": [
    "pip show torch"
   ]
  },
  {
   "cell_type": "code",
   "execution_count": 46,
   "metadata": {},
   "outputs": [
    {
     "name": "stdout",
     "output_type": "stream",
     "text": [
      "Name: torchvision\n",
      "Version: 0.8.2\n",
      "Summary: image and video datasets and models for torch deep learning\n",
      "Home-page: https://github.com/pytorch/vision\n",
      "Author: PyTorch Core Team\n",
      "Author-email: soumith@pytorch.org\n",
      "License: BSD\n",
      "Location: /home/tefi/.local/lib/python3.8/site-packages\n",
      "Requires: numpy, torch, pillow\n",
      "Required-by: \n",
      "Note: you may need to restart the kernel to use updated packages.\n"
     ]
    }
   ],
   "source": [
    "pip show torchvision"
   ]
  },
  {
   "cell_type": "code",
   "execution_count": 47,
   "metadata": {},
   "outputs": [
    {
     "name": "stdout",
     "output_type": "stream",
     "text": [
      "/usr/bin/sh: 1: nvcc: not found\r\n"
     ]
    }
   ],
   "source": [
    "!nvcc --version"
   ]
  },
  {
   "cell_type": "code",
   "execution_count": 48,
   "metadata": {},
   "outputs": [
    {
     "name": "stdout",
     "output_type": "stream",
     "text": [
      "torch.Size([3, 32, 32])\n",
      "6\n"
     ]
    }
   ],
   "source": [
    "train_dataset = torchvision.datasets.CIFAR10(root='/home/tefi/Homework/Neural_network', # путь куда будут скачиваться наши данные(если download=true), \n",
    "                                                                 # или где лежат наши данные(dowload=False)\n",
    "                                             train=True, # говорим что используем датасет для обучения  \n",
    "                                             transform=transforms.ToTensor(), # важная строчка: здесь мы преобразуем данные\n",
    "                                                                                # из датасета в формат тензоров из торч\n",
    "                                             download=False)\n",
    "\n",
    "\n",
    "image, label = train_dataset[0]\n",
    "print (image.size())\n",
    "print (label)"
   ]
  },
  {
   "cell_type": "code",
   "execution_count": 49,
   "metadata": {},
   "outputs": [
    {
     "data": {
      "text/plain": [
       "torch.Size([3, 32, 32])"
      ]
     },
     "execution_count": 49,
     "metadata": {},
     "output_type": "execute_result"
    }
   ],
   "source": [
    "image.shape"
   ]
  },
  {
   "cell_type": "code",
   "execution_count": 50,
   "metadata": {},
   "outputs": [
    {
     "data": {
      "text/plain": [
       "torch.Size([32, 32, 3])"
      ]
     },
     "execution_count": 50,
     "metadata": {},
     "output_type": "execute_result"
    }
   ],
   "source": [
    "image.permute(1, 2, 0).shape"
   ]
  },
  {
   "cell_type": "code",
   "execution_count": 51,
   "metadata": {},
   "outputs": [
    {
     "data": {
      "text/plain": [
       "<matplotlib.image.AxesImage at 0x7fc7e0a09820>"
      ]
     },
     "execution_count": 51,
     "metadata": {},
     "output_type": "execute_result"
    },
    {
     "data": {
      "image/png": "[encoded data removed]",
      "text/plain": [
       "<Figure size 432x288 with 1 Axes>"
      ]
     },
     "metadata": {
      "needs_background": "light"
     },
     "output_type": "display_data"
    }
   ],
   "source": [
    "plt.imshow(image.permute(1, 2, 0).numpy())"
   ]
  },
  {
   "cell_type": "code",
   "execution_count": 52,
   "metadata": {},
   "outputs": [],
   "source": [
    "train_loader = torch.utils.data.DataLoader(dataset=train_dataset,\n",
    "                                           batch_size=32, \n",
    "                                           shuffle=True)"
   ]
  },
  {
   "cell_type": "code",
   "execution_count": 53,
   "metadata": {},
   "outputs": [],
   "source": [
    "test_dataset = torchvision.datasets.CIFAR10(root='/home/tefi/Homework/Neural_network', train=False,\n",
    "                                       download=False, transform=transforms.ToTensor())\n",
    "test_loader = torch.utils.data.DataLoader(test_dataset, batch_size=4,\n",
    "                                         shuffle=False)"
   ]
  },
  {
   "cell_type": "code",
   "execution_count": 54,
   "metadata": {},
   "outputs": [],
   "source": [
    "classes = ('plane', 'car', 'bird', 'cat', 'deer', 'dog', 'frog', 'horse', 'ship', 'truck')"
   ]
  },
  {
   "cell_type": "code",
   "execution_count": 60,
   "metadata": {},
   "outputs": [],
   "source": [
    "import torch.nn.functional as F\n",
    "\n",
    "\n",
    "class Net(nn.Module):\n",
    "    def __init__(self):\n",
    "        super().__init__()\n",
    "        self.conv1 = nn.Conv2d(3, 6, 5)\n",
    "        self.pool = nn.MaxPool2d(2, 2)\n",
    "        self.conv2 = nn.Conv2d(6, 16, 5)\n",
    "        self.fc1 = nn.Linear(16 * 5 * 5, 120)\n",
    "        self.fc2 = nn.Linear(120, 84)\n",
    "        self.fc3 = nn.Linear(84, 10)\n",
    "\n",
    "    def forward(self, x):\n",
    "        x = self.pool(F.relu(self.conv1(x)))\n",
    "        x = self.pool(F.relu(self.conv2(x)))\n",
    "        x = x.view(-1, 16 * 5 * 5)\n",
    "        x = F.relu(self.fc1(x))\n",
    "        x = F.relu(self.fc2(x))\n",
    "        pred = self.fc3(x)\n",
    "        return pred\n",
    "\n",
    "\n",
    "#net = Net().to('cuda')"
   ]
  },
  {
   "cell_type": "code",
   "execution_count": 61,
   "metadata": {},
   "outputs": [],
   "source": [
    "net = Net().to('cpu')"
   ]
  },
  {
   "cell_type": "code",
   "execution_count": 62,
   "metadata": {},
   "outputs": [],
   "source": [
    "criterion = nn.CrossEntropyLoss()\n",
    "#optimizer = optim.SGD(net.parameters(), lr=0.001, momentum=0.9)\n",
    "optimizer = optim.Adam(net.parameters(), lr=1e-3, betas=(0.9, 0.99))"
   ]
  },
  {
   "cell_type": "code",
   "execution_count": 64,
   "metadata": {},
   "outputs": [
    {
     "name": "stdout",
     "output_type": "stream",
     "text": [
      "[1,     1] loss: 0.000\n",
      "[1,   301] loss: 0.069\n",
      "[1,   601] loss: 0.075\n",
      "[1,   901] loss: 0.073\n",
      "[1,  1201] loss: 0.078\n",
      "[1,  1501] loss: 0.082\n",
      "[2,     1] loss: 0.000\n",
      "[2,   301] loss: 0.067\n",
      "[2,   601] loss: 0.076\n",
      "[2,   901] loss: 0.075\n",
      "[2,  1201] loss: 0.076\n",
      "[2,  1501] loss: 0.077\n",
      "[3,     1] loss: 0.000\n",
      "[3,   301] loss: 0.065\n",
      "[3,   601] loss: 0.072\n",
      "[3,   901] loss: 0.074\n",
      "[3,  1201] loss: 0.075\n",
      "[3,  1501] loss: 0.078\n",
      "[4,     1] loss: 0.000\n",
      "[4,   301] loss: 0.065\n",
      "[4,   601] loss: 0.069\n",
      "[4,   901] loss: 0.074\n",
      "[4,  1201] loss: 0.076\n",
      "[4,  1501] loss: 0.077\n",
      "[5,     1] loss: 0.000\n",
      "[5,   301] loss: 0.062\n",
      "[5,   601] loss: 0.069\n",
      "[5,   901] loss: 0.071\n",
      "[5,  1201] loss: 0.076\n",
      "[5,  1501] loss: 0.078\n",
      "[6,     1] loss: 0.000\n",
      "[6,   301] loss: 0.061\n",
      "[6,   601] loss: 0.068\n",
      "[6,   901] loss: 0.071\n",
      "[6,  1201] loss: 0.073\n",
      "[6,  1501] loss: 0.075\n",
      "[7,     1] loss: 0.000\n",
      "[7,   301] loss: 0.064\n",
      "[7,   601] loss: 0.066\n",
      "[7,   901] loss: 0.068\n",
      "[7,  1201] loss: 0.071\n",
      "[7,  1501] loss: 0.075\n",
      "[8,     1] loss: 0.000\n",
      "[8,   301] loss: 0.062\n",
      "[8,   601] loss: 0.065\n",
      "[8,   901] loss: 0.070\n",
      "[8,  1201] loss: 0.073\n",
      "[8,  1501] loss: 0.073\n",
      "[9,     1] loss: 0.000\n",
      "[9,   301] loss: 0.062\n",
      "[9,   601] loss: 0.065\n",
      "[9,   901] loss: 0.064\n",
      "[9,  1201] loss: 0.071\n",
      "[9,  1501] loss: 0.072\n",
      "[10,     1] loss: 0.000\n",
      "[10,   301] loss: 0.060\n",
      "[10,   601] loss: 0.064\n",
      "[10,   901] loss: 0.070\n",
      "[10,  1201] loss: 0.068\n",
      "[10,  1501] loss: 0.070\n",
      "[11,     1] loss: 0.000\n",
      "[11,   301] loss: 0.058\n",
      "[11,   601] loss: 0.062\n",
      "[11,   901] loss: 0.068\n",
      "[11,  1201] loss: 0.070\n",
      "[11,  1501] loss: 0.072\n",
      "[12,     1] loss: 0.000\n",
      "[12,   301] loss: 0.056\n",
      "[12,   601] loss: 0.063\n",
      "[12,   901] loss: 0.065\n",
      "[12,  1201] loss: 0.069\n",
      "[12,  1501] loss: 0.069\n",
      "[13,     1] loss: 0.000\n",
      "[13,   301] loss: 0.057\n",
      "[13,   601] loss: 0.061\n",
      "[13,   901] loss: 0.065\n",
      "[13,  1201] loss: 0.065\n",
      "[13,  1501] loss: 0.070\n",
      "[14,     1] loss: 0.000\n",
      "[14,   301] loss: 0.056\n",
      "[14,   601] loss: 0.062\n",
      "[14,   901] loss: 0.061\n",
      "[14,  1201] loss: 0.069\n",
      "[14,  1501] loss: 0.068\n",
      "[15,     1] loss: 0.000\n",
      "[15,   301] loss: 0.055\n",
      "[15,   601] loss: 0.058\n",
      "[15,   901] loss: 0.064\n",
      "[15,  1201] loss: 0.066\n",
      "[15,  1501] loss: 0.066\n",
      "[16,     1] loss: 0.000\n",
      "[16,   301] loss: 0.054\n",
      "[16,   601] loss: 0.059\n",
      "[16,   901] loss: 0.065\n",
      "[16,  1201] loss: 0.062\n",
      "[16,  1501] loss: 0.068\n",
      "[17,     1] loss: 0.000\n",
      "[17,   301] loss: 0.056\n",
      "[17,   601] loss: 0.057\n",
      "[17,   901] loss: 0.061\n",
      "[17,  1201] loss: 0.064\n",
      "[17,  1501] loss: 0.061\n",
      "[18,     1] loss: 0.000\n",
      "[18,   301] loss: 0.055\n",
      "[18,   601] loss: 0.059\n",
      "[18,   901] loss: 0.060\n",
      "[18,  1201] loss: 0.061\n",
      "[18,  1501] loss: 0.064\n",
      "[19,     1] loss: 0.000\n",
      "[19,   301] loss: 0.051\n",
      "[19,   601] loss: 0.056\n",
      "[19,   901] loss: 0.063\n",
      "[19,  1201] loss: 0.061\n",
      "[19,  1501] loss: 0.068\n",
      "[20,     1] loss: 0.000\n",
      "[20,   301] loss: 0.050\n",
      "[20,   601] loss: 0.057\n",
      "[20,   901] loss: 0.063\n",
      "[20,  1201] loss: 0.061\n",
      "[20,  1501] loss: 0.065\n",
      "Training is finished!\n"
     ]
    }
   ],
   "source": [
    "for epoch in range(20):  # 10 эпох \n",
    "    running_loss = 0.0 # Для вывода процесса обучения\n",
    "    for i, data in enumerate(train_loader, 0):\n",
    "        inputs, labels = data[0], data[1]\n",
    "\n",
    "        # Обнуляем градиент\n",
    "        optimizer.zero_grad()\n",
    "    \n",
    "        # Делаем предсказание\n",
    "        outputs = net(inputs)\n",
    "        # Рассчитываем лосс-функцию\n",
    "        loss = criterion(outputs, labels)\n",
    "        # Делаем шаг назад по лоссу\n",
    "        loss.backward()\n",
    "        # Делаем шаг нашего оптимайзера\n",
    "        optimizer.step()\n",
    "\n",
    "        # выводим статистику о процессе обучения\n",
    "        running_loss += loss.item()\n",
    "        if i % 300 == 0:    # печатаем каждые 300 mini-batches\n",
    "            print('[%d, %5d] loss: %.3f' %\n",
    "                  (epoch + 1, i + 1, running_loss / 2000))\n",
    "            running_loss = 0.0\n",
    "\n",
    "print('Training is finished!')"
   ]
  },
  {
   "cell_type": "code",
   "execution_count": 65,
   "metadata": {},
   "outputs": [],
   "source": [
    "PATH = '/home/tefi/Homework/Neural_network/cifar_version.pth'\n",
    "torch.save(net.state_dict(), PATH)"
   ]
  },
  {
   "cell_type": "code",
   "execution_count": 66,
   "metadata": {},
   "outputs": [
    {
     "data": {
      "text/plain": [
       "<All keys matched successfully>"
      ]
     },
     "execution_count": 66,
     "metadata": {},
     "output_type": "execute_result"
    }
   ],
   "source": [
    "net = Net()\n",
    "net.load_state_dict(torch.load(PATH))"
   ]
  },
  {
   "cell_type": "code",
   "execution_count": 67,
   "metadata": {},
   "outputs": [],
   "source": [
    "data_iter = iter(test_loader)\n",
    "images, labels = data_iter.next()"
   ]
  },
  {
   "cell_type": "code",
   "execution_count": 68,
   "metadata": {},
   "outputs": [
    {
     "name": "stdout",
     "output_type": "stream",
     "text": [
      "GroundTruth:    cat  ship  ship plane\n"
     ]
    },
    {
     "data": {
      "image/png": "[encoded data removed]",
      "text/plain": [
       "<Figure size 432x288 with 1 Axes>"
      ]
     },
     "metadata": {
      "needs_background": "light"
     },
     "output_type": "display_data"
    }
   ],
   "source": [
    "outputs = net(images)\n",
    "imgs = torchvision.utils.make_grid(images)\n",
    "plt.imshow(imgs.permute(1, 2, 0).numpy())\n",
    "print('GroundTruth: ', ' '.join('%5s' % classes[labels[j]] for j in range(4)))"
   ]
  },
  {
   "cell_type": "code",
   "execution_count": null,
   "metadata": {},
   "outputs": [],
   "source": []
  },
  {
   "cell_type": "code",
   "execution_count": null,
   "metadata": {},
   "outputs": [],
   "source": []
  },
  {
   "cell_type": "code",
   "execution_count": null,
   "metadata": {},
   "outputs": [],
   "source": []
  },
  {
   "cell_type": "code",
   "execution_count": null,
   "metadata": {},
   "outputs": [],
   "source": [
    "features = 32*32*3\n",
    "features"
   ]
  },
  {
   "cell_type": "code",
   "execution_count": null,
   "metadata": {},
   "outputs": [],
   "source": [
    "model = nn.Sequential(\n",
    "  nn.Linear(features, 64),\n",
    "  nn.ReLU(),\n",
    "  nn.Dropout(0.2),\n",
    "  nn.Linear(64, classes),\n",
    "  nn.Softmax()\n",
    "  \n",
    ")\n",
    "\n",
    "model.to(device)"
   ]
  },
  {
   "cell_type": "code",
   "execution_count": null,
   "metadata": {},
   "outputs": [],
   "source": [
    "criterion = nn.CrossEntropyLoss()\n",
    "optimizer = optim.Adam(net.parameters(), lr=1e-3, betas=(0.9, 0.99))"
   ]
  },
  {
   "cell_type": "code",
   "execution_count": null,
   "metadata": {},
   "outputs": [],
   "source": []
  }
 ],
 "metadata": {
  "kernelspec": {
   "display_name": "Python 3",
   "language": "python",
   "name": "python3"
  },
  "language_info": {
   "codemirror_mode": {
    "name": "ipython",
    "version": 3
   },
   "file_extension": ".py",
   "mimetype": "text/x-python",
   "name": "python",
   "nbconvert_exporter": "python",
   "pygments_lexer": "ipython3",
   "version": "3.8.5"
  }
 },
 "nbformat": 4,
 "nbformat_minor": 4
}
