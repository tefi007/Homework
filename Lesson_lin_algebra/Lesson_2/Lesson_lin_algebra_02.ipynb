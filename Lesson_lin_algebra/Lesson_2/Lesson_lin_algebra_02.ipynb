{
 "cells": [
  {
   "cell_type": "code",
   "execution_count": 1,
   "metadata": {},
   "outputs": [],
   "source": [
    "import numpy as np"
   ]
  },
  {
   "cell_type": "markdown",
   "metadata": {},
   "source": [
    "1. Установить, какие произведения матриц  AB  и  BA  определены, и найти размерности полученных матриц:\n",
    "а)  A  — матрица  4×2 ,  B  — матрица  4×2 ;\n",
    "б)  A  — матрица  2×5 ,  B  — матрица  5×3 ;\n",
    "в)  A  — матрица  8×3 ,  B  — матрица  3×8 ;\n",
    "г)  A  — квадратная матрица  4×4 ,  B  — квадратная матрица  4×4."
   ]
  },
  {
   "cell_type": "code",
   "execution_count": 9,
   "metadata": {},
   "outputs": [
    {
     "data": {
      "text/plain": [
       "(array([[1, 2],\n",
       "        [3, 4],\n",
       "        [5, 6],\n",
       "        [7, 8]]),\n",
       " array([[1, 2],\n",
       "        [3, 4],\n",
       "        [5, 6],\n",
       "        [7, 8]]))"
      ]
     },
     "execution_count": 9,
     "metadata": {},
     "output_type": "execute_result"
    }
   ],
   "source": [
    "A = np.array([[1, 2], [3, 4], [5, 6], [7, 8]])\n",
    "B = A\n",
    "A, B\n",
    "# A*B и B*A невозможно, т.к. нет соответствия столбцов первой матрицы строкам 2 матрицы"
   ]
  },
  {
   "cell_type": "code",
   "execution_count": 14,
   "metadata": {},
   "outputs": [
    {
     "data": {
      "text/plain": [
       "(array([[1, 2, 3, 4, 5],\n",
       "        [6, 7, 8, 9, 1]]),\n",
       " array([[1, 2, 3],\n",
       "        [4, 5, 6],\n",
       "        [7, 8, 9],\n",
       "        [1, 2, 3],\n",
       "        [4, 5, 6]]))"
      ]
     },
     "execution_count": 14,
     "metadata": {},
     "output_type": "execute_result"
    }
   ],
   "source": [
    "A = np.array([[1, 2, 3, 4, 5], [6, 7, 8, 9, 1]])\n",
    "B = np.array([[1, 2, 3], [4, 5, 6], [7, 8, 9], [1, 2, 3], [4, 5, 6]])\n",
    "A, B\n",
    "# B*A невозможно, т.к. нет соответствия столбцов первой матрицы строкам 2 матрицы"
   ]
  },
  {
   "cell_type": "code",
   "execution_count": 19,
   "metadata": {},
   "outputs": [
    {
     "data": {
      "text/plain": [
       "array([[ 54,  69,  84],\n",
       "       [103, 134, 165]])"
      ]
     },
     "execution_count": 19,
     "metadata": {},
     "output_type": "execute_result"
    }
   ],
   "source": [
    "# A*B\n",
    "# 1*1 + 2*4 + 3*7 + 4*1 + 5*4    1*2 + 2*5 + 3*8 + 4*2 + 5*5   1*3 + 2*6 + 3*9 + 4*3 + 5*6  \n",
    "  6*1 + 7*4 + 8*7 + 9*1 + 1*4    6*2 + 7*5 + 8*8 + 9*2 + 1*5   6*3 + 7*6 + 8*9 + 9*3 + 1*6 \n",
    "# размерность 2*3\n",
    "np.dot(A, B)"
   ]
  },
  {
   "cell_type": "code",
   "execution_count": 24,
   "metadata": {},
   "outputs": [
    {
     "data": {
      "text/plain": [
       "(array([[1, 2, 3],\n",
       "        [1, 2, 3],\n",
       "        [1, 2, 3],\n",
       "        [1, 2, 3],\n",
       "        [1, 2, 3],\n",
       "        [1, 2, 3],\n",
       "        [1, 2, 3],\n",
       "        [1, 2, 3]]),\n",
       " array([[1, 2, 1, 2, 1, 2, 1, 2],\n",
       "        [1, 2, 1, 2, 1, 2, 1, 2],\n",
       "        [1, 2, 1, 2, 1, 2, 1, 2]]),\n",
       " array([[ 6, 12,  6, 12,  6, 12,  6, 12],\n",
       "        [ 6, 12,  6, 12,  6, 12,  6, 12],\n",
       "        [ 6, 12,  6, 12,  6, 12,  6, 12],\n",
       "        [ 6, 12,  6, 12,  6, 12,  6, 12],\n",
       "        [ 6, 12,  6, 12,  6, 12,  6, 12],\n",
       "        [ 6, 12,  6, 12,  6, 12,  6, 12],\n",
       "        [ 6, 12,  6, 12,  6, 12,  6, 12],\n",
       "        [ 6, 12,  6, 12,  6, 12,  6, 12]]))"
      ]
     },
     "execution_count": 24,
     "metadata": {},
     "output_type": "execute_result"
    }
   ],
   "source": [
    "A = np.array([[1, 2, 3], [1, 2, 3], [1, 2, 3], [1, 2, 3], [1, 2, 3], [1, 2, 3], [1, 2, 3], [1, 2, 3]])\n",
    "B = np.array([[1, 2, 1, 2, 1, 2, 1, 2], [1, 2, 1, 2, 1, 2, 1, 2], [1, 2, 1, 2, 1, 2, 1, 2]])\n",
    "# B*A невозможно, т.к. нет соответствия столбцов первой матрицы строкам 2 матрицы\n",
    "A, B, np.dot(A, B)\n",
    "# размерность 8*8"
   ]
  },
  {
   "cell_type": "code",
   "execution_count": 26,
   "metadata": {},
   "outputs": [
    {
     "data": {
      "text/plain": [
       "(array([[1, 2, 3, 4],\n",
       "        [1, 2, 3, 4],\n",
       "        [1, 2, 3, 4],\n",
       "        [1, 2, 3, 4]]),\n",
       " array([[5, 6, 7, 8],\n",
       "        [5, 6, 7, 8],\n",
       "        [5, 6, 7, 8],\n",
       "        [5, 6, 7, 8]]),\n",
       " array([[50, 60, 70, 80],\n",
       "        [50, 60, 70, 80],\n",
       "        [50, 60, 70, 80],\n",
       "        [50, 60, 70, 80]]),\n",
       " array([[ 26,  52,  78, 104],\n",
       "        [ 26,  52,  78, 104],\n",
       "        [ 26,  52,  78, 104],\n",
       "        [ 26,  52,  78, 104]]))"
      ]
     },
     "execution_count": 26,
     "metadata": {},
     "output_type": "execute_result"
    }
   ],
   "source": [
    "A = np.array([[1, 2, 3, 4], [1, 2, 3, 4], [1, 2, 3, 4], [1, 2, 3, 4],])\n",
    "B = np.array([[5, 6, 7, 8], [5, 6, 7, 8], [5, 6, 7, 8], [5, 6, 7, 8],])\n",
    "A, B, np.dot(A, B), np.dot(B, A)\n",
    "# размерность 4*4 в обоих случаях, но результирующие матрицы разные"
   ]
  },
  {
   "cell_type": "markdown",
   "metadata": {},
   "source": [
    "2. Найти сумму и произведение матриц  A  и  B. "
   ]
  },
  {
   "cell_type": "code",
   "execution_count": 29,
   "metadata": {},
   "outputs": [
    {
     "data": {
      "text/plain": [
       "(array([[ 1, -2],\n",
       "        [ 3,  0]]),\n",
       " array([[ 4, -1],\n",
       "        [ 0,  5]]),\n",
       " array([[ 5, -3],\n",
       "        [ 3,  5]]),\n",
       " array([[  4, -11],\n",
       "        [ 12,  -3]]),\n",
       " array([[ 1, -8],\n",
       "        [15,  0]]))"
      ]
     },
     "execution_count": 29,
     "metadata": {},
     "output_type": "execute_result"
    }
   ],
   "source": [
    "A = np.array([[1, -2], [3, 0]])\n",
    "B = np.array([[4, -1], [0, 5]])\n",
    "# 1+4   -2-1\n",
    "# 3+0   0+5\n",
    "\n",
    "# 1*4 + -2*0     1*-1 + -2*5     \n",
    "# 3*4 + 0*0      3*-1 + 0*5\n",
    "\n",
    "A, B, A+B, np.dot(A, B), np.dot(B, A)"
   ]
  },
  {
   "cell_type": "markdown",
   "metadata": {},
   "source": [
    "3. Из закономерностей сложения и умножения матриц на число можно сделать вывод, что матрицы одного размера образуют линейное пространство. Вычислить линейную комбинацию  3A−2B+4C  для матриц  A,  B,  C. "
   ]
  },
  {
   "cell_type": "code",
   "execution_count": 43,
   "metadata": {},
   "outputs": [
    {
     "data": {
      "text/plain": [
       "(array([[ 1,  7],\n",
       "        [ 3, -6]]),\n",
       " array([[ 0,  5],\n",
       "        [ 2, -1]]),\n",
       " array([[ 2, -4],\n",
       "        [ 1,  1]]),\n",
       " array([[ 11,  -5],\n",
       "        [  9, -12]]))"
      ]
     },
     "execution_count": 43,
     "metadata": {},
     "output_type": "execute_result"
    }
   ],
   "source": [
    "A = np.array([[1, 7], [3, -6]])\n",
    "B = np.array([[0, 5], [2, -1]])\n",
    "C = np.array([[2, -4], [1, 1]])\n",
    "\n",
    "# 3A  [3, 21], [9,-18] \n",
    "# 2B  [0, 10], [4, -2]\n",
    "# 4C  [8, -16], [4, 4]\n",
    "\n",
    "# [3-0+8, 21-10-16], [9+4-4, -18+2+4]\n",
    "# [11, -5], [9, -12]\n",
    "\n",
    "A, B, C, (3*A) - (2*B) + (4*C)\n"
   ]
  },
  {
   "cell_type": "markdown",
   "metadata": {},
   "source": [
    "4. Дана матрица  A. Вычислить  AAT  и  ATA ."
   ]
  },
  {
   "cell_type": "code",
   "execution_count": 46,
   "metadata": {},
   "outputs": [
    {
     "data": {
      "text/plain": [
       "(array([[ 4,  1],\n",
       "        [ 5, -2],\n",
       "        [ 2,  3]]),\n",
       " array([[ 4,  5,  2],\n",
       "        [ 1, -2,  3]]),\n",
       " array([[17, 18, 11],\n",
       "        [18, 29,  4],\n",
       "        [11,  4, 13]]),\n",
       " array([[45,  0],\n",
       "        [ 0, 14]]))"
      ]
     },
     "execution_count": 46,
     "metadata": {},
     "output_type": "execute_result"
    }
   ],
   "source": [
    "A = np.array([[4, 1], [5, -2], [2, 3]])\n",
    "A, A.T, np.dot(A, A.T), np.dot(A.T, A)"
   ]
  },
  {
   "cell_type": "markdown",
   "metadata": {},
   "source": [
    "5*. Написать на Python функцию для перемножения двух произвольных матриц, не используя NumPy."
   ]
  },
  {
   "cell_type": "code",
   "execution_count": null,
   "metadata": {},
   "outputs": [],
   "source": []
  },
  {
   "cell_type": "markdown",
   "metadata": {},
   "source": [
    "1. Вычислить определитель:"
   ]
  },
  {
   "cell_type": "code",
   "execution_count": 57,
   "metadata": {},
   "outputs": [
    {
     "data": {
      "text/plain": [
       "(array([['sin(x)', '-cos(x)'],\n",
       "        ['cos(x)', 'sin(x)']], dtype='<U7'),\n",
       " array([[4, 2, 3],\n",
       "        [0, 5, 1],\n",
       "        [0, 0, 9]]),\n",
       " array([[1, 2, 3],\n",
       "        [4, 5, 6],\n",
       "        [7, 8, 9]]),\n",
       " 180.0,\n",
       " 0.0)"
      ]
     },
     "execution_count": 57,
     "metadata": {},
     "output_type": "execute_result"
    }
   ],
   "source": [
    "A = np.array([['sin(x)', '-cos(x)'], ['cos(x)', 'sin(x)']])\n",
    "# (sin(x))**2 + (cos(x))**2 = 1\n",
    "\n",
    "B = np.array([[4, 2, 3], [0, 5, 1], [0, 0, 9]])\n",
    "# Определитель матрицы треугольного вида равен произведению элементов, стоящих на ее главной диагонали\n",
    "# 4*5*9 = 180\n",
    "\n",
    "C = np.array([[1, 2, 3], [4, 5, 6], [7, 8, 9]])\n",
    "# 1*(5*9 - 8*6) - 2*(4*9 - 7*6) + 3*(4*8 - 5*7) = -3 + 12 - 9 = 0\n",
    "\n",
    "A, B, C, np.linalg.det(B), np.linalg.det(C)"
   ]
  },
  {
   "cell_type": "markdown",
   "metadata": {},
   "source": [
    "2. Определитель матрицы  A  равен  4 . Найти:\n",
    "а)  det(A2) ;\n",
    "б)  det(AT) ;\n",
    "в)  det(2A) ."
   ]
  },
  {
   "cell_type": "code",
   "execution_count": 65,
   "metadata": {},
   "outputs": [],
   "source": [
    "# а) 4**2 = 16\n",
    "\n",
    "# б) 4     Определитель транспонированной матрицы равен определителю исходной\n",
    "\n",
    "# в) 2*кол-во строк*4   Умножение строки или столбца матрицы на число  λ  приведет к умножению определителя матрицы на то же число\n"
   ]
  },
  {
   "cell_type": "markdown",
   "metadata": {},
   "source": [
    "3. Доказать, что матрица A вырожденная."
   ]
  },
  {
   "cell_type": "code",
   "execution_count": 67,
   "metadata": {},
   "outputs": [
    {
     "data": {
      "text/plain": [
       "array([[ -2,   7,  -3],\n",
       "       [  4, -14,   6],\n",
       "       [ -3,   7,  13]])"
      ]
     },
     "execution_count": 67,
     "metadata": {},
     "output_type": "execute_result"
    }
   ],
   "source": [
    "A = np.array([[-2, 7, -3], [4, -14, 6], [-3, 7, 13]])\n",
    "# Если две строки (столбца) матрицы линейно зависимы, то определитель этой матрицы равен нулю.\n",
    "# Если первую строку умножить на -2, то получим 2 строку, значит определитель равен 0\n",
    "A"
   ]
  },
  {
   "cell_type": "markdown",
   "metadata": {},
   "source": [
    "4. Найти ранг матрицы A, B:"
   ]
  },
  {
   "cell_type": "code",
   "execution_count": 70,
   "metadata": {},
   "outputs": [
    {
     "data": {
      "text/plain": [
       "(array([[1, 2, 3],\n",
       "        [1, 1, 1],\n",
       "        [2, 3, 4]]),\n",
       " array([[0, 0, 2, 1],\n",
       "        [0, 0, 2, 2],\n",
       "        [0, 0, 4, 3],\n",
       "        [2, 3, 5, 6]]),\n",
       " 2,\n",
       " 3)"
      ]
     },
     "execution_count": 70,
     "metadata": {},
     "output_type": "execute_result"
    }
   ],
   "source": [
    "A = np.array([[1, 2, 3], [1, 1, 1], [2, 3, 4]])\n",
    "# если к 1 строке прибавить 2 строку, то получим 3 строку, т.о. её можно отбросить = ранг равен 2\n",
    "\n",
    "B = np.array([[0, 0, 2, 1], [0, 0, 2, 2], [0, 0, 4, 3], [2, 3, 5, 6]])\n",
    "# если к 1 строке прибавить 2 строку, то получим 3 строку, т.о. её можно отбросить = ранг равен 3\n",
    "\n",
    "A, B, np.linalg.matrix_rank(A), np.linalg.matrix_rank(B)"
   ]
  },
  {
   "cell_type": "code",
   "execution_count": null,
   "metadata": {},
   "outputs": [],
   "source": []
  }
 ],
 "metadata": {
  "kernelspec": {
   "display_name": "Python 3",
   "language": "python",
   "name": "python3"
  },
  "language_info": {
   "codemirror_mode": {
    "name": "ipython",
    "version": 3
   },
   "file_extension": ".py",
   "mimetype": "text/x-python",
   "name": "python",
   "nbconvert_exporter": "python",
   "pygments_lexer": "ipython3",
   "version": "3.8.2"
  }
 },
 "nbformat": 4,
 "nbformat_minor": 4
}
