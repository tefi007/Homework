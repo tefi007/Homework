{
 "cells": [
  {
   "cell_type": "code",
   "execution_count": 1,
   "metadata": {},
   "outputs": [],
   "source": [
    "import numpy as np"
   ]
  },
  {
   "cell_type": "markdown",
   "metadata": {},
   "source": [
    "1. Найти собственные векторы и собственные значения для линейного оператора, заданного матрицей"
   ]
  },
  {
   "cell_type": "code",
   "execution_count": 3,
   "metadata": {},
   "outputs": [
    {
     "data": {
      "text/plain": [
       "array([[-1, -6],\n",
       "       [ 2,  6]])"
      ]
     },
     "execution_count": 3,
     "metadata": {},
     "output_type": "execute_result"
    }
   ],
   "source": [
    "A = np.array([[-1, -6], [2, 6]])\n",
    "# (-1−λ)(6−λ)−(-6)⋅2=0\n",
    "# -6+λ-6λ +λ**2)=-12\n",
    "# λ**2-5λ=-6\n",
    "# λ1 = 2  λ2 = 3 \n",
    "# 1) \n",
    "# -1*x1-6*x2=2*x1   \n",
    "# 2*x1+6*x2=2*x2\n",
    "# x1=-2*x2     vector (1, -2)\n",
    "#2)\n",
    "# -1*x1-6*x2=3*x1\n",
    "# 2*x1+6*x2=3*x2\n",
    "#  x1=-3/2 *x2    vector (1, -3/2)\n",
    "A"
   ]
  },
  {
   "cell_type": "markdown",
   "metadata": {},
   "source": [
    "2. Дан оператор поворота на 180 градусов, задаваемый матрицей. Показать, что любой вектор является для него собственным."
   ]
  },
  {
   "cell_type": "code",
   "execution_count": 4,
   "metadata": {},
   "outputs": [
    {
     "data": {
      "text/plain": [
       "array([[-1,  0],\n",
       "       [ 0, -1]])"
      ]
     },
     "execution_count": 4,
     "metadata": {},
     "output_type": "execute_result"
    }
   ],
   "source": [
    "A = np.array([[-1, 0], [0, -1]])\n",
    "# (-1−λ)(-1-λ)=0\n",
    "# λ = -1\n",
    "# -x1 = -x1,  -x2=-x2 -> получилось тождество, поэтому любые значения  (x1, x2) подходят\n",
    "A\n"
   ]
  },
  {
   "cell_type": "markdown",
   "metadata": {},
   "source": [
    "3. Пусть линейный оператор задан матрицей A. Установить, является ли вектор  x=(1,1)  собственным вектором этого линейного оператора."
   ]
  },
  {
   "cell_type": "code",
   "execution_count": 5,
   "metadata": {},
   "outputs": [
    {
     "data": {
      "text/plain": [
       "array([[ 1,  1],\n",
       "       [-1,  3]])"
      ]
     },
     "execution_count": 5,
     "metadata": {},
     "output_type": "execute_result"
    }
   ],
   "source": [
    "A = np.array([[1, 1], [-1, 3]])\n",
    "Ax = λx\n",
    "# 1*1 + 1*1 = 2      \n",
    "# -1*1 + 3*1 = 2      \n",
    "\n",
    "# является собственным вектором. Лямбда = 2"
   ]
  },
  {
   "cell_type": "markdown",
   "metadata": {},
   "source": [
    "4. Пусть линейный оператор задан матрицей. Установить, является ли вектор  x=(3,−3,−4)  собственным вектором этого линейного оператора."
   ]
  },
  {
   "cell_type": "code",
   "execution_count": 7,
   "metadata": {},
   "outputs": [
    {
     "data": {
      "text/plain": [
       "array([[0, 3, 0],\n",
       "       [3, 0, 0],\n",
       "       [0, 0, 3]])"
      ]
     },
     "execution_count": 7,
     "metadata": {},
     "output_type": "execute_result"
    }
   ],
   "source": [
    "A = np.array([[0, 3, 0], [3, 0, 0], [0, 0, 3]])\n",
    "A\n",
    "\n",
    "# 0*3+3*(-3)+ 0*(-4) = -9\n",
    "# 3*3+0*(-3)+ 0*(-4) = 9\n",
    "# 0*3+0*(-3)+3*(-4) = -12\n",
    "\n",
    "# не является собственным вектором."
   ]
  },
  {
   "cell_type": "code",
   "execution_count": null,
   "metadata": {},
   "outputs": [],
   "source": []
  }
 ],
 "metadata": {
  "kernelspec": {
   "display_name": "Python 3",
   "language": "python",
   "name": "python3"
  },
  "language_info": {
   "codemirror_mode": {
    "name": "ipython",
    "version": 3
   },
   "file_extension": ".py",
   "mimetype": "text/x-python",
   "name": "python",
   "nbconvert_exporter": "python",
   "pygments_lexer": "ipython3",
   "version": "3.8.2"
  }
 },
 "nbformat": 4,
 "nbformat_minor": 4
}
