{
 "cells": [
  {
   "cell_type": "code",
   "execution_count": 5,
   "metadata": {},
   "outputs": [],
   "source": [
    "import numpy as np\n",
    "from numpy.linalg import norm"
   ]
  },
  {
   "cell_type": "markdown",
   "metadata": {},
   "source": [
    "1. Исследовать на линейную зависимость:\n",
    "f1(x)=e**x,f2(x)=1,f3(x)=x+1,f4(x)=x−e**x."
   ]
  },
  {
   "cell_type": "code",
   "execution_count": null,
   "metadata": {},
   "outputs": [],
   "source": [
    "# λ1u1+λ2u2+...+λnun=0.\n",
    "вектора линейно зависимы\n",
    "λ1 = -1\n",
    "λ2 = e**x\n",
    "λ3 = 0\n",
    "λ4 = 0\n"
   ]
  },
  {
   "cell_type": "markdown",
   "metadata": {},
   "source": [
    "2. Исследовать на линейную зависимость:\n",
    "f1(x)=2,f2(x)=x,f3(x)=x**2,f4(x)=(x+1)**2."
   ]
  },
  {
   "cell_type": "markdown",
   "metadata": {},
   "source": [
    "λ1u1+λ2u2+...+λnun=0.\n",
    "вектора линейно зависимы\n",
    "λ1 = (x+1)**2\n",
    "λ2 = 0\n",
    "λ3 = 0\n",
    "λ4 = -2"
   ]
  },
  {
   "cell_type": "markdown",
   "metadata": {},
   "source": [
    "3. Найти координаты вектора x=(2,3,5)∈R3 в базисе b1=(0,0,10), b2=(2,0,0), b3=(0,1,0)."
   ]
  },
  {
   "cell_type": "markdown",
   "metadata": {},
   "source": [
    "0.5 ; 1 ; 3\n",
    "решение:\n",
    "(2,3,5) = a1(0,0,10) + a2(2,0,0) + a3(0,1,0)\n",
    "(2,3,5) = (2a2, a3, 10a1)\n",
    "2a2 = 2 ; a3 = 3 ; 10a1 = 5"
   ]
  },
  {
   "cell_type": "markdown",
   "metadata": {},
   "source": [
    "4. Найти координаты вектора 3x2−2x+2∈R3[x]:\n",
    "а) в базисе 1, x, x2;\n",
    "б) в базисе x2, x−1, 1."
   ]
  },
  {
   "cell_type": "code",
   "execution_count": null,
   "metadata": {},
   "outputs": [],
   "source": []
  },
  {
   "cell_type": "markdown",
   "metadata": {},
   "source": [
    "5. Установить, является ли линейным подпространством:\n",
    "а) совокупность всех векторов трехмерного пространства, у которых по крайней мере одна из первых двух координат равна нулю;\n",
    "б) все векторы, являющиеся линейными комбинациями данных векторов  {u1,u2,...,un} ."
   ]
  },
  {
   "cell_type": "code",
   "execution_count": null,
   "metadata": {},
   "outputs": [],
   "source": [
    "a) да\n",
    "б) нет"
   ]
  },
  {
   "cell_type": "code",
   "execution_count": null,
   "metadata": {},
   "outputs": [],
   "source": []
  },
  {
   "cell_type": "markdown",
   "metadata": {},
   "source": [
    "1. Найти скалярное произведение векторов  x,y∈R :\n",
    "а)  x=(0,−3,6), y=(−4,7,9); \n",
    "б)  x=(7,−4,0,1), y=(−3,1,11,2)."
   ]
  },
  {
   "cell_type": "code",
   "execution_count": 3,
   "metadata": {},
   "outputs": [
    {
     "name": "stdout",
     "output_type": "stream",
     "text": [
      "Скалярное произведение x и y:\n",
      "33\n"
     ]
    }
   ],
   "source": [
    "# (x,y) = 0*(-4) + (-3)*7 + 6*9 = 0 - 21 + 54 = 33\n",
    "x = np.array([0, -3, 6])\n",
    "y = np.array([-4, 7, 9])\n",
    "print(f'Скалярное произведение x и y:\\n{np.dot(x, y)}')"
   ]
  },
  {
   "cell_type": "code",
   "execution_count": 4,
   "metadata": {},
   "outputs": [
    {
     "name": "stdout",
     "output_type": "stream",
     "text": [
      "Скалярное произведение x и y:\n",
      "-23\n"
     ]
    }
   ],
   "source": [
    "# (x,y) = 7*(-3) + (-4)*1 + 0*11 + 1*2= -21 - 4 + 0 + 2 = -23\n",
    "x = np.array([7, -4, 0, 1])\n",
    "y = np.array([-3, 1, 11, 2])\n",
    "print(f'Скалярное произведение x и y:\\n{np.dot(x, y)}')"
   ]
  },
  {
   "cell_type": "markdown",
   "metadata": {},
   "source": [
    "2. Найти нормы векторов  (4,2,4)  и  (12,3,4)  и угол между ними."
   ]
  },
  {
   "cell_type": "code",
   "execution_count": 9,
   "metadata": {},
   "outputs": [
    {
     "name": "stdout",
     "output_type": "stream",
     "text": [
      "манхэттенская норма вектора x: 10.0\n",
      "манхэттенская норма вектора y: 19.0\n",
      "евклидова норма вектора x: 6.0\n",
      "евклидова норма вектора y: 13.0\n",
      "Косинус угла между x и y: 0.90\n",
      "Угол между x и y: 0.46\n"
     ]
    }
   ],
   "source": [
    "x = np.array([4, 2, 4])\n",
    "y = np.array([12, 3, 4])\n",
    "\n",
    "# ∥x∥=|4|+|2|+|4|=10\n",
    "# ∥y∥=|12|+|3|+|4|=19\n",
    "\n",
    "print(f'манхэттенская норма вектора x: {norm(x, ord=1)}')\n",
    "print(f'манхэттенская норма вектора y: {norm(y, ord=1)}')\n",
    "\n",
    "# ∥x∥= sqrt(4**2 + 2**2 + 4**2) = sqrt(16+4+16) = sqrt(36) = 6.\n",
    "# ∥y∥= sqrt(12**2 + 3**2 + 4**2) = sqrt(144+9+16) = sqrt(169) = 13.\n",
    "\n",
    "print(f'евклидова норма вектора x: {norm(x, ord=2)}')\n",
    "print(f'евклидова норма вектора y: {norm(y, ord=2)}')\n",
    "\n",
    "# cos f = (4*12 + 2*3 + 4*4) / (6*13) = 70 / 78 = 0.897\n",
    "\n",
    "cos_phi = np.dot(x, y) / norm(x) / norm(y)\n",
    "print(f'Косинус угла между x и y: {cos_phi:.2f}')\n",
    "print(f'Угол между x и y: {np.arccos(cos_phi):.2f}')"
   ]
  },
  {
   "cell_type": "markdown",
   "metadata": {},
   "source": [
    "3. Будет ли линейное пространство евклидовым, если за скалярное произведение принять:\n",
    "а) произведение длин векторов;\n",
    "б) утроенное обычное скалярное произведение векторов?"
   ]
  },
  {
   "cell_type": "markdown",
   "metadata": {},
   "source": [
    "Линейное пространство над полем вещественных чисел называется м, если на нем введено правило, согласно которому каждой упорядоченной паре векторов  x  и  y  поставлено в соответствие вещественное число, называемое скалярным произведением и обозначаемое символом  (x,y) .\n",
    "\n",
    "Eвклидовo пространство должно подчиняться четырем аксиомам:\n",
    "1)  (x,y)=(y,x); \n",
    "2)  (λx,y)=λ(x,y); \n",
    "3)  (x1+x2,y)=(x1,y)+(x2,y); \n",
    "4)  (x,x)≥0 , причем  (x,x)=0⇔x=0.\n",
    "\n",
    "да оба линейных пространства будут евклидовыми, т.к. в обоих случаях будут выполняться все 4 правила."
   ]
  },
  {
   "cell_type": "markdown",
   "metadata": {},
   "source": [
    "4. Какие из нижеперечисленных векторов образуют ортонормированный базис в линейном пространстве  R3 :\n",
    "а)  (1,0,0),(0,0,1); \n",
    "б)  (1/2–√,−1/2–√,0),(1/2–√,1/2–√,0),(0,0,1); \n",
    "в)  (1/2,−1/2,0),(0,1/2,1/2),(0,0,1); \n",
    "г)  (1,0,0),(0,1,0),(0,0,1)?"
   ]
  },
  {
   "cell_type": "code",
   "execution_count": null,
   "metadata": {},
   "outputs": [],
   "source": [
    "а) да  1*0 + 0*0 + 0*1 = 0\n",
    "б) да\n",
    "в) да\n",
    "г) да"
   ]
  }
 ],
 "metadata": {
  "kernelspec": {
   "display_name": "Python 3",
   "language": "python",
   "name": "python3"
  },
  "language_info": {
   "codemirror_mode": {
    "name": "ipython",
    "version": 3
   },
   "file_extension": ".py",
   "mimetype": "text/x-python",
   "name": "python",
   "nbconvert_exporter": "python",
   "pygments_lexer": "ipython3",
   "version": "3.8.2"
  }
 },
 "nbformat": 4,
 "nbformat_minor": 4
}
