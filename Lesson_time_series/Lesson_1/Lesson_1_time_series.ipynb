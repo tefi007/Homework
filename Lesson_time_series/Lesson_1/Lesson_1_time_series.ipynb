{
 "cells": [
  {
   "cell_type": "code",
   "execution_count": 20,
   "metadata": {},
   "outputs": [],
   "source": [
    "import pandas as pd\n",
    "import numpy as np\n",
    "import matplotlib.pyplot as plt\n",
    "%matplotlib inline\n",
    "import seaborn as sns"
   ]
  },
  {
   "cell_type": "code",
   "execution_count": 2,
   "metadata": {},
   "outputs": [
    {
     "data": {
      "text/html": [
       "<div>\n",
       "<style scoped>\n",
       "    .dataframe tbody tr th:only-of-type {\n",
       "        vertical-align: middle;\n",
       "    }\n",
       "\n",
       "    .dataframe tbody tr th {\n",
       "        vertical-align: top;\n",
       "    }\n",
       "\n",
       "    .dataframe thead th {\n",
       "        text-align: right;\n",
       "    }\n",
       "</style>\n",
       "<table border=\"1\" class=\"dataframe\">\n",
       "  <thead>\n",
       "    <tr style=\"text-align: right;\">\n",
       "      <th></th>\n",
       "      <th>DUQ_MW</th>\n",
       "    </tr>\n",
       "    <tr>\n",
       "      <th>Datetime</th>\n",
       "      <th></th>\n",
       "    </tr>\n",
       "  </thead>\n",
       "  <tbody>\n",
       "    <tr>\n",
       "      <th>2005-12-31 01:00:00</th>\n",
       "      <td>1458.0</td>\n",
       "    </tr>\n",
       "    <tr>\n",
       "      <th>2005-12-31 02:00:00</th>\n",
       "      <td>1377.0</td>\n",
       "    </tr>\n",
       "    <tr>\n",
       "      <th>2005-12-31 03:00:00</th>\n",
       "      <td>1351.0</td>\n",
       "    </tr>\n",
       "    <tr>\n",
       "      <th>2005-12-31 04:00:00</th>\n",
       "      <td>1336.0</td>\n",
       "    </tr>\n",
       "    <tr>\n",
       "      <th>2005-12-31 05:00:00</th>\n",
       "      <td>1356.0</td>\n",
       "    </tr>\n",
       "    <tr>\n",
       "      <th>...</th>\n",
       "      <td>...</td>\n",
       "    </tr>\n",
       "    <tr>\n",
       "      <th>2018-01-01 20:00:00</th>\n",
       "      <td>1962.0</td>\n",
       "    </tr>\n",
       "    <tr>\n",
       "      <th>2018-01-01 21:00:00</th>\n",
       "      <td>1940.0</td>\n",
       "    </tr>\n",
       "    <tr>\n",
       "      <th>2018-01-01 22:00:00</th>\n",
       "      <td>1891.0</td>\n",
       "    </tr>\n",
       "    <tr>\n",
       "      <th>2018-01-01 23:00:00</th>\n",
       "      <td>1820.0</td>\n",
       "    </tr>\n",
       "    <tr>\n",
       "      <th>2018-01-02 00:00:00</th>\n",
       "      <td>1721.0</td>\n",
       "    </tr>\n",
       "  </tbody>\n",
       "</table>\n",
       "<p>119068 rows × 1 columns</p>\n",
       "</div>"
      ],
      "text/plain": [
       "                     DUQ_MW\n",
       "Datetime                   \n",
       "2005-12-31 01:00:00  1458.0\n",
       "2005-12-31 02:00:00  1377.0\n",
       "2005-12-31 03:00:00  1351.0\n",
       "2005-12-31 04:00:00  1336.0\n",
       "2005-12-31 05:00:00  1356.0\n",
       "...                     ...\n",
       "2018-01-01 20:00:00  1962.0\n",
       "2018-01-01 21:00:00  1940.0\n",
       "2018-01-01 22:00:00  1891.0\n",
       "2018-01-01 23:00:00  1820.0\n",
       "2018-01-02 00:00:00  1721.0\n",
       "\n",
       "[119068 rows x 1 columns]"
      ]
     },
     "execution_count": 2,
     "metadata": {},
     "output_type": "execute_result"
    }
   ],
   "source": [
    "duq_data = pd.read_csv('DUQ_hourly.csv', index_col = [0], parse_dates=[0])\n",
    "duq_data"
   ]
  },
  {
   "cell_type": "code",
   "execution_count": 3,
   "metadata": {},
   "outputs": [
    {
     "name": "stdout",
     "output_type": "stream",
     "text": [
      "<class 'pandas.core.frame.DataFrame'>\n",
      "DatetimeIndex: 119068 entries, 2005-12-31 01:00:00 to 2018-01-02 00:00:00\n",
      "Data columns (total 1 columns):\n",
      " #   Column  Non-Null Count   Dtype  \n",
      "---  ------  --------------   -----  \n",
      " 0   DUQ_MW  119068 non-null  float64\n",
      "dtypes: float64(1)\n",
      "memory usage: 1.8 MB\n"
     ]
    }
   ],
   "source": [
    "# просмотрим информацию о массиве: \n",
    "# тип данных float, null значения отсутствуют, запись с 2005-12-31 01:00:00 по 2018-01-02 00:00:00 с шагом в 1 час\n",
    "duq_data.info()"
   ]
  },
  {
   "cell_type": "code",
   "execution_count": 4,
   "metadata": {},
   "outputs": [
    {
     "data": {
      "text/plain": [
       "0"
      ]
     },
     "execution_count": 4,
     "metadata": {},
     "output_type": "execute_result"
    }
   ],
   "source": [
    "duq_data['DUQ_MW'].isnull().sum()"
   ]
  },
  {
   "cell_type": "code",
   "execution_count": 5,
   "metadata": {},
   "outputs": [
    {
     "data": {
      "text/html": [
       "<div>\n",
       "<style scoped>\n",
       "    .dataframe tbody tr th:only-of-type {\n",
       "        vertical-align: middle;\n",
       "    }\n",
       "\n",
       "    .dataframe tbody tr th {\n",
       "        vertical-align: top;\n",
       "    }\n",
       "\n",
       "    .dataframe thead th {\n",
       "        text-align: right;\n",
       "    }\n",
       "</style>\n",
       "<table border=\"1\" class=\"dataframe\">\n",
       "  <thead>\n",
       "    <tr style=\"text-align: right;\">\n",
       "      <th></th>\n",
       "      <th>DUQ_MW</th>\n",
       "    </tr>\n",
       "  </thead>\n",
       "  <tbody>\n",
       "    <tr>\n",
       "      <th>count</th>\n",
       "      <td>119068.000000</td>\n",
       "    </tr>\n",
       "    <tr>\n",
       "      <th>mean</th>\n",
       "      <td>1658.820296</td>\n",
       "    </tr>\n",
       "    <tr>\n",
       "      <th>std</th>\n",
       "      <td>301.740640</td>\n",
       "    </tr>\n",
       "    <tr>\n",
       "      <th>min</th>\n",
       "      <td>1014.000000</td>\n",
       "    </tr>\n",
       "    <tr>\n",
       "      <th>25%</th>\n",
       "      <td>1444.000000</td>\n",
       "    </tr>\n",
       "    <tr>\n",
       "      <th>50%</th>\n",
       "      <td>1630.000000</td>\n",
       "    </tr>\n",
       "    <tr>\n",
       "      <th>75%</th>\n",
       "      <td>1819.000000</td>\n",
       "    </tr>\n",
       "    <tr>\n",
       "      <th>max</th>\n",
       "      <td>3054.000000</td>\n",
       "    </tr>\n",
       "  </tbody>\n",
       "</table>\n",
       "</div>"
      ],
      "text/plain": [
       "              DUQ_MW\n",
       "count  119068.000000\n",
       "mean     1658.820296\n",
       "std       301.740640\n",
       "min      1014.000000\n",
       "25%      1444.000000\n",
       "50%      1630.000000\n",
       "75%      1819.000000\n",
       "max      3054.000000"
      ]
     },
     "execution_count": 5,
     "metadata": {},
     "output_type": "execute_result"
    }
   ],
   "source": [
    "# оценим разброс значений: на вскидку выбросов нет\n",
    "duq_data.describe()"
   ]
  },
  {
   "cell_type": "code",
   "execution_count": 6,
   "metadata": {},
   "outputs": [
    {
     "data": {
      "text/plain": [
       "<matplotlib.axes._subplots.AxesSubplot at 0x7f2db89096d0>"
      ]
     },
     "execution_count": 6,
     "metadata": {},
     "output_type": "execute_result"
    },
    {
     "data": {
      "image/png": "[encoded data removed]",
      "text/plain": [
       "<Figure size 1080x504 with 1 Axes>"
      ]
     },
     "metadata": {
      "needs_background": "light"
     },
     "output_type": "display_data"
    }
   ],
   "source": [
    "# оценим данные графически: выбросов также не отмечается \n",
    "duq_data.plot(figsize = ( 15, 7 ))"
   ]
  },
  {
   "cell_type": "code",
   "execution_count": 7,
   "metadata": {},
   "outputs": [
    {
     "data": {
      "text/plain": [
       "<bound method NDFrame.head of                      DUQ_MW\n",
       "Datetime                   \n",
       "2005-12-31 01:00:00    1458\n",
       "2005-12-31 02:00:00    1377\n",
       "2005-12-31 03:00:00    1351\n",
       "2005-12-31 04:00:00    1336\n",
       "2005-12-31 05:00:00    1356\n",
       "...                     ...\n",
       "2018-01-01 20:00:00    1962\n",
       "2018-01-01 21:00:00    1940\n",
       "2018-01-01 22:00:00    1891\n",
       "2018-01-01 23:00:00    1820\n",
       "2018-01-02 00:00:00    1721\n",
       "\n",
       "[119068 rows x 1 columns]>"
      ]
     },
     "execution_count": 7,
     "metadata": {},
     "output_type": "execute_result"
    }
   ],
   "source": [
    "# значения даны в целочисленном варианте, что позволяем нам перейти с float на int для экономии памяти\n",
    "duq_data['DUQ_MW'] = duq_data['DUQ_MW'].astype('int')\n",
    "duq_data.head"
   ]
  },
  {
   "cell_type": "code",
   "execution_count": 53,
   "metadata": {},
   "outputs": [],
   "source": [
    "# duq_data['2005-12-31 01:00:00':'2006-12-31 01:00:00']"
   ]
  },
  {
   "cell_type": "code",
   "execution_count": 8,
   "metadata": {},
   "outputs": [
    {
     "data": {
      "text/plain": [
       "DatetimeIndex(['2005-12-31 01:00:00', '2005-12-31 02:00:00',\n",
       "               '2005-12-31 03:00:00', '2005-12-31 04:00:00',\n",
       "               '2005-12-31 05:00:00', '2005-12-31 06:00:00',\n",
       "               '2005-12-31 07:00:00', '2005-12-31 08:00:00',\n",
       "               '2005-12-31 09:00:00', '2005-12-31 10:00:00',\n",
       "               ...\n",
       "               '2018-01-01 15:00:00', '2018-01-01 16:00:00',\n",
       "               '2018-01-01 17:00:00', '2018-01-01 18:00:00',\n",
       "               '2018-01-01 19:00:00', '2018-01-01 20:00:00',\n",
       "               '2018-01-01 21:00:00', '2018-01-01 22:00:00',\n",
       "               '2018-01-01 23:00:00', '2018-01-02 00:00:00'],\n",
       "              dtype='datetime64[ns]', length=105240, freq='H')"
      ]
     },
     "execution_count": 8,
     "metadata": {},
     "output_type": "execute_result"
    }
   ],
   "source": [
    "# создадим свой datetime ряд\n",
    "# отметим то, что наш ряд содержит 105240 значений, а данные содержат 119068\n",
    "datetime_series = pd.date_range('2005-12-31 01:00:00', '2018-01-02 00:00:00', freq='H')\n",
    "datetime_series"
   ]
  },
  {
   "cell_type": "code",
   "execution_count": 9,
   "metadata": {},
   "outputs": [
    {
     "data": {
      "text/plain": [
       "DatetimeIndex(['2005-12-31 01:00:00', '2005-12-31 02:00:00',\n",
       "               '2005-12-31 03:00:00', '2005-12-31 04:00:00',\n",
       "               '2005-12-31 05:00:00', '2005-12-31 06:00:00',\n",
       "               '2005-12-31 07:00:00', '2005-12-31 08:00:00',\n",
       "               '2005-12-31 09:00:00', '2005-12-31 10:00:00',\n",
       "               ...\n",
       "               '2018-01-01 15:00:00', '2018-01-01 16:00:00',\n",
       "               '2018-01-01 17:00:00', '2018-01-01 18:00:00',\n",
       "               '2018-01-01 19:00:00', '2018-01-01 20:00:00',\n",
       "               '2018-01-01 21:00:00', '2018-01-01 22:00:00',\n",
       "               '2018-01-01 23:00:00', '2018-01-02 00:00:00'],\n",
       "              dtype='datetime64[ns]', name='Datetime', length=119068, freq=None)"
      ]
     },
     "execution_count": 9,
     "metadata": {},
     "output_type": "execute_result"
    }
   ],
   "source": [
    "duq_data.index"
   ]
  },
  {
   "cell_type": "code",
   "execution_count": 10,
   "metadata": {},
   "outputs": [
    {
     "data": {
      "text/html": [
       "<div>\n",
       "<style scoped>\n",
       "    .dataframe tbody tr th:only-of-type {\n",
       "        vertical-align: middle;\n",
       "    }\n",
       "\n",
       "    .dataframe tbody tr th {\n",
       "        vertical-align: top;\n",
       "    }\n",
       "\n",
       "    .dataframe thead th {\n",
       "        text-align: right;\n",
       "    }\n",
       "</style>\n",
       "<table border=\"1\" class=\"dataframe\">\n",
       "  <thead>\n",
       "    <tr style=\"text-align: right;\">\n",
       "      <th></th>\n",
       "      <th>DUQ_MW</th>\n",
       "      <th>date</th>\n",
       "    </tr>\n",
       "    <tr>\n",
       "      <th>Datetime</th>\n",
       "      <th></th>\n",
       "      <th></th>\n",
       "    </tr>\n",
       "  </thead>\n",
       "  <tbody>\n",
       "    <tr>\n",
       "      <th>2005-12-31 01:00:00</th>\n",
       "      <td>1458</td>\n",
       "      <td>2005-12-31 01:00:00</td>\n",
       "    </tr>\n",
       "    <tr>\n",
       "      <th>2005-12-31 02:00:00</th>\n",
       "      <td>1377</td>\n",
       "      <td>2005-12-31 02:00:00</td>\n",
       "    </tr>\n",
       "    <tr>\n",
       "      <th>2005-12-31 03:00:00</th>\n",
       "      <td>1351</td>\n",
       "      <td>2005-12-31 03:00:00</td>\n",
       "    </tr>\n",
       "    <tr>\n",
       "      <th>2005-12-31 04:00:00</th>\n",
       "      <td>1336</td>\n",
       "      <td>2005-12-31 04:00:00</td>\n",
       "    </tr>\n",
       "    <tr>\n",
       "      <th>2005-12-31 05:00:00</th>\n",
       "      <td>1356</td>\n",
       "      <td>2005-12-31 05:00:00</td>\n",
       "    </tr>\n",
       "    <tr>\n",
       "      <th>...</th>\n",
       "      <td>...</td>\n",
       "      <td>...</td>\n",
       "    </tr>\n",
       "    <tr>\n",
       "      <th>2018-01-01 20:00:00</th>\n",
       "      <td>1962</td>\n",
       "      <td>2018-01-01 20:00:00</td>\n",
       "    </tr>\n",
       "    <tr>\n",
       "      <th>2018-01-01 21:00:00</th>\n",
       "      <td>1940</td>\n",
       "      <td>2018-01-01 21:00:00</td>\n",
       "    </tr>\n",
       "    <tr>\n",
       "      <th>2018-01-01 22:00:00</th>\n",
       "      <td>1891</td>\n",
       "      <td>2018-01-01 22:00:00</td>\n",
       "    </tr>\n",
       "    <tr>\n",
       "      <th>2018-01-01 23:00:00</th>\n",
       "      <td>1820</td>\n",
       "      <td>2018-01-01 23:00:00</td>\n",
       "    </tr>\n",
       "    <tr>\n",
       "      <th>2018-01-02 00:00:00</th>\n",
       "      <td>1721</td>\n",
       "      <td>2018-01-02 00:00:00</td>\n",
       "    </tr>\n",
       "  </tbody>\n",
       "</table>\n",
       "<p>119068 rows × 2 columns</p>\n",
       "</div>"
      ],
      "text/plain": [
       "                     DUQ_MW                date\n",
       "Datetime                                       \n",
       "2005-12-31 01:00:00    1458 2005-12-31 01:00:00\n",
       "2005-12-31 02:00:00    1377 2005-12-31 02:00:00\n",
       "2005-12-31 03:00:00    1351 2005-12-31 03:00:00\n",
       "2005-12-31 04:00:00    1336 2005-12-31 04:00:00\n",
       "2005-12-31 05:00:00    1356 2005-12-31 05:00:00\n",
       "...                     ...                 ...\n",
       "2018-01-01 20:00:00    1962 2018-01-01 20:00:00\n",
       "2018-01-01 21:00:00    1940 2018-01-01 21:00:00\n",
       "2018-01-01 22:00:00    1891 2018-01-01 22:00:00\n",
       "2018-01-01 23:00:00    1820 2018-01-01 23:00:00\n",
       "2018-01-02 00:00:00    1721 2018-01-02 00:00:00\n",
       "\n",
       "[119068 rows x 2 columns]"
      ]
     },
     "execution_count": 10,
     "metadata": {},
     "output_type": "execute_result"
    }
   ],
   "source": [
    "# выведем дату в отдельный столбец\n",
    "duq_data['date'] = duq_data.index\n",
    "duq_data"
   ]
  },
  {
   "cell_type": "code",
   "execution_count": 11,
   "metadata": {},
   "outputs": [
    {
     "data": {
      "text/plain": [
       "119064"
      ]
     },
     "execution_count": 11,
     "metadata": {},
     "output_type": "execute_result"
    }
   ],
   "source": [
    "# посмотрим количество уникальных значений\n",
    "duq_data['date'].unique().shape[0]"
   ]
  },
  {
   "cell_type": "code",
   "execution_count": 12,
   "metadata": {},
   "outputs": [
    {
     "data": {
      "text/plain": [
       "2017-11-05 02:00:00    2\n",
       "2014-11-02 02:00:00    2\n",
       "2015-11-01 02:00:00    2\n",
       "2016-11-06 02:00:00    2\n",
       "2007-07-15 10:00:00    1\n",
       "                      ..\n",
       "2007-04-01 02:00:00    1\n",
       "2011-10-25 02:00:00    1\n",
       "2016-05-19 02:00:00    1\n",
       "2005-10-17 21:00:00    1\n",
       "2013-06-07 22:00:00    1\n",
       "Name: date, Length: 119064, dtype: int64"
      ]
     },
     "execution_count": 12,
     "metadata": {},
     "output_type": "execute_result"
    }
   ],
   "source": [
    "duq_data['date'].value_counts()"
   ]
  },
  {
   "cell_type": "code",
   "execution_count": 13,
   "metadata": {},
   "outputs": [
    {
     "data": {
      "text/plain": [
       "[<matplotlib.lines.Line2D at 0x7f2db4b9fb20>]"
      ]
     },
     "execution_count": 13,
     "metadata": {},
     "output_type": "execute_result"
    },
    {
     "data": {
      "image/png": "[encoded data removed]",
      "text/plain": [
       "<Figure size 1440x216 with 1 Axes>"
      ]
     },
     "metadata": {
      "needs_background": "light"
     },
     "output_type": "display_data"
    }
   ],
   "source": [
    "# при этом 8 марта было меньше измерений, чем в другие дни\n",
    "# все эти аномалии вернее всего связаны с переходом на зимнее-летнее время\n",
    "day_H=duq_data['2015-03-01 00:00:00':'2015-03-31 23:00:00'].index.day\n",
    "\n",
    "plt.figure(figsize=(20,3))\n",
    "plt.plot(day_H.value_counts().index, day_H.value_counts().values ,'o')"
   ]
  },
  {
   "cell_type": "code",
   "execution_count": null,
   "metadata": {},
   "outputs": [],
   "source": []
  },
  {
   "cell_type": "code",
   "execution_count": null,
   "metadata": {},
   "outputs": [],
   "source": []
  },
  {
   "cell_type": "code",
   "execution_count": 14,
   "metadata": {},
   "outputs": [
    {
     "data": {
      "text/html": [
       "<div>\n",
       "<style scoped>\n",
       "    .dataframe tbody tr th:only-of-type {\n",
       "        vertical-align: middle;\n",
       "    }\n",
       "\n",
       "    .dataframe tbody tr th {\n",
       "        vertical-align: top;\n",
       "    }\n",
       "\n",
       "    .dataframe thead th {\n",
       "        text-align: right;\n",
       "    }\n",
       "</style>\n",
       "<table border=\"1\" class=\"dataframe\">\n",
       "  <thead>\n",
       "    <tr style=\"text-align: right;\">\n",
       "      <th></th>\n",
       "      <th>Значение</th>\n",
       "    </tr>\n",
       "    <tr>\n",
       "      <th>Дата</th>\n",
       "      <th></th>\n",
       "    </tr>\n",
       "  </thead>\n",
       "  <tbody>\n",
       "    <tr>\n",
       "      <th>2019-09-01</th>\n",
       "      <td>58.84</td>\n",
       "    </tr>\n",
       "    <tr>\n",
       "      <th>2019-08-30</th>\n",
       "      <td>59.19</td>\n",
       "    </tr>\n",
       "    <tr>\n",
       "      <th>2019-08-29</th>\n",
       "      <td>60.37</td>\n",
       "    </tr>\n",
       "    <tr>\n",
       "      <th>2019-08-28</th>\n",
       "      <td>59.84</td>\n",
       "    </tr>\n",
       "    <tr>\n",
       "      <th>2019-08-27</th>\n",
       "      <td>59.59</td>\n",
       "    </tr>\n",
       "  </tbody>\n",
       "</table>\n",
       "</div>"
      ],
      "text/plain": [
       "            Значение\n",
       "Дата                \n",
       "2019-09-01     58.84\n",
       "2019-08-30     59.19\n",
       "2019-08-29     60.37\n",
       "2019-08-28     59.84\n",
       "2019-08-27     59.59"
      ]
     },
     "execution_count": 14,
     "metadata": {},
     "output_type": "execute_result"
    }
   ],
   "source": [
    "brent_data = pd.read_excel('нефть-brent 2010-2019.xlsx', index_col=[0], parse_dates=[0])\n",
    "brent_data.head(5)"
   ]
  },
  {
   "cell_type": "code",
   "execution_count": 15,
   "metadata": {},
   "outputs": [],
   "source": [
    "#brent_data['date'] = brent_data.index\n",
    "#brent_data"
   ]
  },
  {
   "cell_type": "code",
   "execution_count": 16,
   "metadata": {},
   "outputs": [
    {
     "data": {
      "text/plain": [
       "<matplotlib.axes._subplots.AxesSubplot at 0x7f2db49ba850>"
      ]
     },
     "execution_count": 16,
     "metadata": {},
     "output_type": "execute_result"
    },
    {
     "data": {
      "image/png": "[encoded data removed]",
      "text/plain": [
       "<Figure size 1080x504 with 1 Axes>"
      ]
     },
     "metadata": {
      "needs_background": "light"
     },
     "output_type": "display_data"
    }
   ],
   "source": [
    "brent_data['Значение'].plot( style='.', figsize=( 15, 7 ), title='Brent ')"
   ]
  },
  {
   "cell_type": "code",
   "execution_count": 17,
   "metadata": {},
   "outputs": [
    {
     "data": {
      "text/html": [
       "<div>\n",
       "<style scoped>\n",
       "    .dataframe tbody tr th:only-of-type {\n",
       "        vertical-align: middle;\n",
       "    }\n",
       "\n",
       "    .dataframe tbody tr th {\n",
       "        vertical-align: top;\n",
       "    }\n",
       "\n",
       "    .dataframe thead th {\n",
       "        text-align: right;\n",
       "    }\n",
       "</style>\n",
       "<table border=\"1\" class=\"dataframe\">\n",
       "  <thead>\n",
       "    <tr style=\"text-align: right;\">\n",
       "      <th></th>\n",
       "      <th>Значение</th>\n",
       "    </tr>\n",
       "    <tr>\n",
       "      <th>Дата</th>\n",
       "      <th></th>\n",
       "    </tr>\n",
       "  </thead>\n",
       "  <tbody>\n",
       "  </tbody>\n",
       "</table>\n",
       "</div>"
      ],
      "text/plain": [
       "Empty DataFrame\n",
       "Columns: [Значение]\n",
       "Index: []"
      ]
     },
     "execution_count": 17,
     "metadata": {},
     "output_type": "execute_result"
    }
   ],
   "source": [
    "brent_data.asfreq('5D', method ='pad').head(10)"
   ]
  },
  {
   "cell_type": "code",
   "execution_count": 36,
   "metadata": {},
   "outputs": [
    {
     "data": {
      "text/html": [
       "<div>\n",
       "<style scoped>\n",
       "    .dataframe tbody tr th:only-of-type {\n",
       "        vertical-align: middle;\n",
       "    }\n",
       "\n",
       "    .dataframe tbody tr th {\n",
       "        vertical-align: top;\n",
       "    }\n",
       "\n",
       "    .dataframe thead th {\n",
       "        text-align: right;\n",
       "    }\n",
       "</style>\n",
       "<table border=\"1\" class=\"dataframe\">\n",
       "  <thead>\n",
       "    <tr style=\"text-align: right;\">\n",
       "      <th></th>\n",
       "      <th>Значение</th>\n",
       "    </tr>\n",
       "    <tr>\n",
       "      <th>Дата</th>\n",
       "      <th></th>\n",
       "    </tr>\n",
       "  </thead>\n",
       "  <tbody>\n",
       "    <tr>\n",
       "      <th>2010-09-01</th>\n",
       "      <td>537.21</td>\n",
       "    </tr>\n",
       "    <tr>\n",
       "      <th>2010-09-08</th>\n",
       "      <td>470.20</td>\n",
       "    </tr>\n",
       "    <tr>\n",
       "      <th>2010-09-15</th>\n",
       "      <td>471.33</td>\n",
       "    </tr>\n",
       "    <tr>\n",
       "      <th>2010-09-22</th>\n",
       "      <td>470.64</td>\n",
       "    </tr>\n",
       "    <tr>\n",
       "      <th>2010-09-29</th>\n",
       "      <td>498.23</td>\n",
       "    </tr>\n",
       "    <tr>\n",
       "      <th>2010-10-06</th>\n",
       "      <td>503.78</td>\n",
       "    </tr>\n",
       "    <tr>\n",
       "      <th>2010-10-13</th>\n",
       "      <td>499.37</td>\n",
       "    </tr>\n",
       "    <tr>\n",
       "      <th>2010-10-20</th>\n",
       "      <td>498.42</td>\n",
       "    </tr>\n",
       "    <tr>\n",
       "      <th>2010-10-27</th>\n",
       "      <td>503.53</td>\n",
       "    </tr>\n",
       "    <tr>\n",
       "      <th>2010-11-03</th>\n",
       "      <td>527.97</td>\n",
       "    </tr>\n",
       "  </tbody>\n",
       "</table>\n",
       "</div>"
      ],
      "text/plain": [
       "            Значение\n",
       "Дата                \n",
       "2010-09-01    537.21\n",
       "2010-09-08    470.20\n",
       "2010-09-15    471.33\n",
       "2010-09-22    470.64\n",
       "2010-09-29    498.23\n",
       "2010-10-06    503.78\n",
       "2010-10-13    499.37\n",
       "2010-10-20    498.42\n",
       "2010-10-27    503.53\n",
       "2010-11-03    527.97"
      ]
     },
     "execution_count": 36,
     "metadata": {},
     "output_type": "execute_result"
    }
   ],
   "source": [
    "# ресемплинг по неделям\n",
    "brent_data_7D = brent_data.resample(\"7D\").sum().head(10)\n",
    "brent_data_7D"
   ]
  },
  {
   "cell_type": "code",
   "execution_count": 26,
   "metadata": {},
   "outputs": [],
   "source": [
    "# ресемплинг по месяцам\n",
    "brent_data_M = brent_data.resample(\"M\").sum().head(10)\n",
    "brent_data_M"
   ]
  },
  {
   "cell_type": "code",
   "execution_count": 38,
   "metadata": {},
   "outputs": [
    {
     "data": {
      "text/plain": [
       "Text(0.5, 1.0, 'Выборка по месяцам')"
      ]
     },
     "execution_count": 38,
     "metadata": {},
     "output_type": "execute_result"
    },
    {
     "data": {
      "image/png": "[encoded data removed]",
      "text/plain": [
       "<Figure size 1080x360 with 3 Axes>"
      ]
     },
     "metadata": {
      "needs_background": "light"
     },
     "output_type": "display_data"
    }
   ],
   "source": [
    "plt.figure(figsize = ([15,5]))\n",
    "plt.subplots_adjust(wspace=0.4, hspace=0.35)\n",
    "plt.subplot(1,3,1)\n",
    "sns.kdeplot(brent_data['Значение'], shade=True, color=\"g\")\n",
    "plt.title('Вся выборка')\n",
    "plt.subplot(1,3,2)\n",
    "sns.kdeplot(brent_data_7D['Значение'], shade=True, color=\"g\")\n",
    "plt.title('Выборка по неделям')\n",
    "plt.subplot(1,3,3)\n",
    "sns.kdeplot(brent_data_M['Значение'], shade=True, color=\"g\")\n",
    "plt.title('Выборка по месяцам')"
   ]
  },
  {
   "cell_type": "code",
   "execution_count": null,
   "metadata": {},
   "outputs": [],
   "source": []
  }
 ],
 "metadata": {
  "kernelspec": {
   "display_name": "Python 3",
   "language": "python",
   "name": "python3"
  },
  "language_info": {
   "codemirror_mode": {
    "name": "ipython",
    "version": 3
   },
   "file_extension": ".py",
   "mimetype": "text/x-python",
   "name": "python",
   "nbconvert_exporter": "python",
   "pygments_lexer": "ipython3",
   "version": "3.8.5"
  }
 },
 "nbformat": 4,
 "nbformat_minor": 4
}
