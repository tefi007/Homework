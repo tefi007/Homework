{
 "cells": [
  {
   "cell_type": "code",
   "execution_count": 1,
   "metadata": {},
   "outputs": [],
   "source": [
    "import numpy as np\n",
    "import pandas as pd\n",
    "import matplotlib.pyplot as plt\n",
    "import mnist\n",
    "import keras\n",
    "import tensorflow as tf\n",
    "from keras.models import Sequential\n",
    "from keras.layers import Dense\n",
    "from keras.utils import to_categorical\n",
    "from keras.datasets import mnist\n",
    "#from keras.utils import plot_model\n",
    "import pydot\n",
    "import pydotplus\n",
    "from pydotplus import graphviz\n",
    "from keras.utils.vis_utils import plot_model\n",
    "from keras.utils.vis_utils import model_to_dot\n",
    "keras.utils.vis_utils.pydot = pydot\n",
    "from sklearn.metrics import confusion_matrix\n",
    "\n",
    "import numpy as np\n",
    "import tensorflow as tf\n",
    "import tensorflow.keras as keras\n",
    "from tensorflow.keras import models, layers\n",
    "from tensorflow.keras.models import Sequential, Model\n",
    "from tensorflow.keras.layers import Conv2D, Input\n",
    "from tensorflow.keras.layers import GlobalMaxPooling2D, MaxPooling2D, AveragePooling2D, GlobalAveragePooling2D \n",
    "\n",
    "from tensorflow.keras.datasets import cifar10\n",
    "from tensorflow.keras.preprocessing.image import ImageDataGenerator\n",
    "\n",
    "from tensorflow.keras.layers import Dense, Flatten, Concatenate\n",
    "from tensorflow.keras.utils import plot_model "
   ]
  },
  {
   "cell_type": "code",
   "execution_count": 39,
   "metadata": {},
   "outputs": [],
   "source": [
    "# загружаем данные\n",
    "fashion_mnist = tf.keras.datasets.fashion_mnist\n",
    "(train_images, train_labels), (test_images, test_labels) = fashion_mnist.load_data()"
   ]
  },
  {
   "cell_type": "code",
   "execution_count": 40,
   "metadata": {},
   "outputs": [
    {
     "name": "stdout",
     "output_type": "stream",
     "text": [
      "(60000, 28, 28)\n",
      "(60000,)\n",
      "(10000, 28, 28)\n",
      "(10000,)\n"
     ]
    }
   ],
   "source": [
    "print(train_images.shape)  # (60000, 28, 28) ('unit,str,columns')\n",
    "print(train_labels.shape)  # (60000,)\n",
    "print(test_images.shape)   # (10000, 28, 28) ('unit,str,columns')\n",
    "print(test_labels.shape)   # (10000,)"
   ]
  },
  {
   "cell_type": "code",
   "execution_count": null,
   "metadata": {},
   "outputs": [],
   "source": []
  },
  {
   "cell_type": "code",
   "execution_count": 41,
   "metadata": {},
   "outputs": [
    {
     "name": "stdout",
     "output_type": "stream",
     "text": [
      "Epoch 1/5\n",
      "237/237 [==============================] - 56s 233ms/step - loss: 1.5535 - accuracy: 0.5238 - val_loss: 0.7785 - val_accuracy: 0.7098\n",
      "Epoch 2/5\n",
      "237/237 [==============================] - 52s 218ms/step - loss: 0.7112 - accuracy: 0.7425 - val_loss: 0.6675 - val_accuracy: 0.7474\n",
      "Epoch 3/5\n",
      "237/237 [==============================] - 48s 202ms/step - loss: 0.6208 - accuracy: 0.7729 - val_loss: 0.6202 - val_accuracy: 0.7664\n",
      "Epoch 4/5\n",
      "237/237 [==============================] - 47s 199ms/step - loss: 0.5698 - accuracy: 0.7908 - val_loss: 0.5883 - val_accuracy: 0.7767\n",
      "Epoch 5/5\n",
      "237/237 [==============================] - 51s 214ms/step - loss: 0.5415 - accuracy: 0.8020 - val_loss: 0.5591 - val_accuracy: 0.7926\n",
      "313/313 [==============================] - 4s 13ms/step - loss: 0.5591 - accuracy: 0.7926\n",
      "Test loss 0.5591, accuracy 79.26%\n"
     ]
    }
   ],
   "source": [
    "# загружаем данные\n",
    "fashion_mnist = tf.keras.datasets.fashion_mnist\n",
    "(train_images, train_labels), (test_images, test_labels) = fashion_mnist.load_data()\n",
    "\n",
    "# конвертация чисел из uint8 в float32\n",
    "train_images = train_images.astype('float32')\n",
    "test_images = test_images.astype('float32')\n",
    "\n",
    "# нормализация данных [0, 1]\n",
    "train_images /= 255 \n",
    "test_images /= 255 \n",
    "\n",
    "# трансформация лейблов в one-hot encoding\n",
    "train_labels = to_categorical(train_labels, 10) \n",
    "test_labels = to_categorical(test_labels, 10) \n",
    "\n",
    "# изменение размерности массива в 4D массив\n",
    "train_images = train_images.reshape(train_images.shape[0], 28,28,1)\n",
    "test_images = test_images.reshape(test_images.shape[0], 28,28,1)\n",
    "\n",
    "# инициализация пустой модели\n",
    "model = Sequential()\n",
    "\n",
    "# первый сверточный слой\n",
    "model.add(layers.Conv2D(6, kernel_size=(5, 5), strides=(1, 1), activation='tanh', input_shape=(28,28,1), padding=\"same\"))\n",
    "\n",
    "# второй пуллинговый слой\n",
    "model.add(layers.AveragePooling2D(pool_size=(2, 2), strides=(1, 1), padding='valid'))\n",
    "\n",
    "# третий сверточный слой\n",
    "model.add(layers.Conv2D(16, kernel_size=(5, 5), strides=(1, 1), activation='tanh', padding='valid'))\n",
    "\n",
    "# четвертый пуллинговый слой\n",
    "model.add(layers.AveragePooling2D(pool_size=(2, 2), strides=(2, 2), padding='valid'))\n",
    "\n",
    "# пятый полносвязный слой\n",
    "model.add(layers.Conv2D(120, kernel_size=(5, 5), strides=(1, 1), activation='tanh', padding='valid'))\n",
    "\n",
    "# сглаживание CNN выхода чтобы можно было его присоединить к полносвязногому слою\n",
    "model.add(layers.Flatten())\n",
    "\n",
    "# шестой полносвязный слой\n",
    "model.add(layers.Dense(84, activation='tanh'))\n",
    "\n",
    "# выходной слой с функцией активации softmax\n",
    "model.add(layers.Dense(10, activation='softmax'))\n",
    "\n",
    "\n",
    "# компилияция модели\n",
    "model.compile(loss=keras.losses.categorical_crossentropy, optimizer='SGD', metrics=[\"accuracy\"])\n",
    "\n",
    "\n",
    "hist = model.fit(x=train_images,y=train_labels, epochs=5, batch_size=254, validation_data=(test_images, test_labels), verbose=1)\n",
    "\n",
    "test_score = model.evaluate(test_images, test_labels)\n",
    "print(\"Test loss {:.4f}, accuracy {:.2f}%\".format(test_score[0], test_score[1] * 100))"
   ]
  },
  {
   "cell_type": "code",
   "execution_count": 42,
   "metadata": {},
   "outputs": [
    {
     "name": "stdout",
     "output_type": "stream",
     "text": [
      "Model: \"sequential_9\"\n",
      "_________________________________________________________________\n",
      "Layer (type)                 Output Shape              Param #   \n",
      "=================================================================\n",
      "conv2d_12 (Conv2D)           (None, 28, 28, 6)         156       \n",
      "_________________________________________________________________\n",
      "average_pooling2d_8 (Average (None, 27, 27, 6)         0         \n",
      "_________________________________________________________________\n",
      "conv2d_13 (Conv2D)           (None, 23, 23, 16)        2416      \n",
      "_________________________________________________________________\n",
      "average_pooling2d_9 (Average (None, 11, 11, 16)        0         \n",
      "_________________________________________________________________\n",
      "conv2d_14 (Conv2D)           (None, 7, 7, 120)         48120     \n",
      "_________________________________________________________________\n",
      "flatten_4 (Flatten)          (None, 5880)              0         \n",
      "_________________________________________________________________\n",
      "dense_8 (Dense)              (None, 84)                494004    \n",
      "_________________________________________________________________\n",
      "dense_9 (Dense)              (None, 10)                850       \n",
      "=================================================================\n",
      "Total params: 545,546\n",
      "Trainable params: 545,546\n",
      "Non-trainable params: 0\n",
      "_________________________________________________________________\n"
     ]
    }
   ],
   "source": [
    "model.summary()"
   ]
  },
  {
   "cell_type": "code",
   "execution_count": 43,
   "metadata": {},
   "outputs": [],
   "source": [
    "y_pred=model.predict(test_images)"
   ]
  },
  {
   "cell_type": "code",
   "execution_count": 44,
   "metadata": {},
   "outputs": [
    {
     "data": {
      "image/png": "[encoded data removed]",
      "text/plain": [
       "<Figure size 432x288 with 1 Axes>"
      ]
     },
     "metadata": {
      "needs_background": "light"
     },
     "output_type": "display_data"
    },
    {
     "name": "stdout",
     "output_type": "stream",
     "text": [
      "[6.8736321e-04 3.4229486e-04 6.7641627e-04 9.8069350e-04 1.6478114e-03\n",
      " 1.0795037e-01 9.3943701e-04 2.9914200e-01 1.2075740e-02 5.7555783e-01]\n"
     ]
    },
    {
     "data": {
      "image/png": "[encoded data removed]",
      "text/plain": [
       "<Figure size 432x288 with 1 Axes>"
      ]
     },
     "metadata": {
      "needs_background": "light"
     },
     "output_type": "display_data"
    }
   ],
   "source": [
    "plt.plot(y_pred[0][:])\n",
    "plt.show()\n",
    "print(y_pred[0][:])\n",
    "plt.imshow(test_images[0][:,:,0])\n",
    "plt.show()"
   ]
  },
  {
   "cell_type": "code",
   "execution_count": null,
   "metadata": {},
   "outputs": [],
   "source": []
  },
  {
   "cell_type": "code",
   "execution_count": 46,
   "metadata": {},
   "outputs": [
    {
     "name": "stdout",
     "output_type": "stream",
     "text": [
      "Epoch 1/5\n",
      "237/237 [==============================] - 142s 597ms/step - loss: 1.5551 - accuracy: 0.4720 - val_loss: 0.7929 - val_accuracy: 0.6979\n",
      "Epoch 2/5\n",
      "237/237 [==============================] - 129s 545ms/step - loss: 0.6911 - accuracy: 0.7417 - val_loss: 0.6302 - val_accuracy: 0.7608\n",
      "Epoch 3/5\n",
      "237/237 [==============================] - 139s 588ms/step - loss: 0.5943 - accuracy: 0.7809 - val_loss: 0.6110 - val_accuracy: 0.7708\n",
      "Epoch 4/5\n",
      "237/237 [==============================] - 135s 571ms/step - loss: 0.5486 - accuracy: 0.7961 - val_loss: 0.5680 - val_accuracy: 0.7920\n",
      "Epoch 5/5\n",
      "237/237 [==============================] - 142s 599ms/step - loss: 0.5198 - accuracy: 0.8091 - val_loss: 0.5372 - val_accuracy: 0.8011\n",
      "313/313 [==============================] - 7s 21ms/step - loss: 0.5372 - accuracy: 0.8011\n",
      "Test loss 0.5372, accuracy 80.11%\n"
     ]
    }
   ],
   "source": [
    "# загружаем данные\n",
    "fashion_mnist = tf.keras.datasets.fashion_mnist\n",
    "(train_images, train_labels), (test_images, test_labels) = fashion_mnist.load_data()\n",
    "\n",
    "# конвертация чисел из uint8 в float32\n",
    "train_images = train_images.astype('float32')\n",
    "test_images = test_images.astype('float32')\n",
    "\n",
    "# нормализация данных [0, 1]\n",
    "train_images /= 255 \n",
    "test_images /= 255 \n",
    "\n",
    "# трансформация лейблов в one-hot encoding\n",
    "train_labels = to_categorical(train_labels, 10) \n",
    "test_labels = to_categorical(test_labels, 10) \n",
    "\n",
    "# изменение размерности массива в 4D массив\n",
    "train_images = train_images.reshape(train_images.shape[0], 28,28,1)\n",
    "test_images = test_images.reshape(test_images.shape[0], 28,28,1)\n",
    "\n",
    "# инициализация пустой модели\n",
    "model_1 = Sequential()\n",
    "\n",
    "# первый сверточный слой\n",
    "model_1.add(layers.Conv2D(12, kernel_size=(5, 5), strides=(1, 1), activation='tanh', input_shape=(28,28,1), padding=\"same\"))\n",
    "\n",
    "# второй пуллинговый слой\n",
    "model_1.add(layers.AveragePooling2D(pool_size=(2, 2), strides=(1, 1), padding='valid'))\n",
    "\n",
    "# третий сверточный слой\n",
    "model_1.add(layers.Conv2D(32, kernel_size=(5, 5), strides=(1, 1), activation='tanh', padding='valid'))\n",
    "\n",
    "# четвертый пуллинговый слой\n",
    "model_1.add(layers.AveragePooling2D(pool_size=(2, 2), strides=(2, 2), padding='valid'))\n",
    "\n",
    "# пятый полносвязный слой\n",
    "model_1.add(layers.Conv2D(240, kernel_size=(5, 5), strides=(1, 1), activation='tanh', padding='valid'))\n",
    "\n",
    "# сглаживание CNN выхода чтобы можно было его присоединить к полносвязногому слою\n",
    "model_1.add(layers.Flatten())\n",
    "\n",
    "# шестой полносвязный слой\n",
    "model_1.add(layers.Dense(168, activation='tanh'))\n",
    "\n",
    "# выходной слой с функцией активации softmax\n",
    "model_1.add(layers.Dense(10, activation='softmax'))\n",
    "\n",
    "\n",
    "# компилияция модели\n",
    "model_1.compile(loss=keras.losses.categorical_crossentropy, optimizer='SGD', metrics=[\"accuracy\"])\n",
    "\n",
    "\n",
    "hist = model_1.fit(x=train_images,y=train_labels, epochs=5, batch_size=254, validation_data=(test_images, test_labels), verbose=1)\n",
    "\n",
    "test_score = model_1.evaluate(test_images, test_labels)\n",
    "print(\"Test loss {:.4f}, accuracy {:.2f}%\".format(test_score[0], test_score[1] * 100))"
   ]
  },
  {
   "cell_type": "code",
   "execution_count": null,
   "metadata": {},
   "outputs": [],
   "source": []
  },
  {
   "cell_type": "code",
   "execution_count": 53,
   "metadata": {},
   "outputs": [
    {
     "name": "stdout",
     "output_type": "stream",
     "text": [
      "Epoch 1/5\n",
      "237/237 [==============================] - 100s 421ms/step - loss: 2.1754 - accuracy: 0.2343 - val_loss: 1.2825 - val_accuracy: 0.5941\n",
      "Epoch 2/5\n",
      "237/237 [==============================] - 98s 413ms/step - loss: 1.1952 - accuracy: 0.6032 - val_loss: 1.0446 - val_accuracy: 0.6156\n",
      "Epoch 3/5\n",
      "237/237 [==============================] - 102s 432ms/step - loss: 1.0127 - accuracy: 0.6315 - val_loss: 0.9673 - val_accuracy: 0.6383\n",
      "Epoch 4/5\n",
      "237/237 [==============================] - 99s 417ms/step - loss: 0.9558 - accuracy: 0.6395 - val_loss: 0.9253 - val_accuracy: 0.6544\n",
      "Epoch 5/5\n",
      "237/237 [==============================] - 97s 408ms/step - loss: 0.9113 - accuracy: 0.6561 - val_loss: 0.9002 - val_accuracy: 0.6677\n",
      "313/313 [==============================] - 6s 18ms/step - loss: 0.9002 - accuracy: 0.6677\n",
      "Test loss 0.9002, accuracy 66.77%\n"
     ]
    }
   ],
   "source": [
    "# загружаем данные\n",
    "fashion_mnist = tf.keras.datasets.fashion_mnist\n",
    "(train_images, train_labels), (test_images, test_labels) = fashion_mnist.load_data()\n",
    "\n",
    "# конвертация чисел из uint8 в float32\n",
    "train_images = train_images.astype('float32')\n",
    "test_images = test_images.astype('float32')\n",
    "\n",
    "# нормализация данных [0, 1]\n",
    "train_images /= 255 \n",
    "test_images /= 255 \n",
    "\n",
    "# трансформация лейблов в one-hot encoding\n",
    "train_labels = to_categorical(train_labels, 10) \n",
    "test_labels = to_categorical(test_labels, 10) \n",
    "\n",
    "# изменение размерности массива в 4D массив\n",
    "train_images = train_images.reshape(train_images.shape[0], 28,28,1)\n",
    "test_images = test_images.reshape(test_images.shape[0], 28,28,1)\n",
    "\n",
    "# инициализация пустой модели\n",
    "model_2 = Sequential()\n",
    "\n",
    "# первый сверточный слой\n",
    "model_2.add(layers.Conv2D(6, kernel_size=(5, 5), strides=(1, 1), activation='tanh', input_shape=(28,28,1), padding=\"same\"))\n",
    "\n",
    "# второй пуллинговый слой\n",
    "model_2.add(layers.AveragePooling2D(pool_size=(2, 2), strides=(1, 1), padding='same'))\n",
    "\n",
    "# третий сверточный слой\n",
    "model_2.add(layers.Conv2D(16, kernel_size=(5, 5), strides=(1, 1), activation='tanh', padding='same'))\n",
    "\n",
    "# четвертый пуллинговый слой\n",
    "model_2.add(layers.AveragePooling2D(pool_size=(2, 2), strides=(2, 2), padding='same'))\n",
    "\n",
    "# пятый сверточный слой\n",
    "model_2.add(layers.Conv2D(32, kernel_size=(3, 3), strides=(1, 1), activation='tanh', padding='same'))\n",
    "\n",
    "# шестой пуллинговый слой\n",
    "model_2.add(layers.AveragePooling2D(pool_size=(2, 2), strides=(2, 2), padding='same'))\n",
    "\n",
    "# седьмой сверточный слой\n",
    "model_2.add(layers.Conv2D(64, kernel_size=(3, 3), strides=(1, 1), activation='tanh', padding='same'))\n",
    "\n",
    "# восьмой пуллинговый слой\n",
    "model_2.add(layers.AveragePooling2D(pool_size=(2, 2), strides=(2, 2), padding='same'))\n",
    "\n",
    "# девятый сверточный слой\n",
    "model_2.add(layers.Conv2D(128, kernel_size=(3, 3), strides=(1, 1), activation='tanh', padding='same'))\n",
    "\n",
    "# десятый пуллинговый слой\n",
    "model_2.add(layers.AveragePooling2D(pool_size=(2, 2), strides=(2, 2), padding='same'))\n",
    "\n",
    "# одиннадцатый сверточный слой\n",
    "model_2.add(layers.Conv2D(254, kernel_size=(3, 3), strides=(1, 1), activation='tanh', padding='same'))\n",
    "\n",
    "# сглаживание CNN выхода чтобы можно было его присоединить к полносвязногому слою\n",
    "model_2.add(layers.Flatten())\n",
    "\n",
    "# шестой полносвязный слой\n",
    "model_2.add(layers.Dense(84, activation='tanh'))\n",
    "\n",
    "# выходной слой с функцией активации softmax\n",
    "model_2.add(layers.Dense(10, activation='softmax'))\n",
    "\n",
    "\n",
    "# компилияция модели\n",
    "model_2.compile(loss=keras.losses.categorical_crossentropy, optimizer='SGD', metrics=[\"accuracy\"])\n",
    "\n",
    "\n",
    "hist = model_2.fit(x=train_images,y=train_labels, epochs=5, batch_size=254, validation_data=(test_images, test_labels), verbose=1)\n",
    "\n",
    "test_score = model_2.evaluate(test_images, test_labels)\n",
    "print(\"Test loss {:.4f}, accuracy {:.2f}%\".format(test_score[0], test_score[1] * 100))"
   ]
  },
  {
   "cell_type": "code",
   "execution_count": null,
   "metadata": {},
   "outputs": [],
   "source": []
  },
  {
   "cell_type": "code",
   "execution_count": 59,
   "metadata": {},
   "outputs": [
    {
     "name": "stdout",
     "output_type": "stream",
     "text": [
      "Epoch 1/5\n",
      "237/237 [==============================] - 4s 13ms/step - loss: 0.9358 - accuracy: 0.6616 - val_loss: 0.4668 - val_accuracy: 0.8383\n",
      "Epoch 2/5\n",
      "237/237 [==============================] - 3s 11ms/step - loss: 0.4231 - accuracy: 0.8492 - val_loss: 0.4565 - val_accuracy: 0.8294\n",
      "Epoch 3/5\n",
      "237/237 [==============================] - 3s 11ms/step - loss: 0.3590 - accuracy: 0.8704 - val_loss: 0.3960 - val_accuracy: 0.8560\n",
      "Epoch 4/5\n",
      "237/237 [==============================] - ETA: 0s - loss: 0.3249 - accuracy: 0.88 - 3s 11ms/step - loss: 0.3248 - accuracy: 0.8800 - val_loss: 0.3696 - val_accuracy: 0.8660\n",
      "Epoch 5/5\n",
      "237/237 [==============================] - 3s 14ms/step - loss: 0.3060 - accuracy: 0.8857 - val_loss: 0.3637 - val_accuracy: 0.8720\n",
      "313/313 [==============================] - 1s 2ms/step - loss: 0.3637 - accuracy: 0.8720\n",
      "Test loss 0.3637, accuracy 87.20%\n"
     ]
    }
   ],
   "source": [
    "# загружаем данные\n",
    "fashion_mnist = tf.keras.datasets.fashion_mnist\n",
    "(train_images, train_labels), (test_images, test_labels) = fashion_mnist.load_data()\n",
    "\n",
    "# конвертация чисел из uint8 в float32\n",
    "train_images = train_images.astype('float32')\n",
    "test_images = test_images.astype('float32')\n",
    "\n",
    "# нормализация данных [0, 1]\n",
    "train_images /= 255 \n",
    "test_images /= 255 \n",
    "\n",
    "# Flatten the images.\n",
    "train_images = train_images.reshape((-1, 784))\n",
    "test_images = test_images.reshape((-1, 784))\n",
    "\n",
    "# трансформация лейблов в one-hot encoding\n",
    "train_labels = to_categorical(train_labels, 10) \n",
    "test_labels = to_categorical(test_labels, 10) \n",
    "\n",
    "model_3 = Sequential(name='model_3')\n",
    "model_3.add(Dense(256, activation='relu', input_shape=(784,)))\n",
    "model_3.add(Dense(256, activation='relu'))\n",
    "model_3.add(Dense(128, activation='relu'))\n",
    "model_3.add(Dense(128, activation='relu'))\n",
    "model_3.add(Dense(64, activation='relu'))\n",
    "model_3.add(Dense(64, activation='relu'))\n",
    "model_3.add(Dense(64, activation='relu'))\n",
    "model_3.add(Dense(10, activation='softmax'))\n",
    "\n",
    "model_3.compile(\n",
    "  optimizer='adam',\n",
    "  loss='categorical_crossentropy',\n",
    "  metrics=['accuracy'],\n",
    ")\n",
    "\n",
    "hist = model_3.fit(x=train_images,y=train_labels, epochs=5, batch_size=254, validation_data=(test_images, test_labels), verbose=1)\n",
    "\n",
    "test_score = model_3.evaluate(test_images, test_labels)\n",
    "print(\"Test loss {:.4f}, accuracy {:.2f}%\".format(test_score[0], test_score[1] * 100))"
   ]
  },
  {
   "cell_type": "code",
   "execution_count": null,
   "metadata": {},
   "outputs": [],
   "source": []
  },
  {
   "cell_type": "markdown",
   "metadata": {},
   "source": [
    "model         Test loss 0.5591, accuracy 79.26%\n",
    "model_1       Test loss 0.5372, accuracy 80.11%  кол-во ядер на всех слоях увеличено в 2 раза\n",
    "model_2       Test loss 0.9002, accuracy 66.77%  + по 3 сверточных и пуллинговых слоев\n",
    "model_3       Test loss 0.3637, accuracy 87.20%  полносвязная сеть "
   ]
  },
  {
   "cell_type": "code",
   "execution_count": null,
   "metadata": {},
   "outputs": [],
   "source": []
  },
  {
   "cell_type": "code",
   "execution_count": 2,
   "metadata": {},
   "outputs": [
    {
     "name": "stdout",
     "output_type": "stream",
     "text": [
      "x_train shape: (50000, 32, 32, 3)\n",
      "50000 тренировочные примеры\n",
      "10000 тестовые примеры\n"
     ]
    }
   ],
   "source": [
    "# разделение тренировочной и тестовой выборки\n",
    "(x_train, y_train), (x_test, y_test) = cifar10.load_data()\n",
    "print('x_train shape:', x_train.shape)\n",
    "print(x_train.shape[0], 'тренировочные примеры')\n",
    "print(x_test.shape[0], 'тестовые примеры')"
   ]
  },
  {
   "cell_type": "code",
   "execution_count": 3,
   "metadata": {},
   "outputs": [],
   "source": [
    "x_train = x_train.astype('float32')\n",
    "x_test = x_test.astype('float32')\n",
    "x_train /= 255\n",
    "x_test /= 255"
   ]
  },
  {
   "cell_type": "code",
   "execution_count": 4,
   "metadata": {},
   "outputs": [
    {
     "data": {
      "text/plain": [
       "(50000, 32, 32, 3)"
      ]
     },
     "execution_count": 4,
     "metadata": {},
     "output_type": "execute_result"
    }
   ],
   "source": [
    "x_train.shape"
   ]
  },
  {
   "cell_type": "code",
   "execution_count": 5,
   "metadata": {},
   "outputs": [],
   "source": [
    "classes=['самолет', 'автомобиль', 'птица', 'кот', 'олень', 'собака', 'лягушка', 'лошадь', 'корабль', 'грузовик']"
   ]
  },
  {
   "cell_type": "code",
   "execution_count": 6,
   "metadata": {},
   "outputs": [],
   "source": [
    "# преобразование матрицы чисел 0-9 в бинарную матрицу чисел 0-1\n",
    "y_train = to_categorical(y_train,10)\n",
    "y_test = to_categorical(y_test,10)"
   ]
  },
  {
   "cell_type": "code",
   "execution_count": 7,
   "metadata": {},
   "outputs": [
    {
     "data": {
      "text/plain": [
       "array([0., 0., 0., 0., 0., 0., 0., 0., 1., 0.], dtype=float32)"
      ]
     },
     "execution_count": 7,
     "metadata": {},
     "output_type": "execute_result"
    }
   ],
   "source": [
    "y_test[1]"
   ]
  },
  {
   "cell_type": "code",
   "execution_count": 8,
   "metadata": {},
   "outputs": [
    {
     "data": {
      "image/png": "[encoded data removed]",
      "text/plain": [
       "<Figure size 432x288 with 1 Axes>"
      ]
     },
     "metadata": {
      "needs_background": "light"
     },
     "output_type": "display_data"
    }
   ],
   "source": [
    "N = 1\n",
    "\n",
    "plt.imshow(x_test[N][:,:,:])\n",
    "plt.title('это : '+classes[np.argmax(y_test[N,:])])\n",
    "plt.show()"
   ]
  },
  {
   "cell_type": "code",
   "execution_count": 9,
   "metadata": {},
   "outputs": [
    {
     "data": {
      "text/plain": [
       "(32, 32, 3)"
      ]
     },
     "execution_count": 9,
     "metadata": {},
     "output_type": "execute_result"
    }
   ],
   "source": [
    "x_train.shape[1:]"
   ]
  },
  {
   "cell_type": "code",
   "execution_count": 10,
   "metadata": {},
   "outputs": [
    {
     "name": "stdout",
     "output_type": "stream",
     "text": [
      "Epoch 1/5\n",
      "197/197 [==============================] - 63s 312ms/step - loss: 2.2248 - accuracy: 0.1767 - val_loss: 1.9603 - val_accuracy: 0.3054\n",
      "Epoch 2/5\n",
      "197/197 [==============================] - 62s 317ms/step - loss: 1.9407 - accuracy: 0.3109 - val_loss: 1.8488 - val_accuracy: 0.3502\n",
      "Epoch 3/5\n",
      "197/197 [==============================] - 61s 311ms/step - loss: 1.8340 - accuracy: 0.3577 - val_loss: 1.7913 - val_accuracy: 0.3699\n",
      "Epoch 4/5\n",
      "197/197 [==============================] - 65s 332ms/step - loss: 1.7901 - accuracy: 0.3729 - val_loss: 1.7504 - val_accuracy: 0.3914\n",
      "Epoch 5/5\n",
      "197/197 [==============================] - 64s 323ms/step - loss: 1.7502 - accuracy: 0.3866 - val_loss: 1.7199 - val_accuracy: 0.3992\n",
      "313/313 [==============================] - 6s 19ms/step - loss: 1.7199 - accuracy: 0.3992\n",
      "Test model_5 1.7199, accuracy 39.92%\n"
     ]
    }
   ],
   "source": [
    "# инициализация пустой модели\n",
    "model_5 = Sequential()\n",
    "\n",
    "# первый сверточный слой\n",
    "model_5.add(layers.Conv2D(6, kernel_size=(5, 5), strides=(1, 1), activation='tanh', input_shape=x_train.shape[1:], padding=\"same\"))\n",
    "\n",
    "# второй пуллинговый слой\n",
    "model_5.add(layers.AveragePooling2D(pool_size=(2, 2), strides=(1, 1), padding='valid'))\n",
    "\n",
    "# третий сверточный слой\n",
    "model_5.add(layers.Conv2D(16, kernel_size=(5, 5), strides=(1, 1), activation='tanh', padding='valid'))\n",
    "\n",
    "# четвертый пуллинговый слой\n",
    "model_5.add(layers.AveragePooling2D(pool_size=(2, 2), strides=(2, 2), padding='valid'))\n",
    "\n",
    "# пятый полносвязный слой\n",
    "model_5.add(layers.Conv2D(120, kernel_size=(5, 5), strides=(1, 1), activation='tanh', padding='valid'))\n",
    "\n",
    "# сглаживание CNN выхода чтобы можно было его присоединить к полносвязногому слою\n",
    "model_5.add(layers.Flatten())\n",
    "\n",
    "# шестой полносвязный слой\n",
    "model_5.add(layers.Dense(84, activation='tanh'))\n",
    "\n",
    "# выходной слой с функцией активации softmax\n",
    "model_5.add(layers.Dense(10, activation='softmax'))\n",
    "\n",
    "# компилияция модели\n",
    "model_5.compile(loss=keras.losses.categorical_crossentropy, optimizer='SGD', metrics=[\"accuracy\"])\n",
    "\n",
    "\n",
    "hist = model_5.fit(x=x_train,y=y_train, epochs=5, batch_size=254, validation_data=(x_test, y_test), verbose=1)\n",
    "\n",
    "\n",
    "test_score = model_5.evaluate(x_test, y_test)\n",
    "print(\"Test model_5 {:.4f}, accuracy {:.2f}%\".format(test_score[0], test_score[1] * 100))"
   ]
  },
  {
   "cell_type": "code",
   "execution_count": null,
   "metadata": {},
   "outputs": [],
   "source": []
  },
  {
   "cell_type": "code",
   "execution_count": 11,
   "metadata": {},
   "outputs": [
    {
     "name": "stdout",
     "output_type": "stream",
     "text": [
      "Epoch 1/5\n",
      "197/197 [==============================] - 63s 318ms/step - loss: 2.2904 - accuracy: 0.1087 - val_loss: 2.1872 - val_accuracy: 0.2065\n",
      "Epoch 2/5\n",
      "197/197 [==============================] - 58s 296ms/step - loss: 2.1377 - accuracy: 0.2172 - val_loss: 2.0373 - val_accuracy: 0.2636\n",
      "Epoch 3/5\n",
      "197/197 [==============================] - 58s 296ms/step - loss: 1.9809 - accuracy: 0.2920 - val_loss: 1.8969 - val_accuracy: 0.3264\n",
      "Epoch 4/5\n",
      "197/197 [==============================] - 67s 338ms/step - loss: 1.8660 - accuracy: 0.3395 - val_loss: 1.8244 - val_accuracy: 0.3412\n",
      "Epoch 5/5\n",
      "197/197 [==============================] - 66s 337ms/step - loss: 1.7682 - accuracy: 0.3720 - val_loss: 1.6900 - val_accuracy: 0.4035\n",
      "313/313 [==============================] - 6s 19ms/step - loss: 1.6900 - accuracy: 0.4035\n",
      "Test model_5 1.6900, accuracy 40.35%\n"
     ]
    }
   ],
   "source": [
    "# инициализация пустой модели\n",
    "model_5 = Sequential()\n",
    "\n",
    "# первый сверточный слой\n",
    "model_5.add(layers.Conv2D(6, kernel_size=(5, 5), strides=(1, 1), activation='relu', input_shape=x_train.shape[1:], padding=\"same\"))\n",
    "\n",
    "# второй пуллинговый слой\n",
    "model_5.add(layers.AveragePooling2D(pool_size=(2, 2), strides=(1, 1), padding='valid'))\n",
    "\n",
    "# третий сверточный слой\n",
    "model_5.add(layers.Conv2D(16, kernel_size=(5, 5), strides=(1, 1), activation='relu', padding='valid'))\n",
    "\n",
    "# четвертый пуллинговый слой\n",
    "model_5.add(layers.AveragePooling2D(pool_size=(2, 2), strides=(2, 2), padding='valid'))\n",
    "\n",
    "# пятый полносвязный слой\n",
    "model_5.add(layers.Conv2D(120, kernel_size=(5, 5), strides=(1, 1), activation='relu', padding='valid'))\n",
    "\n",
    "# сглаживание CNN выхода чтобы можно было его присоединить к полносвязногому слою\n",
    "model_5.add(layers.Flatten())\n",
    "\n",
    "# шестой полносвязный слой\n",
    "model_5.add(layers.Dense(84, activation='relu'))\n",
    "\n",
    "# выходной слой с функцией активации softmax\n",
    "model_5.add(layers.Dense(10, activation='softmax'))\n",
    "\n",
    "\n",
    "\n",
    "# компилияция модели\n",
    "model_5.compile(loss=keras.losses.categorical_crossentropy, optimizer='SGD', metrics=[\"accuracy\"])\n",
    "\n",
    "hist = model_5.fit(x=x_train,y=y_train, epochs=5, batch_size=254, validation_data=(x_test, y_test), verbose=1)\n",
    "\n",
    "\n",
    "test_score = model_5.evaluate(x_test, y_test)\n",
    "print(\"Test model_5 {:.4f}, accuracy {:.2f}%\".format(test_score[0], test_score[1] * 100))"
   ]
  },
  {
   "cell_type": "code",
   "execution_count": null,
   "metadata": {},
   "outputs": [],
   "source": []
  },
  {
   "cell_type": "code",
   "execution_count": 12,
   "metadata": {},
   "outputs": [
    {
     "name": "stdout",
     "output_type": "stream",
     "text": [
      "Epoch 1/5\n",
      "197/197 [==============================] - 75s 379ms/step - loss: 1.8796 - accuracy: 0.3155 - val_loss: 1.4384 - val_accuracy: 0.4858\n",
      "Epoch 2/5\n",
      "197/197 [==============================] - 61s 310ms/step - loss: 1.3875 - accuracy: 0.5031 - val_loss: 1.2669 - val_accuracy: 0.5536\n",
      "Epoch 3/5\n",
      "197/197 [==============================] - 60s 307ms/step - loss: 1.2046 - accuracy: 0.5760 - val_loss: 1.1433 - val_accuracy: 0.5951\n",
      "Epoch 4/5\n",
      "197/197 [==============================] - 61s 308ms/step - loss: 1.0805 - accuracy: 0.6239 - val_loss: 1.1489 - val_accuracy: 0.5974\n",
      "Epoch 5/5\n",
      "197/197 [==============================] - 59s 300ms/step - loss: 0.9939 - accuracy: 0.6510 - val_loss: 1.0412 - val_accuracy: 0.6378\n",
      "313/313 [==============================] - 6s 18ms/step - loss: 1.0412 - accuracy: 0.6378\n",
      "Test model_5 1.0412, accuracy 63.78%\n"
     ]
    }
   ],
   "source": [
    "# инициализация пустой модели\n",
    "model_5 = Sequential()\n",
    "\n",
    "# первый сверточный слой\n",
    "model_5.add(layers.Conv2D(6, kernel_size=(5, 5), strides=(1, 1), activation='relu', input_shape=x_train.shape[1:], padding=\"same\"))\n",
    "\n",
    "# второй пуллинговый слой\n",
    "model_5.add(layers.AveragePooling2D(pool_size=(2, 2), strides=(1, 1), padding='valid'))\n",
    "\n",
    "# третий сверточный слой\n",
    "model_5.add(layers.Conv2D(16, kernel_size=(5, 5), strides=(1, 1), activation='relu', padding='valid'))\n",
    "\n",
    "# четвертый пуллинговый слой\n",
    "model_5.add(layers.AveragePooling2D(pool_size=(2, 2), strides=(2, 2), padding='valid'))\n",
    "\n",
    "# пятый полносвязный слой\n",
    "model_5.add(layers.Conv2D(120, kernel_size=(5, 5), strides=(1, 1), activation='relu', padding='valid'))\n",
    "\n",
    "# сглаживание CNN выхода чтобы можно было его присоединить к полносвязногому слою\n",
    "model_5.add(layers.Flatten())\n",
    "\n",
    "# шестой полносвязный слой\n",
    "model_5.add(layers.Dense(84, activation='relu'))\n",
    "\n",
    "# выходной слой с функцией активации softmax\n",
    "model_5.add(layers.Dense(10, activation='softmax'))\n",
    "\n",
    "\n",
    "\n",
    "# компилияция модели\n",
    "model_5.compile(loss=keras.losses.categorical_crossentropy, optimizer='adam', metrics=[\"accuracy\"])\n",
    "\n",
    "hist = model_5.fit(x=x_train,y=y_train, epochs=5, batch_size=254, validation_data=(x_test, y_test), verbose=1)\n",
    "\n",
    "\n",
    "test_score = model_5.evaluate(x_test, y_test)\n",
    "print(\"Test model_5 {:.4f}, accuracy {:.2f}%\".format(test_score[0], test_score[1] * 100))\n"
   ]
  },
  {
   "cell_type": "code",
   "execution_count": null,
   "metadata": {},
   "outputs": [],
   "source": []
  },
  {
   "cell_type": "code",
   "execution_count": 13,
   "metadata": {},
   "outputs": [
    {
     "name": "stdout",
     "output_type": "stream",
     "text": [
      "Epoch 1/5\n",
      "197/197 [==============================] - 58s 291ms/step - loss: 1.9882 - accuracy: 0.2756 - val_loss: 1.5016 - val_accuracy: 0.4596\n",
      "Epoch 2/5\n",
      "197/197 [==============================] - 63s 321ms/step - loss: 1.4574 - accuracy: 0.4822 - val_loss: 1.3621 - val_accuracy: 0.5144\n",
      "Epoch 3/5\n",
      "197/197 [==============================] - 61s 309ms/step - loss: 1.2726 - accuracy: 0.5549 - val_loss: 1.2097 - val_accuracy: 0.5741\n",
      "Epoch 4/5\n",
      "197/197 [==============================] - 62s 315ms/step - loss: 1.1371 - accuracy: 0.5999 - val_loss: 1.1967 - val_accuracy: 0.5846\n",
      "Epoch 5/5\n",
      "197/197 [==============================] - 63s 317ms/step - loss: 1.0278 - accuracy: 0.6414 - val_loss: 1.1156 - val_accuracy: 0.6090\n",
      "313/313 [==============================] - 6s 19ms/step - loss: 1.1156 - accuracy: 0.6090\n",
      "Test model_5 1.1156, accuracy 60.90%\n"
     ]
    }
   ],
   "source": [
    "# инициализация пустой модели\n",
    "model_5 = Sequential()\n",
    "\n",
    "# первый сверточный слой\n",
    "model_5.add(layers.Conv2D(6, kernel_size=(5, 5), strides=(1, 1), activation='relu', input_shape=x_train.shape[1:], padding=\"same\"))\n",
    "\n",
    "# второй пуллинговый слой\n",
    "model_5.add(layers.AveragePooling2D(pool_size=(2, 2), strides=(1, 1), padding='valid'))\n",
    "\n",
    "# третий сверточный слой\n",
    "model_5.add(layers.Conv2D(16, kernel_size=(5, 5), strides=(1, 1), activation='relu', padding='valid'))\n",
    "\n",
    "# четвертый пуллинговый слой\n",
    "model_5.add(layers.AveragePooling2D(pool_size=(2, 2), strides=(2, 2), padding='valid'))\n",
    "\n",
    "# пятый полносвязный слой\n",
    "model_5.add(layers.Conv2D(120, kernel_size=(5, 5), strides=(1, 1), activation='relu', padding='valid'))\n",
    "\n",
    "# сглаживание CNN выхода чтобы можно было его присоединить к полносвязногому слою\n",
    "model_5.add(layers.Flatten())\n",
    "\n",
    "# шестой полносвязный слой\n",
    "model_5.add(layers.Dense(84, activation='relu'))\n",
    "\n",
    "# выходной слой с функцией активации softmax\n",
    "model_5.add(layers.Dense(10, activation='softmax'))\n",
    "\n",
    "\n",
    "\n",
    "# компилияция модели\n",
    "model_5.compile(loss=keras.losses.categorical_crossentropy, optimizer='nadam', metrics=[\"accuracy\"])\n",
    "\n",
    "hist = model_5.fit(x=x_train,y=y_train, epochs=5, batch_size=254, validation_data=(x_test, y_test), verbose=1)\n",
    "\n",
    "\n",
    "test_score = model_5.evaluate(x_test, y_test)\n",
    "print(\"Test model_5 {:.4f}, accuracy {:.2f}%\".format(test_score[0], test_score[1] * 100))"
   ]
  },
  {
   "cell_type": "code",
   "execution_count": null,
   "metadata": {},
   "outputs": [],
   "source": []
  },
  {
   "cell_type": "code",
   "execution_count": 14,
   "metadata": {},
   "outputs": [
    {
     "name": "stdout",
     "output_type": "stream",
     "text": [
      "Epoch 1/5\n",
      "197/197 [==============================] - 126s 639ms/step - loss: 1.8660 - accuracy: 0.3275 - val_loss: 1.3594 - val_accuracy: 0.5117\n",
      "Epoch 2/5\n",
      "197/197 [==============================] - 115s 583ms/step - loss: 1.2958 - accuracy: 0.5446 - val_loss: 1.1910 - val_accuracy: 0.5742\n",
      "Epoch 3/5\n",
      "197/197 [==============================] - 106s 539ms/step - loss: 1.0941 - accuracy: 0.6167 - val_loss: 1.0965 - val_accuracy: 0.6175\n",
      "Epoch 4/5\n",
      "197/197 [==============================] - 107s 541ms/step - loss: 0.9687 - accuracy: 0.6629 - val_loss: 1.0322 - val_accuracy: 0.6406\n",
      "Epoch 5/5\n",
      "197/197 [==============================] - 107s 542ms/step - loss: 0.8598 - accuracy: 0.7028 - val_loss: 1.0116 - val_accuracy: 0.6569\n",
      "313/313 [==============================] - 8s 27ms/step - loss: 1.0116 - accuracy: 0.6569\n",
      "Test model_5 1.0116, accuracy 65.69%\n"
     ]
    }
   ],
   "source": [
    "# инициализация пустой модели\n",
    "model_5 = Sequential()\n",
    "\n",
    "# первый сверточный слой\n",
    "model_5.add(layers.Conv2D(6, kernel_size=(5, 5), strides=(1, 1), activation='relu', input_shape=x_train.shape[1:], padding=\"same\"))\n",
    "\n",
    "# второй пуллинговый слой\n",
    "model_5.add(layers.AveragePooling2D(pool_size=(2, 2), strides=(1, 1), padding='same'))\n",
    "\n",
    "# третий сверточный слой\n",
    "model_5.add(layers.Conv2D(16, kernel_size=(5, 5), strides=(1, 1), activation='relu', padding='same'))\n",
    "\n",
    "# четвертый пуллинговый слой\n",
    "model_5.add(layers.AveragePooling2D(pool_size=(2, 2), strides=(2, 2), padding='same'))\n",
    "\n",
    "# пятый полносвязный слой\n",
    "model_5.add(layers.Conv2D(120, kernel_size=(5, 5), strides=(1, 1), activation='relu', padding='same'))\n",
    "\n",
    "# сглаживание CNN выхода чтобы можно было его присоединить к полносвязногому слою\n",
    "model_5.add(layers.Flatten())\n",
    "\n",
    "# шестой полносвязный слой\n",
    "model_5.add(layers.Dense(84, activation='relu'))\n",
    "\n",
    "# выходной слой с функцией активации softmax\n",
    "model_5.add(layers.Dense(10, activation='softmax'))\n",
    "\n",
    "\n",
    "\n",
    "# компилияция модели\n",
    "model_5.compile(loss=keras.losses.categorical_crossentropy, optimizer='adam', metrics=[\"accuracy\"])\n",
    "\n",
    "hist = model_5.fit(x=x_train,y=y_train, epochs=5, batch_size=254, validation_data=(x_test, y_test), verbose=1)\n",
    "\n",
    "\n",
    "test_score = model_5.evaluate(x_test, y_test)\n",
    "print(\"Test model_5 {:.4f}, accuracy {:.2f}%\".format(test_score[0], test_score[1] * 100))"
   ]
  },
  {
   "cell_type": "code",
   "execution_count": null,
   "metadata": {},
   "outputs": [],
   "source": []
  },
  {
   "cell_type": "code",
   "execution_count": null,
   "metadata": {},
   "outputs": [],
   "source": []
  },
  {
   "cell_type": "code",
   "execution_count": 15,
   "metadata": {},
   "outputs": [
    {
     "name": "stdout",
     "output_type": "stream",
     "text": [
      "Epoch 1/5\n",
      "197/197 [==============================] - 118s 598ms/step - loss: 1.8087 - accuracy: 0.3355 - val_loss: 1.2954 - val_accuracy: 0.5422\n",
      "Epoch 2/5\n",
      "197/197 [==============================] - 109s 554ms/step - loss: 1.2406 - accuracy: 0.5593 - val_loss: 1.0963 - val_accuracy: 0.6134\n",
      "Epoch 3/5\n",
      "197/197 [==============================] - 111s 561ms/step - loss: 1.0496 - accuracy: 0.6303 - val_loss: 1.1070 - val_accuracy: 0.6068\n",
      "Epoch 4/5\n",
      "197/197 [==============================] - 109s 555ms/step - loss: 0.9261 - accuracy: 0.6770 - val_loss: 0.9695 - val_accuracy: 0.6621\n",
      "Epoch 5/5\n",
      "197/197 [==============================] - 111s 562ms/step - loss: 0.8138 - accuracy: 0.7168 - val_loss: 0.9351 - val_accuracy: 0.6789\n",
      "313/313 [==============================] - 9s 29ms/step - loss: 0.9351 - accuracy: 0.6789\n",
      "Test model_5 0.9351, accuracy 67.89%\n"
     ]
    }
   ],
   "source": [
    "# инициализация пустой модели\n",
    "model_5 = Sequential()\n",
    "\n",
    "# первый сверточный слой\n",
    "model_5.add(layers.Conv2D(6, kernel_size=(5, 5), strides=(1, 1), activation='relu', input_shape=x_train.shape[1:], padding=\"same\"))\n",
    "\n",
    "# второй пуллинговый слой\n",
    "model_5.add(layers.MaxPooling2D(pool_size=(2, 2), strides=(1, 1), padding='same'))\n",
    "\n",
    "# третий сверточный слой\n",
    "model_5.add(layers.Conv2D(16, kernel_size=(5, 5), strides=(1, 1), activation='relu', padding='same'))\n",
    "\n",
    "# четвертый пуллинговый слой\n",
    "model_5.add(layers.MaxPooling2D(pool_size=(2, 2), strides=(2, 2), padding='same'))\n",
    "\n",
    "# пятый полносвязный слой\n",
    "model_5.add(layers.Conv2D(120, kernel_size=(5, 5), strides=(1, 1), activation='relu', padding='same'))\n",
    "\n",
    "# сглаживание CNN выхода чтобы можно было его присоединить к полносвязногому слою\n",
    "model_5.add(layers.Flatten())\n",
    "\n",
    "# шестой полносвязный слой\n",
    "model_5.add(layers.Dense(84, activation='relu'))\n",
    "\n",
    "# выходной слой с функцией активации softmax\n",
    "model_5.add(layers.Dense(10, activation='softmax'))\n",
    "\n",
    "\n",
    "\n",
    "# компилияция модели\n",
    "model_5.compile(loss=keras.losses.categorical_crossentropy, optimizer='adam', metrics=[\"accuracy\"])\n",
    "\n",
    "hist = model_5.fit(x=x_train,y=y_train, epochs=5, batch_size=254, validation_data=(x_test, y_test), verbose=1)\n",
    "\n",
    "\n",
    "test_score = model_5.evaluate(x_test, y_test)\n",
    "print(\"Test model_5 {:.4f}, accuracy {:.2f}%\".format(test_score[0], test_score[1] * 100))"
   ]
  },
  {
   "cell_type": "code",
   "execution_count": null,
   "metadata": {},
   "outputs": [],
   "source": []
  },
  {
   "cell_type": "code",
   "execution_count": 16,
   "metadata": {},
   "outputs": [
    {
     "name": "stdout",
     "output_type": "stream",
     "text": [
      "Epoch 1/5\n",
      "197/197 [==============================] - 64s 321ms/step - loss: 1.9352 - accuracy: 0.3030 - val_loss: 1.3103 - val_accuracy: 0.5352\n",
      "Epoch 2/5\n",
      "197/197 [==============================] - 60s 303ms/step - loss: 1.2432 - accuracy: 0.5638 - val_loss: 1.1430 - val_accuracy: 0.5930\n",
      "Epoch 3/5\n",
      "197/197 [==============================] - 59s 301ms/step - loss: 1.0982 - accuracy: 0.6181 - val_loss: 1.0991 - val_accuracy: 0.6154\n",
      "Epoch 4/5\n",
      "197/197 [==============================] - 60s 306ms/step - loss: 0.9761 - accuracy: 0.6638 - val_loss: 1.0467 - val_accuracy: 0.6273\n",
      "Epoch 5/5\n",
      "197/197 [==============================] - 61s 308ms/step - loss: 0.9023 - accuracy: 0.6879 - val_loss: 0.9779 - val_accuracy: 0.6553\n",
      "313/313 [==============================] - 5s 17ms/step - loss: 0.9779 - accuracy: 0.6553\n",
      "Test model_5 0.9779, accuracy 65.53%\n"
     ]
    }
   ],
   "source": [
    "# инициализация пустой модели\n",
    "model_5 = Sequential()\n",
    "\n",
    "# первый сверточный слой\n",
    "model_5.add(layers.Conv2D(6, kernel_size=(3, 3), strides=(1, 1), activation='relu', input_shape=x_train.shape[1:], padding=\"same\"))\n",
    "\n",
    "# второй пуллинговый слой\n",
    "model_5.add(layers.MaxPooling2D(pool_size=(2, 2), strides=(1, 1), padding='same'))\n",
    "\n",
    "# третий сверточный слой\n",
    "model_5.add(layers.Conv2D(16, kernel_size=(3, 3), strides=(1, 1), activation='relu', padding='same'))\n",
    "\n",
    "# четвертый пуллинговый слой\n",
    "model_5.add(layers.MaxPooling2D(pool_size=(2, 2), strides=(2, 2), padding='same'))\n",
    "\n",
    "# пятый полносвязный слой\n",
    "model_5.add(layers.Conv2D(120, kernel_size=(3, 3), strides=(1, 1), activation='relu', padding='same'))\n",
    "\n",
    "# сглаживание CNN выхода чтобы можно было его присоединить к полносвязногому слою\n",
    "model_5.add(layers.Flatten())\n",
    "\n",
    "# шестой полносвязный слой\n",
    "model_5.add(layers.Dense(84, activation='relu'))\n",
    "\n",
    "# выходной слой с функцией активации softmax\n",
    "model_5.add(layers.Dense(10, activation='softmax'))\n",
    "\n",
    "\n",
    "\n",
    "# компилияция модели\n",
    "model_5.compile(loss=keras.losses.categorical_crossentropy, optimizer='adam', metrics=[\"accuracy\"])\n",
    "\n",
    "hist = model_5.fit(x=x_train,y=y_train, epochs=5, batch_size=254, validation_data=(x_test, y_test), verbose=1)\n",
    "\n",
    "\n",
    "test_score = model_5.evaluate(x_test, y_test)\n",
    "print(\"Test model_5 {:.4f}, accuracy {:.2f}%\".format(test_score[0], test_score[1] * 100))"
   ]
  },
  {
   "cell_type": "code",
   "execution_count": null,
   "metadata": {},
   "outputs": [],
   "source": []
  },
  {
   "cell_type": "code",
   "execution_count": 17,
   "metadata": {},
   "outputs": [
    {
     "name": "stdout",
     "output_type": "stream",
     "text": [
      "Epoch 1/5\n",
      "197/197 [==============================] - 291s 1s/step - loss: 1.9393 - accuracy: 0.2936 - val_loss: 1.3199 - val_accuracy: 0.5234\n",
      "Epoch 2/5\n",
      "197/197 [==============================] - 295s 1s/step - loss: 1.2343 - accuracy: 0.5595 - val_loss: 1.0933 - val_accuracy: 0.6125\n",
      "Epoch 3/5\n",
      "197/197 [==============================] - 313s 2s/step - loss: 1.0087 - accuracy: 0.6448 - val_loss: 0.9867 - val_accuracy: 0.6476\n",
      "Epoch 4/5\n",
      "197/197 [==============================] - 314s 2s/step - loss: 0.8751 - accuracy: 0.6929 - val_loss: 0.9263 - val_accuracy: 0.6733\n",
      "Epoch 5/5\n",
      "197/197 [==============================] - 313s 2s/step - loss: 0.7790 - accuracy: 0.7280 - val_loss: 0.9085 - val_accuracy: 0.6890\n",
      "313/313 [==============================] - 19s 59ms/step - loss: 0.9085 - accuracy: 0.6890\n",
      "Test model_5 0.9085, accuracy 68.90%\n"
     ]
    }
   ],
   "source": [
    "# инициализация пустой модели\n",
    "model_5 = Sequential()\n",
    "\n",
    "# первый сверточный слой\n",
    "model_5.add(layers.Conv2D(16, kernel_size=(5, 5), strides=(1, 1), activation='relu', input_shape=x_train.shape[1:], padding=\"same\"))\n",
    "\n",
    "# второй пуллинговый слой\n",
    "model_5.add(layers.MaxPooling2D(pool_size=(2, 2), strides=(1, 1), padding='same'))\n",
    "\n",
    "# третий сверточный слой\n",
    "model_5.add(layers.Conv2D(32, kernel_size=(5, 5), strides=(1, 1), activation='relu', padding='same'))\n",
    "\n",
    "# четвертый пуллинговый слой\n",
    "model_5.add(layers.MaxPooling2D(pool_size=(2, 2), strides=(2, 2), padding='same'))\n",
    "\n",
    "# пятый полносвязный слой\n",
    "model_5.add(layers.Conv2D(256, kernel_size=(5, 5), strides=(1, 1), activation='relu', padding='same'))\n",
    "\n",
    "# сглаживание CNN выхода чтобы можно было его присоединить к полносвязногому слою\n",
    "model_5.add(layers.Flatten())\n",
    "\n",
    "# шестой полносвязный слой\n",
    "model_5.add(layers.Dense(128, activation='relu'))\n",
    "\n",
    "# выходной слой с функцией активации softmax\n",
    "model_5.add(layers.Dense(10, activation='softmax'))\n",
    "\n",
    "\n",
    "\n",
    "# компилияция модели\n",
    "model_5.compile(loss=keras.losses.categorical_crossentropy, optimizer='adam', metrics=[\"accuracy\"])\n",
    "\n",
    "hist = model_5.fit(x=x_train,y=y_train, epochs=5, batch_size=254, validation_data=(x_test, y_test), verbose=1)\n",
    "\n",
    "\n",
    "test_score = model_5.evaluate(x_test, y_test)\n",
    "print(\"Test model_5 {:.4f}, accuracy {:.2f}%\".format(test_score[0], test_score[1] * 100))"
   ]
  },
  {
   "cell_type": "code",
   "execution_count": null,
   "metadata": {},
   "outputs": [],
   "source": []
  },
  {
   "cell_type": "code",
   "execution_count": 18,
   "metadata": {},
   "outputs": [
    {
     "name": "stdout",
     "output_type": "stream",
     "text": [
      "Epoch 1/5\n",
      "197/197 [==============================] - 272s 1s/step - loss: 1.9556 - accuracy: 0.2758 - val_loss: 1.4349 - val_accuracy: 0.4846\n",
      "Epoch 2/5\n",
      "197/197 [==============================] - 266s 1s/step - loss: 1.3301 - accuracy: 0.5224 - val_loss: 1.2419 - val_accuracy: 0.5533\n",
      "Epoch 3/5\n",
      "197/197 [==============================] - 282s 1s/step - loss: 1.1633 - accuracy: 0.5826 - val_loss: 1.1569 - val_accuracy: 0.5802\n",
      "Epoch 4/5\n",
      "197/197 [==============================] - 281s 1s/step - loss: 1.0431 - accuracy: 0.6301 - val_loss: 1.0757 - val_accuracy: 0.6204\n",
      "Epoch 5/5\n",
      "197/197 [==============================] - 281s 1s/step - loss: 0.9656 - accuracy: 0.6610 - val_loss: 1.0572 - val_accuracy: 0.6245\n",
      "313/313 [==============================] - 13s 40ms/step - loss: 1.0572 - accuracy: 0.6245\n",
      "Test model_5 1.0572, accuracy 62.45%\n"
     ]
    }
   ],
   "source": [
    "# инициализация пустой модели\n",
    "model_5 = Sequential()\n",
    "\n",
    "# первый сверточный слой\n",
    "model_5.add(layers.Conv2D(6, kernel_size=(5, 5), strides=(1, 1), activation='relu', input_shape=x_train.shape[1:], padding=\"same\"))\n",
    "\n",
    "# второй пуллинговый слой\n",
    "model_5.add(layers.MaxPooling2D(pool_size=(2, 2), strides=(1, 1), padding='same'))\n",
    "\n",
    "# третий сверточный слой\n",
    "model_5.add(layers.Conv2D(16, kernel_size=(5, 5), strides=(1, 1), activation='relu', padding='same'))\n",
    "\n",
    "# четвертый пуллинговый слой\n",
    "model_5.add(layers.MaxPooling2D(pool_size=(2, 2), strides=(2, 2), padding='same'))\n",
    "\n",
    "# пятый сверточный слой\n",
    "model_5.add(layers.Conv2D(120, kernel_size=(5, 5), strides=(1, 1), activation='relu', padding='same'))\n",
    "\n",
    "\n",
    "\n",
    "# шестой пуллинговый слой\n",
    "model_5.add(layers.MaxPooling2D(pool_size=(2, 2), strides=(1, 1), padding='same'))\n",
    "\n",
    "# седьмой сверточный слой\n",
    "model_5.add(layers.Conv2D(16, kernel_size=(5, 5), strides=(1, 1), activation='relu', padding='same'))\n",
    "\n",
    "# восьмой пуллинговый слой\n",
    "model_5.add(layers.MaxPooling2D(pool_size=(2, 2), strides=(2, 2), padding='same'))\n",
    "\n",
    "# девятый сверточный слой\n",
    "model_5.add(layers.Conv2D(120, kernel_size=(5, 5), strides=(1, 1), activation='relu', padding='same'))\n",
    "\n",
    "\n",
    "\n",
    "\n",
    "# сглаживание CNN выхода чтобы можно было его присоединить к полносвязногому слою\n",
    "model_5.add(layers.Flatten())\n",
    "\n",
    "# десятый полносвязный слой\n",
    "model_5.add(layers.Dense(84, activation='relu'))\n",
    "\n",
    "# выходной слой с функцией активации softmax\n",
    "model_5.add(layers.Dense(10, activation='softmax'))\n",
    "\n",
    "\n",
    "\n",
    "# компилияция модели\n",
    "model_5.compile(loss=keras.losses.categorical_crossentropy, optimizer='adam', metrics=[\"accuracy\"])\n",
    "\n",
    "hist = model_5.fit(x=x_train,y=y_train, epochs=5, batch_size=254, validation_data=(x_test, y_test), verbose=1)\n",
    "\n",
    "\n",
    "test_score = model_5.evaluate(x_test, y_test)\n",
    "print(\"Test model_5 {:.4f}, accuracy {:.2f}%\".format(test_score[0], test_score[1] * 100))"
   ]
  },
  {
   "cell_type": "code",
   "execution_count": null,
   "metadata": {},
   "outputs": [],
   "source": []
  },
  {
   "cell_type": "code",
   "execution_count": 14,
   "metadata": {},
   "outputs": [
    {
     "name": "stdout",
     "output_type": "stream",
     "text": [
      "Epoch 1/15\n",
      "197/197 [==============================] - 5s 23ms/step - loss: 2.0934 - accuracy: 0.2087 - val_loss: 1.7753 - val_accuracy: 0.3624\n",
      "Epoch 2/15\n",
      "197/197 [==============================] - 4s 23ms/step - loss: 1.7688 - accuracy: 0.3591 - val_loss: 1.7449 - val_accuracy: 0.3727\n",
      "Epoch 3/15\n",
      "197/197 [==============================] - 5s 23ms/step - loss: 1.6841 - accuracy: 0.3950 - val_loss: 1.6033 - val_accuracy: 0.4238\n",
      "Epoch 4/15\n",
      "197/197 [==============================] - 5s 24ms/step - loss: 1.5984 - accuracy: 0.4261 - val_loss: 1.5728 - val_accuracy: 0.4269\n",
      "Epoch 5/15\n",
      "197/197 [==============================] - 5s 24ms/step - loss: 1.5529 - accuracy: 0.4426 - val_loss: 1.5527 - val_accuracy: 0.4413\n",
      "Epoch 6/15\n",
      "197/197 [==============================] - 4s 23ms/step - loss: 1.5091 - accuracy: 0.4570 - val_loss: 1.5592 - val_accuracy: 0.4420\n",
      "Epoch 7/15\n",
      "197/197 [==============================] - 5s 27ms/step - loss: 1.4712 - accuracy: 0.4718 - val_loss: 1.4941 - val_accuracy: 0.4629\n",
      "Epoch 8/15\n",
      "197/197 [==============================] - 5s 24ms/step - loss: 1.4521 - accuracy: 0.4785 - val_loss: 1.4755 - val_accuracy: 0.4692\n",
      "Epoch 9/15\n",
      "197/197 [==============================] - 5s 23ms/step - loss: 1.4182 - accuracy: 0.4920 - val_loss: 1.4392 - val_accuracy: 0.4924\n",
      "Epoch 10/15\n",
      "197/197 [==============================] - 4s 22ms/step - loss: 1.3794 - accuracy: 0.5038 - val_loss: 1.4994 - val_accuracy: 0.4683\n",
      "Epoch 11/15\n",
      "197/197 [==============================] - 5s 26ms/step - loss: 1.3702 - accuracy: 0.5074 - val_loss: 1.4116 - val_accuracy: 0.4987\n",
      "Epoch 12/15\n",
      "197/197 [==============================] - 5s 26ms/step - loss: 1.3367 - accuracy: 0.5177 - val_loss: 1.4328 - val_accuracy: 0.4959\n",
      "Epoch 13/15\n",
      "197/197 [==============================] - 6s 28ms/step - loss: 1.3115 - accuracy: 0.5328 - val_loss: 1.4274 - val_accuracy: 0.4900\n",
      "Epoch 14/15\n",
      "197/197 [==============================] - 6s 30ms/step - loss: 1.3068 - accuracy: 0.5338 - val_loss: 1.4093 - val_accuracy: 0.5024\n",
      "Epoch 15/15\n",
      "197/197 [==============================] - 6s 30ms/step - loss: 1.2883 - accuracy: 0.5390 - val_loss: 1.4010 - val_accuracy: 0.4973\n",
      "313/313 [==============================] - 1s 3ms/step - loss: 1.4010 - accuracy: 0.4973\n",
      "Test loss 1.4010, accuracy 49.73%\n"
     ]
    }
   ],
   "source": [
    "\n",
    "model_5 = Sequential(name='model_5')\n",
    "model_5.add(layers.Flatten())\n",
    "model_5.add(Dense(256, activation='relu', input_shape=(1024,)))\n",
    "model_5.add(Dense(256, activation='relu'))\n",
    "model_5.add(Dense(128, activation='relu'))\n",
    "model_5.add(Dense(128, activation='relu'))\n",
    "model_5.add(Dense(64, activation='relu'))\n",
    "model_5.add(Dense(64, activation='relu'))\n",
    "model_5.add(Dense(64, activation='relu'))\n",
    "model_5.add(Dense(10, activation='softmax'))\n",
    "\n",
    "model_5.compile(\n",
    "  optimizer='adam',\n",
    "  loss='categorical_crossentropy',\n",
    "  metrics=['accuracy'],\n",
    ")\n",
    "\n",
    "hist = model_5.fit(x=x_train,y=y_train, epochs=15, batch_size=254, validation_data=(x_test, y_test), verbose=1)\n",
    "\n",
    "test_score = model_5.evaluate(x_test, y_test)\n",
    "print(\"Test loss {:.4f}, accuracy {:.2f}%\".format(test_score[0], test_score[1] * 100))"
   ]
  },
  {
   "cell_type": "code",
   "execution_count": null,
   "metadata": {},
   "outputs": [],
   "source": []
  },
  {
   "cell_type": "code",
   "execution_count": 37,
   "metadata": {},
   "outputs": [
    {
     "name": "stdout",
     "output_type": "stream",
     "text": [
      "Epoch 1/5\n",
      "196/196 [==============================] - 348s 2s/step - loss: 1.8587 - accuracy: 0.3200 - val_loss: 1.2771 - val_accuracy: 0.5445\n",
      "Epoch 2/5\n",
      "196/196 [==============================] - 319s 2s/step - loss: 1.2552 - accuracy: 0.5526 - val_loss: 1.0489 - val_accuracy: 0.6336\n",
      "Epoch 3/5\n",
      "196/196 [==============================] - 316s 2s/step - loss: 1.0635 - accuracy: 0.6259 - val_loss: 0.9274 - val_accuracy: 0.6751\n",
      "Epoch 4/5\n",
      "196/196 [==============================] - 305s 2s/step - loss: 0.9467 - accuracy: 0.6674 - val_loss: 0.9083 - val_accuracy: 0.6828\n",
      "Epoch 5/5\n",
      "196/196 [==============================] - 305s 2s/step - loss: 0.8743 - accuracy: 0.6964 - val_loss: 0.8390 - val_accuracy: 0.7031\n",
      "313/313 [==============================] - 18s 58ms/step - loss: 0.8390 - accuracy: 0.7031\n",
      "Test model_5 0.8390, accuracy 70.31%\n"
     ]
    }
   ],
   "source": [
    "#Препроцессинг и data augmentation в реальном времени:\n",
    "# запуск data augmentation через fit\n",
    "#datagen.fit(x_train)\n",
    "# запуск data augmentation через fit_generator\n",
    "# model.fit_generator(datagen.flow(x_train, y_train, batch_size=batch_size), epochs=epochs,\n",
    "#                        validation_data=(x_test, y_test), workers=4)\n",
    "datagen = ImageDataGenerator(\n",
    "    featurewise_center=False,\n",
    "    samplewise_center=False,\n",
    "    featurewise_std_normalization=False,\n",
    "    samplewise_std_normalization=False,\n",
    "    zca_whitening=False, \n",
    "    zca_epsilon=1e-06, \n",
    "    rotation_range=0, \n",
    "    width_shift_range=0.1,\n",
    "    height_shift_range=0.1,\n",
    "    shear_range=0., \n",
    "    zoom_range=0., \n",
    "    channel_shift_range=0.,\n",
    "    fill_mode='nearest',\n",
    "    cval=0.,\n",
    "    horizontal_flip=True,\n",
    "    vertical_flip=False,\n",
    "    rescale=None,\n",
    "    preprocessing_function=None,\n",
    "    data_format=None,\n",
    "    validation_split=0.0)\n",
    "\n",
    "# инициализация пустой модели\n",
    "model_5 = Sequential()\n",
    "\n",
    "# первый сверточный слой\n",
    "model_5.add(layers.Conv2D(16, kernel_size=(5, 5), strides=(1, 1), activation='relu', input_shape=x_train.shape[1:], padding=\"same\"))\n",
    "\n",
    "# второй пуллинговый слой\n",
    "model_5.add(layers.MaxPooling2D(pool_size=(2, 2), strides=(1, 1), padding='same'))\n",
    "\n",
    "# третий сверточный слой\n",
    "model_5.add(layers.Conv2D(32, kernel_size=(5, 5), strides=(1, 1), activation='relu', padding='same'))\n",
    "\n",
    "# четвертый пуллинговый слой\n",
    "model_5.add(layers.MaxPooling2D(pool_size=(2, 2), strides=(2, 2), padding='same'))\n",
    "\n",
    "# пятый полносвязный слой\n",
    "model_5.add(layers.Conv2D(256, kernel_size=(5, 5), strides=(1, 1), activation='relu', padding='same'))\n",
    "\n",
    "# сглаживание CNN выхода чтобы можно было его присоединить к полносвязногому слою\n",
    "model_5.add(layers.Flatten())\n",
    "\n",
    "# шестой полносвязный слой\n",
    "model_5.add(layers.Dense(128, activation='relu'))\n",
    "\n",
    "# выходной слой с функцией активации softmax\n",
    "model_5.add(layers.Dense(10, activation='softmax'))\n",
    "\n",
    "\n",
    "\n",
    "# компилияция модели\n",
    "model_5.compile(loss=keras.losses.categorical_crossentropy, optimizer='adam', metrics=[\"accuracy\"])\n",
    "\n",
    "#hist = model_5.fit(x=x_train,y=y_train, epochs=5, batch_size=254, validation_data=(x_test, y_test), verbose=1)\n",
    "hist = model_5.fit(datagen.flow(x_train, y_train, batch_size=256), epochs=5,\n",
    "                        validation_data=(x_test, y_test), workers=4)\n",
    "\n",
    "test_score = model_5.evaluate(x_test, y_test)\n",
    "print(\"Test model_5 {:.4f}, accuracy {:.2f}%\".format(test_score[0], test_score[1] * 100))"
   ]
  },
  {
   "cell_type": "code",
   "execution_count": null,
   "metadata": {},
   "outputs": [],
   "source": []
  },
  {
   "cell_type": "code",
   "execution_count": null,
   "metadata": {},
   "outputs": [],
   "source": []
  },
  {
   "cell_type": "code",
   "execution_count": null,
   "metadata": {},
   "outputs": [],
   "source": []
  },
  {
   "cell_type": "markdown",
   "metadata": {},
   "source": [
    "стартовый вариант: слоев-7, нейронов-6,16,120,84, kernel_size-(5, 5), strides=(1, 1),\n",
    "                   activation='tanh', padding=\"valid\", optimizer='SGD', epochs=5\n",
    "\n",
    "         + изменение оставили \n",
    "         - изменение отменили\n",
    "\n",
    "старт                  Test model_5 1.7199, accuracy 39.92% \n",
    "+'relu'          +     Test model_5 1.6900, accuracy 40.35%\n",
    "+'adam'          +     Test model_5 1.0412, accuracy 63.78%\n",
    "+'nadam'         -     Test model_5 1.1156, accuracy 60.90%  отмена в связи с неэффективностью\n",
    "+'same'          +     Test model_5 1.0116, accuracy 65.69%\n",
    "+MaxPooling      +     Test model_5 0.9351, accuracy 67.89%\n",
    "+kernel(3, 3)    -     Test model_5 0.9779, accuracy 65.53%  отмена в связи с неэффективностью\n",
    "+кол-во ядер     -     Test model_5 0.9085, accuracy 68.90%  отменила изменение для сравнения с предыдущей моделью\n",
    "+кол-во слоев    -     Test model_5 1.0572, accuracy 62.45%  отмена в связи с неэффективностью\n",
    "полнометражная   -     Test    loss 1.4010, accuracy 49.73%  отмена в связи с неэффективностью даже при 15 эпохах\n",
    "+аугментация     +     Test model_5 0.8390, accuracy 70.31%"
   ]
  },
  {
   "cell_type": "code",
   "execution_count": null,
   "metadata": {},
   "outputs": [],
   "source": []
  },
  {
   "cell_type": "code",
   "execution_count": 10,
   "metadata": {},
   "outputs": [
    {
     "data": {
      "image/png": "[encoded data removed]",
      "text/plain": [
       "<IPython.core.display.Image object>"
      ]
     },
     "execution_count": 10,
     "metadata": {},
     "output_type": "execute_result"
    }
   ],
   "source": [
    "first_input = Input(shape=(32,32,3))\n",
    "x11= Conv2D(16,5,activation='relu')(first_input)\n",
    "x11= Flatten()(x11)\n",
    "first_dense = Dense(1, )(x11)\n",
    "\n",
    "second_input = Input(shape=(32,32,3))\n",
    "x22= Flatten()(second_input)\n",
    "second_dense = Dense(1, )(x22)\n",
    "\n",
    "merge_one = Concatenate()([first_dense, second_dense])\n",
    "\n",
    "third_input = Input(shape=(32,32,3))\n",
    "x33= Flatten()(third_input)\n",
    "x33 = Dense(1, )(x33)\n",
    "merge_two = Concatenate(axis=1)([merge_one, x33])\n",
    "merge_two=Dense(10, activation='softmax')(merge_two)\n",
    "\n",
    "\n",
    "model_stek = Model(inputs=[first_input, second_input, third_input], outputs=merge_two)\n",
    "ada_grad = tf.keras.optimizers.Adagrad(lr=0.1, epsilon=1e-08, decay=0.0)\n",
    "model_stek.compile(optimizer=ada_grad, loss=tf.keras.losses.CategoricalCrossentropy(),\n",
    "              metrics=['accuracy'])\n",
    "\n",
    "\n",
    "plot_model(model_stek,'model_stek.png')"
   ]
  },
  {
   "cell_type": "code",
   "execution_count": 11,
   "metadata": {},
   "outputs": [
    {
     "name": "stdout",
     "output_type": "stream",
     "text": [
      "Epoch 1/5\n",
      "1250/1250 [==============================] - 18s 14ms/step - loss: 3.6212 - accuracy: 0.1930 - val_loss: 1.9561 - val_accuracy: 0.2781\n",
      "Epoch 2/5\n",
      "1250/1250 [==============================] - 17s 14ms/step - loss: 1.9306 - accuracy: 0.2890 - val_loss: 1.8809 - val_accuracy: 0.3114\n",
      "Epoch 3/5\n",
      "1250/1250 [==============================] - 17s 14ms/step - loss: 1.8784 - accuracy: 0.3017 - val_loss: 1.8986 - val_accuracy: 0.2937\n",
      "Epoch 4/5\n",
      "1250/1250 [==============================] - 21s 17ms/step - loss: 1.8510 - accuracy: 0.3072 - val_loss: 1.8649 - val_accuracy: 0.3025\n",
      "Epoch 5/5\n",
      "1250/1250 [==============================] - 20s 16ms/step - loss: 1.8382 - accuracy: 0.3092 - val_loss: 1.8456 - val_accuracy: 0.3117\n"
     ]
    }
   ],
   "source": [
    "hist = model_stek.fit([x_train,x_train,x_train],y_train, epochs = 5, validation_split=0.2)"
   ]
  },
  {
   "cell_type": "code",
   "execution_count": 14,
   "metadata": {},
   "outputs": [
    {
     "name": "stdout",
     "output_type": "stream",
     "text": [
      "313/313 [==============================] - 2s 5ms/step - loss: 1.8254 - accuracy: 0.3174\n",
      "Test model_stek 1.8254, accuracy 31.74%\n"
     ]
    }
   ],
   "source": [
    "test_score = model_stek.evaluate([x_test,x_test,x_test], y_test)\n",
    "print(\"Test model_stek {:.4f}, accuracy {:.2f}%\".format(test_score[0], test_score[1] * 100))"
   ]
  },
  {
   "cell_type": "code",
   "execution_count": null,
   "metadata": {},
   "outputs": [],
   "source": []
  },
  {
   "cell_type": "code",
   "execution_count": null,
   "metadata": {},
   "outputs": [],
   "source": []
  },
  {
   "cell_type": "code",
   "execution_count": 13,
   "metadata": {},
   "outputs": [
    {
     "data": {
      "image/png": "[encoded data removed]",
      "text/plain": [
       "<IPython.core.display.Image object>"
      ]
     },
     "execution_count": 13,
     "metadata": {},
     "output_type": "execute_result"
    }
   ],
   "source": [
    "first_input = Input(shape=(32,32,3))\n",
    "x11= Conv2D(16,5,activation='relu')(first_input)\n",
    "x22= MaxPooling2D(pool_size=(2, 2), strides=(1, 1), padding='same')(x11)\n",
    "x33= Conv2D(32,5,activation='relu')(x22)\n",
    "x33= Flatten()(x33)\n",
    "first_dense = Dense(1, )(x33)\n",
    "\n",
    "second_input = Input(shape=(32,32,3))\n",
    "x55= Flatten()(second_input)\n",
    "x66 = Dense(128, )(x55)\n",
    "x77 = Dense(64, )(x66)\n",
    "second_dense = Dense(1, )(x77)\n",
    "\n",
    "merge_one = Concatenate()([first_dense, second_dense])\n",
    "\n",
    "third_input = Input(shape=(32,32,3))\n",
    "x99= Flatten()(third_input)\n",
    "x99 = Dense(1, )(x99)\n",
    "merge_two = Concatenate(axis=1)([merge_one, x99])\n",
    "merge_two=Dense(10, activation='softmax')(merge_two)\n",
    "\n",
    "\n",
    "model_stek = Model(inputs=[first_input, second_input, third_input], outputs=merge_two)\n",
    "ada_grad = tf.keras.optimizers.Adagrad(lr=0.1, epsilon=1e-08, decay=0.0)\n",
    "model_stek.compile(optimizer='adam', loss=tf.keras.losses.CategoricalCrossentropy(),\n",
    "              metrics=['accuracy'])\n",
    "\n",
    "\n",
    "plot_model(model_stek,'model_stek.png')"
   ]
  },
  {
   "cell_type": "code",
   "execution_count": 14,
   "metadata": {},
   "outputs": [
    {
     "name": "stdout",
     "output_type": "stream",
     "text": [
      "1250/1250 [==============================] - 75s 59ms/step - loss: 2.3727 - accuracy: 0.1796 - val_loss: 1.8678 - val_accuracy: 0.3199\n"
     ]
    }
   ],
   "source": [
    "hist = model_stek.fit([x_train,x_train,x_train],y_train, epochs = 1, validation_split=0.2)"
   ]
  },
  {
   "cell_type": "code",
   "execution_count": 15,
   "metadata": {},
   "outputs": [
    {
     "name": "stdout",
     "output_type": "stream",
     "text": [
      "313/313 [==============================] - 4s 13ms/step - loss: 1.8521 - accuracy: 0.3221\n",
      "Test model_stek 1.8521, accuracy 32.21%\n"
     ]
    }
   ],
   "source": [
    "test_score = model_stek.evaluate([x_test,x_test,x_test], y_test)\n",
    "print(\"Test model_stek {:.4f}, accuracy {:.2f}%\".format(test_score[0], test_score[1] * 100))"
   ]
  },
  {
   "cell_type": "code",
   "execution_count": null,
   "metadata": {},
   "outputs": [],
   "source": []
  }
 ],
 "metadata": {
  "kernelspec": {
   "display_name": "Python 3",
   "language": "python",
   "name": "python3"
  },
  "language_info": {
   "codemirror_mode": {
    "name": "ipython",
    "version": 3
   },
   "file_extension": ".py",
   "mimetype": "text/x-python",
   "name": "python",
   "nbconvert_exporter": "python",
   "pygments_lexer": "ipython3",
   "version": "3.8.5"
  }
 },
 "nbformat": 4,
 "nbformat_minor": 4
}
