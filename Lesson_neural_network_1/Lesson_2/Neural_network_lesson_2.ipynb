{
 "cells": [
  {
   "cell_type": "code",
   "execution_count": 1,
   "metadata": {},
   "outputs": [],
   "source": [
    "import numpy as np\n",
    "import pandas as pd\n",
    "import matplotlib.pyplot as plt\n",
    "import mnist\n",
    "import keras\n",
    "import tensorflow as tf\n",
    "from keras.models import Sequential\n",
    "from keras.layers import Dense\n",
    "from keras.utils import to_categorical\n",
    "from keras.datasets import mnist\n",
    "#from keras.utils import plot_model\n",
    "import pydot\n",
    "import pydotplus\n",
    "from pydotplus import graphviz\n",
    "from keras.utils.vis_utils import plot_model\n",
    "from keras.utils.vis_utils import model_to_dot\n",
    "keras.utils.vis_utils.pydot = pydot\n",
    "from sklearn.metrics import confusion_matrix"
   ]
  },
  {
   "cell_type": "code",
   "execution_count": 2,
   "metadata": {},
   "outputs": [],
   "source": [
    "# загружаем данные\n",
    "fashion_mnist = tf.keras.datasets.fashion_mnist\n",
    "(train_images, train_labels), (test_images, test_labels) = fashion_mnist.load_data()"
   ]
  },
  {
   "cell_type": "code",
   "execution_count": 3,
   "metadata": {},
   "outputs": [
    {
     "name": "stdout",
     "output_type": "stream",
     "text": [
      "(60000, 28, 28)\n",
      "(60000,)\n",
      "(10000, 28, 28)\n",
      "(10000,)\n"
     ]
    }
   ],
   "source": [
    "print(train_images.shape)  # (60000, 28, 28) ('unit,str,columns')\n",
    "print(train_labels.shape)  # (60000,)\n",
    "print(test_images.shape)   # (10000, 28, 28) ('unit,str,columns')\n",
    "print(test_labels.shape)   # (10000,)"
   ]
  },
  {
   "cell_type": "code",
   "execution_count": 4,
   "metadata": {},
   "outputs": [
    {
     "data": {
      "text/plain": [
       "array([[  0,   0,   0,   0,   0,   0,   0],\n",
       "       [  0,   0,   0,   0,   0,   0,   0],\n",
       "       [  0,   0,   0,   0,   0,   0,   0],\n",
       "       [  0,   0,   0,   0,   0,   0,   0],\n",
       "       [  0,   0,   0,   0,   0,   0,   0],\n",
       "       [  0,   0,   0,   0,   0,   0,   0],\n",
       "       [  0,   0,   0,   0,   0,   0,   0],\n",
       "       [  0,   0,   0,   0,   0,   0,   0],\n",
       "       [  0,   0,   0,   0,   0,   0,   0],\n",
       "       [  0,   0,   0,   0,   0,   0,   0],\n",
       "       [  0,   0,   0,   0,   0,   0,   0],\n",
       "       [  0,   0,   0,   0,   0,   0,   0],\n",
       "       [  0,   0,   0,   0,   0,   0,   0],\n",
       "       [  0,   0,   0,   0,   0,   0,   0],\n",
       "       [  0,   0,   1,   4,   6,   7,   2],\n",
       "       [  0,   3,   0,   0,   0,   0,   0],\n",
       "       [  0,   0,   0,   0,  18,  44,  82],\n",
       "       [  0,  57, 187, 208, 224, 221, 224],\n",
       "       [  3, 202, 228, 224, 221, 211, 211],\n",
       "       [ 98, 233, 198, 210, 222, 229, 229]], dtype=uint8)"
      ]
     },
     "execution_count": 4,
     "metadata": {},
     "output_type": "execute_result"
    }
   ],
   "source": [
    "train_images[0,0:20,0:7]"
   ]
  },
  {
   "cell_type": "code",
   "execution_count": 5,
   "metadata": {},
   "outputs": [
    {
     "data": {
      "image/png": "[encoded data removed]",
      "text/plain": [
       "<Figure size 432x288 with 1 Axes>"
      ]
     },
     "metadata": {
      "needs_background": "light"
     },
     "output_type": "display_data"
    }
   ],
   "source": [
    "plt.imshow(train_images[0,:,:])\n",
    "plt.show()"
   ]
  },
  {
   "cell_type": "code",
   "execution_count": 6,
   "metadata": {},
   "outputs": [],
   "source": [
    "# Normalize the images.\n",
    "train_images = (train_images / 127) - 1\n",
    "test_images = (test_images / 127) - 1"
   ]
  },
  {
   "cell_type": "code",
   "execution_count": 7,
   "metadata": {},
   "outputs": [],
   "source": [
    "# Flatten the images.\n",
    "train_images = train_images.reshape((-1, 784))\n",
    "test_images = test_images.reshape((-1, 784))"
   ]
  },
  {
   "cell_type": "code",
   "execution_count": 8,
   "metadata": {},
   "outputs": [
    {
     "name": "stdout",
     "output_type": "stream",
     "text": [
      "(60000, 784)\n",
      "(10000, 784)\n"
     ]
    }
   ],
   "source": [
    "print(train_images.shape) # (60000, 784)\n",
    "print(test_images.shape)  # (10000, 784)"
   ]
  },
  {
   "cell_type": "code",
   "execution_count": 9,
   "metadata": {},
   "outputs": [
    {
     "data": {
      "text/plain": [
       "array([[-1.        , -1.        , -1.        , -1.        , -1.        ],\n",
       "       [-1.        , -1.        , -1.        , -1.        , -1.        ],\n",
       "       [-1.        , -1.        , -1.        , -1.        , -1.        ],\n",
       "       [-1.        , -1.        , -1.        , -1.        , -1.        ],\n",
       "       [-1.        , -1.        , -1.        , -1.        , -1.        ],\n",
       "       [-1.        , -1.        , -1.        , -1.        , -0.99212598],\n",
       "       [-1.        , -1.        , -1.        , -1.        , -1.        ],\n",
       "       [-1.        , -1.        , -1.        , -1.        , -1.        ],\n",
       "       [-1.        , -1.        , -1.        , -1.        , -1.        ],\n",
       "       [-1.        , -1.        , -1.        , -1.        , -1.        ]])"
      ]
     },
     "execution_count": 9,
     "metadata": {},
     "output_type": "execute_result"
    }
   ],
   "source": [
    "train_images[0:10,0:5]"
   ]
  },
  {
   "cell_type": "code",
   "execution_count": null,
   "metadata": {},
   "outputs": [],
   "source": []
  },
  {
   "cell_type": "code",
   "execution_count": 34,
   "metadata": {},
   "outputs": [],
   "source": [
    "model_fashion = Sequential(name='model_fashion')\n",
    "model_fashion.add(Dense(128, activation='relu', input_shape=(784,)))\n",
    "model_fashion.add(Dense(10, activation='softmax'))"
   ]
  },
  {
   "cell_type": "code",
   "execution_count": 35,
   "metadata": {},
   "outputs": [],
   "source": [
    "model_fashion.compile(\n",
    "  optimizer='adam',\n",
    "  loss='categorical_crossentropy',\n",
    "  metrics=['accuracy'],\n",
    ")"
   ]
  },
  {
   "cell_type": "code",
   "execution_count": 36,
   "metadata": {},
   "outputs": [
    {
     "name": "stdout",
     "output_type": "stream",
     "text": [
      "Model: \"model_fashion\"\n",
      "_________________________________________________________________\n",
      "Layer (type)                 Output Shape              Param #   \n",
      "=================================================================\n",
      "dense_2 (Dense)              (None, 128)               100480    \n",
      "_________________________________________________________________\n",
      "dense_3 (Dense)              (None, 10)                1290      \n",
      "=================================================================\n",
      "Total params: 101,770\n",
      "Trainable params: 101,770\n",
      "Non-trainable params: 0\n",
      "_________________________________________________________________\n"
     ]
    }
   ],
   "source": [
    "model_fashion.summary()"
   ]
  },
  {
   "cell_type": "code",
   "execution_count": 37,
   "metadata": {},
   "outputs": [
    {
     "data": {
      "image/png": "[encoded data removed]",
      "text/plain": [
       "<IPython.core.display.Image object>"
      ]
     },
     "execution_count": 37,
     "metadata": {},
     "output_type": "execute_result"
    }
   ],
   "source": [
    "plot_model(model_fashion, to_file='model.png')"
   ]
  },
  {
   "cell_type": "code",
   "execution_count": 38,
   "metadata": {},
   "outputs": [],
   "source": [
    "#model_fashion.get_config()"
   ]
  },
  {
   "cell_type": "code",
   "execution_count": 10,
   "metadata": {},
   "outputs": [],
   "source": [
    "y_train = to_categorical(train_labels)\n",
    "y_test = to_categorical(test_labels)"
   ]
  },
  {
   "cell_type": "code",
   "execution_count": 11,
   "metadata": {},
   "outputs": [
    {
     "data": {
      "text/plain": [
       "(60000,)"
      ]
     },
     "execution_count": 11,
     "metadata": {},
     "output_type": "execute_result"
    }
   ],
   "source": [
    "train_labels.shape"
   ]
  },
  {
   "cell_type": "code",
   "execution_count": 12,
   "metadata": {},
   "outputs": [
    {
     "data": {
      "text/plain": [
       "(60000, 10)"
      ]
     },
     "execution_count": 12,
     "metadata": {},
     "output_type": "execute_result"
    }
   ],
   "source": [
    "y_train.shape"
   ]
  },
  {
   "cell_type": "code",
   "execution_count": 13,
   "metadata": {},
   "outputs": [
    {
     "data": {
      "text/plain": [
       "array([9, 0, 0, ..., 3, 0, 5], dtype=uint8)"
      ]
     },
     "execution_count": 13,
     "metadata": {},
     "output_type": "execute_result"
    }
   ],
   "source": [
    "train_labels"
   ]
  },
  {
   "cell_type": "code",
   "execution_count": 14,
   "metadata": {},
   "outputs": [
    {
     "data": {
      "text/plain": [
       "array([[0., 0., 0., ..., 0., 0., 1.],\n",
       "       [1., 0., 0., ..., 0., 0., 0.],\n",
       "       [1., 0., 0., ..., 0., 0., 0.],\n",
       "       ...,\n",
       "       [0., 0., 0., ..., 0., 0., 0.],\n",
       "       [1., 0., 0., ..., 0., 0., 0.],\n",
       "       [0., 0., 0., ..., 0., 0., 0.]], dtype=float32)"
      ]
     },
     "execution_count": 14,
     "metadata": {},
     "output_type": "execute_result"
    }
   ],
   "source": [
    "y_train"
   ]
  },
  {
   "cell_type": "code",
   "execution_count": 44,
   "metadata": {},
   "outputs": [
    {
     "name": "stdout",
     "output_type": "stream",
     "text": [
      "Epoch 1/25\n",
      "1500/1500 [==============================] - 4s 2ms/step - loss: 0.6246 - accuracy: 0.7794 - val_loss: 0.4219 - val_accuracy: 0.8460\n",
      "Epoch 2/25\n",
      "1500/1500 [==============================] - 4s 3ms/step - loss: 0.3942 - accuracy: 0.8561 - val_loss: 0.3866 - val_accuracy: 0.8608\n",
      "Epoch 3/25\n",
      "1500/1500 [==============================] - 4s 3ms/step - loss: 0.3411 - accuracy: 0.8743 - val_loss: 0.3708 - val_accuracy: 0.8690\n",
      "Epoch 4/25\n",
      "1500/1500 [==============================] - 4s 3ms/step - loss: 0.3163 - accuracy: 0.8830 - val_loss: 0.3915 - val_accuracy: 0.8581\n",
      "Epoch 5/25\n",
      "1500/1500 [==============================] - 4s 3ms/step - loss: 0.2976 - accuracy: 0.8919 - val_loss: 0.3871 - val_accuracy: 0.8637\n",
      "Epoch 6/25\n",
      "1500/1500 [==============================] - 5s 3ms/step - loss: 0.2885 - accuracy: 0.8912 - val_loss: 0.3434 - val_accuracy: 0.8761\n",
      "Epoch 7/25\n",
      "1500/1500 [==============================] - 5s 3ms/step - loss: 0.2751 - accuracy: 0.8969 - val_loss: 0.3627 - val_accuracy: 0.8732\n",
      "Epoch 8/25\n",
      "1500/1500 [==============================] - 4s 3ms/step - loss: 0.2609 - accuracy: 0.9035 - val_loss: 0.3313 - val_accuracy: 0.8857\n",
      "Epoch 9/25\n",
      "1500/1500 [==============================] - 4s 3ms/step - loss: 0.2522 - accuracy: 0.9047 - val_loss: 0.3638 - val_accuracy: 0.8735\n",
      "Epoch 10/25\n",
      "1500/1500 [==============================] - 5s 3ms/step - loss: 0.2370 - accuracy: 0.9108 - val_loss: 0.3734 - val_accuracy: 0.8744\n",
      "Epoch 11/25\n",
      "1500/1500 [==============================] - 4s 3ms/step - loss: 0.2342 - accuracy: 0.9131 - val_loss: 0.3556 - val_accuracy: 0.8796\n",
      "Epoch 12/25\n",
      "1500/1500 [==============================] - 4s 3ms/step - loss: 0.2243 - accuracy: 0.9167 - val_loss: 0.3478 - val_accuracy: 0.8824\n",
      "Epoch 13/25\n",
      "1500/1500 [==============================] - 4s 3ms/step - loss: 0.2118 - accuracy: 0.9217 - val_loss: 0.3673 - val_accuracy: 0.8761\n",
      "Epoch 14/25\n",
      "1500/1500 [==============================] - 4s 3ms/step - loss: 0.2079 - accuracy: 0.9245 - val_loss: 0.3841 - val_accuracy: 0.8734\n",
      "Epoch 15/25\n",
      "1500/1500 [==============================] - 4s 3ms/step - loss: 0.2013 - accuracy: 0.9256 - val_loss: 0.3835 - val_accuracy: 0.8762\n",
      "Epoch 16/25\n",
      "1500/1500 [==============================] - 4s 3ms/step - loss: 0.1990 - accuracy: 0.9244 - val_loss: 0.3793 - val_accuracy: 0.8788\n",
      "Epoch 17/25\n",
      "1500/1500 [==============================] - 4s 3ms/step - loss: 0.1916 - accuracy: 0.9289 - val_loss: 0.3754 - val_accuracy: 0.8846\n",
      "Epoch 18/25\n",
      "1500/1500 [==============================] - 5s 3ms/step - loss: 0.1794 - accuracy: 0.9341 - val_loss: 0.3662 - val_accuracy: 0.8835\n",
      "Epoch 19/25\n",
      "1500/1500 [==============================] - 4s 3ms/step - loss: 0.1829 - accuracy: 0.9305 - val_loss: 0.3837 - val_accuracy: 0.8838\n",
      "Epoch 20/25\n",
      "1500/1500 [==============================] - 4s 3ms/step - loss: 0.1749 - accuracy: 0.9336 - val_loss: 0.3800 - val_accuracy: 0.8850\n",
      "Epoch 21/25\n",
      "1500/1500 [==============================] - 4s 3ms/step - loss: 0.1688 - accuracy: 0.9358 - val_loss: 0.3779 - val_accuracy: 0.8847\n",
      "Epoch 22/25\n",
      "1500/1500 [==============================] - 4s 3ms/step - loss: 0.1666 - accuracy: 0.9380 - val_loss: 0.3988 - val_accuracy: 0.8810\n",
      "Epoch 23/25\n",
      "1500/1500 [==============================] - 4s 3ms/step - loss: 0.1622 - accuracy: 0.9387 - val_loss: 0.4119 - val_accuracy: 0.8810\n",
      "Epoch 24/25\n",
      "1500/1500 [==============================] - 4s 3ms/step - loss: 0.1591 - accuracy: 0.9398 - val_loss: 0.4125 - val_accuracy: 0.8839\n",
      "Epoch 25/25\n",
      "1500/1500 [==============================] - 4s 3ms/step - loss: 0.1564 - accuracy: 0.9429 - val_loss: 0.4098 - val_accuracy: 0.8832\n"
     ]
    }
   ],
   "source": [
    "# Train the model.\n",
    "hist = model_fashion.fit(\n",
    "  train_images,\n",
    "  y_train,\n",
    "  epochs=25,\n",
    "  batch_size=32, validation_split=0.2\n",
    ")"
   ]
  },
  {
   "cell_type": "code",
   "execution_count": 45,
   "metadata": {},
   "outputs": [
    {
     "name": "stdout",
     "output_type": "stream",
     "text": [
      "313/313 [==============================] - 1s 2ms/step - loss: 0.4298 - accuracy: 0.8790\n"
     ]
    },
    {
     "data": {
      "text/plain": [
       "[0.429790198802948, 0.8790000081062317]"
      ]
     },
     "execution_count": 45,
     "metadata": {},
     "output_type": "execute_result"
    }
   ],
   "source": [
    "# Evaluate the model.\n",
    "model_fashion.evaluate(\n",
    "  test_images,\n",
    "  y_test\n",
    ")"
   ]
  },
  {
   "cell_type": "code",
   "execution_count": 22,
   "metadata": {},
   "outputs": [],
   "source": [
    "# Predict on the first 5 test images.\n",
    "predictions = model_fashion.predict(test_images[:5])"
   ]
  },
  {
   "cell_type": "code",
   "execution_count": 23,
   "metadata": {},
   "outputs": [
    {
     "name": "stdout",
     "output_type": "stream",
     "text": [
      "[9 2 1 1 0]\n"
     ]
    }
   ],
   "source": [
    "# Print our model's predictions.\n",
    "print(np.argmax(predictions, axis=1)) # [9 2 1 1 6]"
   ]
  },
  {
   "cell_type": "code",
   "execution_count": 24,
   "metadata": {},
   "outputs": [
    {
     "name": "stdout",
     "output_type": "stream",
     "text": [
      "[9 2 1 1 6]\n"
     ]
    }
   ],
   "source": [
    "# Check our predictions against the ground truths.\n",
    "print(test_labels[:5]) # [9 2 1 1 6]]"
   ]
  },
  {
   "cell_type": "code",
   "execution_count": 31,
   "metadata": {},
   "outputs": [
    {
     "data": {
      "text/plain": [
       "array([[2.97996872e-09, 8.04328053e-08, 2.91362937e-07, 2.31134099e-08,\n",
       "        1.95031191e-09, 1.34335486e-02, 8.59477677e-06, 1.65675245e-02,\n",
       "        3.64936432e-06, 9.69986260e-01],\n",
       "       [2.61014208e-07, 5.01682300e-14, 9.99065340e-01, 1.47177455e-18,\n",
       "        9.34075215e-04, 1.56511969e-17, 3.13332379e-07, 1.90871177e-19,\n",
       "        1.47681380e-14, 1.08195664e-19],\n",
       "       [3.55558846e-11, 1.00000000e+00, 3.21619745e-11, 4.70936734e-10,\n",
       "        6.86453294e-09, 8.64061817e-17, 4.25689484e-11, 5.08442752e-23,\n",
       "        4.52163272e-11, 1.87640793e-17],\n",
       "       [2.99804903e-10, 9.99999642e-01, 8.58487031e-11, 4.13261745e-07,\n",
       "        5.19038608e-08, 2.00426915e-12, 7.26963689e-09, 5.60291905e-18,\n",
       "        4.87630214e-10, 3.61292967e-15],\n",
       "       [1.40148208e-01, 4.36710116e-06, 2.86622960e-02, 8.80530383e-03,\n",
       "        4.51516248e-02, 4.70780979e-05, 7.76953936e-01, 8.92541323e-07,\n",
       "        2.23067793e-04, 3.21613311e-06]], dtype=float32)"
      ]
     },
     "execution_count": 31,
     "metadata": {},
     "output_type": "execute_result"
    }
   ],
   "source": [
    "predictions"
   ]
  },
  {
   "cell_type": "code",
   "execution_count": 32,
   "metadata": {},
   "outputs": [
    {
     "data": {
      "text/plain": [
       "array([9, 2, 1, ..., 8, 1, 5], dtype=uint8)"
      ]
     },
     "execution_count": 32,
     "metadata": {},
     "output_type": "execute_result"
    }
   ],
   "source": [
    "test_labels"
   ]
  },
  {
   "cell_type": "code",
   "execution_count": 33,
   "metadata": {},
   "outputs": [],
   "source": [
    "# Save the model to disk.\n",
    "model_fashion.save_weights('model_fashion.h5')\n",
    "\n",
    "# Load the model from disk later using:\n",
    "# model.load_weights('model_fashion.h5')"
   ]
  },
  {
   "cell_type": "code",
   "execution_count": 42,
   "metadata": {},
   "outputs": [
    {
     "data": {
      "text/plain": [
       "dict_keys(['loss', 'accuracy', 'val_loss', 'val_accuracy'])"
      ]
     },
     "execution_count": 42,
     "metadata": {},
     "output_type": "execute_result"
    }
   ],
   "source": [
    "hist.history.keys()"
   ]
  },
  {
   "cell_type": "code",
   "execution_count": 47,
   "metadata": {},
   "outputs": [],
   "source": [
    "#hist.history"
   ]
  },
  {
   "cell_type": "code",
   "execution_count": null,
   "metadata": {},
   "outputs": [],
   "source": []
  },
  {
   "cell_type": "code",
   "execution_count": null,
   "metadata": {},
   "outputs": [],
   "source": []
  },
  {
   "cell_type": "code",
   "execution_count": null,
   "metadata": {},
   "outputs": [],
   "source": [
    "# Модель            loss     accuracy    val_loss    val_accuracy   test_loss    test_accuracy\n",
    "#\n",
    "# 2 слоя           0.1564     0.9429      0.4098        0.8832        0.4298       0.8790\n",
    "# 3 слоя           0.1431     0.9478      0.4064        0.8864        0.4501       0.8807  \n",
    "# 5 слоев          0.1558     0.9404      0.4435        0.8840        0.4828       0.8756\n",
    "# 10 слоев adam    0.2095     0.9223      0.3703        0.8864        0.3855       0.8805\n",
    "# 10 SGD           0.2056     0.9231      0.3391        0.8839        0.3632       0.8766\n",
    "# 10 RMSProp       2.8515     0.2278      2.1571        0.1553        2.1959       0.1578\n",
    "#\n",
    "#\n",
    "#\n",
    "#\n",
    "#\n",
    "#"
   ]
  },
  {
   "cell_type": "code",
   "execution_count": null,
   "metadata": {},
   "outputs": [],
   "source": []
  },
  {
   "cell_type": "code",
   "execution_count": null,
   "metadata": {},
   "outputs": [],
   "source": []
  },
  {
   "cell_type": "code",
   "execution_count": null,
   "metadata": {},
   "outputs": [],
   "source": []
  },
  {
   "cell_type": "code",
   "execution_count": 98,
   "metadata": {},
   "outputs": [],
   "source": [
    "model_fashion_5 = Sequential(name='model_fashion_5')\n",
    "model_fashion_5.add(Dense(64, activation='relu', input_shape=(784,)))\n",
    "model_fashion_5.add(Dense(128, activation='relu'))\n",
    "model_fashion_5.add(Dense(256, activation='relu'))\n",
    "model_fashion_5.add(Dense(64, activation='relu'))\n",
    "model_fashion_5.add(Dense(10, activation='softmax'))"
   ]
  },
  {
   "cell_type": "code",
   "execution_count": 99,
   "metadata": {},
   "outputs": [],
   "source": [
    "model_fashion_5.compile(\n",
    "  optimizer='adam',\n",
    "  loss='categorical_crossentropy',\n",
    "  metrics=['accuracy'],\n",
    ")"
   ]
  },
  {
   "cell_type": "code",
   "execution_count": 100,
   "metadata": {},
   "outputs": [
    {
     "name": "stdout",
     "output_type": "stream",
     "text": [
      "Model: \"model_fashion_5\"\n",
      "_________________________________________________________________\n",
      "Layer (type)                 Output Shape              Param #   \n",
      "=================================================================\n",
      "dense_74 (Dense)             (None, 64)                50240     \n",
      "_________________________________________________________________\n",
      "dense_75 (Dense)             (None, 128)               8320      \n",
      "_________________________________________________________________\n",
      "dense_76 (Dense)             (None, 256)               33024     \n",
      "_________________________________________________________________\n",
      "dense_77 (Dense)             (None, 64)                16448     \n",
      "_________________________________________________________________\n",
      "dense_78 (Dense)             (None, 10)                650       \n",
      "=================================================================\n",
      "Total params: 108,682\n",
      "Trainable params: 108,682\n",
      "Non-trainable params: 0\n",
      "_________________________________________________________________\n"
     ]
    }
   ],
   "source": [
    "model_fashion_5.summary()"
   ]
  },
  {
   "cell_type": "code",
   "execution_count": null,
   "metadata": {},
   "outputs": [],
   "source": []
  },
  {
   "cell_type": "code",
   "execution_count": 101,
   "metadata": {},
   "outputs": [
    {
     "name": "stdout",
     "output_type": "stream",
     "text": [
      "Epoch 1/25\n",
      "1500/1500 [==============================] - 6s 4ms/step - loss: 0.6650 - accuracy: 0.7575 - val_loss: 0.4515 - val_accuracy: 0.8344\n",
      "Epoch 2/25\n",
      "1500/1500 [==============================] - 5s 4ms/step - loss: 0.4083 - accuracy: 0.8497 - val_loss: 0.4170 - val_accuracy: 0.8507\n",
      "Epoch 3/25\n",
      "1500/1500 [==============================] - 5s 4ms/step - loss: 0.3559 - accuracy: 0.8686 - val_loss: 0.3935 - val_accuracy: 0.8540\n",
      "Epoch 4/25\n",
      "1500/1500 [==============================] - 5s 3ms/step - loss: 0.3335 - accuracy: 0.8748 - val_loss: 0.3760 - val_accuracy: 0.8547\n",
      "Epoch 5/25\n",
      "1500/1500 [==============================] - 5s 3ms/step - loss: 0.3088 - accuracy: 0.8851 - val_loss: 0.3577 - val_accuracy: 0.8705\n",
      "Epoch 6/25\n",
      "1500/1500 [==============================] - 5s 4ms/step - loss: 0.2976 - accuracy: 0.8894 - val_loss: 0.3561 - val_accuracy: 0.8728\n",
      "Epoch 7/25\n",
      "1500/1500 [==============================] - 5s 3ms/step - loss: 0.2771 - accuracy: 0.8943 - val_loss: 0.3568 - val_accuracy: 0.8762\n",
      "Epoch 8/25\n",
      "1500/1500 [==============================] - 5s 4ms/step - loss: 0.2694 - accuracy: 0.8985 - val_loss: 0.3433 - val_accuracy: 0.8752\n",
      "Epoch 9/25\n",
      "1500/1500 [==============================] - 5s 4ms/step - loss: 0.2602 - accuracy: 0.9030 - val_loss: 0.3772 - val_accuracy: 0.8742\n",
      "Epoch 10/25\n",
      "1500/1500 [==============================] - 5s 3ms/step - loss: 0.2563 - accuracy: 0.9046 - val_loss: 0.3481 - val_accuracy: 0.8832\n",
      "Epoch 11/25\n",
      "1500/1500 [==============================] - 5s 3ms/step - loss: 0.2363 - accuracy: 0.9113 - val_loss: 0.3414 - val_accuracy: 0.8847\n",
      "Epoch 12/25\n",
      "1500/1500 [==============================] - 6s 4ms/step - loss: 0.2319 - accuracy: 0.9113 - val_loss: 0.3775 - val_accuracy: 0.8742\n",
      "Epoch 13/25\n",
      "1500/1500 [==============================] - 6s 4ms/step - loss: 0.2227 - accuracy: 0.9150 - val_loss: 0.3529 - val_accuracy: 0.8860\n",
      "Epoch 14/25\n",
      "1500/1500 [==============================] - 6s 4ms/step - loss: 0.2147 - accuracy: 0.9186 - val_loss: 0.3707 - val_accuracy: 0.8830\n",
      "Epoch 15/25\n",
      "1500/1500 [==============================] - 6s 4ms/step - loss: 0.2055 - accuracy: 0.9228 - val_loss: 0.3931 - val_accuracy: 0.8763\n",
      "Epoch 16/25\n",
      "1500/1500 [==============================] - 5s 4ms/step - loss: 0.2076 - accuracy: 0.9209 - val_loss: 0.3473 - val_accuracy: 0.8869\n",
      "Epoch 17/25\n",
      "1500/1500 [==============================] - 6s 4ms/step - loss: 0.1983 - accuracy: 0.9226 - val_loss: 0.3584 - val_accuracy: 0.8841\n",
      "Epoch 18/25\n",
      "1500/1500 [==============================] - 6s 4ms/step - loss: 0.1937 - accuracy: 0.9248 - val_loss: 0.3749 - val_accuracy: 0.8867\n",
      "Epoch 19/25\n",
      "1500/1500 [==============================] - 6s 4ms/step - loss: 0.1848 - accuracy: 0.9296 - val_loss: 0.3695 - val_accuracy: 0.8847\n",
      "Epoch 20/25\n",
      "1500/1500 [==============================] - 6s 4ms/step - loss: 0.1753 - accuracy: 0.9335 - val_loss: 0.3868 - val_accuracy: 0.8813\n",
      "Epoch 21/25\n",
      "1500/1500 [==============================] - 6s 4ms/step - loss: 0.1776 - accuracy: 0.9315 - val_loss: 0.3677 - val_accuracy: 0.8883\n",
      "Epoch 22/25\n",
      "1500/1500 [==============================] - 7s 4ms/step - loss: 0.1659 - accuracy: 0.9358 - val_loss: 0.3949 - val_accuracy: 0.8872\n",
      "Epoch 23/25\n",
      "1500/1500 [==============================] - 6s 4ms/step - loss: 0.1620 - accuracy: 0.9382 - val_loss: 0.3899 - val_accuracy: 0.8888\n",
      "Epoch 24/25\n",
      "1500/1500 [==============================] - 6s 4ms/step - loss: 0.1590 - accuracy: 0.9396 - val_loss: 0.4116 - val_accuracy: 0.8856\n",
      "Epoch 25/25\n",
      "1500/1500 [==============================] - 5s 4ms/step - loss: 0.1558 - accuracy: 0.9404 - val_loss: 0.4435 - val_accuracy: 0.8840\n"
     ]
    }
   ],
   "source": [
    "# Train the model.\n",
    "hist = model_fashion_5.fit(\n",
    "  train_images,\n",
    "  y_train,\n",
    "  epochs=25,\n",
    "  batch_size=32, validation_split=0.2\n",
    ")"
   ]
  },
  {
   "cell_type": "code",
   "execution_count": 102,
   "metadata": {},
   "outputs": [
    {
     "name": "stdout",
     "output_type": "stream",
     "text": [
      "313/313 [==============================] - 1s 2ms/step - loss: 0.4828 - accuracy: 0.8756\n"
     ]
    },
    {
     "data": {
      "text/plain": [
       "[0.48278799653053284, 0.8755999803543091]"
      ]
     },
     "execution_count": 102,
     "metadata": {},
     "output_type": "execute_result"
    }
   ],
   "source": [
    "# Evaluate the model.\n",
    "model_fashion_5.evaluate(\n",
    "  test_images,\n",
    "  y_test\n",
    ")"
   ]
  },
  {
   "cell_type": "code",
   "execution_count": null,
   "metadata": {},
   "outputs": [],
   "source": []
  },
  {
   "cell_type": "code",
   "execution_count": null,
   "metadata": {},
   "outputs": [],
   "source": []
  },
  {
   "cell_type": "code",
   "execution_count": 15,
   "metadata": {},
   "outputs": [],
   "source": [
    "model_fashion_10 = Sequential(name='model_fashion_10')\n",
    "model_fashion_10.add(Dense(64, activation='relu', input_shape=(784,)))\n",
    "model_fashion_10.add(Dense(128, activation='relu'))\n",
    "model_fashion_10.add(Dense(128, activation='relu'))\n",
    "model_fashion_10.add(Dense(64, activation='relu'))\n",
    "model_fashion_10.add(Dense(64, activation='relu'))\n",
    "model_fashion_10.add(Dense(64, activation='relu'))\n",
    "model_fashion_10.add(Dense(64, activation='relu'))\n",
    "model_fashion_10.add(Dense(64, activation='relu'))\n",
    "model_fashion_10.add(Dense(64, activation='relu'))\n",
    "model_fashion_10.add(Dense(10, activation='softmax'))"
   ]
  },
  {
   "cell_type": "code",
   "execution_count": 16,
   "metadata": {},
   "outputs": [],
   "source": [
    "model_fashion_10.compile(\n",
    "  optimizer='Adam',                     # SGD, Adam, RMSProp\n",
    "  loss='categorical_crossentropy',\n",
    "  metrics=['accuracy'],\n",
    ")"
   ]
  },
  {
   "cell_type": "code",
   "execution_count": 17,
   "metadata": {},
   "outputs": [
    {
     "name": "stdout",
     "output_type": "stream",
     "text": [
      "Model: \"model_fashion_10\"\n",
      "_________________________________________________________________\n",
      "Layer (type)                 Output Shape              Param #   \n",
      "=================================================================\n",
      "dense (Dense)                (None, 64)                50240     \n",
      "_________________________________________________________________\n",
      "dense_1 (Dense)              (None, 128)               8320      \n",
      "_________________________________________________________________\n",
      "dense_2 (Dense)              (None, 128)               16512     \n",
      "_________________________________________________________________\n",
      "dense_3 (Dense)              (None, 64)                8256      \n",
      "_________________________________________________________________\n",
      "dense_4 (Dense)              (None, 64)                4160      \n",
      "_________________________________________________________________\n",
      "dense_5 (Dense)              (None, 64)                4160      \n",
      "_________________________________________________________________\n",
      "dense_6 (Dense)              (None, 64)                4160      \n",
      "_________________________________________________________________\n",
      "dense_7 (Dense)              (None, 64)                4160      \n",
      "_________________________________________________________________\n",
      "dense_8 (Dense)              (None, 64)                4160      \n",
      "_________________________________________________________________\n",
      "dense_9 (Dense)              (None, 10)                650       \n",
      "=================================================================\n",
      "Total params: 104,778\n",
      "Trainable params: 104,778\n",
      "Non-trainable params: 0\n",
      "_________________________________________________________________\n"
     ]
    }
   ],
   "source": [
    "model_fashion_10.summary()"
   ]
  },
  {
   "cell_type": "code",
   "execution_count": 18,
   "metadata": {},
   "outputs": [
    {
     "name": "stdout",
     "output_type": "stream",
     "text": [
      "Epoch 1/25\n",
      "1500/1500 [==============================] - 9s 5ms/step - loss: 0.7932 - accuracy: 0.7020 - val_loss: 0.4511 - val_accuracy: 0.8365\n",
      "Epoch 2/25\n",
      "1500/1500 [==============================] - 7s 4ms/step - loss: 0.4458 - accuracy: 0.8385 - val_loss: 0.4360 - val_accuracy: 0.8472\n",
      "Epoch 3/25\n",
      "1500/1500 [==============================] - 6s 4ms/step - loss: 0.3921 - accuracy: 0.8569 - val_loss: 0.3704 - val_accuracy: 0.8691\n",
      "Epoch 4/25\n",
      "1500/1500 [==============================] - 6s 4ms/step - loss: 0.3710 - accuracy: 0.8646 - val_loss: 0.3953 - val_accuracy: 0.8600\n",
      "Epoch 5/25\n",
      "1500/1500 [==============================] - 6s 4ms/step - loss: 0.3462 - accuracy: 0.8736 - val_loss: 0.3662 - val_accuracy: 0.8696\n",
      "Epoch 6/25\n",
      "1500/1500 [==============================] - 6s 4ms/step - loss: 0.3380 - accuracy: 0.8751 - val_loss: 0.3861 - val_accuracy: 0.8683\n",
      "Epoch 7/25\n",
      "1500/1500 [==============================] - 7s 5ms/step - loss: 0.3198 - accuracy: 0.8855 - val_loss: 0.3590 - val_accuracy: 0.8693\n",
      "Epoch 8/25\n",
      "1500/1500 [==============================] - 7s 5ms/step - loss: 0.3077 - accuracy: 0.8887 - val_loss: 0.3812 - val_accuracy: 0.8751\n",
      "Epoch 9/25\n",
      "1500/1500 [==============================] - 6s 4ms/step - loss: 0.2935 - accuracy: 0.8897 - val_loss: 0.3550 - val_accuracy: 0.8763\n",
      "Epoch 10/25\n",
      "1500/1500 [==============================] - 6s 4ms/step - loss: 0.2843 - accuracy: 0.8954 - val_loss: 0.4108 - val_accuracy: 0.8632\n",
      "Epoch 11/25\n",
      "1500/1500 [==============================] - 6s 4ms/step - loss: 0.2855 - accuracy: 0.8946 - val_loss: 0.3504 - val_accuracy: 0.8763\n",
      "Epoch 12/25\n",
      "1500/1500 [==============================] - 6s 4ms/step - loss: 0.2757 - accuracy: 0.8988 - val_loss: 0.3654 - val_accuracy: 0.8711\n",
      "Epoch 13/25\n",
      "1500/1500 [==============================] - 6s 4ms/step - loss: 0.2672 - accuracy: 0.9024 - val_loss: 0.3477 - val_accuracy: 0.8848\n",
      "Epoch 14/25\n",
      "1500/1500 [==============================] - 6s 4ms/step - loss: 0.2560 - accuracy: 0.9042 - val_loss: 0.3483 - val_accuracy: 0.8853\n",
      "Epoch 15/25\n",
      "1500/1500 [==============================] - 6s 4ms/step - loss: 0.2510 - accuracy: 0.9066 - val_loss: 0.3442 - val_accuracy: 0.8823\n",
      "Epoch 16/25\n",
      "1500/1500 [==============================] - 7s 5ms/step - loss: 0.2493 - accuracy: 0.9087 - val_loss: 0.3852 - val_accuracy: 0.8749\n",
      "Epoch 17/25\n",
      "1500/1500 [==============================] - 6s 4ms/step - loss: 0.2416 - accuracy: 0.9109 - val_loss: 0.3445 - val_accuracy: 0.8834\n",
      "Epoch 18/25\n",
      "1500/1500 [==============================] - 6s 4ms/step - loss: 0.2374 - accuracy: 0.9127 - val_loss: 0.3627 - val_accuracy: 0.8840\n",
      "Epoch 19/25\n",
      "1500/1500 [==============================] - 6s 4ms/step - loss: 0.2239 - accuracy: 0.9189 - val_loss: 0.3564 - val_accuracy: 0.8867\n",
      "Epoch 20/25\n",
      "1500/1500 [==============================] - 6s 4ms/step - loss: 0.2222 - accuracy: 0.9170 - val_loss: 0.3740 - val_accuracy: 0.8815\n",
      "Epoch 21/25\n",
      "1500/1500 [==============================] - 6s 4ms/step - loss: 0.2286 - accuracy: 0.9163 - val_loss: 0.3740 - val_accuracy: 0.8817\n",
      "Epoch 22/25\n",
      "1500/1500 [==============================] - 6s 4ms/step - loss: 0.2164 - accuracy: 0.9187 - val_loss: 0.3787 - val_accuracy: 0.8838\n",
      "Epoch 23/25\n",
      "1500/1500 [==============================] - 6s 4ms/step - loss: 0.2094 - accuracy: 0.9229 - val_loss: 0.3736 - val_accuracy: 0.8817\n",
      "Epoch 24/25\n",
      "1500/1500 [==============================] - 6s 4ms/step - loss: 0.2068 - accuracy: 0.9229 - val_loss: 0.3567 - val_accuracy: 0.8824\n",
      "Epoch 25/25\n",
      "1500/1500 [==============================] - 6s 4ms/step - loss: 0.2053 - accuracy: 0.9256 - val_loss: 0.3825 - val_accuracy: 0.8758\n"
     ]
    }
   ],
   "source": [
    "# Train the model.\n",
    "hist = model_fashion_10.fit(\n",
    "  train_images,\n",
    "  y_train,\n",
    "  epochs=25,\n",
    "  batch_size=32, validation_split=0.2\n",
    ")"
   ]
  },
  {
   "cell_type": "code",
   "execution_count": 19,
   "metadata": {},
   "outputs": [
    {
     "name": "stdout",
     "output_type": "stream",
     "text": [
      "313/313 [==============================] - 1s 2ms/step - loss: 0.4135 - accuracy: 0.8699\n"
     ]
    },
    {
     "data": {
      "text/plain": [
       "[0.4134657680988312, 0.8698999881744385]"
      ]
     },
     "execution_count": 19,
     "metadata": {},
     "output_type": "execute_result"
    }
   ],
   "source": [
    "# Evaluate the model.\n",
    "model_fashion_10.evaluate(\n",
    "  test_images,\n",
    "  y_test\n",
    ")"
   ]
  },
  {
   "cell_type": "code",
   "execution_count": null,
   "metadata": {},
   "outputs": [],
   "source": []
  },
  {
   "cell_type": "code",
   "execution_count": null,
   "metadata": {},
   "outputs": [],
   "source": []
  },
  {
   "cell_type": "code",
   "execution_count": 20,
   "metadata": {},
   "outputs": [
    {
     "data": {
      "text/plain": [
       "array([9, 2, 1, ..., 8, 1, 5], dtype=uint8)"
      ]
     },
     "execution_count": 20,
     "metadata": {},
     "output_type": "execute_result"
    }
   ],
   "source": [
    "test_labels"
   ]
  },
  {
   "cell_type": "code",
   "execution_count": 21,
   "metadata": {},
   "outputs": [
    {
     "name": "stdout",
     "output_type": "stream",
     "text": [
      "[9 2 1 ... 8 1 5]\n"
     ]
    }
   ],
   "source": [
    "predictions = model_fashion_10.predict(test_images)\n",
    "print(np.argmax(predictions, axis=1)) # [9 2 1 1 6]"
   ]
  },
  {
   "cell_type": "code",
   "execution_count": 128,
   "metadata": {},
   "outputs": [
    {
     "data": {
      "text/html": [
       "<div>\n",
       "<style scoped>\n",
       "    .dataframe tbody tr th:only-of-type {\n",
       "        vertical-align: middle;\n",
       "    }\n",
       "\n",
       "    .dataframe tbody tr th {\n",
       "        vertical-align: top;\n",
       "    }\n",
       "\n",
       "    .dataframe thead th {\n",
       "        text-align: right;\n",
       "    }\n",
       "</style>\n",
       "<table border=\"1\" class=\"dataframe\">\n",
       "  <thead>\n",
       "    <tr style=\"text-align: right;\">\n",
       "      <th></th>\n",
       "      <th>test_labels</th>\n",
       "      <th>predict</th>\n",
       "    </tr>\n",
       "  </thead>\n",
       "  <tbody>\n",
       "    <tr>\n",
       "      <th>0</th>\n",
       "      <td>9</td>\n",
       "      <td>9</td>\n",
       "    </tr>\n",
       "    <tr>\n",
       "      <th>1</th>\n",
       "      <td>2</td>\n",
       "      <td>2</td>\n",
       "    </tr>\n",
       "    <tr>\n",
       "      <th>2</th>\n",
       "      <td>1</td>\n",
       "      <td>1</td>\n",
       "    </tr>\n",
       "    <tr>\n",
       "      <th>3</th>\n",
       "      <td>1</td>\n",
       "      <td>1</td>\n",
       "    </tr>\n",
       "    <tr>\n",
       "      <th>4</th>\n",
       "      <td>6</td>\n",
       "      <td>6</td>\n",
       "    </tr>\n",
       "    <tr>\n",
       "      <th>...</th>\n",
       "      <td>...</td>\n",
       "      <td>...</td>\n",
       "    </tr>\n",
       "    <tr>\n",
       "      <th>9995</th>\n",
       "      <td>9</td>\n",
       "      <td>9</td>\n",
       "    </tr>\n",
       "    <tr>\n",
       "      <th>9996</th>\n",
       "      <td>1</td>\n",
       "      <td>1</td>\n",
       "    </tr>\n",
       "    <tr>\n",
       "      <th>9997</th>\n",
       "      <td>8</td>\n",
       "      <td>8</td>\n",
       "    </tr>\n",
       "    <tr>\n",
       "      <th>9998</th>\n",
       "      <td>1</td>\n",
       "      <td>1</td>\n",
       "    </tr>\n",
       "    <tr>\n",
       "      <th>9999</th>\n",
       "      <td>5</td>\n",
       "      <td>5</td>\n",
       "    </tr>\n",
       "  </tbody>\n",
       "</table>\n",
       "<p>10000 rows × 2 columns</p>\n",
       "</div>"
      ],
      "text/plain": [
       "      test_labels  predict\n",
       "0               9        9\n",
       "1               2        2\n",
       "2               1        1\n",
       "3               1        1\n",
       "4               6        6\n",
       "...           ...      ...\n",
       "9995            9        9\n",
       "9996            1        1\n",
       "9997            8        8\n",
       "9998            1        1\n",
       "9999            5        5\n",
       "\n",
       "[10000 rows x 2 columns]"
      ]
     },
     "execution_count": 128,
     "metadata": {},
     "output_type": "execute_result"
    }
   ],
   "source": [
    "result = pd.DataFrame({\n",
    "    \"test_labels\": test_labels,\n",
    "    \"predict\": np.argmax(predictions, axis=1)})\n",
    "result"
   ]
  },
  {
   "cell_type": "code",
   "execution_count": 148,
   "metadata": {},
   "outputs": [
    {
     "name": "stdout",
     "output_type": "stream",
     "text": [
      "1000 859 141\n"
     ]
    }
   ],
   "source": [
    "result_0 = result[result['test_labels'] == 0]\n",
    "result_0_all = result_0.count()[1]\n",
    "result_0_true = result_0[result_0['predict'] == 0].count()[1]\n",
    "result_0_false = result_0[result_0['predict'] != 0].count()[1]\n",
    "print(result_0_all, result_0_true, result_0_false)"
   ]
  },
  {
   "cell_type": "code",
   "execution_count": 149,
   "metadata": {},
   "outputs": [
    {
     "name": "stdout",
     "output_type": "stream",
     "text": [
      "1000 969 31\n"
     ]
    }
   ],
   "source": [
    "result_1 = result[result['test_labels'] == 1]\n",
    "result_1_all = result_1.count()[1]\n",
    "result_1_true = result_1[result_1['predict'] == 1].count()[1]\n",
    "result_1_false = result_1[result_1['predict'] != 1].count()[1]\n",
    "print(result_1_all, result_1_true, result_1_false)"
   ]
  },
  {
   "cell_type": "code",
   "execution_count": 167,
   "metadata": {},
   "outputs": [
    {
     "name": "stdout",
     "output_type": "stream",
     "text": [
      "n-0, all-1000, true-859, false-141, accuracy-9.65, precision-0.81, recall-0.86, tp-859, fn-141, fp-205, tn-8795,\n",
      "n-1, all-1000, true-969, false-31, accuracy-9.95, precision-0.98, recall-0.97, tp-969, fn-31, fp-15, tn-8985,\n",
      "n-2, all-1000, true-816, false-184, accuracy-9.62, precision-0.81, recall-0.82, tp-816, fn-184, fp-194, tn-8806,\n",
      "n-3, all-1000, true-861, false-139, accuracy-9.77, precision-0.9, recall-0.86, tp-861, fn-139, fp-93, tn-8907,\n",
      "n-4, all-1000, true-837, false-163, accuracy-9.6, precision-0.78, recall-0.84, tp-837, fn-163, fp-240, tn-8760,\n",
      "n-5, all-1000, true-894, false-106, accuracy-9.88, precision-0.98, recall-0.89, tp-894, fn-106, fp-15, tn-8985,\n",
      "n-6, all-1000, true-643, false-357, accuracy-9.4, precision-0.72, recall-0.64, tp-643, fn-357, fp-247, tn-8753,\n",
      "n-7, all-1000, true-976, false-24, accuracy-9.85, precision-0.88, recall-0.98, tp-976, fn-24, fp-129, tn-8871,\n",
      "n-8, all-1000, true-965, false-35, accuracy-9.91, precision-0.95, recall-0.96, tp-965, fn-35, fp-51, tn-8949,\n",
      "n-9, all-1000, true-935, false-65, accuracy-9.88, precision-0.94, recall-0.94, tp-935, fn-65, fp-56, tn-8944,\n"
     ]
    }
   ],
   "source": [
    "for i in range(0,10):\n",
    "    result_x = result[result['test_labels'] == i]\n",
    "    result_y = result[result['test_labels'] != i]\n",
    "    result_x_all = result_x.count()[1]\n",
    "    result_x_true = result_x[result_x['predict'] == i].count()[1]\n",
    "    result_x_false = result_x[result_x['predict'] != i].count()[1]\n",
    "#    print(f'number - {i}, all - {result_x_all}, true - {result_x_true}, false - {result_x_false}')\n",
    "    \n",
    "    tp = result_x_true\n",
    "    fn = result_x_false\n",
    "    fp = result_y[result_y['predict'] == i].count()[1]\n",
    "    tn = result_y[result_y['predict'] != i].count()[1]\n",
    "#    print(f'number - {i}, tp - {tp}, fn - {fn}, fp - {fp}, tn - {tn}')\n",
    "#    print(f'n - {i}, all - {result_x_all}, true - {result_x_true}, false - {result_x_false}, tp - {tp}, fn - {fn}, fp - {fp}, tn - {tn}')\n",
    "    \n",
    "    accuracy_x = round((tp + tn) / result_x_all, 2)\n",
    "    precision_x = round(tp / (tp + fp), 2)\n",
    "    recall_x = round(tp / (tp + fn), 2)\n",
    "\n",
    "    print(f'n-{i}, all-{result_x_all}, true-{result_x_true}, false-{result_x_false}, accuracy-{accuracy_x}, precision-{precision_x}, recall-{recall_x}, tp-{tp}, fn-{fn}, fp-{fp}, tn-{tn},')\n",
    " "
   ]
  },
  {
   "cell_type": "code",
   "execution_count": null,
   "metadata": {},
   "outputs": [],
   "source": []
  },
  {
   "cell_type": "code",
   "execution_count": 32,
   "metadata": {},
   "outputs": [
    {
     "data": {
      "text/plain": [
       "array([[835,   2,  16,  27,   3,   0, 107,   0,  10,   0],\n",
       "       [  4, 977,   0,  11,   2,   1,   2,   1,   2,   0],\n",
       "       [ 21,   9, 744,  19, 135,   0,  67,   0,   5,   0],\n",
       "       [ 26,  38,   9, 879,  20,   0,  24,   0,   4,   0],\n",
       "       [  0,   5,  63,  42, 854,   0,  35,   0,   1,   0],\n",
       "       [  1,   0,   4,   1,   0, 942,   0,  27,  10,  15],\n",
       "       [143,   6,  73,  38, 105,   0, 620,   0,  15,   0],\n",
       "       [  0,   0,   0,   0,   0,  26,   0, 914,   3,  57],\n",
       "       [  4,   0,   4,   9,   3,   2,   7,   2, 968,   1],\n",
       "       [  1,   0,   0,   0,   0,  10,   0,  23,   0, 966]])"
      ]
     },
     "execution_count": 32,
     "metadata": {},
     "output_type": "execute_result"
    }
   ],
   "source": [
    "confusion_matrix(test_labels, np.argmax(predictions, axis=1))"
   ]
  },
  {
   "cell_type": "code",
   "execution_count": null,
   "metadata": {},
   "outputs": [],
   "source": [
    "# Чаще всего ошибки были в различии классов:\n",
    "# 0 и 6\n",
    "# 2 и 4 \n",
    "# 6 и 0   6 и 4\n",
    "\n",
    "# Хуже всего происходило определение классов:\n",
    "# 6, 2, 0, 4, 3 "
   ]
  },
  {
   "cell_type": "code",
   "execution_count": null,
   "metadata": {},
   "outputs": [],
   "source": []
  },
  {
   "cell_type": "code",
   "execution_count": null,
   "metadata": {},
   "outputs": [],
   "source": []
  },
  {
   "cell_type": "code",
   "execution_count": null,
   "metadata": {},
   "outputs": [],
   "source": []
  }
 ],
 "metadata": {
  "kernelspec": {
   "display_name": "Python 3",
   "language": "python",
   "name": "python3"
  },
  "language_info": {
   "codemirror_mode": {
    "name": "ipython",
    "version": 3
   },
   "file_extension": ".py",
   "mimetype": "text/x-python",
   "name": "python",
   "nbconvert_exporter": "python",
   "pygments_lexer": "ipython3",
   "version": "3.8.5"
  }
 },
 "nbformat": 4,
 "nbformat_minor": 4
}
