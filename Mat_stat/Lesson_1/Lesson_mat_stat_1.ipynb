{
 "cells": [
  {
   "cell_type": "code",
   "execution_count": 196,
   "metadata": {},
   "outputs": [],
   "source": [
    "import numpy as np\n",
    "import itertools"
   ]
  },
  {
   "cell_type": "markdown",
   "metadata": {},
   "source": [
    "Задача 1\n",
    "\n",
    "Из колоды в 52 карты вынимают случайным образом 4 карты. Найти число исходов, соответствующих тому, что был вытянут хотя бы один туз."
   ]
  },
  {
   "cell_type": "markdown",
   "metadata": {},
   "source": [
    "Считаем по формуле число сочетаний, т.к. порядок не важен.\n",
    "Рассматриваем 4 ситуации: 1 туз, 2, туза, 3 туза и 4 туза.\n",
    "Сначала считаем кол-во комбинаций тузов из 4 карт (тузов), затем оставшиеся карты из 48 карт (колода без тузов)."
   ]
  },
  {
   "cell_type": "markdown",
   "metadata": {},
   "source": [
    "1 туз"
   ]
  },
  {
   "cell_type": "markdown",
   "metadata": {},
   "source": [
    "C = 4! / 1! * (4-1)! = 24/6 = 4 (комбинации) \n",
    "С = 48! / 3! * (48-3)! = (45!464748) / 645! = 46478 = 17296 (комбинаций) \n",
    "C = 4 * 17296 = 69184 (комбинации)"
   ]
  },
  {
   "cell_type": "code",
   "execution_count": 197,
   "metadata": {},
   "outputs": [
    {
     "data": {
      "text/plain": [
       "4"
      ]
     },
     "execution_count": 197,
     "metadata": {},
     "output_type": "execute_result"
    }
   ],
   "source": [
    "n = np.arange(1, 5)\n",
    "k = 1\n",
    "с_11 = len(list(itertools.combinations(n, k)))\n",
    "с_11"
   ]
  },
  {
   "cell_type": "code",
   "execution_count": 198,
   "metadata": {},
   "outputs": [
    {
     "data": {
      "text/plain": [
       "17296"
      ]
     },
     "execution_count": 198,
     "metadata": {},
     "output_type": "execute_result"
    }
   ],
   "source": [
    "n = np.arange(1, 49)\n",
    "k = 3\n",
    "с_12 = len(list(itertools.combinations(n, k)))\n",
    "с_12"
   ]
  },
  {
   "cell_type": "code",
   "execution_count": 199,
   "metadata": {},
   "outputs": [
    {
     "data": {
      "text/plain": [
       "69184"
      ]
     },
     "execution_count": 199,
     "metadata": {},
     "output_type": "execute_result"
    }
   ],
   "source": [
    "c_13 = с_11 * с_12\n",
    "c_13"
   ]
  },
  {
   "cell_type": "markdown",
   "metadata": {},
   "source": [
    "2 туза"
   ]
  },
  {
   "cell_type": "code",
   "execution_count": 200,
   "metadata": {},
   "outputs": [
    {
     "data": {
      "text/plain": [
       "6768"
      ]
     },
     "execution_count": 200,
     "metadata": {},
     "output_type": "execute_result"
    }
   ],
   "source": [
    "n = np.arange(1, 5)\n",
    "k = 2\n",
    "с_21 = len(list(itertools.combinations(n, k)))\n",
    "n = np.arange(1, 49)\n",
    "k = 2\n",
    "с_22 = len(list(itertools.combinations(n, k)))\n",
    "с_23 = с_21 * с_22\n",
    "с_23"
   ]
  },
  {
   "cell_type": "markdown",
   "metadata": {},
   "source": [
    "3 туза"
   ]
  },
  {
   "cell_type": "code",
   "execution_count": 201,
   "metadata": {},
   "outputs": [
    {
     "data": {
      "text/plain": [
       "192"
      ]
     },
     "execution_count": 201,
     "metadata": {},
     "output_type": "execute_result"
    }
   ],
   "source": [
    "n = np.arange(1, 5)\n",
    "k = 3\n",
    "с_31 = len(list(itertools.combinations(n, k)))\n",
    "n = np.arange(1, 49)\n",
    "k = 1\n",
    "с_32 = len(list(itertools.combinations(n, k)))\n",
    "с_33 = с_31 * с_32\n",
    "с_33"
   ]
  },
  {
   "cell_type": "markdown",
   "metadata": {},
   "source": [
    "4 туза"
   ]
  },
  {
   "cell_type": "code",
   "execution_count": 202,
   "metadata": {},
   "outputs": [
    {
     "data": {
      "text/plain": [
       "1"
      ]
     },
     "execution_count": 202,
     "metadata": {},
     "output_type": "execute_result"
    }
   ],
   "source": [
    "n = np.arange(1, 5)\n",
    "k = 4\n",
    "с_43 = len(list(itertools.combinations(n, k)))\n",
    "с_43"
   ]
  },
  {
   "cell_type": "markdown",
   "metadata": {},
   "source": [
    "Количество благоприятных комбинаций"
   ]
  },
  {
   "cell_type": "code",
   "execution_count": 203,
   "metadata": {},
   "outputs": [
    {
     "data": {
      "text/plain": [
       "76145"
      ]
     },
     "execution_count": 203,
     "metadata": {},
     "output_type": "execute_result"
    }
   ],
   "source": [
    "c_5 = c_13 + c_23 + c_33 + c_43 \n",
    "c_5"
   ]
  },
  {
   "cell_type": "markdown",
   "metadata": {},
   "source": [
    "Общее количество комбинаций"
   ]
  },
  {
   "cell_type": "code",
   "execution_count": 204,
   "metadata": {},
   "outputs": [
    {
     "data": {
      "text/plain": [
       "270725"
      ]
     },
     "execution_count": 204,
     "metadata": {},
     "output_type": "execute_result"
    }
   ],
   "source": [
    "n = np.arange(1, 53)\n",
    "k = 4\n",
    "c_6 = len(list(itertools.combinations(n, k)))\n",
    "c_6"
   ]
  },
  {
   "cell_type": "markdown",
   "metadata": {},
   "source": [
    "Вероятность"
   ]
  },
  {
   "cell_type": "code",
   "execution_count": 205,
   "metadata": {},
   "outputs": [
    {
     "data": {
      "text/plain": [
       "0.2812632745405855"
      ]
     },
     "execution_count": 205,
     "metadata": {},
     "output_type": "execute_result"
    }
   ],
   "source": [
    "W_A = c_5 / c_6\n",
    "W_A"
   ]
  },
  {
   "cell_type": "markdown",
   "metadata": {},
   "source": [
    "Задача 2\n",
    "\n",
    "Семь человек рассаживаются наудачу на скамейке. Какова вероятность того, что рядом будут сидеть: а) два определённых человека? б) три определённых человека?\n",
    "\n",
    "Считаем по формуле число размещений, т.к. порядок важен."
   ]
  },
  {
   "cell_type": "code",
   "execution_count": 206,
   "metadata": {},
   "outputs": [
    {
     "data": {
      "text/plain": [
       "0.2857142857142857"
      ]
     },
     "execution_count": 206,
     "metadata": {},
     "output_type": "execute_result"
    }
   ],
   "source": [
    "# всего вариантов размещения\n",
    "n = np.arange(1, 8)\n",
    "k = 7\n",
    "c_0 = len(list(itertools.permutations(n, k)))\n",
    "\n",
    "# 2 человека могут сесть на скамейке на 6 разных местах (вначале и затем смещаясь на 1 место), при этом они\n",
    "# ещё могут меняться местами, т.е. 2 способа, итого 12 способов разместить 2 определенных людей на скамейке.\n",
    "c_1 = 6 * 2\n",
    "# При этом остальные 5 каждый раз занимают все возможные позиции размещения\n",
    "n = np.arange(1, 6)\n",
    "k = 5\n",
    "c_2 = len(list(itertools.permutations(n, k)))\n",
    "# общее количество благоприятных комбинаций\n",
    "c_3 = c_1 * c_2\n",
    "# Вероятность\n",
    "W = c_3 / c_0\n",
    "W"
   ]
  },
  {
   "cell_type": "markdown",
   "metadata": {},
   "source": [
    "Задача 3\n",
    "\n",
    "Из 60 вопросов, входящих в экзаменационные билеты, студент знает 50. Какова вероятность того, что среди трёх\n",
    "наугад выбранных вопросов студент знает: а) все? б) два?"
   ]
  },
  {
   "cell_type": "code",
   "execution_count": 207,
   "metadata": {},
   "outputs": [
    {
     "data": {
      "text/plain": [
       "0.5727644652250146"
      ]
     },
     "execution_count": 207,
     "metadata": {},
     "output_type": "execute_result"
    }
   ],
   "source": [
    "# a\n",
    "# из 50 3 вопроса\n",
    "n = np.arange(1, 51)\n",
    "k = 3\n",
    "c_11 = len(list(itertools.combinations(n, k)))\n",
    "# общее количество комбинаций\n",
    "n = np.arange(1, 61)\n",
    "k = 3\n",
    "c_14 = len(list(itertools.combinations(n, k)))\n",
    "# Вероятность\n",
    "W = c_11 / c_14\n",
    "W"
   ]
  },
  {
   "cell_type": "code",
   "execution_count": 208,
   "metadata": {},
   "outputs": [
    {
     "data": {
      "text/plain": [
       "0.35797779076563413"
      ]
     },
     "execution_count": 208,
     "metadata": {},
     "output_type": "execute_result"
    }
   ],
   "source": [
    "# b\n",
    "# из 50 2 вопроса\n",
    "n = np.arange(1, 51)\n",
    "k = 2\n",
    "c_11 = len(list(itertools.combinations(n, k)))\n",
    "# из 10 1 вопрос\n",
    "n = np.arange(1, 11)\n",
    "k = 1\n",
    "c_12 = len(list(itertools.combinations(n, k)))\n",
    "# общее количество благоприятных комбинаций\n",
    "c_13 = c_11 * c_12\n",
    "c_13\n",
    "# общее количество комбинаций\n",
    "n = np.arange(1, 61)\n",
    "k = 3\n",
    "c_14 = len(list(itertools.combinations(n, k)))\n",
    "# Вероятность\n",
    "W = c_13 / c_14\n",
    "W"
   ]
  },
  {
   "cell_type": "markdown",
   "metadata": {},
   "source": [
    "Задача 4\n",
    "\n",
    "Бросается игральная кость. Пусть событие A - появление чётного числа, событие B - появление числа больше трёх.\n",
    "Являются ли эти события независимыми?"
   ]
  },
  {
   "cell_type": "code",
   "execution_count": 209,
   "metadata": {},
   "outputs": [
    {
     "data": {
      "text/plain": [
       "(0.5, 0.5)"
      ]
     },
     "execution_count": 209,
     "metadata": {},
     "output_type": "execute_result"
    }
   ],
   "source": [
    "# Вероятность четного числа P(А) = 3 / 6 (3 благоприятных исхода из 6 возможных исходом) \n",
    "W_1 = 1/2\n",
    "# Вероятность числа больше 3 P(B) = 3 / 6 (3 благоприятных исхода из 6 возможных исходом) \n",
    "W_2 = 1/2\n",
    "# Совместная вероятность (событие W_1 и W_2) P(AB) = 1/2 * 1/2\n",
    "W_12 = 1/4\n",
    "# По формуле условной вероятности P(A|B) = P(AB)/P(B)\n",
    "W_3 = (1/4) / (1/2)\n",
    "W_3, W_1\n",
    "# Поскольку условная вероятность события А (при В) и вероятность А независимо от В равны, \n",
    "# то события А и В являются независимыми."
   ]
  },
  {
   "cell_type": "markdown",
   "metadata": {},
   "source": [
    "Задача 5\n",
    "\n",
    "Допустим, имеется некоторая очень редкая болезнь (поражает 0.1% населения). Вы приходите к врачу, вам делают \n",
    "тест на эту болезнь, и тест оказывается положительным. Врач говорит вам, что этот тест верно выявляет 99% больных\n",
    "этой болезнью и всего лишь в 1% случаев даёт ложный положительный ответ.\n",
    "_Вопрос_: какова вероятность, что вы действительно больны ей?\n",
    "_Подсказка_: вновь используйте формулу Байеса с раскрытием знаменателя с помощью формулы полной вероятности."
   ]
  },
  {
   "cell_type": "code",
   "execution_count": 210,
   "metadata": {},
   "outputs": [
    {
     "data": {
      "text/plain": [
       "0.01"
      ]
     },
     "execution_count": 210,
     "metadata": {},
     "output_type": "execute_result"
    }
   ],
   "source": [
    "# По условию из 100% больных тест положителен у 99%, следовательно среди больных 1% ложноотрицательных результатов.\n",
    "# По условию из 100% здоровых тест положителен у 1% (1% ложноположительных результатов).\n",
    "# Вероятность того, что человек болен Р(В) = 0.001 (0.1%) - по условию.\n",
    "B = 0.001\n",
    "# Вероятность того, что тест положит у больного человека Р(A|B) = 0.99\n",
    "A_B = 0.99\n",
    "# Вероятность того, что тест положителен равна сумме вероятностей человек болен и тест полож И человек не болен\n",
    "# и тест полож. Р(А) = Р(A|B) * Р(A|~B) = 0.99 * 0.1 = 0.099\n",
    "A = 0.099\n",
    "# Из формуле Байеса выражаем интересующую нас вероятность Р(В|А) - вероятность того, что болен при условии положит теста\n",
    "# Р(В|А) = (Р(A|B) * Р(B))/Р(A)\n",
    "B_A = (A_B * B) / A\n",
    "B_A"
   ]
  }
 ],
 "metadata": {
  "kernelspec": {
   "display_name": "Python 3",
   "language": "python",
   "name": "python3"
  },
  "language_info": {
   "codemirror_mode": {
    "name": "ipython",
    "version": 3
   },
   "file_extension": ".py",
   "mimetype": "text/x-python",
   "name": "python",
   "nbconvert_exporter": "python",
   "pygments_lexer": "ipython3",
   "version": "3.8.2"
  }
 },
 "nbformat": 4,
 "nbformat_minor": 4
}
